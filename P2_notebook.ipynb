{
 "cells": [
  {
   "cell_type": "markdown",
   "metadata": {},
   "source": [
    "# Imports"
   ]
  },
  {
   "cell_type": "code",
   "execution_count": 31,
   "metadata": {},
   "outputs": [],
   "source": [
    "import pandas as pd\n",
    "import matplotlib.pyplot as plt\n",
    "from urllib.parse import unquote\n",
    "import numpy as np\n",
    "import plotly.express as px\n",
    "\n",
    "# To Extract all the URLs from the HTM page\n",
    "from bs4 import BeautifulSoup\n",
    "import os\n",
    "\n",
    "import networkx as nx\n",
    "from datetime import datetime\n",
    "\n",
    "# Draw the graph\n",
    "import seaborn as sns\n",
    "\n",
    "from helpers import (\n",
    "    extract_links,\n",
    "    change_characters,\n",
    "    path_to_name,\n",
    "    get_gender_for_name,\n",
    "    add_all_genders\n",
    "    )   \n"
   ]
  },
  {
   "cell_type": "markdown",
   "metadata": {},
   "source": [
    "# Preprocessing"
   ]
  },
  {
   "cell_type": "markdown",
   "metadata": {},
   "source": [
    "## Downloading the dataset"
   ]
  },
  {
   "cell_type": "code",
   "execution_count": 4,
   "metadata": {},
   "outputs": [],
   "source": [
    "# Paths\n",
    "folder_path = \"dataset/wikispeedia_paths-and-graph/\"\n",
    "file_paths = [\"paths_finished.tsv\", \"paths_unfinished.tsv\", \"categories.tsv\", \"articles.tsv\", \"links.tsv\"]\n",
    "\n",
    "# Datasets: Names and their columns name\n",
    "data_frames_names = [\"paths_finished\", \"paths_unfinished\", \"categories\", \"article\", \"links\"]\n",
    "dfs_headers = [\n",
    "    [\"hashedIpAddress\", \"timestamp\", \"durationInSec\", \"path\", \"rating\"],\n",
    "    [\"hashedIpAddress\", \"timestamp\", \"durationInSec\", \"path\", \"target\", \"type\"],\n",
    "    [\"article\", \"category\"],\n",
    "    [\"article\"],\n",
    "    [\"linkSource\", \"linkTarget\"]\n",
    "]\n",
    "\n",
    "# Download\n",
    "dfs_skiprows = [16, 17, 13, 12, 12]\n",
    "dfs = {}\n",
    "for i in range(len(file_paths)):\n",
    "    dfs[data_frames_names[i]] = pd.read_csv(folder_path + file_paths[i], sep='\\t', header=None, names=dfs_headers[i], skiprows=range(dfs_skiprows[i]))"
   ]
  },
  {
   "cell_type": "markdown",
   "metadata": {},
   "source": [
    "## Functions"
   ]
  },
  {
   "cell_type": "code",
   "execution_count": 5,
   "metadata": {},
   "outputs": [],
   "source": [
    "def dataset_info(dictionary, dataset_name):\n",
    "    \"\"\" Display main information about a specified dataset from the given dictionary.\n",
    "    params:\n",
    "        dictionnary: dict\n",
    "            A dictionary of dataframes.\n",
    "        dataset_name: str \n",
    "            The name of the dataframe to be accessed in the dictionary\n",
    "     \"\"\"\n",
    "    # Print the dataset name we are working on\n",
    "    print('{}:'.format(dataset_name))\n",
    "\n",
    "    df = dictionary[dataset_name]\n",
    "    print('\\tShape of the dataset: {}'.format(df.shape))\n",
    "    \n",
    "\n",
    "     # Check for NaN values in each column\n",
    "    columns_with_nan = df.columns[df.isna().any()].tolist()\n",
    "\n",
    "    # Print the columns with NaN values if they exsit\n",
    "    if columns_with_nan == []:\n",
    "        print('\\tThe dataset has no column with NaN values.\\n')\n",
    "    else:\n",
    "        print('\\tThe dataset has {} columns with NaN values: {}\\n'.format(len(columns_with_nan), columns_with_nan))\n",
    "    \n",
    "    # Provide statistical info \n",
    "    print('Visualisation of the first column and statistical infos:')\n",
    "    display(df.head(1))\n",
    "    display(df.describe(include='all'))\n",
    "    df.info()"
   ]
  },
  {
   "cell_type": "markdown",
   "metadata": {},
   "source": [
    "## Format & missing values"
   ]
  },
  {
   "cell_type": "markdown",
   "metadata": {},
   "source": [
    "### Finished paths dataset"
   ]
  },
  {
   "cell_type": "code",
   "execution_count": 6,
   "metadata": {},
   "outputs": [
    {
     "name": "stdout",
     "output_type": "stream",
     "text": [
      "paths_finished:\n",
      "\tShape of the dataset: (51318, 5)\n",
      "\tThe dataset has 2 columns with NaN values: ['hashedIpAddress', 'rating']\n",
      "\n",
      "Visualisation of the first column and statistical infos:\n"
     ]
    },
    {
     "data": {
      "text/html": [
       "<div>\n",
       "<style scoped>\n",
       "    .dataframe tbody tr th:only-of-type {\n",
       "        vertical-align: middle;\n",
       "    }\n",
       "\n",
       "    .dataframe tbody tr th {\n",
       "        vertical-align: top;\n",
       "    }\n",
       "\n",
       "    .dataframe thead th {\n",
       "        text-align: right;\n",
       "    }\n",
       "</style>\n",
       "<table border=\"1\" class=\"dataframe\">\n",
       "  <thead>\n",
       "    <tr style=\"text-align: right;\">\n",
       "      <th></th>\n",
       "      <th>hashedIpAddress</th>\n",
       "      <th>timestamp</th>\n",
       "      <th>durationInSec</th>\n",
       "      <th>path</th>\n",
       "      <th>rating</th>\n",
       "    </tr>\n",
       "  </thead>\n",
       "  <tbody>\n",
       "    <tr>\n",
       "      <th>0</th>\n",
       "      <td>6a3701d319fc3754</td>\n",
       "      <td>1297740409</td>\n",
       "      <td>166</td>\n",
       "      <td>14th_century;15th_century;16th_century;Pacific...</td>\n",
       "      <td>NaN</td>\n",
       "    </tr>\n",
       "  </tbody>\n",
       "</table>\n",
       "</div>"
      ],
      "text/plain": [
       "    hashedIpAddress   timestamp  durationInSec  \\\n",
       "0  6a3701d319fc3754  1297740409            166   \n",
       "\n",
       "                                                path  rating  \n",
       "0  14th_century;15th_century;16th_century;Pacific...     NaN  "
      ]
     },
     "metadata": {},
     "output_type": "display_data"
    },
    {
     "data": {
      "text/html": [
       "<div>\n",
       "<style scoped>\n",
       "    .dataframe tbody tr th:only-of-type {\n",
       "        vertical-align: middle;\n",
       "    }\n",
       "\n",
       "    .dataframe tbody tr th {\n",
       "        vertical-align: top;\n",
       "    }\n",
       "\n",
       "    .dataframe thead th {\n",
       "        text-align: right;\n",
       "    }\n",
       "</style>\n",
       "<table border=\"1\" class=\"dataframe\">\n",
       "  <thead>\n",
       "    <tr style=\"text-align: right;\">\n",
       "      <th></th>\n",
       "      <th>hashedIpAddress</th>\n",
       "      <th>timestamp</th>\n",
       "      <th>durationInSec</th>\n",
       "      <th>path</th>\n",
       "      <th>rating</th>\n",
       "    </tr>\n",
       "  </thead>\n",
       "  <tbody>\n",
       "    <tr>\n",
       "      <th>count</th>\n",
       "      <td>51315</td>\n",
       "      <td>5.131800e+04</td>\n",
       "      <td>51318.000000</td>\n",
       "      <td>51318</td>\n",
       "      <td>28501.000000</td>\n",
       "    </tr>\n",
       "    <tr>\n",
       "      <th>unique</th>\n",
       "      <td>14244</td>\n",
       "      <td>NaN</td>\n",
       "      <td>NaN</td>\n",
       "      <td>47856</td>\n",
       "      <td>NaN</td>\n",
       "    </tr>\n",
       "    <tr>\n",
       "      <th>top</th>\n",
       "      <td>0d57c8c57d75e2f5</td>\n",
       "      <td>NaN</td>\n",
       "      <td>NaN</td>\n",
       "      <td>Brain;Computer_science;Information;Communicati...</td>\n",
       "      <td>NaN</td>\n",
       "    </tr>\n",
       "    <tr>\n",
       "      <th>freq</th>\n",
       "      <td>4865</td>\n",
       "      <td>NaN</td>\n",
       "      <td>NaN</td>\n",
       "      <td>144</td>\n",
       "      <td>NaN</td>\n",
       "    </tr>\n",
       "    <tr>\n",
       "      <th>mean</th>\n",
       "      <td>NaN</td>\n",
       "      <td>1.296384e+09</td>\n",
       "      <td>158.276199</td>\n",
       "      <td>NaN</td>\n",
       "      <td>2.269780</td>\n",
       "    </tr>\n",
       "    <tr>\n",
       "      <th>std</th>\n",
       "      <td>NaN</td>\n",
       "      <td>4.935086e+07</td>\n",
       "      <td>360.841904</td>\n",
       "      <td>NaN</td>\n",
       "      <td>1.110439</td>\n",
       "    </tr>\n",
       "    <tr>\n",
       "      <th>min</th>\n",
       "      <td>NaN</td>\n",
       "      <td>1.219095e+09</td>\n",
       "      <td>0.000000</td>\n",
       "      <td>NaN</td>\n",
       "      <td>1.000000</td>\n",
       "    </tr>\n",
       "    <tr>\n",
       "      <th>25%</th>\n",
       "      <td>NaN</td>\n",
       "      <td>1.250109e+09</td>\n",
       "      <td>60.000000</td>\n",
       "      <td>NaN</td>\n",
       "      <td>1.000000</td>\n",
       "    </tr>\n",
       "    <tr>\n",
       "      <th>50%</th>\n",
       "      <td>NaN</td>\n",
       "      <td>1.283894e+09</td>\n",
       "      <td>107.000000</td>\n",
       "      <td>NaN</td>\n",
       "      <td>2.000000</td>\n",
       "    </tr>\n",
       "    <tr>\n",
       "      <th>75%</th>\n",
       "      <td>NaN</td>\n",
       "      <td>1.345231e+09</td>\n",
       "      <td>183.000000</td>\n",
       "      <td>NaN</td>\n",
       "      <td>3.000000</td>\n",
       "    </tr>\n",
       "    <tr>\n",
       "      <th>max</th>\n",
       "      <td>NaN</td>\n",
       "      <td>1.389823e+09</td>\n",
       "      <td>35091.000000</td>\n",
       "      <td>NaN</td>\n",
       "      <td>5.000000</td>\n",
       "    </tr>\n",
       "  </tbody>\n",
       "</table>\n",
       "</div>"
      ],
      "text/plain": [
       "         hashedIpAddress     timestamp  durationInSec  \\\n",
       "count              51315  5.131800e+04   51318.000000   \n",
       "unique             14244           NaN            NaN   \n",
       "top     0d57c8c57d75e2f5           NaN            NaN   \n",
       "freq                4865           NaN            NaN   \n",
       "mean                 NaN  1.296384e+09     158.276199   \n",
       "std                  NaN  4.935086e+07     360.841904   \n",
       "min                  NaN  1.219095e+09       0.000000   \n",
       "25%                  NaN  1.250109e+09      60.000000   \n",
       "50%                  NaN  1.283894e+09     107.000000   \n",
       "75%                  NaN  1.345231e+09     183.000000   \n",
       "max                  NaN  1.389823e+09   35091.000000   \n",
       "\n",
       "                                                     path        rating  \n",
       "count                                               51318  28501.000000  \n",
       "unique                                              47856           NaN  \n",
       "top     Brain;Computer_science;Information;Communicati...           NaN  \n",
       "freq                                                  144           NaN  \n",
       "mean                                                  NaN      2.269780  \n",
       "std                                                   NaN      1.110439  \n",
       "min                                                   NaN      1.000000  \n",
       "25%                                                   NaN      1.000000  \n",
       "50%                                                   NaN      2.000000  \n",
       "75%                                                   NaN      3.000000  \n",
       "max                                                   NaN      5.000000  "
      ]
     },
     "metadata": {},
     "output_type": "display_data"
    },
    {
     "name": "stdout",
     "output_type": "stream",
     "text": [
      "<class 'pandas.core.frame.DataFrame'>\n",
      "RangeIndex: 51318 entries, 0 to 51317\n",
      "Data columns (total 5 columns):\n",
      " #   Column           Non-Null Count  Dtype  \n",
      "---  ------           --------------  -----  \n",
      " 0   hashedIpAddress  51315 non-null  object \n",
      " 1   timestamp        51318 non-null  int64  \n",
      " 2   durationInSec    51318 non-null  int64  \n",
      " 3   path             51318 non-null  object \n",
      " 4   rating           28501 non-null  float64\n",
      "dtypes: float64(1), int64(2), object(2)\n",
      "memory usage: 2.0+ MB\n"
     ]
    }
   ],
   "source": [
    "dataset_info(dfs, 'paths_finished')"
   ]
  },
  {
   "cell_type": "markdown",
   "metadata": {},
   "source": [
    "#### Observations\n",
    "\n",
    "- The *finish path* dataset consists of 5 columns: \n",
    "    - **hashedIpAddress:** The IP adresses that allows to identify different players. \n",
    "    - **timestamp:**  A sequence of characters indicating the current time of an event, in this case, playing Wikispeedia, recorded by the computer.\n",
    "    - **durationInsec:** The duration it tooks for the player to link the source article to the target. \n",
    "    - **path:** Each path taken to link a source article to the target.\n",
    "    - **rating:** An optional evaluation made by the player to assess the difficulty encountered in linking the source to the target article.\n",
    "\n",
    "* From the count and unique information, the following observations can be made:\n",
    "    * There are 14,244 unique hashedIpAddress out of 51,315 Ip addresses, meaning that the users are playing the game multiple times. \n",
    "    * Some players are taking the same path as there are 47,856 unique paths out of 51,318. \n",
    "    \n",
    "- The dataset contains missing values in hashedIpAddress and rating columns. For our analysis, we will not use the information from those two columns, so handling missing values is not necessary for now. Therfore we will just remove those columns from the dataset for the further analysis. If needed, one option for handling missing values in hashedIpAddress is to remove corresponding rows, as only 3 out of 51,318 values are missing. For the rating missing values, around 55% of the values are missing, simply removing them may result in a significant reduction in the dataset size and introduce bias. A better approach would be to predict their values and replace the NaN entries with those predictions or replace NaN with another value manageable for the task at hand.\n",
    "\n",
    "- We observed that in the path column, some characters are not correctly translated (%.. format). We need to correct them.\n",
    "\n",
    "#### Adjustments"
   ]
  },
  {
   "cell_type": "code",
   "execution_count": 7,
   "metadata": {},
   "outputs": [
    {
     "data": {
      "text/html": [
       "<div>\n",
       "<style scoped>\n",
       "    .dataframe tbody tr th:only-of-type {\n",
       "        vertical-align: middle;\n",
       "    }\n",
       "\n",
       "    .dataframe tbody tr th {\n",
       "        vertical-align: top;\n",
       "    }\n",
       "\n",
       "    .dataframe thead th {\n",
       "        text-align: right;\n",
       "    }\n",
       "</style>\n",
       "<table border=\"1\" class=\"dataframe\">\n",
       "  <thead>\n",
       "    <tr style=\"text-align: right;\">\n",
       "      <th></th>\n",
       "      <th>timestamp</th>\n",
       "      <th>durationInSec</th>\n",
       "      <th>path</th>\n",
       "    </tr>\n",
       "  </thead>\n",
       "  <tbody>\n",
       "    <tr>\n",
       "      <th>0</th>\n",
       "      <td>1297740409</td>\n",
       "      <td>166</td>\n",
       "      <td>14th_century;15th_century;16th_century;Pacific...</td>\n",
       "    </tr>\n",
       "    <tr>\n",
       "      <th>1</th>\n",
       "      <td>1344753412</td>\n",
       "      <td>88</td>\n",
       "      <td>14th_century;Europe;Africa;Atlantic_slave_trad...</td>\n",
       "    </tr>\n",
       "    <tr>\n",
       "      <th>2</th>\n",
       "      <td>1349298640</td>\n",
       "      <td>138</td>\n",
       "      <td>14th_century;Niger;Nigeria;British_Empire;Slav...</td>\n",
       "    </tr>\n",
       "    <tr>\n",
       "      <th>3</th>\n",
       "      <td>1265613925</td>\n",
       "      <td>37</td>\n",
       "      <td>14th_century;Renaissance;Ancient_Greece;Greece</td>\n",
       "    </tr>\n",
       "    <tr>\n",
       "      <th>4</th>\n",
       "      <td>1366730828</td>\n",
       "      <td>175</td>\n",
       "      <td>14th_century;Italy;Roman_Catholic_Church;HIV;R...</td>\n",
       "    </tr>\n",
       "    <tr>\n",
       "      <th>...</th>\n",
       "      <td>...</td>\n",
       "      <td>...</td>\n",
       "      <td>...</td>\n",
       "    </tr>\n",
       "    <tr>\n",
       "      <th>51313</th>\n",
       "      <td>1349231015</td>\n",
       "      <td>66</td>\n",
       "      <td>Yagan;Ancient_Egypt;Civilization</td>\n",
       "    </tr>\n",
       "    <tr>\n",
       "      <th>51314</th>\n",
       "      <td>1300254138</td>\n",
       "      <td>165</td>\n",
       "      <td>Yagan;Folklore;Brothers_Grimm;&lt;;19th_century;C...</td>\n",
       "    </tr>\n",
       "    <tr>\n",
       "      <th>51315</th>\n",
       "      <td>1385095372</td>\n",
       "      <td>228</td>\n",
       "      <td>Yagan;Australia;England;France;United_States;T...</td>\n",
       "    </tr>\n",
       "    <tr>\n",
       "      <th>51316</th>\n",
       "      <td>1298792567</td>\n",
       "      <td>56</td>\n",
       "      <td>Yarralumla,_Australian_Capital_Territory;Austr...</td>\n",
       "    </tr>\n",
       "    <tr>\n",
       "      <th>51317</th>\n",
       "      <td>1318122701</td>\n",
       "      <td>30</td>\n",
       "      <td>Ziad_Jarrah;Germany;Jew</td>\n",
       "    </tr>\n",
       "  </tbody>\n",
       "</table>\n",
       "<p>51318 rows × 3 columns</p>\n",
       "</div>"
      ],
      "text/plain": [
       "        timestamp  durationInSec  \\\n",
       "0      1297740409            166   \n",
       "1      1344753412             88   \n",
       "2      1349298640            138   \n",
       "3      1265613925             37   \n",
       "4      1366730828            175   \n",
       "...           ...            ...   \n",
       "51313  1349231015             66   \n",
       "51314  1300254138            165   \n",
       "51315  1385095372            228   \n",
       "51316  1298792567             56   \n",
       "51317  1318122701             30   \n",
       "\n",
       "                                                    path  \n",
       "0      14th_century;15th_century;16th_century;Pacific...  \n",
       "1      14th_century;Europe;Africa;Atlantic_slave_trad...  \n",
       "2      14th_century;Niger;Nigeria;British_Empire;Slav...  \n",
       "3         14th_century;Renaissance;Ancient_Greece;Greece  \n",
       "4      14th_century;Italy;Roman_Catholic_Church;HIV;R...  \n",
       "...                                                  ...  \n",
       "51313                   Yagan;Ancient_Egypt;Civilization  \n",
       "51314  Yagan;Folklore;Brothers_Grimm;<;19th_century;C...  \n",
       "51315  Yagan;Australia;England;France;United_States;T...  \n",
       "51316  Yarralumla,_Australian_Capital_Territory;Austr...  \n",
       "51317                            Ziad_Jarrah;Germany;Jew  \n",
       "\n",
       "[51318 rows x 3 columns]"
      ]
     },
     "metadata": {},
     "output_type": "display_data"
    }
   ],
   "source": [
    "dfs = change_characters(dfs, 'paths_finished', 'path')\n",
    "dfs['paths_finished'] = dfs['paths_finished'].drop(['hashedIpAddress', 'rating'], axis = 1)\n",
    "display(dfs['paths_finished'])"
   ]
  },
  {
   "cell_type": "markdown",
   "metadata": {},
   "source": [
    "### Unfinished paths dataset"
   ]
  },
  {
   "cell_type": "code",
   "execution_count": 8,
   "metadata": {},
   "outputs": [
    {
     "name": "stdout",
     "output_type": "stream",
     "text": [
      "paths_unfinished:\n",
      "\tShape of the dataset: (24875, 6)\n",
      "\tThe dataset has no column with NaN values.\n",
      "\n",
      "Visualisation of the first column and statistical infos:\n"
     ]
    },
    {
     "data": {
      "text/html": [
       "<div>\n",
       "<style scoped>\n",
       "    .dataframe tbody tr th:only-of-type {\n",
       "        vertical-align: middle;\n",
       "    }\n",
       "\n",
       "    .dataframe tbody tr th {\n",
       "        vertical-align: top;\n",
       "    }\n",
       "\n",
       "    .dataframe thead th {\n",
       "        text-align: right;\n",
       "    }\n",
       "</style>\n",
       "<table border=\"1\" class=\"dataframe\">\n",
       "  <thead>\n",
       "    <tr style=\"text-align: right;\">\n",
       "      <th></th>\n",
       "      <th>hashedIpAddress</th>\n",
       "      <th>timestamp</th>\n",
       "      <th>durationInSec</th>\n",
       "      <th>path</th>\n",
       "      <th>target</th>\n",
       "      <th>type</th>\n",
       "    </tr>\n",
       "  </thead>\n",
       "  <tbody>\n",
       "    <tr>\n",
       "      <th>0</th>\n",
       "      <td>2426091a53125110</td>\n",
       "      <td>1297054935</td>\n",
       "      <td>1804</td>\n",
       "      <td>Obi-Wan_Kenobi</td>\n",
       "      <td>Microsoft</td>\n",
       "      <td>timeout</td>\n",
       "    </tr>\n",
       "  </tbody>\n",
       "</table>\n",
       "</div>"
      ],
      "text/plain": [
       "    hashedIpAddress   timestamp  durationInSec            path     target  \\\n",
       "0  2426091a53125110  1297054935           1804  Obi-Wan_Kenobi  Microsoft   \n",
       "\n",
       "      type  \n",
       "0  timeout  "
      ]
     },
     "metadata": {},
     "output_type": "display_data"
    },
    {
     "data": {
      "text/html": [
       "<div>\n",
       "<style scoped>\n",
       "    .dataframe tbody tr th:only-of-type {\n",
       "        vertical-align: middle;\n",
       "    }\n",
       "\n",
       "    .dataframe tbody tr th {\n",
       "        vertical-align: top;\n",
       "    }\n",
       "\n",
       "    .dataframe thead th {\n",
       "        text-align: right;\n",
       "    }\n",
       "</style>\n",
       "<table border=\"1\" class=\"dataframe\">\n",
       "  <thead>\n",
       "    <tr style=\"text-align: right;\">\n",
       "      <th></th>\n",
       "      <th>hashedIpAddress</th>\n",
       "      <th>timestamp</th>\n",
       "      <th>durationInSec</th>\n",
       "      <th>path</th>\n",
       "      <th>target</th>\n",
       "      <th>type</th>\n",
       "    </tr>\n",
       "  </thead>\n",
       "  <tbody>\n",
       "    <tr>\n",
       "      <th>count</th>\n",
       "      <td>24875</td>\n",
       "      <td>2.487500e+04</td>\n",
       "      <td>24875.000000</td>\n",
       "      <td>24875</td>\n",
       "      <td>24875</td>\n",
       "      <td>24875</td>\n",
       "    </tr>\n",
       "    <tr>\n",
       "      <th>unique</th>\n",
       "      <td>11485</td>\n",
       "      <td>NaN</td>\n",
       "      <td>NaN</td>\n",
       "      <td>20982</td>\n",
       "      <td>3766</td>\n",
       "      <td>2</td>\n",
       "    </tr>\n",
       "    <tr>\n",
       "      <th>top</th>\n",
       "      <td>26f76e394525328e</td>\n",
       "      <td>NaN</td>\n",
       "      <td>NaN</td>\n",
       "      <td>Brain</td>\n",
       "      <td>Telephone</td>\n",
       "      <td>restart</td>\n",
       "    </tr>\n",
       "    <tr>\n",
       "      <th>freq</th>\n",
       "      <td>163</td>\n",
       "      <td>NaN</td>\n",
       "      <td>NaN</td>\n",
       "      <td>213</td>\n",
       "      <td>1060</td>\n",
       "      <td>15552</td>\n",
       "    </tr>\n",
       "    <tr>\n",
       "      <th>mean</th>\n",
       "      <td>NaN</td>\n",
       "      <td>1.344763e+09</td>\n",
       "      <td>835.296884</td>\n",
       "      <td>NaN</td>\n",
       "      <td>NaN</td>\n",
       "      <td>NaN</td>\n",
       "    </tr>\n",
       "    <tr>\n",
       "      <th>std</th>\n",
       "      <td>NaN</td>\n",
       "      <td>2.772317e+07</td>\n",
       "      <td>881.287961</td>\n",
       "      <td>NaN</td>\n",
       "      <td>NaN</td>\n",
       "      <td>NaN</td>\n",
       "    </tr>\n",
       "    <tr>\n",
       "      <th>min</th>\n",
       "      <td>NaN</td>\n",
       "      <td>1.297055e+09</td>\n",
       "      <td>4.000000</td>\n",
       "      <td>NaN</td>\n",
       "      <td>NaN</td>\n",
       "      <td>NaN</td>\n",
       "    </tr>\n",
       "    <tr>\n",
       "      <th>25%</th>\n",
       "      <td>NaN</td>\n",
       "      <td>1.320339e+09</td>\n",
       "      <td>86.000000</td>\n",
       "      <td>NaN</td>\n",
       "      <td>NaN</td>\n",
       "      <td>NaN</td>\n",
       "    </tr>\n",
       "    <tr>\n",
       "      <th>50%</th>\n",
       "      <td>NaN</td>\n",
       "      <td>1.348587e+09</td>\n",
       "      <td>261.000000</td>\n",
       "      <td>NaN</td>\n",
       "      <td>NaN</td>\n",
       "      <td>NaN</td>\n",
       "    </tr>\n",
       "    <tr>\n",
       "      <th>75%</th>\n",
       "      <td>NaN</td>\n",
       "      <td>1.367373e+09</td>\n",
       "      <td>1831.000000</td>\n",
       "      <td>NaN</td>\n",
       "      <td>NaN</td>\n",
       "      <td>NaN</td>\n",
       "    </tr>\n",
       "    <tr>\n",
       "      <th>max</th>\n",
       "      <td>NaN</td>\n",
       "      <td>1.389823e+09</td>\n",
       "      <td>9089.000000</td>\n",
       "      <td>NaN</td>\n",
       "      <td>NaN</td>\n",
       "      <td>NaN</td>\n",
       "    </tr>\n",
       "  </tbody>\n",
       "</table>\n",
       "</div>"
      ],
      "text/plain": [
       "         hashedIpAddress     timestamp  durationInSec   path     target  \\\n",
       "count              24875  2.487500e+04   24875.000000  24875      24875   \n",
       "unique             11485           NaN            NaN  20982       3766   \n",
       "top     26f76e394525328e           NaN            NaN  Brain  Telephone   \n",
       "freq                 163           NaN            NaN    213       1060   \n",
       "mean                 NaN  1.344763e+09     835.296884    NaN        NaN   \n",
       "std                  NaN  2.772317e+07     881.287961    NaN        NaN   \n",
       "min                  NaN  1.297055e+09       4.000000    NaN        NaN   \n",
       "25%                  NaN  1.320339e+09      86.000000    NaN        NaN   \n",
       "50%                  NaN  1.348587e+09     261.000000    NaN        NaN   \n",
       "75%                  NaN  1.367373e+09    1831.000000    NaN        NaN   \n",
       "max                  NaN  1.389823e+09    9089.000000    NaN        NaN   \n",
       "\n",
       "           type  \n",
       "count     24875  \n",
       "unique        2  \n",
       "top     restart  \n",
       "freq      15552  \n",
       "mean        NaN  \n",
       "std         NaN  \n",
       "min         NaN  \n",
       "25%         NaN  \n",
       "50%         NaN  \n",
       "75%         NaN  \n",
       "max         NaN  "
      ]
     },
     "metadata": {},
     "output_type": "display_data"
    },
    {
     "name": "stdout",
     "output_type": "stream",
     "text": [
      "<class 'pandas.core.frame.DataFrame'>\n",
      "RangeIndex: 24875 entries, 0 to 24874\n",
      "Data columns (total 6 columns):\n",
      " #   Column           Non-Null Count  Dtype \n",
      "---  ------           --------------  ----- \n",
      " 0   hashedIpAddress  24875 non-null  object\n",
      " 1   timestamp        24875 non-null  int64 \n",
      " 2   durationInSec    24875 non-null  int64 \n",
      " 3   path             24875 non-null  object\n",
      " 4   target           24875 non-null  object\n",
      " 5   type             24875 non-null  object\n",
      "dtypes: int64(2), object(4)\n",
      "memory usage: 1.1+ MB\n"
     ]
    }
   ],
   "source": [
    "dataset_info(dfs, 'paths_unfinished')"
   ]
  },
  {
   "cell_type": "markdown",
   "metadata": {},
   "source": [
    "#### Observations\n",
    "\n",
    "- The *unfinish path* dataset consists of 6 columns: \n",
    "    - **hashedIpAddress:** The IP adresses that allows to identify different players. \n",
    "    - **timestamp:**  A sequence of characters indicating the current time of an event, in this case, playing Wikispeedia, recorded by the computer.\n",
    "    - **durationInsec:** The duration it tooks for the player to link the source article to the target. \n",
    "    - **path:** Each path taken to link a source article to the target.\n",
    "    - **target:** The name of the target article the player would ideally reach.\n",
    "    - **type:** The reason for which the path is unfinished, categorized into two types: timeout and restart.\n",
    "\n",
    "* From the count and unique information, the following observations can be made:\n",
    "    * There as for the finished paths, since there is a smaller number of unique hashedIpAddress than the total count, we can conclude that users are playing the game multiple times. \n",
    "    * Some players are taking the same path. The most represented unfinished path is *brain* (a path consisting of only one article), implying that some unfinished paths may result from players that do not like the source and target combination and choosing to restart.\n",
    "    \n",
    " - There are no missing values. \n",
    "\n",
    "- We observed that in the path and target columns, some characters are not correctly translated (%.. format). We need to correct them.\n",
    "\n",
    "#### Adjustments"
   ]
  },
  {
   "cell_type": "code",
   "execution_count": 9,
   "metadata": {},
   "outputs": [
    {
     "data": {
      "text/html": [
       "<div>\n",
       "<style scoped>\n",
       "    .dataframe tbody tr th:only-of-type {\n",
       "        vertical-align: middle;\n",
       "    }\n",
       "\n",
       "    .dataframe tbody tr th {\n",
       "        vertical-align: top;\n",
       "    }\n",
       "\n",
       "    .dataframe thead th {\n",
       "        text-align: right;\n",
       "    }\n",
       "</style>\n",
       "<table border=\"1\" class=\"dataframe\">\n",
       "  <thead>\n",
       "    <tr style=\"text-align: right;\">\n",
       "      <th></th>\n",
       "      <th>hashedIpAddress</th>\n",
       "      <th>timestamp</th>\n",
       "      <th>durationInSec</th>\n",
       "      <th>path</th>\n",
       "      <th>target</th>\n",
       "      <th>type</th>\n",
       "    </tr>\n",
       "  </thead>\n",
       "  <tbody>\n",
       "    <tr>\n",
       "      <th>0</th>\n",
       "      <td>2426091a53125110</td>\n",
       "      <td>1297054935</td>\n",
       "      <td>1804</td>\n",
       "      <td>Obi-Wan_Kenobi</td>\n",
       "      <td>Microsoft</td>\n",
       "      <td>timeout</td>\n",
       "    </tr>\n",
       "    <tr>\n",
       "      <th>1</th>\n",
       "      <td>26141fd878806294</td>\n",
       "      <td>1297055651</td>\n",
       "      <td>1805</td>\n",
       "      <td>Julius_Caesar</td>\n",
       "      <td>Caracas</td>\n",
       "      <td>timeout</td>\n",
       "    </tr>\n",
       "    <tr>\n",
       "      <th>2</th>\n",
       "      <td>2b015fb8181c48f2</td>\n",
       "      <td>1297090819</td>\n",
       "      <td>1818</td>\n",
       "      <td>Malawi;Democracy;Alexander_the_Great</td>\n",
       "      <td>First_Crusade</td>\n",
       "      <td>timeout</td>\n",
       "    </tr>\n",
       "    <tr>\n",
       "      <th>3</th>\n",
       "      <td>53a53bc244e08a6a</td>\n",
       "      <td>1297094761</td>\n",
       "      <td>49</td>\n",
       "      <td>Paraguay</td>\n",
       "      <td>Mount_St._Helens</td>\n",
       "      <td>restart</td>\n",
       "    </tr>\n",
       "    <tr>\n",
       "      <th>4</th>\n",
       "      <td>53a53bc244e08a6a</td>\n",
       "      <td>1297099105</td>\n",
       "      <td>1808</td>\n",
       "      <td>Paraguay;Bolivia</td>\n",
       "      <td>Mount_St._Helens</td>\n",
       "      <td>timeout</td>\n",
       "    </tr>\n",
       "    <tr>\n",
       "      <th>...</th>\n",
       "      <td>...</td>\n",
       "      <td>...</td>\n",
       "      <td>...</td>\n",
       "      <td>...</td>\n",
       "      <td>...</td>\n",
       "      <td>...</td>\n",
       "    </tr>\n",
       "    <tr>\n",
       "      <th>24870</th>\n",
       "      <td>109ed71f571d86e9</td>\n",
       "      <td>1389787605</td>\n",
       "      <td>180</td>\n",
       "      <td>Franz_Kafka;Tuberculosis;World_Health_Organiza...</td>\n",
       "      <td>Cholera</td>\n",
       "      <td>restart</td>\n",
       "    </tr>\n",
       "    <tr>\n",
       "      <th>24871</th>\n",
       "      <td>232f992e57d43e8d</td>\n",
       "      <td>1389787697</td>\n",
       "      <td>6</td>\n",
       "      <td>Modern_history</td>\n",
       "      <td>Hollandic</td>\n",
       "      <td>restart</td>\n",
       "    </tr>\n",
       "    <tr>\n",
       "      <th>24872</th>\n",
       "      <td>2e09a7224600a7cd</td>\n",
       "      <td>1389798400</td>\n",
       "      <td>1900</td>\n",
       "      <td>Computer_programming;Linguistics;Culture;Popul...</td>\n",
       "      <td>The_Beatles</td>\n",
       "      <td>timeout</td>\n",
       "    </tr>\n",
       "    <tr>\n",
       "      <th>24873</th>\n",
       "      <td>60af9e2138051b96</td>\n",
       "      <td>1389799481</td>\n",
       "      <td>1903</td>\n",
       "      <td>Jamaica;United_Kingdom;World_War_II;Battle_of_...</td>\n",
       "      <td>Alan_Turing</td>\n",
       "      <td>timeout</td>\n",
       "    </tr>\n",
       "    <tr>\n",
       "      <th>24874</th>\n",
       "      <td>1cf0cbb3281049ab</td>\n",
       "      <td>1389822841</td>\n",
       "      <td>352</td>\n",
       "      <td>Mark_Antony;Rome;Tennis;Hawk-Eye;Computer</td>\n",
       "      <td>Feather</td>\n",
       "      <td>restart</td>\n",
       "    </tr>\n",
       "  </tbody>\n",
       "</table>\n",
       "<p>24875 rows × 6 columns</p>\n",
       "</div>"
      ],
      "text/plain": [
       "        hashedIpAddress   timestamp  durationInSec  \\\n",
       "0      2426091a53125110  1297054935           1804   \n",
       "1      26141fd878806294  1297055651           1805   \n",
       "2      2b015fb8181c48f2  1297090819           1818   \n",
       "3      53a53bc244e08a6a  1297094761             49   \n",
       "4      53a53bc244e08a6a  1297099105           1808   \n",
       "...                 ...         ...            ...   \n",
       "24870  109ed71f571d86e9  1389787605            180   \n",
       "24871  232f992e57d43e8d  1389787697              6   \n",
       "24872  2e09a7224600a7cd  1389798400           1900   \n",
       "24873  60af9e2138051b96  1389799481           1903   \n",
       "24874  1cf0cbb3281049ab  1389822841            352   \n",
       "\n",
       "                                                    path            target  \\\n",
       "0                                         Obi-Wan_Kenobi         Microsoft   \n",
       "1                                          Julius_Caesar           Caracas   \n",
       "2                   Malawi;Democracy;Alexander_the_Great     First_Crusade   \n",
       "3                                               Paraguay  Mount_St._Helens   \n",
       "4                                       Paraguay;Bolivia  Mount_St._Helens   \n",
       "...                                                  ...               ...   \n",
       "24870  Franz_Kafka;Tuberculosis;World_Health_Organiza...           Cholera   \n",
       "24871                                     Modern_history         Hollandic   \n",
       "24872  Computer_programming;Linguistics;Culture;Popul...       The_Beatles   \n",
       "24873  Jamaica;United_Kingdom;World_War_II;Battle_of_...       Alan_Turing   \n",
       "24874          Mark_Antony;Rome;Tennis;Hawk-Eye;Computer           Feather   \n",
       "\n",
       "          type  \n",
       "0      timeout  \n",
       "1      timeout  \n",
       "2      timeout  \n",
       "3      restart  \n",
       "4      timeout  \n",
       "...        ...  \n",
       "24870  restart  \n",
       "24871  restart  \n",
       "24872  timeout  \n",
       "24873  timeout  \n",
       "24874  restart  \n",
       "\n",
       "[24875 rows x 6 columns]"
      ]
     },
     "metadata": {},
     "output_type": "display_data"
    }
   ],
   "source": [
    "dfs = change_characters(dfs, 'paths_unfinished', 'path')\n",
    "dfs = change_characters(dfs, 'paths_unfinished', 'target')\n",
    "display(dfs['paths_unfinished'])"
   ]
  },
  {
   "cell_type": "markdown",
   "metadata": {},
   "source": [
    "### Categories dataset"
   ]
  },
  {
   "cell_type": "code",
   "execution_count": 10,
   "metadata": {},
   "outputs": [
    {
     "name": "stdout",
     "output_type": "stream",
     "text": [
      "categories:\n",
      "\tShape of the dataset: (5204, 2)\n",
      "\tThe dataset has no column with NaN values.\n",
      "\n",
      "Visualisation of the first column and statistical infos:\n"
     ]
    },
    {
     "data": {
      "text/html": [
       "<div>\n",
       "<style scoped>\n",
       "    .dataframe tbody tr th:only-of-type {\n",
       "        vertical-align: middle;\n",
       "    }\n",
       "\n",
       "    .dataframe tbody tr th {\n",
       "        vertical-align: top;\n",
       "    }\n",
       "\n",
       "    .dataframe thead th {\n",
       "        text-align: right;\n",
       "    }\n",
       "</style>\n",
       "<table border=\"1\" class=\"dataframe\">\n",
       "  <thead>\n",
       "    <tr style=\"text-align: right;\">\n",
       "      <th></th>\n",
       "      <th>article</th>\n",
       "      <th>category</th>\n",
       "    </tr>\n",
       "  </thead>\n",
       "  <tbody>\n",
       "    <tr>\n",
       "      <th>0</th>\n",
       "      <td>%C3%81ed%C3%A1n_mac_Gabr%C3%A1in</td>\n",
       "      <td>subject.History.British_History.British_Histor...</td>\n",
       "    </tr>\n",
       "  </tbody>\n",
       "</table>\n",
       "</div>"
      ],
      "text/plain": [
       "                            article  \\\n",
       "0  %C3%81ed%C3%A1n_mac_Gabr%C3%A1in   \n",
       "\n",
       "                                            category  \n",
       "0  subject.History.British_History.British_Histor...  "
      ]
     },
     "metadata": {},
     "output_type": "display_data"
    },
    {
     "data": {
      "text/html": [
       "<div>\n",
       "<style scoped>\n",
       "    .dataframe tbody tr th:only-of-type {\n",
       "        vertical-align: middle;\n",
       "    }\n",
       "\n",
       "    .dataframe tbody tr th {\n",
       "        vertical-align: top;\n",
       "    }\n",
       "\n",
       "    .dataframe thead th {\n",
       "        text-align: right;\n",
       "    }\n",
       "</style>\n",
       "<table border=\"1\" class=\"dataframe\">\n",
       "  <thead>\n",
       "    <tr style=\"text-align: right;\">\n",
       "      <th></th>\n",
       "      <th>article</th>\n",
       "      <th>category</th>\n",
       "    </tr>\n",
       "  </thead>\n",
       "  <tbody>\n",
       "    <tr>\n",
       "      <th>count</th>\n",
       "      <td>5204</td>\n",
       "      <td>5204</td>\n",
       "    </tr>\n",
       "    <tr>\n",
       "      <th>unique</th>\n",
       "      <td>4598</td>\n",
       "      <td>129</td>\n",
       "    </tr>\n",
       "    <tr>\n",
       "      <th>top</th>\n",
       "      <td>Pottery</td>\n",
       "      <td>subject.Countries</td>\n",
       "    </tr>\n",
       "    <tr>\n",
       "      <th>freq</th>\n",
       "      <td>3</td>\n",
       "      <td>229</td>\n",
       "    </tr>\n",
       "  </tbody>\n",
       "</table>\n",
       "</div>"
      ],
      "text/plain": [
       "        article           category\n",
       "count      5204               5204\n",
       "unique     4598                129\n",
       "top     Pottery  subject.Countries\n",
       "freq          3                229"
      ]
     },
     "metadata": {},
     "output_type": "display_data"
    },
    {
     "name": "stdout",
     "output_type": "stream",
     "text": [
      "<class 'pandas.core.frame.DataFrame'>\n",
      "RangeIndex: 5204 entries, 0 to 5203\n",
      "Data columns (total 2 columns):\n",
      " #   Column    Non-Null Count  Dtype \n",
      "---  ------    --------------  ----- \n",
      " 0   article   5204 non-null   object\n",
      " 1   category  5204 non-null   object\n",
      "dtypes: object(2)\n",
      "memory usage: 81.4+ KB\n"
     ]
    }
   ],
   "source": [
    "dataset_info(dfs, 'categories')"
   ]
  },
  {
   "cell_type": "markdown",
   "metadata": {},
   "source": [
    "#### Observations\n",
    "\n",
    "- The _categories_ dataset consists of 2 columns: \n",
    "    - **article:** The name of the article.\n",
    "    - **category:**  The corresponding categories to which the articles belong. The category is a sequence of sub-categories separated by a point.\n",
    "\n",
    "* From the count and unique information, the following observations can be made:\n",
    "    * There are 4,598 unique articles out of 5,204, meanings some articles have more than one category path within the 129 possible. \n",
    "    \n",
    " - There are no missing values. \n",
    "\n",
    "- We observed that in the article columns, some characters are not correctly translated (%.. format). We need to correct them. To be sure there are no similar issues in the category column, we will also check and correct them.\n",
    "\n",
    "\n",
    "#### Adjustments"
   ]
  },
  {
   "cell_type": "code",
   "execution_count": 11,
   "metadata": {},
   "outputs": [
    {
     "data": {
      "text/html": [
       "<div>\n",
       "<style scoped>\n",
       "    .dataframe tbody tr th:only-of-type {\n",
       "        vertical-align: middle;\n",
       "    }\n",
       "\n",
       "    .dataframe tbody tr th {\n",
       "        vertical-align: top;\n",
       "    }\n",
       "\n",
       "    .dataframe thead th {\n",
       "        text-align: right;\n",
       "    }\n",
       "</style>\n",
       "<table border=\"1\" class=\"dataframe\">\n",
       "  <thead>\n",
       "    <tr style=\"text-align: right;\">\n",
       "      <th></th>\n",
       "      <th>article</th>\n",
       "      <th>category</th>\n",
       "    </tr>\n",
       "  </thead>\n",
       "  <tbody>\n",
       "    <tr>\n",
       "      <th>0</th>\n",
       "      <td>Áedán_mac_Gabráin</td>\n",
       "      <td>subject.History.British_History.British_Histor...</td>\n",
       "    </tr>\n",
       "    <tr>\n",
       "      <th>1</th>\n",
       "      <td>Áedán_mac_Gabráin</td>\n",
       "      <td>subject.People.Historical_figures</td>\n",
       "    </tr>\n",
       "    <tr>\n",
       "      <th>2</th>\n",
       "      <td>Åland</td>\n",
       "      <td>subject.Countries</td>\n",
       "    </tr>\n",
       "    <tr>\n",
       "      <th>3</th>\n",
       "      <td>Åland</td>\n",
       "      <td>subject.Geography.European_Geography.European_...</td>\n",
       "    </tr>\n",
       "    <tr>\n",
       "      <th>4</th>\n",
       "      <td>Édouard_Manet</td>\n",
       "      <td>subject.People.Artists</td>\n",
       "    </tr>\n",
       "    <tr>\n",
       "      <th>...</th>\n",
       "      <td>...</td>\n",
       "      <td>...</td>\n",
       "    </tr>\n",
       "    <tr>\n",
       "      <th>5199</th>\n",
       "      <td>Zirconium</td>\n",
       "      <td>subject.Science.Chemistry.Chemical_elements</td>\n",
       "    </tr>\n",
       "    <tr>\n",
       "      <th>5200</th>\n",
       "      <td>Zoroaster</td>\n",
       "      <td>subject.People.Religious_figures_and_leaders</td>\n",
       "    </tr>\n",
       "    <tr>\n",
       "      <th>5201</th>\n",
       "      <td>Zuid-Gelders</td>\n",
       "      <td>subject.Geography.European_Geography</td>\n",
       "    </tr>\n",
       "    <tr>\n",
       "      <th>5202</th>\n",
       "      <td>Zuid-Gelders</td>\n",
       "      <td>subject.Language_and_literature.Languages</td>\n",
       "    </tr>\n",
       "    <tr>\n",
       "      <th>5203</th>\n",
       "      <td>Zulu</td>\n",
       "      <td>subject.Geography.African_Geography</td>\n",
       "    </tr>\n",
       "  </tbody>\n",
       "</table>\n",
       "<p>5204 rows × 2 columns</p>\n",
       "</div>"
      ],
      "text/plain": [
       "                article                                           category\n",
       "0     Áedán_mac_Gabráin  subject.History.British_History.British_Histor...\n",
       "1     Áedán_mac_Gabráin                  subject.People.Historical_figures\n",
       "2                 Åland                                  subject.Countries\n",
       "3                 Åland  subject.Geography.European_Geography.European_...\n",
       "4         Édouard_Manet                             subject.People.Artists\n",
       "...                 ...                                                ...\n",
       "5199          Zirconium        subject.Science.Chemistry.Chemical_elements\n",
       "5200          Zoroaster       subject.People.Religious_figures_and_leaders\n",
       "5201       Zuid-Gelders               subject.Geography.European_Geography\n",
       "5202       Zuid-Gelders          subject.Language_and_literature.Languages\n",
       "5203               Zulu                subject.Geography.African_Geography\n",
       "\n",
       "[5204 rows x 2 columns]"
      ]
     },
     "metadata": {},
     "output_type": "display_data"
    }
   ],
   "source": [
    "dfs = change_characters(dfs, 'categories', 'article')\n",
    "dfs = change_characters(dfs, 'categories', 'category')\n",
    "display(dfs['categories'])"
   ]
  },
  {
   "cell_type": "markdown",
   "metadata": {},
   "source": [
    "### Article dataset"
   ]
  },
  {
   "cell_type": "code",
   "execution_count": 12,
   "metadata": {},
   "outputs": [
    {
     "name": "stdout",
     "output_type": "stream",
     "text": [
      "article:\n",
      "\tShape of the dataset: (4604, 1)\n",
      "\tThe dataset has no column with NaN values.\n",
      "\n",
      "Visualisation of the first column and statistical infos:\n"
     ]
    },
    {
     "data": {
      "text/html": [
       "<div>\n",
       "<style scoped>\n",
       "    .dataframe tbody tr th:only-of-type {\n",
       "        vertical-align: middle;\n",
       "    }\n",
       "\n",
       "    .dataframe tbody tr th {\n",
       "        vertical-align: top;\n",
       "    }\n",
       "\n",
       "    .dataframe thead th {\n",
       "        text-align: right;\n",
       "    }\n",
       "</style>\n",
       "<table border=\"1\" class=\"dataframe\">\n",
       "  <thead>\n",
       "    <tr style=\"text-align: right;\">\n",
       "      <th></th>\n",
       "      <th>article</th>\n",
       "    </tr>\n",
       "  </thead>\n",
       "  <tbody>\n",
       "    <tr>\n",
       "      <th>0</th>\n",
       "      <td>%C3%81ed%C3%A1n_mac_Gabr%C3%A1in</td>\n",
       "    </tr>\n",
       "  </tbody>\n",
       "</table>\n",
       "</div>"
      ],
      "text/plain": [
       "                            article\n",
       "0  %C3%81ed%C3%A1n_mac_Gabr%C3%A1in"
      ]
     },
     "metadata": {},
     "output_type": "display_data"
    },
    {
     "data": {
      "text/html": [
       "<div>\n",
       "<style scoped>\n",
       "    .dataframe tbody tr th:only-of-type {\n",
       "        vertical-align: middle;\n",
       "    }\n",
       "\n",
       "    .dataframe tbody tr th {\n",
       "        vertical-align: top;\n",
       "    }\n",
       "\n",
       "    .dataframe thead th {\n",
       "        text-align: right;\n",
       "    }\n",
       "</style>\n",
       "<table border=\"1\" class=\"dataframe\">\n",
       "  <thead>\n",
       "    <tr style=\"text-align: right;\">\n",
       "      <th></th>\n",
       "      <th>article</th>\n",
       "    </tr>\n",
       "  </thead>\n",
       "  <tbody>\n",
       "    <tr>\n",
       "      <th>count</th>\n",
       "      <td>4604</td>\n",
       "    </tr>\n",
       "    <tr>\n",
       "      <th>unique</th>\n",
       "      <td>4604</td>\n",
       "    </tr>\n",
       "    <tr>\n",
       "      <th>top</th>\n",
       "      <td>%C3%81ed%C3%A1n_mac_Gabr%C3%A1in</td>\n",
       "    </tr>\n",
       "    <tr>\n",
       "      <th>freq</th>\n",
       "      <td>1</td>\n",
       "    </tr>\n",
       "  </tbody>\n",
       "</table>\n",
       "</div>"
      ],
      "text/plain": [
       "                                 article\n",
       "count                               4604\n",
       "unique                              4604\n",
       "top     %C3%81ed%C3%A1n_mac_Gabr%C3%A1in\n",
       "freq                                   1"
      ]
     },
     "metadata": {},
     "output_type": "display_data"
    },
    {
     "name": "stdout",
     "output_type": "stream",
     "text": [
      "<class 'pandas.core.frame.DataFrame'>\n",
      "RangeIndex: 4604 entries, 0 to 4603\n",
      "Data columns (total 1 columns):\n",
      " #   Column   Non-Null Count  Dtype \n",
      "---  ------   --------------  ----- \n",
      " 0   article  4604 non-null   object\n",
      "dtypes: object(1)\n",
      "memory usage: 36.1+ KB\n"
     ]
    }
   ],
   "source": [
    "dataset_info(dfs, 'article')"
   ]
  },
  {
   "cell_type": "markdown",
   "metadata": {},
   "source": [
    "#### Observations\n",
    "\n",
    "- The _article_ dataset consists of 1 column: \n",
    "    - **article:** The name of the article.\n",
    "\n",
    "* There are 6,604 articles and no missing values.\n",
    "    \n",
    "- We observed that in the article columns, some characters are not correctly translated (%.. format). We need to correct them.\n",
    "\n",
    "#### Adjustments\n"
   ]
  },
  {
   "cell_type": "code",
   "execution_count": 13,
   "metadata": {},
   "outputs": [
    {
     "data": {
      "text/html": [
       "<div>\n",
       "<style scoped>\n",
       "    .dataframe tbody tr th:only-of-type {\n",
       "        vertical-align: middle;\n",
       "    }\n",
       "\n",
       "    .dataframe tbody tr th {\n",
       "        vertical-align: top;\n",
       "    }\n",
       "\n",
       "    .dataframe thead th {\n",
       "        text-align: right;\n",
       "    }\n",
       "</style>\n",
       "<table border=\"1\" class=\"dataframe\">\n",
       "  <thead>\n",
       "    <tr style=\"text-align: right;\">\n",
       "      <th></th>\n",
       "      <th>article</th>\n",
       "    </tr>\n",
       "  </thead>\n",
       "  <tbody>\n",
       "    <tr>\n",
       "      <th>0</th>\n",
       "      <td>Áedán_mac_Gabráin</td>\n",
       "    </tr>\n",
       "    <tr>\n",
       "      <th>1</th>\n",
       "      <td>Åland</td>\n",
       "    </tr>\n",
       "    <tr>\n",
       "      <th>2</th>\n",
       "      <td>Édouard_Manet</td>\n",
       "    </tr>\n",
       "    <tr>\n",
       "      <th>3</th>\n",
       "      <td>Éire</td>\n",
       "    </tr>\n",
       "    <tr>\n",
       "      <th>4</th>\n",
       "      <td>Óengus_I_of_the_Picts</td>\n",
       "    </tr>\n",
       "    <tr>\n",
       "      <th>...</th>\n",
       "      <td>...</td>\n",
       "    </tr>\n",
       "    <tr>\n",
       "      <th>4599</th>\n",
       "      <td>Zionism</td>\n",
       "    </tr>\n",
       "    <tr>\n",
       "      <th>4600</th>\n",
       "      <td>Zirconium</td>\n",
       "    </tr>\n",
       "    <tr>\n",
       "      <th>4601</th>\n",
       "      <td>Zoroaster</td>\n",
       "    </tr>\n",
       "    <tr>\n",
       "      <th>4602</th>\n",
       "      <td>Zuid-Gelders</td>\n",
       "    </tr>\n",
       "    <tr>\n",
       "      <th>4603</th>\n",
       "      <td>Zulu</td>\n",
       "    </tr>\n",
       "  </tbody>\n",
       "</table>\n",
       "<p>4604 rows × 1 columns</p>\n",
       "</div>"
      ],
      "text/plain": [
       "                    article\n",
       "0         Áedán_mac_Gabráin\n",
       "1                     Åland\n",
       "2             Édouard_Manet\n",
       "3                      Éire\n",
       "4     Óengus_I_of_the_Picts\n",
       "...                     ...\n",
       "4599                Zionism\n",
       "4600              Zirconium\n",
       "4601              Zoroaster\n",
       "4602           Zuid-Gelders\n",
       "4603                   Zulu\n",
       "\n",
       "[4604 rows x 1 columns]"
      ]
     },
     "metadata": {},
     "output_type": "display_data"
    }
   ],
   "source": [
    "dfs = change_characters(dfs, 'article', 'article')\n",
    "display(dfs['article'])\n"
   ]
  },
  {
   "cell_type": "markdown",
   "metadata": {},
   "source": [
    "### Links dataset"
   ]
  },
  {
   "cell_type": "code",
   "execution_count": 14,
   "metadata": {},
   "outputs": [
    {
     "name": "stdout",
     "output_type": "stream",
     "text": [
      "links:\n",
      "\tShape of the dataset: (119882, 2)\n",
      "\tThe dataset has no column with NaN values.\n",
      "\n",
      "Visualisation of the first column and statistical infos:\n"
     ]
    },
    {
     "data": {
      "text/html": [
       "<div>\n",
       "<style scoped>\n",
       "    .dataframe tbody tr th:only-of-type {\n",
       "        vertical-align: middle;\n",
       "    }\n",
       "\n",
       "    .dataframe tbody tr th {\n",
       "        vertical-align: top;\n",
       "    }\n",
       "\n",
       "    .dataframe thead th {\n",
       "        text-align: right;\n",
       "    }\n",
       "</style>\n",
       "<table border=\"1\" class=\"dataframe\">\n",
       "  <thead>\n",
       "    <tr style=\"text-align: right;\">\n",
       "      <th></th>\n",
       "      <th>linkSource</th>\n",
       "      <th>linkTarget</th>\n",
       "    </tr>\n",
       "  </thead>\n",
       "  <tbody>\n",
       "    <tr>\n",
       "      <th>0</th>\n",
       "      <td>%C3%81ed%C3%A1n_mac_Gabr%C3%A1in</td>\n",
       "      <td>Bede</td>\n",
       "    </tr>\n",
       "  </tbody>\n",
       "</table>\n",
       "</div>"
      ],
      "text/plain": [
       "                         linkSource linkTarget\n",
       "0  %C3%81ed%C3%A1n_mac_Gabr%C3%A1in       Bede"
      ]
     },
     "metadata": {},
     "output_type": "display_data"
    },
    {
     "data": {
      "text/html": [
       "<div>\n",
       "<style scoped>\n",
       "    .dataframe tbody tr th:only-of-type {\n",
       "        vertical-align: middle;\n",
       "    }\n",
       "\n",
       "    .dataframe tbody tr th {\n",
       "        vertical-align: top;\n",
       "    }\n",
       "\n",
       "    .dataframe thead th {\n",
       "        text-align: right;\n",
       "    }\n",
       "</style>\n",
       "<table border=\"1\" class=\"dataframe\">\n",
       "  <thead>\n",
       "    <tr style=\"text-align: right;\">\n",
       "      <th></th>\n",
       "      <th>linkSource</th>\n",
       "      <th>linkTarget</th>\n",
       "    </tr>\n",
       "  </thead>\n",
       "  <tbody>\n",
       "    <tr>\n",
       "      <th>count</th>\n",
       "      <td>119882</td>\n",
       "      <td>119882</td>\n",
       "    </tr>\n",
       "    <tr>\n",
       "      <th>unique</th>\n",
       "      <td>4587</td>\n",
       "      <td>4135</td>\n",
       "    </tr>\n",
       "    <tr>\n",
       "      <th>top</th>\n",
       "      <td>United_States</td>\n",
       "      <td>United_States</td>\n",
       "    </tr>\n",
       "    <tr>\n",
       "      <th>freq</th>\n",
       "      <td>294</td>\n",
       "      <td>1551</td>\n",
       "    </tr>\n",
       "  </tbody>\n",
       "</table>\n",
       "</div>"
      ],
      "text/plain": [
       "           linkSource     linkTarget\n",
       "count          119882         119882\n",
       "unique           4587           4135\n",
       "top     United_States  United_States\n",
       "freq              294           1551"
      ]
     },
     "metadata": {},
     "output_type": "display_data"
    },
    {
     "name": "stdout",
     "output_type": "stream",
     "text": [
      "<class 'pandas.core.frame.DataFrame'>\n",
      "RangeIndex: 119882 entries, 0 to 119881\n",
      "Data columns (total 2 columns):\n",
      " #   Column      Non-Null Count   Dtype \n",
      "---  ------      --------------   ----- \n",
      " 0   linkSource  119882 non-null  object\n",
      " 1   linkTarget  119882 non-null  object\n",
      "dtypes: object(2)\n",
      "memory usage: 1.8+ MB\n"
     ]
    }
   ],
   "source": [
    "dataset_info(dfs, 'links')"
   ]
  },
  {
   "cell_type": "markdown",
   "metadata": {},
   "source": [
    "#### Observations\n",
    "\n",
    "- The _links_ dataset consists of 2 columns: \n",
    "    - **linkSource:** The name of the source article.\n",
    "    - **linkTarget:** The name of the target article.\n",
    "\n",
    "* From the summary information, the following observations are be made:\n",
    "    * The most represented source and target articles is in both case the _United_States_ article. \n",
    "    * There are no missing values. \n",
    "\n",
    "- We observed that in both columns, some characters are not correctly translated (%.. format). We need to correct them. \n",
    "\n",
    "#### Adjustments"
   ]
  },
  {
   "cell_type": "code",
   "execution_count": 15,
   "metadata": {},
   "outputs": [
    {
     "data": {
      "text/html": [
       "<div>\n",
       "<style scoped>\n",
       "    .dataframe tbody tr th:only-of-type {\n",
       "        vertical-align: middle;\n",
       "    }\n",
       "\n",
       "    .dataframe tbody tr th {\n",
       "        vertical-align: top;\n",
       "    }\n",
       "\n",
       "    .dataframe thead th {\n",
       "        text-align: right;\n",
       "    }\n",
       "</style>\n",
       "<table border=\"1\" class=\"dataframe\">\n",
       "  <thead>\n",
       "    <tr style=\"text-align: right;\">\n",
       "      <th></th>\n",
       "      <th>linkSource</th>\n",
       "      <th>linkTarget</th>\n",
       "    </tr>\n",
       "  </thead>\n",
       "  <tbody>\n",
       "    <tr>\n",
       "      <th>0</th>\n",
       "      <td>Áedán_mac_Gabráin</td>\n",
       "      <td>Bede</td>\n",
       "    </tr>\n",
       "    <tr>\n",
       "      <th>1</th>\n",
       "      <td>Áedán_mac_Gabráin</td>\n",
       "      <td>Columba</td>\n",
       "    </tr>\n",
       "    <tr>\n",
       "      <th>2</th>\n",
       "      <td>Áedán_mac_Gabráin</td>\n",
       "      <td>Dál_Riata</td>\n",
       "    </tr>\n",
       "    <tr>\n",
       "      <th>3</th>\n",
       "      <td>Áedán_mac_Gabráin</td>\n",
       "      <td>Great_Britain</td>\n",
       "    </tr>\n",
       "    <tr>\n",
       "      <th>4</th>\n",
       "      <td>Áedán_mac_Gabráin</td>\n",
       "      <td>Ireland</td>\n",
       "    </tr>\n",
       "    <tr>\n",
       "      <th>...</th>\n",
       "      <td>...</td>\n",
       "      <td>...</td>\n",
       "    </tr>\n",
       "    <tr>\n",
       "      <th>119877</th>\n",
       "      <td>Zulu</td>\n",
       "      <td>South_Africa</td>\n",
       "    </tr>\n",
       "    <tr>\n",
       "      <th>119878</th>\n",
       "      <td>Zulu</td>\n",
       "      <td>Swaziland</td>\n",
       "    </tr>\n",
       "    <tr>\n",
       "      <th>119879</th>\n",
       "      <td>Zulu</td>\n",
       "      <td>United_Kingdom</td>\n",
       "    </tr>\n",
       "    <tr>\n",
       "      <th>119880</th>\n",
       "      <td>Zulu</td>\n",
       "      <td>Zambia</td>\n",
       "    </tr>\n",
       "    <tr>\n",
       "      <th>119881</th>\n",
       "      <td>Zulu</td>\n",
       "      <td>Zimbabwe</td>\n",
       "    </tr>\n",
       "  </tbody>\n",
       "</table>\n",
       "<p>119882 rows × 2 columns</p>\n",
       "</div>"
      ],
      "text/plain": [
       "               linkSource      linkTarget\n",
       "0       Áedán_mac_Gabráin            Bede\n",
       "1       Áedán_mac_Gabráin         Columba\n",
       "2       Áedán_mac_Gabráin       Dál_Riata\n",
       "3       Áedán_mac_Gabráin   Great_Britain\n",
       "4       Áedán_mac_Gabráin         Ireland\n",
       "...                   ...             ...\n",
       "119877               Zulu    South_Africa\n",
       "119878               Zulu       Swaziland\n",
       "119879               Zulu  United_Kingdom\n",
       "119880               Zulu          Zambia\n",
       "119881               Zulu        Zimbabwe\n",
       "\n",
       "[119882 rows x 2 columns]"
      ]
     },
     "metadata": {},
     "output_type": "display_data"
    }
   ],
   "source": [
    "dfs = change_characters(dfs, 'links', 'linkSource')\n",
    "dfs = change_characters(dfs, 'links', 'linkTarget')\n",
    "display(dfs['links'])"
   ]
  },
  {
   "cell_type": "markdown",
   "metadata": {},
   "source": [
    "## Pre-processing function for further analysis\n",
    "A function summarizing the above preprocessing steps can be found in the [helpers.py](helpers.py) Python script. This function will be used in the further analysis."
   ]
  },
  {
   "cell_type": "markdown",
   "metadata": {},
   "source": [
    "# Extract people data"
   ]
  },
  {
   "cell_type": "code",
   "execution_count": 16,
   "metadata": {},
   "outputs": [
    {
     "name": "stdout",
     "output_type": "stream",
     "text": [
      "<class 'pandas.core.frame.DataFrame'>\n",
      "Index: 711 entries, 1 to 5200\n",
      "Data columns (total 2 columns):\n",
      " #   Column    Non-Null Count  Dtype \n",
      "---  ------    --------------  ----- \n",
      " 0   article   711 non-null    object\n",
      " 1   category  711 non-null    object\n",
      "dtypes: object(2)\n",
      "memory usage: 16.7+ KB\n",
      "<class 'pandas.core.frame.DataFrame'>\n",
      "Index: 689 entries, 1 to 5200\n",
      "Data columns (total 2 columns):\n",
      " #   Column    Non-Null Count  Dtype \n",
      "---  ------    --------------  ----- \n",
      " 0   article   689 non-null    object\n",
      " 1   category  689 non-null    object\n",
      "dtypes: object(2)\n",
      "memory usage: 16.1+ KB\n",
      "<class 'pandas.core.frame.DataFrame'>\n",
      "Index: 22 entries, 250 to 4806\n",
      "Data columns (total 2 columns):\n",
      " #   Column    Non-Null Count  Dtype \n",
      "---  ------    --------------  ----- \n",
      " 0   article   22 non-null     object\n",
      " 1   category  22 non-null     object\n",
      "dtypes: object(2)\n",
      "memory usage: 528.0+ bytes\n"
     ]
    }
   ],
   "source": [
    "categories = dfs['categories']\n",
    "\n",
    "# Selection of all the articles from a people category\n",
    "all_people_selection = categories[categories['category'].str.contains('People')]\n",
    "\n",
    "# Separate the data as people that are main or secondary people\n",
    "main_people_selection = all_people_selection[all_people_selection['category'].str.contains('subject.People')]\n",
    "second_people_selection = pd.concat([main_people_selection,all_people_selection]).drop_duplicates(keep=False)\n",
    "\n",
    "# Verify that all the articles are unique\n",
    "all_people_selection.info() \n",
    "main_people_selection.info()\n",
    "second_people_selection.info()"
   ]
  },
  {
   "cell_type": "code",
   "execution_count": 17,
   "metadata": {},
   "outputs": [
    {
     "data": {
      "text/html": [
       "<div>\n",
       "<style scoped>\n",
       "    .dataframe tbody tr th:only-of-type {\n",
       "        vertical-align: middle;\n",
       "    }\n",
       "\n",
       "    .dataframe tbody tr th {\n",
       "        vertical-align: top;\n",
       "    }\n",
       "\n",
       "    .dataframe thead th {\n",
       "        text-align: right;\n",
       "    }\n",
       "</style>\n",
       "<table border=\"1\" class=\"dataframe\">\n",
       "  <thead>\n",
       "    <tr style=\"text-align: right;\">\n",
       "      <th></th>\n",
       "      <th>article</th>\n",
       "      <th>category</th>\n",
       "    </tr>\n",
       "  </thead>\n",
       "  <tbody>\n",
       "    <tr>\n",
       "      <th>1</th>\n",
       "      <td>Áedán_mac_Gabráin</td>\n",
       "      <td>subject.People.Historical_figures</td>\n",
       "    </tr>\n",
       "    <tr>\n",
       "      <th>4</th>\n",
       "      <td>Édouard_Manet</td>\n",
       "      <td>subject.People.Artists</td>\n",
       "    </tr>\n",
       "    <tr>\n",
       "      <th>8</th>\n",
       "      <td>Óengus_I_of_the_Picts</td>\n",
       "      <td>subject.People.Historical_figures</td>\n",
       "    </tr>\n",
       "    <tr>\n",
       "      <th>67</th>\n",
       "      <td>A._E._J._Collins</td>\n",
       "      <td>subject.People.Sports_and_games_people</td>\n",
       "    </tr>\n",
       "    <tr>\n",
       "      <th>88</th>\n",
       "      <td>Abbas_I_of_Persia</td>\n",
       "      <td>subject.People.Historical_figures</td>\n",
       "    </tr>\n",
       "  </tbody>\n",
       "</table>\n",
       "</div>"
      ],
      "text/plain": [
       "                  article                                category\n",
       "1       Áedán_mac_Gabráin       subject.People.Historical_figures\n",
       "4           Édouard_Manet                  subject.People.Artists\n",
       "8   Óengus_I_of_the_Picts       subject.People.Historical_figures\n",
       "67       A._E._J._Collins  subject.People.Sports_and_games_people\n",
       "88      Abbas_I_of_Persia       subject.People.Historical_figures"
      ]
     },
     "metadata": {},
     "output_type": "display_data"
    },
    {
     "data": {
      "text/html": [
       "<div>\n",
       "<style scoped>\n",
       "    .dataframe tbody tr th:only-of-type {\n",
       "        vertical-align: middle;\n",
       "    }\n",
       "\n",
       "    .dataframe tbody tr th {\n",
       "        vertical-align: top;\n",
       "    }\n",
       "\n",
       "    .dataframe thead th {\n",
       "        text-align: right;\n",
       "    }\n",
       "</style>\n",
       "<table border=\"1\" class=\"dataframe\">\n",
       "  <thead>\n",
       "    <tr style=\"text-align: right;\">\n",
       "      <th></th>\n",
       "      <th>article</th>\n",
       "      <th>category</th>\n",
       "    </tr>\n",
       "  </thead>\n",
       "  <tbody>\n",
       "    <tr>\n",
       "      <th>250</th>\n",
       "      <td>Amish</td>\n",
       "      <td>subject.Geography.Peoples</td>\n",
       "    </tr>\n",
       "    <tr>\n",
       "      <th>318</th>\n",
       "      <td>Anthropology</td>\n",
       "      <td>subject.Geography.Peoples</td>\n",
       "    </tr>\n",
       "    <tr>\n",
       "      <th>467</th>\n",
       "      <td>Azerbaijani_people</td>\n",
       "      <td>subject.Geography.Peoples</td>\n",
       "    </tr>\n",
       "    <tr>\n",
       "      <th>679</th>\n",
       "      <td>Black_Seminoles</td>\n",
       "      <td>subject.Geography.Peoples</td>\n",
       "    </tr>\n",
       "    <tr>\n",
       "      <th>1208</th>\n",
       "      <td>Crimean_Karaites</td>\n",
       "      <td>subject.Geography.Peoples</td>\n",
       "    </tr>\n",
       "  </tbody>\n",
       "</table>\n",
       "</div>"
      ],
      "text/plain": [
       "                 article                   category\n",
       "250                Amish  subject.Geography.Peoples\n",
       "318         Anthropology  subject.Geography.Peoples\n",
       "467   Azerbaijani_people  subject.Geography.Peoples\n",
       "679      Black_Seminoles  subject.Geography.Peoples\n",
       "1208    Crimean_Karaites  subject.Geography.Peoples"
      ]
     },
     "metadata": {},
     "output_type": "display_data"
    }
   ],
   "source": [
    "#Look at the people data set\n",
    "display(main_people_selection.head())\n",
    "display(second_people_selection.head())"
   ]
  },
  {
   "cell_type": "markdown",
   "metadata": {},
   "source": [
    "- We can observe here that the 2nd people selection doesn't design person but communities and population.\n",
    "- Now we want to verify whether some person are not in the people category and we missed them. "
   ]
  },
  {
   "cell_type": "code",
   "execution_count": 18,
   "metadata": {},
   "outputs": [
    {
     "name": "stdout",
     "output_type": "stream",
     "text": [
      "There are 141 categories.\n"
     ]
    }
   ],
   "source": [
    "individual_category = categories.category.str.split('.').explode().unique()\n",
    "print('There are {} categories.'.format(len(individual_category)-1))"
   ]
  },
  {
   "cell_type": "code",
   "execution_count": 19,
   "metadata": {},
   "outputs": [
    {
     "data": {
      "text/html": [
       "<div>\n",
       "<style scoped>\n",
       "    .dataframe tbody tr th:only-of-type {\n",
       "        vertical-align: middle;\n",
       "    }\n",
       "\n",
       "    .dataframe tbody tr th {\n",
       "        vertical-align: top;\n",
       "    }\n",
       "\n",
       "    .dataframe thead th {\n",
       "        text-align: right;\n",
       "    }\n",
       "</style>\n",
       "<table border=\"1\" class=\"dataframe\">\n",
       "  <thead>\n",
       "    <tr style=\"text-align: right;\">\n",
       "      <th></th>\n",
       "      <th>article</th>\n",
       "      <th>category</th>\n",
       "    </tr>\n",
       "  </thead>\n",
       "  <tbody>\n",
       "    <tr>\n",
       "      <th>69</th>\n",
       "      <td>AC_DC</td>\n",
       "      <td>subject.Music.Performers_and_composers</td>\n",
       "    </tr>\n",
       "    <tr>\n",
       "      <th>358</th>\n",
       "      <td>Arctic_Monkeys</td>\n",
       "      <td>subject.Music.Performers_and_composers</td>\n",
       "    </tr>\n",
       "    <tr>\n",
       "      <th>1417</th>\n",
       "      <td>Duran_Duran</td>\n",
       "      <td>subject.Music.Performers_and_composers</td>\n",
       "    </tr>\n",
       "    <tr>\n",
       "      <th>2444</th>\n",
       "      <td>Iron_Maiden</td>\n",
       "      <td>subject.Music.Performers_and_composers</td>\n",
       "    </tr>\n",
       "    <tr>\n",
       "      <th>2694</th>\n",
       "      <td>Ladysmith_Black_Mambazo</td>\n",
       "      <td>subject.Music.Performers_and_composers</td>\n",
       "    </tr>\n",
       "    <tr>\n",
       "      <th>2936</th>\n",
       "      <td>Magdalena_Abakanowicz</td>\n",
       "      <td>subject.Art.Artists</td>\n",
       "    </tr>\n",
       "    <tr>\n",
       "      <th>3066</th>\n",
       "      <td>McFly_(band)</td>\n",
       "      <td>subject.Music.Performers_and_composers</td>\n",
       "    </tr>\n",
       "    <tr>\n",
       "      <th>3357</th>\n",
       "      <td>Niccolò_dell'Abbate</td>\n",
       "      <td>subject.Art.Artists</td>\n",
       "    </tr>\n",
       "    <tr>\n",
       "      <th>3380</th>\n",
       "      <td>Nirvana_(band)</td>\n",
       "      <td>subject.Music.Performers_and_composers</td>\n",
       "    </tr>\n",
       "    <tr>\n",
       "      <th>3427</th>\n",
       "      <td>Oasis_(band)</td>\n",
       "      <td>subject.Music.Performers_and_composers</td>\n",
       "    </tr>\n",
       "    <tr>\n",
       "      <th>3825</th>\n",
       "      <td>Queen_(band)</td>\n",
       "      <td>subject.Music.Performers_and_composers</td>\n",
       "    </tr>\n",
       "    <tr>\n",
       "      <th>4555</th>\n",
       "      <td>The_Beatles</td>\n",
       "      <td>subject.Music.Performers_and_composers</td>\n",
       "    </tr>\n",
       "    <tr>\n",
       "      <th>4609</th>\n",
       "      <td>The_Rolling_Stones</td>\n",
       "      <td>subject.Music.Performers_and_composers</td>\n",
       "    </tr>\n",
       "    <tr>\n",
       "      <th>4614</th>\n",
       "      <td>The_Smiths</td>\n",
       "      <td>subject.Music.Performers_and_composers</td>\n",
       "    </tr>\n",
       "    <tr>\n",
       "      <th>4615</th>\n",
       "      <td>The_Supremes</td>\n",
       "      <td>subject.Music.Performers_and_composers</td>\n",
       "    </tr>\n",
       "    <tr>\n",
       "      <th>4616</th>\n",
       "      <td>The_Temptations</td>\n",
       "      <td>subject.Music.Performers_and_composers</td>\n",
       "    </tr>\n",
       "    <tr>\n",
       "      <th>4819</th>\n",
       "      <td>U2</td>\n",
       "      <td>subject.Music.Performers_and_composers</td>\n",
       "    </tr>\n",
       "    <tr>\n",
       "      <th>4891</th>\n",
       "      <td>Van_Halen</td>\n",
       "      <td>subject.Music.Performers_and_composers</td>\n",
       "    </tr>\n",
       "  </tbody>\n",
       "</table>\n",
       "</div>"
      ],
      "text/plain": [
       "                      article                                category\n",
       "69                      AC_DC  subject.Music.Performers_and_composers\n",
       "358            Arctic_Monkeys  subject.Music.Performers_and_composers\n",
       "1417              Duran_Duran  subject.Music.Performers_and_composers\n",
       "2444              Iron_Maiden  subject.Music.Performers_and_composers\n",
       "2694  Ladysmith_Black_Mambazo  subject.Music.Performers_and_composers\n",
       "2936    Magdalena_Abakanowicz                     subject.Art.Artists\n",
       "3066             McFly_(band)  subject.Music.Performers_and_composers\n",
       "3357      Niccolò_dell'Abbate                     subject.Art.Artists\n",
       "3380           Nirvana_(band)  subject.Music.Performers_and_composers\n",
       "3427             Oasis_(band)  subject.Music.Performers_and_composers\n",
       "3825             Queen_(band)  subject.Music.Performers_and_composers\n",
       "4555              The_Beatles  subject.Music.Performers_and_composers\n",
       "4609       The_Rolling_Stones  subject.Music.Performers_and_composers\n",
       "4614               The_Smiths  subject.Music.Performers_and_composers\n",
       "4615             The_Supremes  subject.Music.Performers_and_composers\n",
       "4616          The_Temptations  subject.Music.Performers_and_composers\n",
       "4819                       U2  subject.Music.Performers_and_composers\n",
       "4891                Van_Halen  subject.Music.Performers_and_composers"
      ]
     },
     "execution_count": 19,
     "metadata": {},
     "output_type": "execute_result"
    }
   ],
   "source": [
    "values_to_check = ['Historical_figures', 'Artists', 'Performers_and_composers', 'Geographers_and_explorers', \n",
    "                   'USA_Presidents', 'Religious_figures_and_leaders', 'Political_People', 'Producers_directors_and_media_figures',\n",
    "                   'Engineers_and_inventors', 'Military_People', 'Monarchs_of_Great_Britain', 'Actors_models_and_celebrities', \n",
    "                   'Philosophers', 'Human_Scientists', 'Computing_People'\n",
    "                   ] # without Divinities\n",
    "\n",
    "a = categories[categories['category'].str.contains('|'.join(values_to_check))]\n",
    "b = a[a['category'].str.contains('subject.People' )]\n",
    "not_labelled_people_selection = pd.concat([a,b]).drop_duplicates(keep=False)\n",
    "not_labelled_people_selection"
   ]
  },
  {
   "cell_type": "markdown",
   "metadata": {},
   "source": [
    "We can notice that some people are not labelled as people. \n",
    "- For the music.Performers_and_composers: they are groups so it make sense.\n",
    "- For the Art.Artits: Within this category, two of them are not labelled as subject.People.Artists but only subject.Artists : Niccolò_dell'Abbate & Magdalena_Abakanowicz. --> It is a mistake "
   ]
  },
  {
   "cell_type": "markdown",
   "metadata": {},
   "source": [
    "# Gender retrieval"
   ]
  },
  {
   "cell_type": "code",
   "execution_count": 20,
   "metadata": {},
   "outputs": [
    {
     "name": "stderr",
     "output_type": "stream",
     "text": [
      "c:\\Users\\emeri\\Documents\\EPFL\\MA3\\ADA\\ada-2023-project-ndlmada\\helpers.py:181: SettingWithCopyWarning: \n",
      "A value is trying to be set on a copy of a slice from a DataFrame.\n",
      "Try using .loc[row_indexer,col_indexer] = value instead\n",
      "\n",
      "See the caveats in the documentation: https://pandas.pydata.org/pandas-docs/stable/user_guide/indexing.html#returning-a-view-versus-a-copy\n",
      "  dataframe['gender'] = gender_list\n"
     ]
    }
   ],
   "source": [
    "main_people_selection = add_all_genders(main_people_selection)\n"
   ]
  },
  {
   "cell_type": "code",
   "execution_count": 21,
   "metadata": {},
   "outputs": [
    {
     "data": {
      "text/html": [
       "<div>\n",
       "<style scoped>\n",
       "    .dataframe tbody tr th:only-of-type {\n",
       "        vertical-align: middle;\n",
       "    }\n",
       "\n",
       "    .dataframe tbody tr th {\n",
       "        vertical-align: top;\n",
       "    }\n",
       "\n",
       "    .dataframe thead th {\n",
       "        text-align: right;\n",
       "    }\n",
       "</style>\n",
       "<table border=\"1\" class=\"dataframe\">\n",
       "  <thead>\n",
       "    <tr style=\"text-align: right;\">\n",
       "      <th></th>\n",
       "      <th>category</th>\n",
       "      <th>gender</th>\n",
       "    </tr>\n",
       "    <tr>\n",
       "      <th>article</th>\n",
       "      <th></th>\n",
       "      <th></th>\n",
       "    </tr>\n",
       "  </thead>\n",
       "  <tbody>\n",
       "    <tr>\n",
       "      <th>Áedán_mac_Gabráin</th>\n",
       "      <td>subject.People.Historical_figures</td>\n",
       "      <td>Male</td>\n",
       "    </tr>\n",
       "    <tr>\n",
       "      <th>Édouard_Manet</th>\n",
       "      <td>subject.People.Artists</td>\n",
       "      <td>Male</td>\n",
       "    </tr>\n",
       "    <tr>\n",
       "      <th>Óengus_I_of_the_Picts</th>\n",
       "      <td>subject.People.Historical_figures</td>\n",
       "      <td>Male</td>\n",
       "    </tr>\n",
       "    <tr>\n",
       "      <th>A._E._J._Collins</th>\n",
       "      <td>subject.People.Sports_and_games_people</td>\n",
       "      <td>Male</td>\n",
       "    </tr>\n",
       "    <tr>\n",
       "      <th>Abbas_I_of_Persia</th>\n",
       "      <td>subject.People.Historical_figures</td>\n",
       "      <td>Male</td>\n",
       "    </tr>\n",
       "    <tr>\n",
       "      <th>...</th>\n",
       "      <td>...</td>\n",
       "      <td>...</td>\n",
       "    </tr>\n",
       "    <tr>\n",
       "      <th>Zhang_Qian</th>\n",
       "      <td>subject.People.Historical_figures</td>\n",
       "      <td>Male</td>\n",
       "    </tr>\n",
       "    <tr>\n",
       "      <th>Zheng_He</th>\n",
       "      <td>subject.People.Historical_figures</td>\n",
       "      <td>Male</td>\n",
       "    </tr>\n",
       "    <tr>\n",
       "      <th>Ziad_Jarrah</th>\n",
       "      <td>subject.People.Historical_figures</td>\n",
       "      <td>Male</td>\n",
       "    </tr>\n",
       "    <tr>\n",
       "      <th>Zionism</th>\n",
       "      <td>subject.People.Political_People</td>\n",
       "      <td>Unknown</td>\n",
       "    </tr>\n",
       "    <tr>\n",
       "      <th>Zoroaster</th>\n",
       "      <td>subject.People.Religious_figures_and_leaders</td>\n",
       "      <td>Male</td>\n",
       "    </tr>\n",
       "  </tbody>\n",
       "</table>\n",
       "<p>689 rows × 2 columns</p>\n",
       "</div>"
      ],
      "text/plain": [
       "                                                           category   gender\n",
       "article                                                                     \n",
       "Áedán_mac_Gabráin                 subject.People.Historical_figures     Male\n",
       "Édouard_Manet                                subject.People.Artists     Male\n",
       "Óengus_I_of_the_Picts             subject.People.Historical_figures     Male\n",
       "A._E._J._Collins             subject.People.Sports_and_games_people     Male\n",
       "Abbas_I_of_Persia                 subject.People.Historical_figures     Male\n",
       "...                                                             ...      ...\n",
       "Zhang_Qian                        subject.People.Historical_figures     Male\n",
       "Zheng_He                          subject.People.Historical_figures     Male\n",
       "Ziad_Jarrah                       subject.People.Historical_figures     Male\n",
       "Zionism                             subject.People.Political_People  Unknown\n",
       "Zoroaster              subject.People.Religious_figures_and_leaders     Male\n",
       "\n",
       "[689 rows x 2 columns]"
      ]
     },
     "execution_count": 21,
     "metadata": {},
     "output_type": "execute_result"
    }
   ],
   "source": [
    "main_people_selection = main_people_selection.set_index('article')\n",
    "main_people_selection"
   ]
  },
  {
   "cell_type": "markdown",
   "metadata": {},
   "source": [
    "# Data distribution"
   ]
  },
  {
   "cell_type": "code",
   "execution_count": 76,
   "metadata": {},
   "outputs": [
    {
     "data": {
      "text/html": [
       "<div>\n",
       "<style scoped>\n",
       "    .dataframe tbody tr th:only-of-type {\n",
       "        vertical-align: middle;\n",
       "    }\n",
       "\n",
       "    .dataframe tbody tr th {\n",
       "        vertical-align: top;\n",
       "    }\n",
       "\n",
       "    .dataframe thead th {\n",
       "        text-align: right;\n",
       "    }\n",
       "</style>\n",
       "<table border=\"1\" class=\"dataframe\">\n",
       "  <thead>\n",
       "    <tr style=\"text-align: right;\">\n",
       "      <th></th>\n",
       "      <th>second_category</th>\n",
       "      <th>count</th>\n",
       "      <th>first_category</th>\n",
       "    </tr>\n",
       "  </thead>\n",
       "  <tbody>\n",
       "    <tr>\n",
       "      <th>0</th>\n",
       "      <td>Biology</td>\n",
       "      <td>704</td>\n",
       "      <td>Science</td>\n",
       "    </tr>\n",
       "    <tr>\n",
       "      <th>1</th>\n",
       "      <td>Physics</td>\n",
       "      <td>226</td>\n",
       "      <td>Science</td>\n",
       "    </tr>\n",
       "    <tr>\n",
       "      <th>2</th>\n",
       "      <td>Chemistry</td>\n",
       "      <td>192</td>\n",
       "      <td>Science</td>\n",
       "    </tr>\n",
       "    <tr>\n",
       "      <th>3</th>\n",
       "      <td>British_History</td>\n",
       "      <td>158</td>\n",
       "      <td>History</td>\n",
       "    </tr>\n",
       "    <tr>\n",
       "      <th>4</th>\n",
       "      <td>European_Geography</td>\n",
       "      <td>139</td>\n",
       "      <td>Geography</td>\n",
       "    </tr>\n",
       "  </tbody>\n",
       "</table>\n",
       "</div>"
      ],
      "text/plain": [
       "      second_category  count first_category\n",
       "0             Biology    704        Science\n",
       "1             Physics    226        Science\n",
       "2           Chemistry    192        Science\n",
       "3     British_History    158        History\n",
       "4  European_Geography    139      Geography"
      ]
     },
     "metadata": {},
     "output_type": "display_data"
    },
    {
     "data": {
      "application/vnd.plotly.v1+json": {
       "config": {
        "plotlyServerURL": "https://plot.ly"
       },
       "data": [
        {
         "alignmentgroup": "True",
         "hovertemplate": "second_category=Biology<br>first_category=%{x}<br>count=%{y}<extra></extra>",
         "legendgroup": "Biology",
         "marker": {
          "color": "#636efa",
          "pattern": {
           "shape": ""
          }
         },
         "name": "Biology",
         "offsetgroup": "Biology",
         "orientation": "v",
         "showlegend": true,
         "textposition": "auto",
         "type": "bar",
         "x": [
          "Science"
         ],
         "xaxis": "x",
         "y": [
          704
         ],
         "yaxis": "y"
        },
        {
         "alignmentgroup": "True",
         "hovertemplate": "second_category=Physics<br>first_category=%{x}<br>count=%{y}<extra></extra>",
         "legendgroup": "Physics",
         "marker": {
          "color": "#EF553B",
          "pattern": {
           "shape": ""
          }
         },
         "name": "Physics",
         "offsetgroup": "Physics",
         "orientation": "v",
         "showlegend": true,
         "textposition": "auto",
         "type": "bar",
         "x": [
          "Science"
         ],
         "xaxis": "x",
         "y": [
          226
         ],
         "yaxis": "y"
        },
        {
         "alignmentgroup": "True",
         "hovertemplate": "second_category=Chemistry<br>first_category=%{x}<br>count=%{y}<extra></extra>",
         "legendgroup": "Chemistry",
         "marker": {
          "color": "#00cc96",
          "pattern": {
           "shape": ""
          }
         },
         "name": "Chemistry",
         "offsetgroup": "Chemistry",
         "orientation": "v",
         "showlegend": true,
         "textposition": "auto",
         "type": "bar",
         "x": [
          "Science"
         ],
         "xaxis": "x",
         "y": [
          192
         ],
         "yaxis": "y"
        },
        {
         "alignmentgroup": "True",
         "hovertemplate": "second_category=British_History<br>first_category=%{x}<br>count=%{y}<extra></extra>",
         "legendgroup": "British_History",
         "marker": {
          "color": "#ab63fa",
          "pattern": {
           "shape": ""
          }
         },
         "name": "British_History",
         "offsetgroup": "British_History",
         "orientation": "v",
         "showlegend": true,
         "textposition": "auto",
         "type": "bar",
         "x": [
          "History"
         ],
         "xaxis": "x",
         "y": [
          158
         ],
         "yaxis": "y"
        },
        {
         "alignmentgroup": "True",
         "hovertemplate": "second_category=European_Geography<br>first_category=%{x}<br>count=%{y}<extra></extra>",
         "legendgroup": "European_Geography",
         "marker": {
          "color": "#FFA15A",
          "pattern": {
           "shape": ""
          }
         },
         "name": "European_Geography",
         "offsetgroup": "European_Geography",
         "orientation": "v",
         "showlegend": true,
         "textposition": "auto",
         "type": "bar",
         "x": [
          "Geography"
         ],
         "xaxis": "x",
         "y": [
          139
         ],
         "yaxis": "y"
        },
        {
         "alignmentgroup": "True",
         "hovertemplate": "second_category=African_Geography<br>first_category=%{x}<br>count=%{y}<extra></extra>",
         "legendgroup": "African_Geography",
         "marker": {
          "color": "#19d3f3",
          "pattern": {
           "shape": ""
          }
         },
         "name": "African_Geography",
         "offsetgroup": "African_Geography",
         "orientation": "v",
         "showlegend": true,
         "textposition": "auto",
         "type": "bar",
         "x": [
          "Geography"
         ],
         "xaxis": "x",
         "y": [
          137
         ],
         "yaxis": "y"
        },
        {
         "alignmentgroup": "True",
         "hovertemplate": "second_category=Geography_of_Great_Britain<br>first_category=%{x}<br>count=%{y}<extra></extra>",
         "legendgroup": "Geography_of_Great_Britain",
         "marker": {
          "color": "#FF6692",
          "pattern": {
           "shape": ""
          }
         },
         "name": "Geography_of_Great_Britain",
         "offsetgroup": "Geography_of_Great_Britain",
         "orientation": "v",
         "showlegend": true,
         "textposition": "auto",
         "type": "bar",
         "x": [
          "Geography"
         ],
         "xaxis": "x",
         "y": [
          124
         ],
         "yaxis": "y"
        },
        {
         "alignmentgroup": "True",
         "hovertemplate": "second_category=Historical_figures<br>first_category=%{x}<br>count=%{y}<extra></extra>",
         "legendgroup": "Historical_figures",
         "marker": {
          "color": "#B6E880",
          "pattern": {
           "shape": ""
          }
         },
         "name": "Historical_figures",
         "offsetgroup": "Historical_figures",
         "orientation": "v",
         "showlegend": true,
         "textposition": "auto",
         "type": "bar",
         "x": [
          "People"
         ],
         "xaxis": "x",
         "y": [
          108
         ],
         "yaxis": "y"
        },
        {
         "alignmentgroup": "True",
         "hovertemplate": "second_category=Geography_of_Asia<br>first_category=%{x}<br>count=%{y}<extra></extra>",
         "legendgroup": "Geography_of_Asia",
         "marker": {
          "color": "#FF97FF",
          "pattern": {
           "shape": ""
          }
         },
         "name": "Geography_of_Asia",
         "offsetgroup": "Geography_of_Asia",
         "orientation": "v",
         "showlegend": true,
         "textposition": "auto",
         "type": "bar",
         "x": [
          "Geography"
         ],
         "xaxis": "x",
         "y": [
          106
         ],
         "yaxis": "y"
        },
        {
         "alignmentgroup": "True",
         "hovertemplate": "second_category=North_American_Geography<br>first_category=%{x}<br>count=%{y}<extra></extra>",
         "legendgroup": "North_American_Geography",
         "marker": {
          "color": "#FECB52",
          "pattern": {
           "shape": ""
          }
         },
         "name": "North_American_Geography",
         "offsetgroup": "North_American_Geography",
         "orientation": "v",
         "showlegend": true,
         "textposition": "auto",
         "type": "bar",
         "x": [
          "Geography"
         ],
         "xaxis": "x",
         "y": [
          103
         ],
         "yaxis": "y"
        },
        {
         "alignmentgroup": "True",
         "hovertemplate": "second_category=Politics_and_government<br>first_category=%{x}<br>count=%{y}<extra></extra>",
         "legendgroup": "Politics_and_government",
         "marker": {
          "color": "#636efa",
          "pattern": {
           "shape": ""
          }
         },
         "name": "Politics_and_government",
         "offsetgroup": "Politics_and_government",
         "orientation": "v",
         "showlegend": true,
         "textposition": "auto",
         "type": "bar",
         "x": [
          "Citizenship"
         ],
         "xaxis": "x",
         "y": [
          97
         ],
         "yaxis": "y"
        },
        {
         "alignmentgroup": "True",
         "hovertemplate": "second_category=Food_and_agriculture<br>first_category=%{x}<br>count=%{y}<extra></extra>",
         "legendgroup": "Food_and_agriculture",
         "marker": {
          "color": "#EF553B",
          "pattern": {
           "shape": ""
          }
         },
         "name": "Food_and_agriculture",
         "offsetgroup": "Food_and_agriculture",
         "orientation": "v",
         "showlegend": true,
         "textposition": "auto",
         "type": "bar",
         "x": [
          "Everyday_life"
         ],
         "xaxis": "x",
         "y": [
          97
         ],
         "yaxis": "y"
        },
        {
         "alignmentgroup": "True",
         "hovertemplate": "second_category=Ancient_History_Classical_History_and_Mythology<br>first_category=%{x}<br>count=%{y}<extra></extra>",
         "legendgroup": "Ancient_History_Classical_History_and_Mythology",
         "marker": {
          "color": "#00cc96",
          "pattern": {
           "shape": ""
          }
         },
         "name": "Ancient_History_Classical_History_and_Mythology",
         "offsetgroup": "Ancient_History_Classical_History_and_Mythology",
         "orientation": "v",
         "showlegend": true,
         "textposition": "auto",
         "type": "bar",
         "x": [
          "History"
         ],
         "xaxis": "x",
         "y": [
          87
         ],
         "yaxis": "y"
        },
        {
         "alignmentgroup": "True",
         "hovertemplate": "second_category=Railway_transport<br>first_category=%{x}<br>count=%{y}<extra></extra>",
         "legendgroup": "Railway_transport",
         "marker": {
          "color": "#ab63fa",
          "pattern": {
           "shape": ""
          }
         },
         "name": "Railway_transport",
         "offsetgroup": "Railway_transport",
         "orientation": "v",
         "showlegend": true,
         "textposition": "auto",
         "type": "bar",
         "x": [
          "Design_and_Technology"
         ],
         "xaxis": "x",
         "y": [
          84
         ],
         "yaxis": "y"
        },
        {
         "alignmentgroup": "True",
         "hovertemplate": "second_category=Central_and_South_American_Geography<br>first_category=%{x}<br>count=%{y}<extra></extra>",
         "legendgroup": "Central_and_South_American_Geography",
         "marker": {
          "color": "#FFA15A",
          "pattern": {
           "shape": ""
          }
         },
         "name": "Central_and_South_American_Geography",
         "offsetgroup": "Central_and_South_American_Geography",
         "orientation": "v",
         "showlegend": true,
         "textposition": "auto",
         "type": "bar",
         "x": [
          "Geography"
         ],
         "xaxis": "x",
         "y": [
          83
         ],
         "yaxis": "y"
        },
        {
         "alignmentgroup": "True",
         "hovertemplate": "second_category=General_history<br>first_category=%{x}<br>count=%{y}<extra></extra>",
         "legendgroup": "General_history",
         "marker": {
          "color": "#19d3f3",
          "pattern": {
           "shape": ""
          }
         },
         "name": "General_history",
         "offsetgroup": "General_history",
         "orientation": "v",
         "showlegend": true,
         "textposition": "auto",
         "type": "bar",
         "x": [
          "History"
         ],
         "xaxis": "x",
         "y": [
          80
         ],
         "yaxis": "y"
        },
        {
         "alignmentgroup": "True",
         "hovertemplate": "second_category=Geology_and_geophysics<br>first_category=%{x}<br>count=%{y}<extra></extra>",
         "legendgroup": "Geology_and_geophysics",
         "marker": {
          "color": "#FF6692",
          "pattern": {
           "shape": ""
          }
         },
         "name": "Geology_and_geophysics",
         "offsetgroup": "Geology_and_geophysics",
         "orientation": "v",
         "showlegend": true,
         "textposition": "auto",
         "type": "bar",
         "x": [
          "Geography"
         ],
         "xaxis": "x",
         "y": [
          76
         ],
         "yaxis": "y"
        },
        {
         "alignmentgroup": "True",
         "hovertemplate": "second_category=Engineering<br>first_category=%{x}<br>count=%{y}<extra></extra>",
         "legendgroup": "Engineering",
         "marker": {
          "color": "#B6E880",
          "pattern": {
           "shape": ""
          }
         },
         "name": "Engineering",
         "offsetgroup": "Engineering",
         "orientation": "v",
         "showlegend": true,
         "textposition": "auto",
         "type": "bar",
         "x": [
          "Design_and_Technology"
         ],
         "xaxis": "x",
         "y": [
          74
         ],
         "yaxis": "y"
        },
        {
         "alignmentgroup": "True",
         "hovertemplate": "second_category=Writers_and_critics<br>first_category=%{x}<br>count=%{y}<extra></extra>",
         "legendgroup": "Writers_and_critics",
         "marker": {
          "color": "#FF97FF",
          "pattern": {
           "shape": ""
          }
         },
         "name": "Writers_and_critics",
         "offsetgroup": "Writers_and_critics",
         "orientation": "v",
         "showlegend": true,
         "textposition": "auto",
         "type": "bar",
         "x": [
          "People"
         ],
         "xaxis": "x",
         "y": [
          71
         ],
         "yaxis": "y"
        },
        {
         "alignmentgroup": "True",
         "hovertemplate": "second_category=Military_History_and_War<br>first_category=%{x}<br>count=%{y}<extra></extra>",
         "legendgroup": "Military_History_and_War",
         "marker": {
          "color": "#FECB52",
          "pattern": {
           "shape": ""
          }
         },
         "name": "Military_History_and_War",
         "offsetgroup": "Military_History_and_War",
         "orientation": "v",
         "showlegend": true,
         "textposition": "auto",
         "type": "bar",
         "x": [
          "History"
         ],
         "xaxis": "x",
         "y": [
          71
         ],
         "yaxis": "y"
        },
        {
         "alignmentgroup": "True",
         "hovertemplate": "second_category=Political_People<br>first_category=%{x}<br>count=%{y}<extra></extra>",
         "legendgroup": "Political_People",
         "marker": {
          "color": "#636efa",
          "pattern": {
           "shape": ""
          }
         },
         "name": "Political_People",
         "offsetgroup": "Political_People",
         "orientation": "v",
         "showlegend": true,
         "textposition": "auto",
         "type": "bar",
         "x": [
          "People"
         ],
         "xaxis": "x",
         "y": [
          67
         ],
         "yaxis": "y"
        },
        {
         "alignmentgroup": "True",
         "hovertemplate": "second_category=General_Geography<br>first_category=%{x}<br>count=%{y}<extra></extra>",
         "legendgroup": "General_Geography",
         "marker": {
          "color": "#EF553B",
          "pattern": {
           "shape": ""
          }
         },
         "name": "General_Geography",
         "offsetgroup": "General_Geography",
         "orientation": "v",
         "showlegend": true,
         "textposition": "auto",
         "type": "bar",
         "x": [
          "Geography"
         ],
         "xaxis": "x",
         "y": [
          65
         ],
         "yaxis": "y"
        },
        {
         "alignmentgroup": "True",
         "hovertemplate": "second_category=Performers_and_composers<br>first_category=%{x}<br>count=%{y}<extra></extra>",
         "legendgroup": "Performers_and_composers",
         "marker": {
          "color": "#00cc96",
          "pattern": {
           "shape": ""
          }
         },
         "name": "Performers_and_composers",
         "offsetgroup": "Performers_and_composers",
         "orientation": "v",
         "showlegend": true,
         "textposition": "auto",
         "type": "bar",
         "x": [
          "Music",
          "People"
         ],
         "xaxis": "x",
         "y": [
          59,
          59
         ],
         "yaxis": "y"
        },
        {
         "alignmentgroup": "True",
         "hovertemplate": "second_category=Geography_of_Oceania_Australasia<br>first_category=%{x}<br>count=%{y}<extra></extra>",
         "legendgroup": "Geography_of_Oceania_Australasia",
         "marker": {
          "color": "#ab63fa",
          "pattern": {
           "shape": ""
          }
         },
         "name": "Geography_of_Oceania_Australasia",
         "offsetgroup": "Geography_of_Oceania_Australasia",
         "orientation": "v",
         "showlegend": true,
         "textposition": "auto",
         "type": "bar",
         "x": [
          "Geography"
         ],
         "xaxis": "x",
         "y": [
          58
         ],
         "yaxis": "y"
        },
        {
         "alignmentgroup": "True",
         "hovertemplate": "second_category=Architecture<br>first_category=%{x}<br>count=%{y}<extra></extra>",
         "legendgroup": "Architecture",
         "marker": {
          "color": "#FFA15A",
          "pattern": {
           "shape": ""
          }
         },
         "name": "Architecture",
         "offsetgroup": "Architecture",
         "orientation": "v",
         "showlegend": true,
         "textposition": "auto",
         "type": "bar",
         "x": [
          "Design_and_Technology"
         ],
         "xaxis": "x",
         "y": [
          53
         ],
         "yaxis": "y"
        },
        {
         "alignmentgroup": "True",
         "hovertemplate": "second_category=Recent_History<br>first_category=%{x}<br>count=%{y}<extra></extra>",
         "legendgroup": "Recent_History",
         "marker": {
          "color": "#19d3f3",
          "pattern": {
           "shape": ""
          }
         },
         "name": "Recent_History",
         "offsetgroup": "Recent_History",
         "orientation": "v",
         "showlegend": true,
         "textposition": "auto",
         "type": "bar",
         "x": [
          "History"
         ],
         "xaxis": "x",
         "y": [
          48
         ],
         "yaxis": "y"
        },
        {
         "alignmentgroup": "True",
         "hovertemplate": "second_category=Languages<br>first_category=%{x}<br>count=%{y}<extra></extra>",
         "legendgroup": "Languages",
         "marker": {
          "color": "#FF6692",
          "pattern": {
           "shape": ""
          }
         },
         "name": "Languages",
         "offsetgroup": "Languages",
         "orientation": "v",
         "showlegend": true,
         "textposition": "auto",
         "type": "bar",
         "x": [
          "Language_and_literature"
         ],
         "xaxis": "x",
         "y": [
          47
         ],
         "yaxis": "y"
        },
        {
         "alignmentgroup": "True",
         "hovertemplate": "second_category=Musical_genres_styles_eras_and_events<br>first_category=%{x}<br>count=%{y}<extra></extra>",
         "legendgroup": "Musical_genres_styles_eras_and_events",
         "marker": {
          "color": "#B6E880",
          "pattern": {
           "shape": ""
          }
         },
         "name": "Musical_genres_styles_eras_and_events",
         "offsetgroup": "Musical_genres_styles_eras_and_events",
         "orientation": "v",
         "showlegend": true,
         "textposition": "auto",
         "type": "bar",
         "x": [
          "Music"
         ],
         "xaxis": "x",
         "y": [
          46
         ],
         "yaxis": "y"
        },
        {
         "alignmentgroup": "True",
         "hovertemplate": "second_category=Sports_and_games_people<br>first_category=%{x}<br>count=%{y}<extra></extra>",
         "legendgroup": "Sports_and_games_people",
         "marker": {
          "color": "#FF97FF",
          "pattern": {
           "shape": ""
          }
         },
         "name": "Sports_and_games_people",
         "offsetgroup": "Sports_and_games_people",
         "orientation": "v",
         "showlegend": true,
         "textposition": "auto",
         "type": "bar",
         "x": [
          "People"
         ],
         "xaxis": "x",
         "y": [
          45
         ],
         "yaxis": "y"
        },
        {
         "alignmentgroup": "True",
         "hovertemplate": "second_category=Monarchs_of_Great_Britain<br>first_category=%{x}<br>count=%{y}<extra></extra>",
         "legendgroup": "Monarchs_of_Great_Britain",
         "marker": {
          "color": "#FECB52",
          "pattern": {
           "shape": ""
          }
         },
         "name": "Monarchs_of_Great_Britain",
         "offsetgroup": "Monarchs_of_Great_Britain",
         "orientation": "v",
         "showlegend": true,
         "textposition": "auto",
         "type": "bar",
         "x": [
          "People"
         ],
         "xaxis": "x",
         "y": [
          43
         ],
         "yaxis": "y"
        },
        {
         "alignmentgroup": "True",
         "hovertemplate": "second_category=Television<br>first_category=%{x}<br>count=%{y}<extra></extra>",
         "legendgroup": "Television",
         "marker": {
          "color": "#636efa",
          "pattern": {
           "shape": ""
          }
         },
         "name": "Television",
         "offsetgroup": "Television",
         "orientation": "v",
         "showlegend": true,
         "textposition": "auto",
         "type": "bar",
         "x": [
          "Everyday_life"
         ],
         "xaxis": "x",
         "y": [
          41
         ],
         "yaxis": "y"
        },
        {
         "alignmentgroup": "True",
         "hovertemplate": "second_category=Natural_Disasters<br>first_category=%{x}<br>count=%{y}<extra></extra>",
         "legendgroup": "Natural_Disasters",
         "marker": {
          "color": "#EF553B",
          "pattern": {
           "shape": ""
          }
         },
         "name": "Natural_Disasters",
         "offsetgroup": "Natural_Disasters",
         "orientation": "v",
         "showlegend": true,
         "textposition": "auto",
         "type": "bar",
         "x": [
          "Geography"
         ],
         "xaxis": "x",
         "y": [
          39
         ],
         "yaxis": "y"
        },
        {
         "alignmentgroup": "True",
         "hovertemplate": "second_category=Religious_figures_and_leaders<br>first_category=%{x}<br>count=%{y}<extra></extra>",
         "legendgroup": "Religious_figures_and_leaders",
         "marker": {
          "color": "#00cc96",
          "pattern": {
           "shape": ""
          }
         },
         "name": "Religious_figures_and_leaders",
         "offsetgroup": "Religious_figures_and_leaders",
         "orientation": "v",
         "showlegend": true,
         "textposition": "auto",
         "type": "bar",
         "x": [
          "People"
         ],
         "xaxis": "x",
         "y": [
          39
         ],
         "yaxis": "y"
        },
        {
         "alignmentgroup": "True",
         "hovertemplate": "second_category=Novels<br>first_category=%{x}<br>count=%{y}<extra></extra>",
         "legendgroup": "Novels",
         "marker": {
          "color": "#ab63fa",
          "pattern": {
           "shape": ""
          }
         },
         "name": "Novels",
         "offsetgroup": "Novels",
         "orientation": "v",
         "showlegend": true,
         "textposition": "auto",
         "type": "bar",
         "x": [
          "Language_and_literature"
         ],
         "xaxis": "x",
         "y": [
          39
         ],
         "yaxis": "y"
        },
        {
         "alignmentgroup": "True",
         "hovertemplate": "second_category=Climate_and_the_Weather<br>first_category=%{x}<br>count=%{y}<extra></extra>",
         "legendgroup": "Climate_and_the_Weather",
         "marker": {
          "color": "#FFA15A",
          "pattern": {
           "shape": ""
          }
         },
         "name": "Climate_and_the_Weather",
         "offsetgroup": "Climate_and_the_Weather",
         "orientation": "v",
         "showlegend": true,
         "textposition": "auto",
         "type": "bar",
         "x": [
          "Geography"
         ],
         "xaxis": "x",
         "y": [
          38
         ],
         "yaxis": "y"
        },
        {
         "alignmentgroup": "True",
         "hovertemplate": "second_category=Artists<br>first_category=%{x}<br>count=%{y}<extra></extra>",
         "legendgroup": "Artists",
         "marker": {
          "color": "#19d3f3",
          "pattern": {
           "shape": ""
          }
         },
         "name": "Artists",
         "offsetgroup": "Artists",
         "orientation": "v",
         "showlegend": true,
         "textposition": "auto",
         "type": "bar",
         "x": [
          "People",
          "Art"
         ],
         "xaxis": "x",
         "y": [
          38,
          38
         ],
         "yaxis": "y"
        },
        {
         "alignmentgroup": "True",
         "hovertemplate": "second_category=USA_Presidents<br>first_category=%{x}<br>count=%{y}<extra></extra>",
         "legendgroup": "USA_Presidents",
         "marker": {
          "color": "#FF6692",
          "pattern": {
           "shape": ""
          }
         },
         "name": "USA_Presidents",
         "offsetgroup": "USA_Presidents",
         "orientation": "v",
         "showlegend": true,
         "textposition": "auto",
         "type": "bar",
         "x": [
          "People"
         ],
         "xaxis": "x",
         "y": [
          37
         ],
         "yaxis": "y"
        },
        {
         "alignmentgroup": "True",
         "hovertemplate": "second_category=Films<br>first_category=%{x}<br>count=%{y}<extra></extra>",
         "legendgroup": "Films",
         "marker": {
          "color": "#B6E880",
          "pattern": {
           "shape": ""
          }
         },
         "name": "Films",
         "offsetgroup": "Films",
         "orientation": "v",
         "showlegend": true,
         "textposition": "auto",
         "type": "bar",
         "x": [
          "Everyday_life"
         ],
         "xaxis": "x",
         "y": [
          36
         ],
         "yaxis": "y"
        },
        {
         "alignmentgroup": "True",
         "hovertemplate": "second_category=Art<br>first_category=%{x}<br>count=%{y}<extra></extra>",
         "legendgroup": "Art",
         "marker": {
          "color": "#FF97FF",
          "pattern": {
           "shape": ""
          }
         },
         "name": "Art",
         "offsetgroup": "Art",
         "orientation": "v",
         "showlegend": true,
         "textposition": "auto",
         "type": "bar",
         "x": [
          "Art"
         ],
         "xaxis": "x",
         "y": [
          36
         ],
         "yaxis": "y"
        },
        {
         "alignmentgroup": "True",
         "hovertemplate": "second_category=Geography_of_the_Middle_East<br>first_category=%{x}<br>count=%{y}<extra></extra>",
         "legendgroup": "Geography_of_the_Middle_East",
         "marker": {
          "color": "#FECB52",
          "pattern": {
           "shape": ""
          }
         },
         "name": "Geography_of_the_Middle_East",
         "offsetgroup": "Geography_of_the_Middle_East",
         "orientation": "v",
         "showlegend": true,
         "textposition": "auto",
         "type": "bar",
         "x": [
          "Geography"
         ],
         "xaxis": "x",
         "y": [
          36
         ],
         "yaxis": "y"
        },
        {
         "alignmentgroup": "True",
         "hovertemplate": "second_category=Religious_movements_traditions_and_organizations<br>first_category=%{x}<br>count=%{y}<extra></extra>",
         "legendgroup": "Religious_movements_traditions_and_organizations",
         "marker": {
          "color": "#636efa",
          "pattern": {
           "shape": ""
          }
         },
         "name": "Religious_movements_traditions_and_organizations",
         "offsetgroup": "Religious_movements_traditions_and_organizations",
         "orientation": "v",
         "showlegend": true,
         "textposition": "auto",
         "type": "bar",
         "x": [
          "Religion"
         ],
         "xaxis": "x",
         "y": [
          35
         ],
         "yaxis": "y"
        },
        {
         "alignmentgroup": "True",
         "hovertemplate": "second_category=Storms<br>first_category=%{x}<br>count=%{y}<extra></extra>",
         "legendgroup": "Storms",
         "marker": {
          "color": "#EF553B",
          "pattern": {
           "shape": ""
          }
         },
         "name": "Storms",
         "offsetgroup": "Storms",
         "orientation": "v",
         "showlegend": true,
         "textposition": "auto",
         "type": "bar",
         "x": [
          "Geography"
         ],
         "xaxis": "x",
         "y": [
          33
         ],
         "yaxis": "y"
        },
        {
         "alignmentgroup": "True",
         "hovertemplate": "second_category=Theatre<br>first_category=%{x}<br>count=%{y}<extra></extra>",
         "legendgroup": "Theatre",
         "marker": {
          "color": "#00cc96",
          "pattern": {
           "shape": ""
          }
         },
         "name": "Theatre",
         "offsetgroup": "Theatre",
         "orientation": "v",
         "showlegend": true,
         "textposition": "auto",
         "type": "bar",
         "x": [
          "Language_and_literature"
         ],
         "xaxis": "x",
         "y": [
          32
         ],
         "yaxis": "y"
        },
        {
         "alignmentgroup": "True",
         "hovertemplate": "second_category=Sports<br>first_category=%{x}<br>count=%{y}<extra></extra>",
         "legendgroup": "Sports",
         "marker": {
          "color": "#ab63fa",
          "pattern": {
           "shape": ""
          }
         },
         "name": "Sports",
         "offsetgroup": "Sports",
         "orientation": "v",
         "showlegend": true,
         "textposition": "auto",
         "type": "bar",
         "x": [
          "Everyday_life"
         ],
         "xaxis": "x",
         "y": [
          32
         ],
         "yaxis": "y"
        },
        {
         "alignmentgroup": "True",
         "hovertemplate": "second_category=World_War_II<br>first_category=%{x}<br>count=%{y}<extra></extra>",
         "legendgroup": "World_War_II",
         "marker": {
          "color": "#FFA15A",
          "pattern": {
           "shape": ""
          }
         },
         "name": "World_War_II",
         "offsetgroup": "World_War_II",
         "orientation": "v",
         "showlegend": true,
         "textposition": "auto",
         "type": "bar",
         "x": [
          "History"
         ],
         "xaxis": "x",
         "y": [
          31
         ],
         "yaxis": "y"
        },
        {
         "alignmentgroup": "True",
         "hovertemplate": "second_category=Poetry_and_Opera<br>first_category=%{x}<br>count=%{y}<extra></extra>",
         "legendgroup": "Poetry_and_Opera",
         "marker": {
          "color": "#19d3f3",
          "pattern": {
           "shape": ""
          }
         },
         "name": "Poetry_and_Opera",
         "offsetgroup": "Poetry_and_Opera",
         "orientation": "v",
         "showlegend": true,
         "textposition": "auto",
         "type": "bar",
         "x": [
          "Language_and_literature"
         ],
         "xaxis": "x",
         "y": [
          30
         ],
         "yaxis": "y"
        },
        {
         "alignmentgroup": "True",
         "hovertemplate": "second_category=Economics<br>first_category=%{x}<br>count=%{y}<extra></extra>",
         "legendgroup": "Economics",
         "marker": {
          "color": "#FF6692",
          "pattern": {
           "shape": ""
          }
         },
         "name": "Economics",
         "offsetgroup": "Economics",
         "orientation": "v",
         "showlegend": true,
         "textposition": "auto",
         "type": "bar",
         "x": [
          "Business_Studies"
         ],
         "xaxis": "x",
         "y": [
          28
         ],
         "yaxis": "y"
        },
        {
         "alignmentgroup": "True",
         "hovertemplate": "second_category=Business<br>first_category=%{x}<br>count=%{y}<extra></extra>",
         "legendgroup": "Business",
         "marker": {
          "color": "#B6E880",
          "pattern": {
           "shape": ""
          }
         },
         "name": "Business",
         "offsetgroup": "Business",
         "orientation": "v",
         "showlegend": true,
         "textposition": "auto",
         "type": "bar",
         "x": [
          "Business_Studies"
         ],
         "xaxis": "x",
         "y": [
          28
         ],
         "yaxis": "y"
        },
        {
         "alignmentgroup": "True",
         "hovertemplate": "second_category=Pre_1900_Military<br>first_category=%{x}<br>count=%{y}<extra></extra>",
         "legendgroup": "Pre_1900_Military",
         "marker": {
          "color": "#FF97FF",
          "pattern": {
           "shape": ""
          }
         },
         "name": "Pre_1900_Military",
         "offsetgroup": "Pre_1900_Military",
         "orientation": "v",
         "showlegend": true,
         "textposition": "auto",
         "type": "bar",
         "x": [
          "History"
         ],
         "xaxis": "x",
         "y": [
          27
         ],
         "yaxis": "y"
        },
        {
         "alignmentgroup": "True",
         "hovertemplate": "second_category=Everyday_life<br>first_category=%{x}<br>count=%{y}<extra></extra>",
         "legendgroup": "Everyday_life",
         "marker": {
          "color": "#FECB52",
          "pattern": {
           "shape": ""
          }
         },
         "name": "Everyday_life",
         "offsetgroup": "Everyday_life",
         "orientation": "v",
         "showlegend": true,
         "textposition": "auto",
         "type": "bar",
         "x": [
          "Everyday_life"
         ],
         "xaxis": "x",
         "y": [
          27
         ],
         "yaxis": "y"
        },
        {
         "alignmentgroup": "True",
         "hovertemplate": "second_category=Computer_and_Video_games<br>first_category=%{x}<br>count=%{y}<extra></extra>",
         "legendgroup": "Computer_and_Video_games",
         "marker": {
          "color": "#636efa",
          "pattern": {
           "shape": ""
          }
         },
         "name": "Computer_and_Video_games",
         "offsetgroup": "Computer_and_Video_games",
         "orientation": "v",
         "showlegend": true,
         "textposition": "auto",
         "type": "bar",
         "x": [
          "Everyday_life"
         ],
         "xaxis": "x",
         "y": [
          26
         ],
         "yaxis": "y"
        },
        {
         "alignmentgroup": "True",
         "hovertemplate": "second_category=Environment<br>first_category=%{x}<br>count=%{y}<extra></extra>",
         "legendgroup": "Environment",
         "marker": {
          "color": "#EF553B",
          "pattern": {
           "shape": ""
          }
         },
         "name": "Environment",
         "offsetgroup": "Environment",
         "orientation": "v",
         "showlegend": true,
         "textposition": "auto",
         "type": "bar",
         "x": [
          "Citizenship"
         ],
         "xaxis": "x",
         "y": [
          26
         ],
         "yaxis": "y"
        },
        {
         "alignmentgroup": "True",
         "hovertemplate": "second_category=Engineers_and_inventors<br>first_category=%{x}<br>count=%{y}<extra></extra>",
         "legendgroup": "Engineers_and_inventors",
         "marker": {
          "color": "#00cc96",
          "pattern": {
           "shape": ""
          }
         },
         "name": "Engineers_and_inventors",
         "offsetgroup": "Engineers_and_inventors",
         "orientation": "v",
         "showlegend": true,
         "textposition": "auto",
         "type": "bar",
         "x": [
          "People"
         ],
         "xaxis": "x",
         "y": [
          25
         ],
         "yaxis": "y"
        },
        {
         "alignmentgroup": "True",
         "hovertemplate": "second_category=Actors_models_and_celebrities<br>first_category=%{x}<br>count=%{y}<extra></extra>",
         "legendgroup": "Actors_models_and_celebrities",
         "marker": {
          "color": "#ab63fa",
          "pattern": {
           "shape": ""
          }
         },
         "name": "Actors_models_and_celebrities",
         "offsetgroup": "Actors_models_and_celebrities",
         "orientation": "v",
         "showlegend": true,
         "textposition": "auto",
         "type": "bar",
         "x": [
          "People"
         ],
         "xaxis": "x",
         "y": [
          25
         ],
         "yaxis": "y"
        },
        {
         "alignmentgroup": "True",
         "hovertemplate": "second_category=Air_and_Sea_transport<br>first_category=%{x}<br>count=%{y}<extra></extra>",
         "legendgroup": "Air_and_Sea_transport",
         "marker": {
          "color": "#FFA15A",
          "pattern": {
           "shape": ""
          }
         },
         "name": "Air_and_Sea_transport",
         "offsetgroup": "Air_and_Sea_transport",
         "orientation": "v",
         "showlegend": true,
         "textposition": "auto",
         "type": "bar",
         "x": [
          "Design_and_Technology"
         ],
         "xaxis": "x",
         "y": [
          24
         ],
         "yaxis": "y"
        },
        {
         "alignmentgroup": "True",
         "hovertemplate": "second_category=Philosophy<br>first_category=%{x}<br>count=%{y}<extra></extra>",
         "legendgroup": "Philosophy",
         "marker": {
          "color": "#19d3f3",
          "pattern": {
           "shape": ""
          }
         },
         "name": "Philosophy",
         "offsetgroup": "Philosophy",
         "orientation": "v",
         "showlegend": true,
         "textposition": "auto",
         "type": "bar",
         "x": [
          "Religion"
         ],
         "xaxis": "x",
         "y": [
          24
         ],
         "yaxis": "y"
        },
        {
         "alignmentgroup": "True",
         "hovertemplate": "second_category=Software<br>first_category=%{x}<br>count=%{y}<extra></extra>",
         "legendgroup": "Software",
         "marker": {
          "color": "#FF6692",
          "pattern": {
           "shape": ""
          }
         },
         "name": "Software",
         "offsetgroup": "Software",
         "orientation": "v",
         "showlegend": true,
         "textposition": "auto",
         "type": "bar",
         "x": [
          "IT"
         ],
         "xaxis": "x",
         "y": [
          23
         ],
         "yaxis": "y"
        },
        {
         "alignmentgroup": "True",
         "hovertemplate": "second_category=Human_Scientists<br>first_category=%{x}<br>count=%{y}<extra></extra>",
         "legendgroup": "Human_Scientists",
         "marker": {
          "color": "#B6E880",
          "pattern": {
           "shape": ""
          }
         },
         "name": "Human_Scientists",
         "offsetgroup": "Human_Scientists",
         "orientation": "v",
         "showlegend": true,
         "textposition": "auto",
         "type": "bar",
         "x": [
          "People"
         ],
         "xaxis": "x",
         "y": [
          23
         ],
         "yaxis": "y"
        },
        {
         "alignmentgroup": "True",
         "hovertemplate": "second_category=Philosophers<br>first_category=%{x}<br>count=%{y}<extra></extra>",
         "legendgroup": "Philosophers",
         "marker": {
          "color": "#FF97FF",
          "pattern": {
           "shape": ""
          }
         },
         "name": "Philosophers",
         "offsetgroup": "Philosophers",
         "orientation": "v",
         "showlegend": true,
         "textposition": "auto",
         "type": "bar",
         "x": [
          "People"
         ],
         "xaxis": "x",
         "y": [
          23
         ],
         "yaxis": "y"
        },
        {
         "alignmentgroup": "True",
         "hovertemplate": "second_category=North_American_History<br>first_category=%{x}<br>count=%{y}<extra></extra>",
         "legendgroup": "North_American_History",
         "marker": {
          "color": "#FECB52",
          "pattern": {
           "shape": ""
          }
         },
         "name": "North_American_History",
         "offsetgroup": "North_American_History",
         "orientation": "v",
         "showlegend": true,
         "textposition": "auto",
         "type": "bar",
         "x": [
          "History"
         ],
         "xaxis": "x",
         "y": [
          22
         ],
         "yaxis": "y"
        },
        {
         "alignmentgroup": "True",
         "hovertemplate": "second_category=Sports_events<br>first_category=%{x}<br>count=%{y}<extra></extra>",
         "legendgroup": "Sports_events",
         "marker": {
          "color": "#636efa",
          "pattern": {
           "shape": ""
          }
         },
         "name": "Sports_events",
         "offsetgroup": "Sports_events",
         "orientation": "v",
         "showlegend": true,
         "textposition": "auto",
         "type": "bar",
         "x": [
          "Everyday_life"
         ],
         "xaxis": "x",
         "y": [
          22
         ],
         "yaxis": "y"
        },
        {
         "alignmentgroup": "True",
         "hovertemplate": "second_category=Military_People<br>first_category=%{x}<br>count=%{y}<extra></extra>",
         "legendgroup": "Military_People",
         "marker": {
          "color": "#EF553B",
          "pattern": {
           "shape": ""
          }
         },
         "name": "Military_People",
         "offsetgroup": "Military_People",
         "orientation": "v",
         "showlegend": true,
         "textposition": "auto",
         "type": "bar",
         "x": [
          "People"
         ],
         "xaxis": "x",
         "y": [
          22
         ],
         "yaxis": "y"
        },
        {
         "alignmentgroup": "True",
         "hovertemplate": "second_category=Peoples<br>first_category=%{x}<br>count=%{y}<extra></extra>",
         "legendgroup": "Peoples",
         "marker": {
          "color": "#00cc96",
          "pattern": {
           "shape": ""
          }
         },
         "name": "Peoples",
         "offsetgroup": "Peoples",
         "orientation": "v",
         "showlegend": true,
         "textposition": "auto",
         "type": "bar",
         "x": [
          "Geography"
         ],
         "xaxis": "x",
         "y": [
          22
         ],
         "yaxis": "y"
        },
        {
         "alignmentgroup": "True",
         "hovertemplate": "second_category=Recreation<br>first_category=%{x}<br>count=%{y}<extra></extra>",
         "legendgroup": "Recreation",
         "marker": {
          "color": "#ab63fa",
          "pattern": {
           "shape": ""
          }
         },
         "name": "Recreation",
         "offsetgroup": "Recreation",
         "orientation": "v",
         "showlegend": true,
         "textposition": "auto",
         "type": "bar",
         "x": [
          "Everyday_life"
         ],
         "xaxis": "x",
         "y": [
          21
         ],
         "yaxis": "y"
        },
        {
         "alignmentgroup": "True",
         "hovertemplate": "second_category=Geographers_and_explorers<br>first_category=%{x}<br>count=%{y}<extra></extra>",
         "legendgroup": "Geographers_and_explorers",
         "marker": {
          "color": "#FFA15A",
          "pattern": {
           "shape": ""
          }
         },
         "name": "Geographers_and_explorers",
         "offsetgroup": "Geographers_and_explorers",
         "orientation": "v",
         "showlegend": true,
         "textposition": "auto",
         "type": "bar",
         "x": [
          "People"
         ],
         "xaxis": "x",
         "y": [
          21
         ],
         "yaxis": "y"
        },
        {
         "alignmentgroup": "True",
         "hovertemplate": "second_category=Websites_and_the_Internet<br>first_category=%{x}<br>count=%{y}<extra></extra>",
         "legendgroup": "Websites_and_the_Internet",
         "marker": {
          "color": "#19d3f3",
          "pattern": {
           "shape": ""
          }
         },
         "name": "Websites_and_the_Internet",
         "offsetgroup": "Websites_and_the_Internet",
         "orientation": "v",
         "showlegend": true,
         "textposition": "auto",
         "type": "bar",
         "x": [
          "IT"
         ],
         "xaxis": "x",
         "y": [
          21
         ],
         "yaxis": "y"
        },
        {
         "alignmentgroup": "True",
         "hovertemplate": "second_category=Astronomers_and_physicists<br>first_category=%{x}<br>count=%{y}<extra></extra>",
         "legendgroup": "Astronomers_and_physicists",
         "marker": {
          "color": "#FF6692",
          "pattern": {
           "shape": ""
          }
         },
         "name": "Astronomers_and_physicists",
         "offsetgroup": "Astronomers_and_physicists",
         "orientation": "v",
         "showlegend": true,
         "textposition": "auto",
         "type": "bar",
         "x": [
          "People"
         ],
         "xaxis": "x",
         "y": [
          21
         ],
         "yaxis": "y"
        },
        {
         "alignmentgroup": "True",
         "hovertemplate": "second_category=Games<br>first_category=%{x}<br>count=%{y}<extra></extra>",
         "legendgroup": "Games",
         "marker": {
          "color": "#B6E880",
          "pattern": {
           "shape": ""
          }
         },
         "name": "Games",
         "offsetgroup": "Games",
         "orientation": "v",
         "showlegend": true,
         "textposition": "auto",
         "type": "bar",
         "x": [
          "Everyday_life"
         ],
         "xaxis": "x",
         "y": [
          21
         ],
         "yaxis": "y"
        },
        {
         "alignmentgroup": "True",
         "hovertemplate": "second_category=Divinities<br>first_category=%{x}<br>count=%{y}<extra></extra>",
         "legendgroup": "Divinities",
         "marker": {
          "color": "#FF97FF",
          "pattern": {
           "shape": ""
          }
         },
         "name": "Divinities",
         "offsetgroup": "Divinities",
         "orientation": "v",
         "showlegend": true,
         "textposition": "auto",
         "type": "bar",
         "x": [
          "Religion"
         ],
         "xaxis": "x",
         "y": [
          21
         ],
         "yaxis": "y"
        },
        {
         "alignmentgroup": "True",
         "hovertemplate": "second_category=Computing_hardware_and_infrastructure<br>first_category=%{x}<br>count=%{y}<extra></extra>",
         "legendgroup": "Computing_hardware_and_infrastructure",
         "marker": {
          "color": "#FECB52",
          "pattern": {
           "shape": ""
          }
         },
         "name": "Computing_hardware_and_infrastructure",
         "offsetgroup": "Computing_hardware_and_infrastructure",
         "orientation": "v",
         "showlegend": true,
         "textposition": "auto",
         "type": "bar",
         "x": [
          "IT"
         ],
         "xaxis": "x",
         "y": [
          20
         ],
         "yaxis": "y"
        },
        {
         "alignmentgroup": "True",
         "hovertemplate": "second_category=Cartoons<br>first_category=%{x}<br>count=%{y}<extra></extra>",
         "legendgroup": "Cartoons",
         "marker": {
          "color": "#636efa",
          "pattern": {
           "shape": ""
          }
         },
         "name": "Cartoons",
         "offsetgroup": "Cartoons",
         "orientation": "v",
         "showlegend": true,
         "textposition": "auto",
         "type": "bar",
         "x": [
          "Everyday_life"
         ],
         "xaxis": "x",
         "y": [
          20
         ],
         "yaxis": "y"
        },
        {
         "alignmentgroup": "True",
         "hovertemplate": "second_category=Law<br>first_category=%{x}<br>count=%{y}<extra></extra>",
         "legendgroup": "Law",
         "marker": {
          "color": "#EF553B",
          "pattern": {
           "shape": ""
          }
         },
         "name": "Law",
         "offsetgroup": "Law",
         "orientation": "v",
         "showlegend": true,
         "textposition": "auto",
         "type": "bar",
         "x": [
          "Citizenship"
         ],
         "xaxis": "x",
         "y": [
          19
         ],
         "yaxis": "y"
        },
        {
         "alignmentgroup": "True",
         "hovertemplate": "second_category=Road_transport<br>first_category=%{x}<br>count=%{y}<extra></extra>",
         "legendgroup": "Road_transport",
         "marker": {
          "color": "#00cc96",
          "pattern": {
           "shape": ""
          }
         },
         "name": "Road_transport",
         "offsetgroup": "Road_transport",
         "orientation": "v",
         "showlegend": true,
         "textposition": "auto",
         "type": "bar",
         "x": [
          "Design_and_Technology"
         ],
         "xaxis": "x",
         "y": [
          19
         ],
         "yaxis": "y"
        },
        {
         "alignmentgroup": "True",
         "hovertemplate": "second_category=Religious_disputes<br>first_category=%{x}<br>count=%{y}<extra></extra>",
         "legendgroup": "Religious_disputes",
         "marker": {
          "color": "#ab63fa",
          "pattern": {
           "shape": ""
          }
         },
         "name": "Religious_disputes",
         "offsetgroup": "Religious_disputes",
         "orientation": "v",
         "showlegend": true,
         "textposition": "auto",
         "type": "bar",
         "x": [
          "Religion"
         ],
         "xaxis": "x",
         "y": [
          19
         ],
         "yaxis": "y"
        },
        {
         "alignmentgroup": "True",
         "hovertemplate": "second_category=Religious_texts<br>first_category=%{x}<br>count=%{y}<extra></extra>",
         "legendgroup": "Religious_texts",
         "marker": {
          "color": "#FFA15A",
          "pattern": {
           "shape": ""
          }
         },
         "name": "Religious_texts",
         "offsetgroup": "Religious_texts",
         "orientation": "v",
         "showlegend": true,
         "textposition": "auto",
         "type": "bar",
         "x": [
          "Religion"
         ],
         "xaxis": "x",
         "y": [
          18
         ],
         "yaxis": "y"
        },
        {
         "alignmentgroup": "True",
         "hovertemplate": "second_category=Musical_Recordings_and_compositions<br>first_category=%{x}<br>count=%{y}<extra></extra>",
         "legendgroup": "Musical_Recordings_and_compositions",
         "marker": {
          "color": "#19d3f3",
          "pattern": {
           "shape": ""
          }
         },
         "name": "Musical_Recordings_and_compositions",
         "offsetgroup": "Musical_Recordings_and_compositions",
         "orientation": "v",
         "showlegend": true,
         "textposition": "auto",
         "type": "bar",
         "x": [
          "Music"
         ],
         "xaxis": "x",
         "y": [
          18
         ],
         "yaxis": "y"
        },
        {
         "alignmentgroup": "True",
         "hovertemplate": "second_category=Companies<br>first_category=%{x}<br>count=%{y}<extra></extra>",
         "legendgroup": "Companies",
         "marker": {
          "color": "#FF6692",
          "pattern": {
           "shape": ""
          }
         },
         "name": "Companies",
         "offsetgroup": "Companies",
         "orientation": "v",
         "showlegend": true,
         "textposition": "auto",
         "type": "bar",
         "x": [
          "Business_Studies"
         ],
         "xaxis": "x",
         "y": [
          18
         ],
         "yaxis": "y"
        },
        {
         "alignmentgroup": "True",
         "hovertemplate": "second_category=Myths<br>first_category=%{x}<br>count=%{y}<extra></extra>",
         "legendgroup": "Myths",
         "marker": {
          "color": "#B6E880",
          "pattern": {
           "shape": ""
          }
         },
         "name": "Myths",
         "offsetgroup": "Myths",
         "orientation": "v",
         "showlegend": true,
         "textposition": "auto",
         "type": "bar",
         "x": [
          "Religion"
         ],
         "xaxis": "x",
         "y": [
          17
         ],
         "yaxis": "y"
        },
        {
         "alignmentgroup": "True",
         "hovertemplate": "second_category=Musical_Instruments<br>first_category=%{x}<br>count=%{y}<extra></extra>",
         "legendgroup": "Musical_Instruments",
         "marker": {
          "color": "#FF97FF",
          "pattern": {
           "shape": ""
          }
         },
         "name": "Musical_Instruments",
         "offsetgroup": "Musical_Instruments",
         "orientation": "v",
         "showlegend": true,
         "textposition": "auto",
         "type": "bar",
         "x": [
          "Music"
         ],
         "xaxis": "x",
         "y": [
          17
         ],
         "yaxis": "y"
        },
        {
         "alignmentgroup": "True",
         "hovertemplate": "second_category=Education<br>first_category=%{x}<br>count=%{y}<extra></extra>",
         "legendgroup": "Education",
         "marker": {
          "color": "#FECB52",
          "pattern": {
           "shape": ""
          }
         },
         "name": "Education",
         "offsetgroup": "Education",
         "orientation": "v",
         "showlegend": true,
         "textposition": "auto",
         "type": "bar",
         "x": [
          "Citizenship"
         ],
         "xaxis": "x",
         "y": [
          17
         ],
         "yaxis": "y"
        },
        {
         "alignmentgroup": "True",
         "hovertemplate": "second_category=Animal_and_Human_Rights<br>first_category=%{x}<br>count=%{y}<extra></extra>",
         "legendgroup": "Animal_and_Human_Rights",
         "marker": {
          "color": "#636efa",
          "pattern": {
           "shape": ""
          }
         },
         "name": "Animal_and_Human_Rights",
         "offsetgroup": "Animal_and_Human_Rights",
         "orientation": "v",
         "showlegend": true,
         "textposition": "auto",
         "type": "bar",
         "x": [
          "Citizenship"
         ],
         "xaxis": "x",
         "y": [
          17
         ],
         "yaxis": "y"
        },
        {
         "alignmentgroup": "True",
         "hovertemplate": "second_category=Literature_types<br>first_category=%{x}<br>count=%{y}<extra></extra>",
         "legendgroup": "Literature_types",
         "marker": {
          "color": "#EF553B",
          "pattern": {
           "shape": ""
          }
         },
         "name": "Literature_types",
         "offsetgroup": "Literature_types",
         "orientation": "v",
         "showlegend": true,
         "textposition": "auto",
         "type": "bar",
         "x": [
          "Language_and_literature"
         ],
         "xaxis": "x",
         "y": [
          17
         ],
         "yaxis": "y"
        },
        {
         "alignmentgroup": "True",
         "hovertemplate": "second_category=Mineralogy<br>first_category=%{x}<br>count=%{y}<extra></extra>",
         "legendgroup": "Mineralogy",
         "marker": {
          "color": "#00cc96",
          "pattern": {
           "shape": ""
          }
         },
         "name": "Mineralogy",
         "offsetgroup": "Mineralogy",
         "orientation": "v",
         "showlegend": true,
         "textposition": "auto",
         "type": "bar",
         "x": [
          "Geography"
         ],
         "xaxis": "x",
         "y": [
          17
         ],
         "yaxis": "y"
        },
        {
         "alignmentgroup": "True",
         "hovertemplate": "second_category=General_Literature<br>first_category=%{x}<br>count=%{y}<extra></extra>",
         "legendgroup": "General_Literature",
         "marker": {
          "color": "#ab63fa",
          "pattern": {
           "shape": ""
          }
         },
         "name": "General_Literature",
         "offsetgroup": "General_Literature",
         "orientation": "v",
         "showlegend": true,
         "textposition": "auto",
         "type": "bar",
         "x": [
          "Language_and_literature"
         ],
         "xaxis": "x",
         "y": [
          16
         ],
         "yaxis": "y"
        },
        {
         "alignmentgroup": "True",
         "hovertemplate": "second_category=Sports_teams<br>first_category=%{x}<br>count=%{y}<extra></extra>",
         "legendgroup": "Sports_teams",
         "marker": {
          "color": "#FFA15A",
          "pattern": {
           "shape": ""
          }
         },
         "name": "Sports_teams",
         "offsetgroup": "Sports_teams",
         "orientation": "v",
         "showlegend": true,
         "textposition": "auto",
         "type": "bar",
         "x": [
          "Everyday_life"
         ],
         "xaxis": "x",
         "y": [
          16
         ],
         "yaxis": "y"
        },
        {
         "alignmentgroup": "True",
         "hovertemplate": "second_category=Culture_and_Diversity<br>first_category=%{x}<br>count=%{y}<extra></extra>",
         "legendgroup": "Culture_and_Diversity",
         "marker": {
          "color": "#19d3f3",
          "pattern": {
           "shape": ""
          }
         },
         "name": "Culture_and_Diversity",
         "offsetgroup": "Culture_and_Diversity",
         "orientation": "v",
         "showlegend": true,
         "textposition": "auto",
         "type": "bar",
         "x": [
          "Citizenship"
         ],
         "xaxis": "x",
         "y": [
          16
         ],
         "yaxis": "y"
        },
        {
         "alignmentgroup": "True",
         "hovertemplate": "second_category=Drink<br>first_category=%{x}<br>count=%{y}<extra></extra>",
         "legendgroup": "Drink",
         "marker": {
          "color": "#FF6692",
          "pattern": {
           "shape": ""
          }
         },
         "name": "Drink",
         "offsetgroup": "Drink",
         "orientation": "v",
         "showlegend": true,
         "textposition": "auto",
         "type": "bar",
         "x": [
          "Everyday_life"
         ],
         "xaxis": "x",
         "y": [
          15
         ],
         "yaxis": "y"
        },
        {
         "alignmentgroup": "True",
         "hovertemplate": "second_category=Mathematicians<br>first_category=%{x}<br>count=%{y}<extra></extra>",
         "legendgroup": "Mathematicians",
         "marker": {
          "color": "#B6E880",
          "pattern": {
           "shape": ""
          }
         },
         "name": "Mathematicians",
         "offsetgroup": "Mathematicians",
         "orientation": "v",
         "showlegend": true,
         "textposition": "auto",
         "type": "bar",
         "x": [
          "People"
         ],
         "xaxis": "x",
         "y": [
          15
         ],
         "yaxis": "y"
        },
        {
         "alignmentgroup": "True",
         "hovertemplate": "second_category=Linguistics<br>first_category=%{x}<br>count=%{y}<extra></extra>",
         "legendgroup": "Linguistics",
         "marker": {
          "color": "#FF97FF",
          "pattern": {
           "shape": ""
          }
         },
         "name": "Linguistics",
         "offsetgroup": "Linguistics",
         "orientation": "v",
         "showlegend": true,
         "textposition": "auto",
         "type": "bar",
         "x": [
          "Language_and_literature"
         ],
         "xaxis": "x",
         "y": [
          15
         ],
         "yaxis": "y"
        },
        {
         "alignmentgroup": "True",
         "hovertemplate": "second_category=Computer_Programming<br>first_category=%{x}<br>count=%{y}<extra></extra>",
         "legendgroup": "Computer_Programming",
         "marker": {
          "color": "#FECB52",
          "pattern": {
           "shape": ""
          }
         },
         "name": "Computer_Programming",
         "offsetgroup": "Computer_Programming",
         "orientation": "v",
         "showlegend": true,
         "textposition": "auto",
         "type": "bar",
         "x": [
          "IT"
         ],
         "xaxis": "x",
         "y": [
          15
         ],
         "yaxis": "y"
        },
        {
         "alignmentgroup": "True",
         "hovertemplate": "second_category=Currency<br>first_category=%{x}<br>count=%{y}<extra></extra>",
         "legendgroup": "Currency",
         "marker": {
          "color": "#636efa",
          "pattern": {
           "shape": ""
          }
         },
         "name": "Currency",
         "offsetgroup": "Currency",
         "orientation": "v",
         "showlegend": true,
         "textposition": "auto",
         "type": "bar",
         "x": [
          "Business_Studies"
         ],
         "xaxis": "x",
         "y": [
          14
         ],
         "yaxis": "y"
        },
        {
         "alignmentgroup": "True",
         "hovertemplate": "second_category=Archaeology<br>first_category=%{x}<br>count=%{y}<extra></extra>",
         "legendgroup": "Archaeology",
         "marker": {
          "color": "#EF553B",
          "pattern": {
           "shape": ""
          }
         },
         "name": "Archaeology",
         "offsetgroup": "Archaeology",
         "orientation": "v",
         "showlegend": true,
         "textposition": "auto",
         "type": "bar",
         "x": [
          "History"
         ],
         "xaxis": "x",
         "y": [
          11
         ],
         "yaxis": "y"
        },
        {
         "alignmentgroup": "True",
         "hovertemplate": "second_category=Media<br>first_category=%{x}<br>count=%{y}<extra></extra>",
         "legendgroup": "Media",
         "marker": {
          "color": "#00cc96",
          "pattern": {
           "shape": ""
          }
         },
         "name": "Media",
         "offsetgroup": "Media",
         "orientation": "v",
         "showlegend": true,
         "textposition": "auto",
         "type": "bar",
         "x": [
          "Citizenship"
         ],
         "xaxis": "x",
         "y": [
          11
         ],
         "yaxis": "y"
        },
        {
         "alignmentgroup": "True",
         "hovertemplate": "second_category=Community_organisations<br>first_category=%{x}<br>count=%{y}<extra></extra>",
         "legendgroup": "Community_organisations",
         "marker": {
          "color": "#ab63fa",
          "pattern": {
           "shape": ""
          }
         },
         "name": "Community_organisations",
         "offsetgroup": "Community_organisations",
         "orientation": "v",
         "showlegend": true,
         "textposition": "auto",
         "type": "bar",
         "x": [
          "Citizenship"
         ],
         "xaxis": "x",
         "y": [
          11
         ],
         "yaxis": "y"
        },
        {
         "alignmentgroup": "True",
         "hovertemplate": "second_category=Historians_chroniclers_and_history_books<br>first_category=%{x}<br>count=%{y}<extra></extra>",
         "legendgroup": "Historians_chroniclers_and_history_books",
         "marker": {
          "color": "#FFA15A",
          "pattern": {
           "shape": ""
          }
         },
         "name": "Historians_chroniclers_and_history_books",
         "offsetgroup": "Historians_chroniclers_and_history_books",
         "orientation": "v",
         "showlegend": true,
         "textposition": "auto",
         "type": "bar",
         "x": [
          "History"
         ],
         "xaxis": "x",
         "y": [
          10
         ],
         "yaxis": "y"
        },
        {
         "alignmentgroup": "True",
         "hovertemplate": "second_category=Conflict_and_Peace<br>first_category=%{x}<br>count=%{y}<extra></extra>",
         "legendgroup": "Conflict_and_Peace",
         "marker": {
          "color": "#19d3f3",
          "pattern": {
           "shape": ""
          }
         },
         "name": "Conflict_and_Peace",
         "offsetgroup": "Conflict_and_Peace",
         "orientation": "v",
         "showlegend": true,
         "textposition": "auto",
         "type": "bar",
         "x": [
          "Citizenship"
         ],
         "xaxis": "x",
         "y": [
          10
         ],
         "yaxis": "y"
        },
        {
         "alignmentgroup": "True",
         "hovertemplate": "second_category=Computing_People<br>first_category=%{x}<br>count=%{y}<extra></extra>",
         "legendgroup": "Computing_People",
         "marker": {
          "color": "#FF6692",
          "pattern": {
           "shape": ""
          }
         },
         "name": "Computing_People",
         "offsetgroup": "Computing_People",
         "orientation": "v",
         "showlegend": true,
         "textposition": "auto",
         "type": "bar",
         "x": [
          "People"
         ],
         "xaxis": "x",
         "y": [
          9
         ],
         "yaxis": "y"
        },
        {
         "alignmentgroup": "True",
         "hovertemplate": "second_category=Chemists<br>first_category=%{x}<br>count=%{y}<extra></extra>",
         "legendgroup": "Chemists",
         "marker": {
          "color": "#B6E880",
          "pattern": {
           "shape": ""
          }
         },
         "name": "Chemists",
         "offsetgroup": "Chemists",
         "orientation": "v",
         "showlegend": true,
         "textposition": "auto",
         "type": "bar",
         "x": [
          "People"
         ],
         "xaxis": "x",
         "y": [
          8
         ],
         "yaxis": "y"
        },
        {
         "alignmentgroup": "True",
         "hovertemplate": "second_category=Producers_directors_and_media_figures<br>first_category=%{x}<br>count=%{y}<extra></extra>",
         "legendgroup": "Producers_directors_and_media_figures",
         "marker": {
          "color": "#FF97FF",
          "pattern": {
           "shape": ""
          }
         },
         "name": "Producers_directors_and_media_figures",
         "offsetgroup": "Producers_directors_and_media_figures",
         "orientation": "v",
         "showlegend": true,
         "textposition": "auto",
         "type": "bar",
         "x": [
          "People"
         ],
         "xaxis": "x",
         "y": [
          8
         ],
         "yaxis": "y"
        },
        {
         "alignmentgroup": "True",
         "hovertemplate": "second_category=Antarctica<br>first_category=%{x}<br>count=%{y}<extra></extra>",
         "legendgroup": "Antarctica",
         "marker": {
          "color": "#FECB52",
          "pattern": {
           "shape": ""
          }
         },
         "name": "Antarctica",
         "offsetgroup": "Antarctica",
         "orientation": "v",
         "showlegend": true,
         "textposition": "auto",
         "type": "bar",
         "x": [
          "Geography"
         ],
         "xaxis": "x",
         "y": [
          8
         ],
         "yaxis": "y"
        },
        {
         "alignmentgroup": "True",
         "hovertemplate": "second_category=Cryptography<br>first_category=%{x}<br>count=%{y}<extra></extra>",
         "legendgroup": "Cryptography",
         "marker": {
          "color": "#636efa",
          "pattern": {
           "shape": ""
          }
         },
         "name": "Cryptography",
         "offsetgroup": "Cryptography",
         "orientation": "v",
         "showlegend": true,
         "textposition": "auto",
         "type": "bar",
         "x": [
          "IT"
         ],
         "xaxis": "x",
         "y": [
          6
         ],
         "yaxis": "y"
        }
       ],
       "layout": {
        "barmode": "relative",
        "legend": {
         "title": {
          "text": "second_category"
         },
         "tracegroupgap": 0
        },
        "template": {
         "data": {
          "bar": [
           {
            "error_x": {
             "color": "#2a3f5f"
            },
            "error_y": {
             "color": "#2a3f5f"
            },
            "marker": {
             "line": {
              "color": "#E5ECF6",
              "width": 0.5
             },
             "pattern": {
              "fillmode": "overlay",
              "size": 10,
              "solidity": 0.2
             }
            },
            "type": "bar"
           }
          ],
          "barpolar": [
           {
            "marker": {
             "line": {
              "color": "#E5ECF6",
              "width": 0.5
             },
             "pattern": {
              "fillmode": "overlay",
              "size": 10,
              "solidity": 0.2
             }
            },
            "type": "barpolar"
           }
          ],
          "carpet": [
           {
            "aaxis": {
             "endlinecolor": "#2a3f5f",
             "gridcolor": "white",
             "linecolor": "white",
             "minorgridcolor": "white",
             "startlinecolor": "#2a3f5f"
            },
            "baxis": {
             "endlinecolor": "#2a3f5f",
             "gridcolor": "white",
             "linecolor": "white",
             "minorgridcolor": "white",
             "startlinecolor": "#2a3f5f"
            },
            "type": "carpet"
           }
          ],
          "choropleth": [
           {
            "colorbar": {
             "outlinewidth": 0,
             "ticks": ""
            },
            "type": "choropleth"
           }
          ],
          "contour": [
           {
            "colorbar": {
             "outlinewidth": 0,
             "ticks": ""
            },
            "colorscale": [
             [
              0,
              "#0d0887"
             ],
             [
              0.1111111111111111,
              "#46039f"
             ],
             [
              0.2222222222222222,
              "#7201a8"
             ],
             [
              0.3333333333333333,
              "#9c179e"
             ],
             [
              0.4444444444444444,
              "#bd3786"
             ],
             [
              0.5555555555555556,
              "#d8576b"
             ],
             [
              0.6666666666666666,
              "#ed7953"
             ],
             [
              0.7777777777777778,
              "#fb9f3a"
             ],
             [
              0.8888888888888888,
              "#fdca26"
             ],
             [
              1,
              "#f0f921"
             ]
            ],
            "type": "contour"
           }
          ],
          "contourcarpet": [
           {
            "colorbar": {
             "outlinewidth": 0,
             "ticks": ""
            },
            "type": "contourcarpet"
           }
          ],
          "heatmap": [
           {
            "colorbar": {
             "outlinewidth": 0,
             "ticks": ""
            },
            "colorscale": [
             [
              0,
              "#0d0887"
             ],
             [
              0.1111111111111111,
              "#46039f"
             ],
             [
              0.2222222222222222,
              "#7201a8"
             ],
             [
              0.3333333333333333,
              "#9c179e"
             ],
             [
              0.4444444444444444,
              "#bd3786"
             ],
             [
              0.5555555555555556,
              "#d8576b"
             ],
             [
              0.6666666666666666,
              "#ed7953"
             ],
             [
              0.7777777777777778,
              "#fb9f3a"
             ],
             [
              0.8888888888888888,
              "#fdca26"
             ],
             [
              1,
              "#f0f921"
             ]
            ],
            "type": "heatmap"
           }
          ],
          "heatmapgl": [
           {
            "colorbar": {
             "outlinewidth": 0,
             "ticks": ""
            },
            "colorscale": [
             [
              0,
              "#0d0887"
             ],
             [
              0.1111111111111111,
              "#46039f"
             ],
             [
              0.2222222222222222,
              "#7201a8"
             ],
             [
              0.3333333333333333,
              "#9c179e"
             ],
             [
              0.4444444444444444,
              "#bd3786"
             ],
             [
              0.5555555555555556,
              "#d8576b"
             ],
             [
              0.6666666666666666,
              "#ed7953"
             ],
             [
              0.7777777777777778,
              "#fb9f3a"
             ],
             [
              0.8888888888888888,
              "#fdca26"
             ],
             [
              1,
              "#f0f921"
             ]
            ],
            "type": "heatmapgl"
           }
          ],
          "histogram": [
           {
            "marker": {
             "pattern": {
              "fillmode": "overlay",
              "size": 10,
              "solidity": 0.2
             }
            },
            "type": "histogram"
           }
          ],
          "histogram2d": [
           {
            "colorbar": {
             "outlinewidth": 0,
             "ticks": ""
            },
            "colorscale": [
             [
              0,
              "#0d0887"
             ],
             [
              0.1111111111111111,
              "#46039f"
             ],
             [
              0.2222222222222222,
              "#7201a8"
             ],
             [
              0.3333333333333333,
              "#9c179e"
             ],
             [
              0.4444444444444444,
              "#bd3786"
             ],
             [
              0.5555555555555556,
              "#d8576b"
             ],
             [
              0.6666666666666666,
              "#ed7953"
             ],
             [
              0.7777777777777778,
              "#fb9f3a"
             ],
             [
              0.8888888888888888,
              "#fdca26"
             ],
             [
              1,
              "#f0f921"
             ]
            ],
            "type": "histogram2d"
           }
          ],
          "histogram2dcontour": [
           {
            "colorbar": {
             "outlinewidth": 0,
             "ticks": ""
            },
            "colorscale": [
             [
              0,
              "#0d0887"
             ],
             [
              0.1111111111111111,
              "#46039f"
             ],
             [
              0.2222222222222222,
              "#7201a8"
             ],
             [
              0.3333333333333333,
              "#9c179e"
             ],
             [
              0.4444444444444444,
              "#bd3786"
             ],
             [
              0.5555555555555556,
              "#d8576b"
             ],
             [
              0.6666666666666666,
              "#ed7953"
             ],
             [
              0.7777777777777778,
              "#fb9f3a"
             ],
             [
              0.8888888888888888,
              "#fdca26"
             ],
             [
              1,
              "#f0f921"
             ]
            ],
            "type": "histogram2dcontour"
           }
          ],
          "mesh3d": [
           {
            "colorbar": {
             "outlinewidth": 0,
             "ticks": ""
            },
            "type": "mesh3d"
           }
          ],
          "parcoords": [
           {
            "line": {
             "colorbar": {
              "outlinewidth": 0,
              "ticks": ""
             }
            },
            "type": "parcoords"
           }
          ],
          "pie": [
           {
            "automargin": true,
            "type": "pie"
           }
          ],
          "scatter": [
           {
            "fillpattern": {
             "fillmode": "overlay",
             "size": 10,
             "solidity": 0.2
            },
            "type": "scatter"
           }
          ],
          "scatter3d": [
           {
            "line": {
             "colorbar": {
              "outlinewidth": 0,
              "ticks": ""
             }
            },
            "marker": {
             "colorbar": {
              "outlinewidth": 0,
              "ticks": ""
             }
            },
            "type": "scatter3d"
           }
          ],
          "scattercarpet": [
           {
            "marker": {
             "colorbar": {
              "outlinewidth": 0,
              "ticks": ""
             }
            },
            "type": "scattercarpet"
           }
          ],
          "scattergeo": [
           {
            "marker": {
             "colorbar": {
              "outlinewidth": 0,
              "ticks": ""
             }
            },
            "type": "scattergeo"
           }
          ],
          "scattergl": [
           {
            "marker": {
             "colorbar": {
              "outlinewidth": 0,
              "ticks": ""
             }
            },
            "type": "scattergl"
           }
          ],
          "scattermapbox": [
           {
            "marker": {
             "colorbar": {
              "outlinewidth": 0,
              "ticks": ""
             }
            },
            "type": "scattermapbox"
           }
          ],
          "scatterpolar": [
           {
            "marker": {
             "colorbar": {
              "outlinewidth": 0,
              "ticks": ""
             }
            },
            "type": "scatterpolar"
           }
          ],
          "scatterpolargl": [
           {
            "marker": {
             "colorbar": {
              "outlinewidth": 0,
              "ticks": ""
             }
            },
            "type": "scatterpolargl"
           }
          ],
          "scatterternary": [
           {
            "marker": {
             "colorbar": {
              "outlinewidth": 0,
              "ticks": ""
             }
            },
            "type": "scatterternary"
           }
          ],
          "surface": [
           {
            "colorbar": {
             "outlinewidth": 0,
             "ticks": ""
            },
            "colorscale": [
             [
              0,
              "#0d0887"
             ],
             [
              0.1111111111111111,
              "#46039f"
             ],
             [
              0.2222222222222222,
              "#7201a8"
             ],
             [
              0.3333333333333333,
              "#9c179e"
             ],
             [
              0.4444444444444444,
              "#bd3786"
             ],
             [
              0.5555555555555556,
              "#d8576b"
             ],
             [
              0.6666666666666666,
              "#ed7953"
             ],
             [
              0.7777777777777778,
              "#fb9f3a"
             ],
             [
              0.8888888888888888,
              "#fdca26"
             ],
             [
              1,
              "#f0f921"
             ]
            ],
            "type": "surface"
           }
          ],
          "table": [
           {
            "cells": {
             "fill": {
              "color": "#EBF0F8"
             },
             "line": {
              "color": "white"
             }
            },
            "header": {
             "fill": {
              "color": "#C8D4E3"
             },
             "line": {
              "color": "white"
             }
            },
            "type": "table"
           }
          ]
         },
         "layout": {
          "annotationdefaults": {
           "arrowcolor": "#2a3f5f",
           "arrowhead": 0,
           "arrowwidth": 1
          },
          "autotypenumbers": "strict",
          "coloraxis": {
           "colorbar": {
            "outlinewidth": 0,
            "ticks": ""
           }
          },
          "colorscale": {
           "diverging": [
            [
             0,
             "#8e0152"
            ],
            [
             0.1,
             "#c51b7d"
            ],
            [
             0.2,
             "#de77ae"
            ],
            [
             0.3,
             "#f1b6da"
            ],
            [
             0.4,
             "#fde0ef"
            ],
            [
             0.5,
             "#f7f7f7"
            ],
            [
             0.6,
             "#e6f5d0"
            ],
            [
             0.7,
             "#b8e186"
            ],
            [
             0.8,
             "#7fbc41"
            ],
            [
             0.9,
             "#4d9221"
            ],
            [
             1,
             "#276419"
            ]
           ],
           "sequential": [
            [
             0,
             "#0d0887"
            ],
            [
             0.1111111111111111,
             "#46039f"
            ],
            [
             0.2222222222222222,
             "#7201a8"
            ],
            [
             0.3333333333333333,
             "#9c179e"
            ],
            [
             0.4444444444444444,
             "#bd3786"
            ],
            [
             0.5555555555555556,
             "#d8576b"
            ],
            [
             0.6666666666666666,
             "#ed7953"
            ],
            [
             0.7777777777777778,
             "#fb9f3a"
            ],
            [
             0.8888888888888888,
             "#fdca26"
            ],
            [
             1,
             "#f0f921"
            ]
           ],
           "sequentialminus": [
            [
             0,
             "#0d0887"
            ],
            [
             0.1111111111111111,
             "#46039f"
            ],
            [
             0.2222222222222222,
             "#7201a8"
            ],
            [
             0.3333333333333333,
             "#9c179e"
            ],
            [
             0.4444444444444444,
             "#bd3786"
            ],
            [
             0.5555555555555556,
             "#d8576b"
            ],
            [
             0.6666666666666666,
             "#ed7953"
            ],
            [
             0.7777777777777778,
             "#fb9f3a"
            ],
            [
             0.8888888888888888,
             "#fdca26"
            ],
            [
             1,
             "#f0f921"
            ]
           ]
          },
          "colorway": [
           "#636efa",
           "#EF553B",
           "#00cc96",
           "#ab63fa",
           "#FFA15A",
           "#19d3f3",
           "#FF6692",
           "#B6E880",
           "#FF97FF",
           "#FECB52"
          ],
          "font": {
           "color": "#2a3f5f"
          },
          "geo": {
           "bgcolor": "white",
           "lakecolor": "white",
           "landcolor": "#E5ECF6",
           "showlakes": true,
           "showland": true,
           "subunitcolor": "white"
          },
          "hoverlabel": {
           "align": "left"
          },
          "hovermode": "closest",
          "mapbox": {
           "style": "light"
          },
          "paper_bgcolor": "white",
          "plot_bgcolor": "#E5ECF6",
          "polar": {
           "angularaxis": {
            "gridcolor": "white",
            "linecolor": "white",
            "ticks": ""
           },
           "bgcolor": "#E5ECF6",
           "radialaxis": {
            "gridcolor": "white",
            "linecolor": "white",
            "ticks": ""
           }
          },
          "scene": {
           "xaxis": {
            "backgroundcolor": "#E5ECF6",
            "gridcolor": "white",
            "gridwidth": 2,
            "linecolor": "white",
            "showbackground": true,
            "ticks": "",
            "zerolinecolor": "white"
           },
           "yaxis": {
            "backgroundcolor": "#E5ECF6",
            "gridcolor": "white",
            "gridwidth": 2,
            "linecolor": "white",
            "showbackground": true,
            "ticks": "",
            "zerolinecolor": "white"
           },
           "zaxis": {
            "backgroundcolor": "#E5ECF6",
            "gridcolor": "white",
            "gridwidth": 2,
            "linecolor": "white",
            "showbackground": true,
            "ticks": "",
            "zerolinecolor": "white"
           }
          },
          "shapedefaults": {
           "line": {
            "color": "#2a3f5f"
           }
          },
          "ternary": {
           "aaxis": {
            "gridcolor": "white",
            "linecolor": "white",
            "ticks": ""
           },
           "baxis": {
            "gridcolor": "white",
            "linecolor": "white",
            "ticks": ""
           },
           "bgcolor": "#E5ECF6",
           "caxis": {
            "gridcolor": "white",
            "linecolor": "white",
            "ticks": ""
           }
          },
          "title": {
           "x": 0.05
          },
          "xaxis": {
           "automargin": true,
           "gridcolor": "white",
           "linecolor": "white",
           "ticks": "",
           "title": {
            "standoff": 15
           },
           "zerolinecolor": "white",
           "zerolinewidth": 2
          },
          "yaxis": {
           "automargin": true,
           "gridcolor": "white",
           "linecolor": "white",
           "ticks": "",
           "title": {
            "standoff": 15
           },
           "zerolinecolor": "white",
           "zerolinewidth": 2
          }
         }
        },
        "title": {
         "text": "Categories represented in our dataset"
        },
        "xaxis": {
         "anchor": "y",
         "domain": [
          0,
          1
         ],
         "title": {
          "text": "first_category"
         }
        },
        "yaxis": {
         "anchor": "x",
         "domain": [
          0,
          1
         ],
         "title": {
          "text": "count"
         }
        }
       }
      }
     },
     "metadata": {},
     "output_type": "display_data"
    }
   ],
   "source": [
    "# First copy the data_frame\n",
    "reduced_categories = categories.copy(deep=True)\n",
    "\n",
    "# Extract the reduced categories and add them to the copied df\n",
    "reduced_categories_list = [category.replace('subject.', '').split('.')[0] for category in reduced_categories['category']]\n",
    "reduced_categories = reduced_categories.assign(first_category = reduced_categories_list)\n",
    "\n",
    "# Extract second most important category\n",
    "reduced_categories_list_2 = [category.replace('subject.', '').split('.')[1] if len(category.replace('subject.', '').split('.')) > 1 else None for category in reduced_categories['category']]\n",
    "reduced_categories = reduced_categories.assign(second_category = reduced_categories_list_2)\n",
    "\n",
    "# Count the new distribution and plot it\n",
    "first_category_distribution = reduced_categories['first_category'].value_counts()\n",
    "second_category_distribution = reduced_categories['second_category'].value_counts()\n",
    "reduced_categories = reduced_categories.drop(columns =['article', 'category']).drop_duplicates()\n",
    "\n",
    "merged = pd.merge(second_category_distribution, reduced_categories, on = 'second_category')\n",
    "display(merged.head())\n",
    "'''\n",
    "fig, ax = plt.subplots()\n",
    "ax.bar(category_distribution.index, category_distribution.values)\n",
    "ax.set_ylabel('Number of articles per category')\n",
    "ax.set_xlabel('Categories of articles')\n",
    "ax.set_xticks(np.arange(len(category_distribution.values)), category_distribution.index, rotation = 90)\n",
    "ax.set_title('Distribution of articles according to the domain')\n",
    "plt.show()\n",
    "'''\n",
    "\n",
    "fig = px.bar(merged, x=\"first_category\", y=\"count\", color=\"second_category\", title=\"Categories represented in our dataset\")\n",
    "fig.show()\n",
    "fig.write_html(\"docs/test.html\")\n"
   ]
  },
  {
   "cell_type": "markdown",
   "metadata": {},
   "source": [
    "# Distribution of fame categories for people"
   ]
  },
  {
   "cell_type": "code",
   "execution_count": null,
   "metadata": {},
   "outputs": [
    {
     "data": {
      "text/html": [
       "<div>\n",
       "<style scoped>\n",
       "    .dataframe tbody tr th:only-of-type {\n",
       "        vertical-align: middle;\n",
       "    }\n",
       "\n",
       "    .dataframe tbody tr th {\n",
       "        vertical-align: top;\n",
       "    }\n",
       "\n",
       "    .dataframe thead th {\n",
       "        text-align: right;\n",
       "    }\n",
       "</style>\n",
       "<table border=\"1\" class=\"dataframe\">\n",
       "  <thead>\n",
       "    <tr style=\"text-align: right;\">\n",
       "      <th>gender</th>\n",
       "      <th>Female</th>\n",
       "      <th>Male</th>\n",
       "      <th>Unknown</th>\n",
       "    </tr>\n",
       "  </thead>\n",
       "  <tbody>\n",
       "    <tr>\n",
       "      <th>Actors_models_and_celebrities</th>\n",
       "      <td>11</td>\n",
       "      <td>12</td>\n",
       "      <td>2</td>\n",
       "    </tr>\n",
       "    <tr>\n",
       "      <th>Artists</th>\n",
       "      <td>1</td>\n",
       "      <td>35</td>\n",
       "      <td>0</td>\n",
       "    </tr>\n",
       "    <tr>\n",
       "      <th>Astronomers_and_physicists</th>\n",
       "      <td>0</td>\n",
       "      <td>21</td>\n",
       "      <td>0</td>\n",
       "    </tr>\n",
       "    <tr>\n",
       "      <th>Chemists</th>\n",
       "      <td>1</td>\n",
       "      <td>7</td>\n",
       "      <td>0</td>\n",
       "    </tr>\n",
       "    <tr>\n",
       "      <th>Computing_People</th>\n",
       "      <td>0</td>\n",
       "      <td>9</td>\n",
       "      <td>0</td>\n",
       "    </tr>\n",
       "    <tr>\n",
       "      <th>Engineers_and_inventors</th>\n",
       "      <td>0</td>\n",
       "      <td>24</td>\n",
       "      <td>1</td>\n",
       "    </tr>\n",
       "    <tr>\n",
       "      <th>Geographers_and_explorers</th>\n",
       "      <td>0</td>\n",
       "      <td>19</td>\n",
       "      <td>2</td>\n",
       "    </tr>\n",
       "    <tr>\n",
       "      <th>Historical_figures</th>\n",
       "      <td>9</td>\n",
       "      <td>93</td>\n",
       "      <td>6</td>\n",
       "    </tr>\n",
       "    <tr>\n",
       "      <th>Human_Scientists</th>\n",
       "      <td>4</td>\n",
       "      <td>19</td>\n",
       "      <td>0</td>\n",
       "    </tr>\n",
       "    <tr>\n",
       "      <th>Mathematicians</th>\n",
       "      <td>0</td>\n",
       "      <td>15</td>\n",
       "      <td>0</td>\n",
       "    </tr>\n",
       "    <tr>\n",
       "      <th>Military_People</th>\n",
       "      <td>1</td>\n",
       "      <td>21</td>\n",
       "      <td>0</td>\n",
       "    </tr>\n",
       "    <tr>\n",
       "      <th>Monarchs_of_Great_Britain</th>\n",
       "      <td>5</td>\n",
       "      <td>33</td>\n",
       "      <td>5</td>\n",
       "    </tr>\n",
       "    <tr>\n",
       "      <th>Performers_and_composers</th>\n",
       "      <td>6</td>\n",
       "      <td>36</td>\n",
       "      <td>1</td>\n",
       "    </tr>\n",
       "    <tr>\n",
       "      <th>Philosophers</th>\n",
       "      <td>0</td>\n",
       "      <td>23</td>\n",
       "      <td>0</td>\n",
       "    </tr>\n",
       "    <tr>\n",
       "      <th>Political_People</th>\n",
       "      <td>8</td>\n",
       "      <td>54</td>\n",
       "      <td>5</td>\n",
       "    </tr>\n",
       "    <tr>\n",
       "      <th>Producers_directors_and_media_figures</th>\n",
       "      <td>0</td>\n",
       "      <td>6</td>\n",
       "      <td>2</td>\n",
       "    </tr>\n",
       "    <tr>\n",
       "      <th>Religious_figures_and_leaders</th>\n",
       "      <td>2</td>\n",
       "      <td>34</td>\n",
       "      <td>3</td>\n",
       "    </tr>\n",
       "    <tr>\n",
       "      <th>Sports_and_games_people</th>\n",
       "      <td>5</td>\n",
       "      <td>39</td>\n",
       "      <td>1</td>\n",
       "    </tr>\n",
       "    <tr>\n",
       "      <th>USA_Presidents</th>\n",
       "      <td>0</td>\n",
       "      <td>37</td>\n",
       "      <td>0</td>\n",
       "    </tr>\n",
       "    <tr>\n",
       "      <th>Writers_and_critics</th>\n",
       "      <td>8</td>\n",
       "      <td>61</td>\n",
       "      <td>2</td>\n",
       "    </tr>\n",
       "  </tbody>\n",
       "</table>\n",
       "</div>"
      ],
      "text/plain": [
       "gender                                 Female  Male  Unknown\n",
       "Actors_models_and_celebrities              11    12        2\n",
       "Artists                                     1    35        0\n",
       "Astronomers_and_physicists                  0    21        0\n",
       "Chemists                                    1     7        0\n",
       "Computing_People                            0     9        0\n",
       "Engineers_and_inventors                     0    24        1\n",
       "Geographers_and_explorers                   0    19        2\n",
       "Historical_figures                          9    93        6\n",
       "Human_Scientists                            4    19        0\n",
       "Mathematicians                              0    15        0\n",
       "Military_People                             1    21        0\n",
       "Monarchs_of_Great_Britain                   5    33        5\n",
       "Performers_and_composers                    6    36        1\n",
       "Philosophers                                0    23        0\n",
       "Political_People                            8    54        5\n",
       "Producers_directors_and_media_figures       0     6        2\n",
       "Religious_figures_and_leaders               2    34        3\n",
       "Sports_and_games_people                     5    39        1\n",
       "USA_Presidents                              0    37        0\n",
       "Writers_and_critics                         8    61        2"
      ]
     },
     "execution_count": 94,
     "metadata": {},
     "output_type": "execute_result"
    }
   ],
   "source": [
    "people_gender = pd.DataFrame(main_people_selection.groupby(['category', 'gender']).size().unstack(fill_value=0))\n",
    "people_gender.index = [cat.replace('subject.People.', '') for cat in people_gender.index]\n",
    "people_gender"
   ]
  },
  {
   "cell_type": "code",
   "execution_count": null,
   "metadata": {},
   "outputs": [
    {
     "data": {
      "image/png": "[encoded data removed]",
      "text/plain": [
       "<Figure size 800x600 with 1 Axes>"
      ]
     },
     "metadata": {},
     "output_type": "display_data"
    }
   ],
   "source": [
    "fig, ax = plt.subplots(figsize=(8, 6))\n",
    "\n",
    "bar_width = 0.3\n",
    "bar_positions = range(len(people_gender))\n",
    "\n",
    "# Plotting bars for each gender\n",
    "ax.bar([pos - bar_width for pos in bar_positions], people_gender['Female'], width=bar_width, label='Female', color = 'pink')\n",
    "ax.bar(bar_positions, people_gender['Male'], width=bar_width, label='Male', color = 'blue')\n",
    "ax.bar([pos + bar_width for pos in bar_positions], people_gender['Unknown'], width=bar_width, label='Unknown', color = 'grey')\n",
    "\n",
    "# Adding labels and title\n",
    "ax.set_xticks(bar_positions)\n",
    "ax.set_xticklabels(people_gender.index, rotation=45, ha = 'right', fontsize = 10)\n",
    "ax.set_xlabel('Categories')\n",
    "ax.set_ylabel('Number of People')\n",
    "ax.set_title('Number of People by Gender and Category')\n",
    "\n",
    "# Adding legend\n",
    "ax.legend()\n",
    "\n",
    "plt.tight_layout()\n",
    "plt.show()"
   ]
  },
  {
   "cell_type": "code",
   "execution_count": null,
   "metadata": {},
   "outputs": [
    {
     "data": {
      "image/png": "[encoded data removed]",
      "text/plain": [
       "<Figure size 640x480 with 1 Axes>"
      ]
     },
     "metadata": {},
     "output_type": "display_data"
    }
   ],
   "source": [
    "categories_distribution_df = main_people_selection['category'].value_counts()\n",
    "categories_ = [category.replace('subject.People.', '') for category in categories_distribution_df.index]\n",
    "cat_pos = np.arange(len(categories_))\n",
    "\n",
    "fig, ax = plt.subplots()\n",
    "ax.bar(cat_pos, categories_distribution_df.values)\n",
    "ax.set_ylabel('Number of people per category')\n",
    "ax.set_xlabel('Categories of fame')\n",
    "ax.set_xticks(cat_pos, categories_, rotation = 45, ha='right')\n",
    "ax.set_title('Distribution of famous people according to domain')\n",
    "plt.show()"
   ]
  },
  {
   "cell_type": "markdown",
   "metadata": {},
   "source": [
    "## Let's have a closer look at the paths"
   ]
  },
  {
   "cell_type": "code",
   "execution_count": null,
   "metadata": {},
   "outputs": [],
   "source": [
    "paths = paths_finished.drop(['timestamp','durationInSec'], axis = 1)"
   ]
  },
  {
   "cell_type": "code",
   "execution_count": null,
   "metadata": {},
   "outputs": [],
   "source": [
    "def transform_path(path):\n",
    "    split_path = path.split(';')\n",
    "    split_cat = []\n",
    "    #print(split_path)\n",
    "    for art in split_path:\n",
    "        #print(art)\n",
    "        if art != '<' : \n",
    "            try: split_cat.append(categories.loc[categories['article'] == art, 'category'].iloc[0])\n",
    "            except IndexError : print('Warning: not valid article:', art)\n",
    "    \n",
    "    return ';'.join(split_cat)"
   ]
  },
  {
   "cell_type": "code",
   "execution_count": null,
   "metadata": {},
   "outputs": [
    {
     "name": "stdout",
     "output_type": "stream",
     "text": [
      "Warning: not valid article: Pikachu\n"
     ]
    },
    {
     "data": {
      "text/plain": [
       "'subject.Language_and_literature.Literature_types;subject.History.Ancient_History_Classical_History_and_Mythology;subject.Religion.Religious_movements_traditions_and_organizations;subject.Religion.Divinities'"
      ]
     },
     "execution_count": 308,
     "metadata": {},
     "output_type": "execute_result"
    }
   ],
   "source": [
    "transform_path('Pikachu;Book;Roman_Empire;Christianity;Jesus')"
   ]
  },
  {
   "cell_type": "code",
   "execution_count": null,
   "metadata": {},
   "outputs": [
    {
     "name": "stdout",
     "output_type": "stream",
     "text": [
      "Warning: not valid article: Pikachu\n",
      "Warning: not valid article: Pikachu\n",
      "Warning: not valid article: Pikachu\n",
      "Warning: not valid article: Pikachu\n",
      "Warning: not valid article: Pikachu\n",
      "Warning: not valid article: Pikachu\n",
      "Warning: not valid article: Pikachu\n",
      "Warning: not valid article: Pikachu\n",
      "Warning: not valid article: Pikachu\n",
      "Warning: not valid article: Pikachu\n",
      "Warning: not valid article: Pikachu\n",
      "Warning: not valid article: Pikachu\n",
      "Warning: not valid article: Pikachu\n",
      "Warning: not valid article: Pikachu\n",
      "Warning: not valid article: Pikachu\n",
      "Warning: not valid article: Pikachu\n",
      "Warning: not valid article: Pikachu\n",
      "Warning: not valid article: Pikachu\n",
      "Warning: not valid article: Pikachu\n",
      "Warning: not valid article: Pikachu\n"
     ]
    },
    {
     "data": {
      "text/html": [
       "<div>\n",
       "<style scoped>\n",
       "    .dataframe tbody tr th:only-of-type {\n",
       "        vertical-align: middle;\n",
       "    }\n",
       "\n",
       "    .dataframe tbody tr th {\n",
       "        vertical-align: top;\n",
       "    }\n",
       "\n",
       "    .dataframe thead th {\n",
       "        text-align: right;\n",
       "    }\n",
       "</style>\n",
       "<table border=\"1\" class=\"dataframe\">\n",
       "  <thead>\n",
       "    <tr style=\"text-align: right;\">\n",
       "      <th></th>\n",
       "      <th>path</th>\n",
       "      <th>end</th>\n",
       "      <th>path_cat</th>\n",
       "    </tr>\n",
       "  </thead>\n",
       "  <tbody>\n",
       "    <tr>\n",
       "      <th>4</th>\n",
       "      <td>14th_century;Italy;Roman_Catholic_Church;HIV;R...</td>\n",
       "      <td>John_F._Kennedy</td>\n",
       "      <td>subject.History.General_history;subject.Countr...</td>\n",
       "    </tr>\n",
       "    <tr>\n",
       "      <th>5</th>\n",
       "      <td>14th_century;Europe;North_America;United_State...</td>\n",
       "      <td>John_F._Kennedy</td>\n",
       "      <td>subject.History.General_history;subject.Geogra...</td>\n",
       "    </tr>\n",
       "    <tr>\n",
       "      <th>36</th>\n",
       "      <td>14th_century;England;London;Spanish_Armada;Eng...</td>\n",
       "      <td>Elizabeth_I_of_England</td>\n",
       "      <td>subject.History.General_history;subject.Geogra...</td>\n",
       "    </tr>\n",
       "    <tr>\n",
       "      <th>37</th>\n",
       "      <td>14th_century;England;James_I_of_England;Elizab...</td>\n",
       "      <td>Elizabeth_I_of_England</td>\n",
       "      <td>subject.History.General_history;subject.Geogra...</td>\n",
       "    </tr>\n",
       "    <tr>\n",
       "      <th>38</th>\n",
       "      <td>14th_century;Hundred_Years'_War;Henry_VI_of_En...</td>\n",
       "      <td>Elizabeth_I_of_England</td>\n",
       "      <td>subject.History.General_history;subject.Histor...</td>\n",
       "    </tr>\n",
       "    <tr>\n",
       "      <th>39</th>\n",
       "      <td>14th_century;Hundred_Years'_War;Henry_VI_of_En...</td>\n",
       "      <td>Elizabeth_I_of_England</td>\n",
       "      <td>subject.History.General_history;subject.Histor...</td>\n",
       "    </tr>\n",
       "    <tr>\n",
       "      <th>40</th>\n",
       "      <td>14th_century;Edward_III_of_England;Windsor_Cas...</td>\n",
       "      <td>Elizabeth_I_of_England</td>\n",
       "      <td>subject.History.General_history;subject.Histor...</td>\n",
       "    </tr>\n",
       "    <tr>\n",
       "      <th>41</th>\n",
       "      <td>14th_century;Europe;&lt;;England;&lt;;Christianity;A...</td>\n",
       "      <td>Henry_David_Thoreau</td>\n",
       "      <td>subject.History.General_history;subject.Geogra...</td>\n",
       "    </tr>\n",
       "    <tr>\n",
       "      <th>51</th>\n",
       "      <td>2004_Atlantic_hurricane_season;U.S._state;Unit...</td>\n",
       "      <td>Buckminster_Fuller</td>\n",
       "      <td>subject.Geography.Natural_Disasters;subject.Ge...</td>\n",
       "    </tr>\n",
       "    <tr>\n",
       "      <th>53</th>\n",
       "      <td>2004_Atlantic_hurricane_season;The_Bahamas;Uni...</td>\n",
       "      <td>James_II_of_England</td>\n",
       "      <td>subject.Geography.Natural_Disasters;subject.Ge...</td>\n",
       "    </tr>\n",
       "  </tbody>\n",
       "</table>\n",
       "</div>"
      ],
      "text/plain": [
       "                                                 path                     end  \\\n",
       "4   14th_century;Italy;Roman_Catholic_Church;HIV;R...         John_F._Kennedy   \n",
       "5   14th_century;Europe;North_America;United_State...         John_F._Kennedy   \n",
       "36  14th_century;England;London;Spanish_Armada;Eng...  Elizabeth_I_of_England   \n",
       "37  14th_century;England;James_I_of_England;Elizab...  Elizabeth_I_of_England   \n",
       "38  14th_century;Hundred_Years'_War;Henry_VI_of_En...  Elizabeth_I_of_England   \n",
       "39  14th_century;Hundred_Years'_War;Henry_VI_of_En...  Elizabeth_I_of_England   \n",
       "40  14th_century;Edward_III_of_England;Windsor_Cas...  Elizabeth_I_of_England   \n",
       "41  14th_century;Europe;<;England;<;Christianity;A...     Henry_David_Thoreau   \n",
       "51  2004_Atlantic_hurricane_season;U.S._state;Unit...      Buckminster_Fuller   \n",
       "53  2004_Atlantic_hurricane_season;The_Bahamas;Uni...     James_II_of_England   \n",
       "\n",
       "                                             path_cat  \n",
       "4   subject.History.General_history;subject.Countr...  \n",
       "5   subject.History.General_history;subject.Geogra...  \n",
       "36  subject.History.General_history;subject.Geogra...  \n",
       "37  subject.History.General_history;subject.Geogra...  \n",
       "38  subject.History.General_history;subject.Histor...  \n",
       "39  subject.History.General_history;subject.Histor...  \n",
       "40  subject.History.General_history;subject.Histor...  \n",
       "41  subject.History.General_history;subject.Geogra...  \n",
       "51  subject.Geography.Natural_Disasters;subject.Ge...  \n",
       "53  subject.Geography.Natural_Disasters;subject.Ge...  "
      ]
     },
     "execution_count": 309,
     "metadata": {},
     "output_type": "execute_result"
    }
   ],
   "source": [
    "paths['end'] = [path.split(';')[-1] for path in paths['path']]\n",
    "people_list = main_people_selection.reset_index()['article']\n",
    "paths = paths[paths['end'].isin(people_list)]\n",
    "paths['path_cat'] = [transform_path(path) for path in paths['path']]\n",
    "paths.head(10)"
   ]
  },
  {
   "cell_type": "markdown",
   "metadata": {},
   "source": [
    "## Distribution of the starting and finishing pages of the paths"
   ]
  },
  {
   "cell_type": "markdown",
   "metadata": {},
   "source": [
    "### Retrieve the data"
   ]
  },
  {
   "cell_type": "code",
   "execution_count": null,
   "metadata": {},
   "outputs": [],
   "source": [
    "paths_finished = dfs['paths_finished']\n",
    "\n",
    "starting_points = pd.DataFrame([path.split(';')[0] for path in paths_finished['path']])\n",
    "finishing_points = pd.DataFrame([path.split(';')[-1] for path in paths_finished['path']])\n",
    "\n",
    "starting_counts = pd.DataFrame(starting_points.value_counts())\n",
    "finishing_counts = pd.DataFrame(finishing_points.value_counts())\n",
    "\n",
    "starting_list = [start[0] for start in starting_counts.index.tolist()]\n",
    "finishing_list = [finish[0] for finish in finishing_counts.index.tolist()]\n",
    "\n",
    "start_cat = [reduced_categories.loc[reduced_categories['article'] == start,'simple_category'].values.tolist() for start in starting_list]\n",
    "finish_cat = [reduced_categories.loc[reduced_categories['article'] == finish,'simple_category'].values.tolist() for finish in finishing_list]"
   ]
  },
  {
   "cell_type": "code",
   "execution_count": null,
   "metadata": {},
   "outputs": [],
   "source": [
    "new_start_cat = start_cat\n",
    "for i in range(len(start_cat)):\n",
    "    if len(start_cat[i])>1:\n",
    "        new_start_cat[i] = [start_cat[i][0]]\n",
    "new_start_cat = [' '.join(cat) for cat in new_start_cat]\n",
    "\n",
    "new_finish_cat = finish_cat\n",
    "for i in range(len(finish_cat)):\n",
    "    if len(finish_cat[i])>1:\n",
    "        new_finish_cat[i] = [finish_cat[i][0]]\n",
    "new_finish_cat = [' '.join(cat) for cat in new_finish_cat]\n",
    "\n",
    "starting_counts = starting_counts.assign(simple_category = new_start_cat)\n",
    "finishing_counts = finishing_counts.assign(simple_category = new_finish_cat)\n",
    "\n",
    "starting_counts.columns = ['count', 'simple_category']\n",
    "finishing_counts.columns = ['count', 'simple_category']\n"
   ]
  },
  {
   "cell_type": "markdown",
   "metadata": {},
   "source": [
    "### Plot the data"
   ]
  },
  {
   "cell_type": "code",
   "execution_count": null,
   "metadata": {},
   "outputs": [
    {
     "data": {
      "image/png": "[encoded data removed]",
      "text/plain": [
       "<Figure size 640x480 with 1 Axes>"
      ]
     },
     "metadata": {},
     "output_type": "display_data"
    }
   ],
   "source": [
    "plt.hist(starting_counts['count'], 10)\n",
    "plt.xlabel('Number of times as path start')\n",
    "plt.ylabel('Number of pages')\n",
    "plt.title('Distribution of starting pages')\n",
    "plt.yscale('log')\n",
    "plt.show()"
   ]
  },
  {
   "cell_type": "code",
   "execution_count": null,
   "metadata": {},
   "outputs": [
    {
     "data": {
      "image/png": "[encoded data removed]",
      "text/plain": [
       "<Figure size 640x480 with 1 Axes>"
      ]
     },
     "metadata": {},
     "output_type": "display_data"
    }
   ],
   "source": [
    "plt.hist(finishing_counts['count'], 10)\n",
    "plt.xlabel('Number of times as path end')\n",
    "plt.ylabel('Number of pages')\n",
    "plt.title('Distribution of ending pages')\n",
    "plt.yscale('log')\n",
    "plt.show()"
   ]
  },
  {
   "cell_type": "markdown",
   "metadata": {},
   "source": [
    "### Get the categories"
   ]
  },
  {
   "cell_type": "code",
   "execution_count": null,
   "metadata": {},
   "outputs": [],
   "source": [
    "starting_counts_condensed = starting_counts.groupby(starting_counts['simple_category']).aggregate('count').sort_values('count')\n",
    "finishing_counts_condensed = finishing_counts.groupby(finishing_counts['simple_category']).aggregate('count').sort_values('count')"
   ]
  },
  {
   "cell_type": "markdown",
   "metadata": {},
   "source": [
    "### Plot the categories"
   ]
  },
  {
   "cell_type": "code",
   "execution_count": null,
   "metadata": {},
   "outputs": [
    {
     "data": {
      "image/png": "[encoded data removed]",
      "text/plain": [
       "<Figure size 640x480 with 1 Axes>"
      ]
     },
     "metadata": {},
     "output_type": "display_data"
    }
   ],
   "source": [
    "fig, ax = plt.subplots()\n",
    "ax.bar(starting_counts_condensed.index, starting_counts_condensed['count'])\n",
    "ax.set_ylabel('Number of starting pages per domain')\n",
    "ax.set_xlabel('Domains')\n",
    "ax.set_xticks(np.arange(len(starting_counts_condensed.index)),starting_counts_condensed.index, rotation = 45, ha='right')\n",
    "ax.set_title('Distribution of domains of the starting articles')\n",
    "plt.show()"
   ]
  },
  {
   "cell_type": "code",
   "execution_count": null,
   "metadata": {},
   "outputs": [
    {
     "data": {
      "image/png": "[encoded data removed]",
      "text/plain": [
       "<Figure size 640x480 with 1 Axes>"
      ]
     },
     "metadata": {},
     "output_type": "display_data"
    }
   ],
   "source": [
    "fig, ax = plt.subplots()\n",
    "ax.bar(finishing_counts_condensed.index, finishing_counts_condensed['count'])\n",
    "ax.set_ylabel('Number of finishing pages per domain')\n",
    "ax.set_xlabel('Domains')\n",
    "ax.set_xticks(np.arange(len(finishing_counts_condensed.index)),finishing_counts_condensed.index, rotation = 45, ha='right')\n",
    "ax.set_title('Distribution of domains of the finishing articles')\n",
    "plt.show()"
   ]
  },
  {
   "cell_type": "code",
   "execution_count": null,
   "metadata": {},
   "outputs": [
    {
     "name": "stdout",
     "output_type": "stream",
     "text": [
      "\n",
      "Art\n",
      "Mathematics\n",
      "IT\n",
      "Business_Studies\n",
      "Music\n",
      "Countries\n",
      "Religion\n",
      "Language_and_literature\n",
      "Design_and_Technology\n",
      "Citizenship\n",
      "Everyday_life\n",
      "History\n",
      "People\n",
      "Geography\n",
      "Science\n"
     ]
    }
   ],
   "source": [
    "start_cat = pd.DataFrame(starting_counts_condensed.reset_index()['simple_category'])\n",
    "finish_cat = finishing_counts_condensed.reset_index()['simple_category']\n",
    "\n",
    "start_index = start_cat.index\n",
    "\n",
    "for cat in start_cat['simple_category']:\n",
    "    print(cat)\n",
    "    #if cat != '':\n",
    "        #print(finish_cat.index.get_loc(cat))\n",
    "\n",
    "finish_index = (finish_cat.index.get_loc(cat) for cat in start_cat['simple_category'])\n"
   ]
  },
  {
   "cell_type": "markdown",
   "metadata": {},
   "source": [
    "### Now let's focus on gender"
   ]
  },
  {
   "cell_type": "code",
   "execution_count": null,
   "metadata": {},
   "outputs": [],
   "source": [
    "main_people_selection_single = main_people_selection.reset_index().drop_duplicates(subset = ['article'], keep='first').set_index('article')"
   ]
  },
  {
   "cell_type": "code",
   "execution_count": null,
   "metadata": {},
   "outputs": [],
   "source": [
    "\n",
    "starting_counts_people = pd.DataFrame(starting_counts.loc[starting_counts['simple_category'] == 'People']).drop('simple_category', axis=1)\n",
    "finishing_counts_people = pd.DataFrame(finishing_counts.loc[finishing_counts['simple_category'] == 'People'].drop('simple_category', axis=1))\n",
    "starting_counts_people['gender'] = [main_people_selection_single.loc[person]['gender'] for person in starting_counts_people.index]\n",
    "finishing_counts_people['gender'] = [main_people_selection_single.loc[person]['gender'] for person in finishing_counts_people.index]"
   ]
  },
  {
   "cell_type": "code",
   "execution_count": null,
   "metadata": {},
   "outputs": [],
   "source": [
    "main_people_selection_single = main_people_selection.reset_index().drop_duplicates(subset = ['article'], keep='first').set_index('article')"
   ]
  },
  {
   "cell_type": "code",
   "execution_count": null,
   "metadata": {},
   "outputs": [
    {
     "name": "stdout",
     "output_type": "stream",
     "text": [
      "There are  457  different starting males.\n",
      "There are  40  different starting females.\n",
      "There are  18  different starting unknowns.\n"
     ]
    },
    {
     "data": {
      "image/png": "[encoded data removed]",
      "text/plain": [
       "<Figure size 640x480 with 1 Axes>"
      ]
     },
     "metadata": {},
     "output_type": "display_data"
    },
    {
     "data": {
      "image/png": "[encoded data removed]",
      "text/plain": [
       "<Figure size 640x480 with 1 Axes>"
      ]
     },
     "metadata": {},
     "output_type": "display_data"
    }
   ],
   "source": [
    "starting_gender_counts_fem = starting_counts_people[starting_counts_people['gender'] == 'Female']\n",
    "starting_gender_counts_male = starting_counts_people[starting_counts_people['gender'] == 'Male']\n",
    "starting_gender_counts_unk = starting_counts_people[starting_counts_people['gender'] == 'Unknown']\n",
    "print('There are ' ,len(starting_gender_counts_male), ' different starting males.')\n",
    "print('There are ' ,len(starting_gender_counts_fem), ' different starting females.')\n",
    "print('There are ' ,len(starting_gender_counts_unk), ' different starting unknowns.')\n",
    "\n",
    "plt.bar(x=(0,1,2),height=(len(starting_gender_counts_male),len(starting_gender_counts_fem),len(starting_gender_counts_unk)), color = ('blue', 'pink', 'grey'))\n",
    "plt.ylabel('Number of people')\n",
    "plt.xticks(ticks = (0,1,2), labels = ('Male', 'Female', 'Unknown'))\n",
    "plt.title('Gender distribution of different starting categories')\n",
    "plt.show()\n",
    "\n",
    "plt.bar(x=(0,1,2), height = (starting_gender_counts_male['count'].sum(),starting_gender_counts_fem['count'].sum(),starting_gender_counts_unk['count'].sum()), color = ('blue', 'pink', 'grey'))\n",
    "plt.ylabel('Number of starting articles')\n",
    "plt.xticks(ticks = (0,1,2), labels = ('Male', 'Female', 'Unknown'))\n",
    "plt.title('Gender distribution of total starting articles')\n",
    "plt.show()"
   ]
  },
  {
   "cell_type": "code",
   "execution_count": null,
   "metadata": {},
   "outputs": [
    {
     "name": "stdout",
     "output_type": "stream",
     "text": [
      "There are  346  different finishing males.\n",
      "There are  29  different finishing females.\n",
      "There are  12  different finishing unknowns.\n"
     ]
    },
    {
     "data": {
      "image/png": "[encoded data removed]",
      "text/plain": [
       "<Figure size 640x480 with 1 Axes>"
      ]
     },
     "metadata": {},
     "output_type": "display_data"
    },
    {
     "data": {
      "image/png": "[encoded data removed]",
      "text/plain": [
       "<Figure size 640x480 with 1 Axes>"
      ]
     },
     "metadata": {},
     "output_type": "display_data"
    }
   ],
   "source": [
    "finishing_gender_counts_fem = finishing_counts_people[finishing_counts_people['gender'] == 'Female']\n",
    "finishing_gender_counts_male = finishing_counts_people[finishing_counts_people['gender'] == 'Male']\n",
    "finishing_gender_counts_unk = finishing_counts_people[finishing_counts_people['gender'] == 'Unknown']\n",
    "print('There are ' ,len(finishing_gender_counts_male), ' different finishing males.')\n",
    "print('There are ' ,len(finishing_gender_counts_fem), ' different finishing females.')\n",
    "print('There are ' ,len(finishing_gender_counts_unk), ' different finishing unknowns.')\n",
    "\n",
    "plt.bar(x=(0,1,2),height=(len(finishing_gender_counts_male),len(finishing_gender_counts_fem),len(finishing_gender_counts_unk)), color = ('blue', 'pink', 'grey'))\n",
    "plt.ylabel('Number of different people')\n",
    "plt.xticks(ticks = (0,1,2), labels = ('Male', 'Female', 'Unknown'))\n",
    "plt.title('Gender distribution of different finishing categories')\n",
    "plt.show()\n",
    "\n",
    "plt.bar(x=(0,1,2), height = (finishing_gender_counts_male['count'].sum(),finishing_gender_counts_fem['count'].sum(),finishing_gender_counts_unk['count'].sum()), color = ('blue', 'pink', 'grey'))\n",
    "plt.ylabel('Number of finishing articles')\n",
    "plt.xticks(ticks = (0,1,2), labels = ('Male', 'Female', 'Unknown'))\n",
    "plt.title('Gender distribution of total finishing articles')\n",
    "plt.show()"
   ]
  },
  {
   "cell_type": "markdown",
   "metadata": {},
   "source": [
    "# to do : print categories of the people in finishing vs starting paths"
   ]
  },
  {
   "cell_type": "markdown",
   "metadata": {},
   "source": [
    "# Connection graphs of the links"
   ]
  },
  {
   "cell_type": "markdown",
   "metadata": {},
   "source": [
    "#### List of paths to access the articles htm"
   ]
  },
  {
   "cell_type": "code",
   "execution_count": null,
   "metadata": {},
   "outputs": [
    {
     "data": {
      "text/plain": [
       "[]"
      ]
     },
     "execution_count": 34,
     "metadata": {},
     "output_type": "execute_result"
    }
   ],
   "source": [
    "list_articles_paths = []\n",
    "\n",
    "# Iterate through all htm file in all sub-folder from main folder wp \n",
    "for root, dirs, subfolders in os.walk('dataset/wpcd/wp/'):\n",
    "    for file in subfolders:\n",
    "        # Select only the htm files\n",
    "        if file.endswith('.htm'):\n",
    "            file_path = os.path.join(root, file)\n",
    "            # Store only select the htm usefull for the game \n",
    "            if '/index/' not in file_path:\n",
    "                list_articles_paths.append(file_path)\n",
    "list_articles_paths[:10]"
   ]
  },
  {
   "cell_type": "markdown",
   "metadata": {},
   "source": [
    "# Connection graphs of graphs"
   ]
  },
  {
   "cell_type": "code",
   "execution_count": null,
   "metadata": {},
   "outputs": [],
   "source": [
    "def connection_graph(html_files, nodes_name, categories, people_names,  fs = (15, 10), node_sz=20, font_sz=12, color_pal = \"colorblind\", title = '', directional = False, label = False,  people = False, plot = True):\n",
    "    start_time = datetime.now()\n",
    "\n",
    "    category_table = categories.copy()\n",
    "\n",
    "    # Create a graph\n",
    "    if directional: \n",
    "        graph = nx.MultiDiGraph()\n",
    "    else:\n",
    "        graph = nx.MultiGraph()\n",
    "\n",
    "    # Iterate through HTML files and extract links\n",
    "    for html_file in html_files: \n",
    "        # Extract all the unique link of the htm file\n",
    "        links = extract_links(html_file)\n",
    "\n",
    "        # Extract the source article name\n",
    "        source_name = path_to_name(html_file)\n",
    "\n",
    "        if not people:\n",
    "            for link in set(links):\n",
    "                # Extract the reached article name\n",
    "                target_name = path_to_name(link)\n",
    "\n",
    "                # Add edges to the graph\n",
    "                graph.add_edge(source_name, target_name)\n",
    "\n",
    "        # In case we only want people names pages      \n",
    "        elif source_name in people_names:\n",
    "            for link in set(links):\n",
    "                # Extract the reached article name\n",
    "                target_name = path_to_name(link)\n",
    "\n",
    "                # Add edges to the graph\n",
    "                graph.add_edge(source_name, target_name)\n",
    "    \n",
    "    # Add category to the nodes\n",
    "    nodes = pd.Series(list(graph.nodes))\n",
    "    art_cat = pd.merge(category_table, nodes.rename('article'), how='right', on='article')\n",
    "    art_cat['category'].fillna('unkown', inplace=True)\n",
    "    graph.add_nodes_from(art_cat.article)\n",
    "    \n",
    "    # Colors corresponding to the categories \n",
    "    colors = sns.color_palette(color_pal, n_colors=len(art_cat.category.unique()))\n",
    "    category_color_dict = {category: colors[i] for i, category in enumerate(art_cat['category'].unique())}\n",
    "    node_colors = [category_color_dict[category] for category in art_cat['category']]\n",
    "\n",
    "    \n",
    "    # Plot or not\n",
    "    if plot: \n",
    "\n",
    "        plt.figure(figsize=fs)\n",
    "\n",
    "        pos = nx.spring_layout(graph) \n",
    "        #nx.draw(graph, pos, with_labels=label, node_color=node_colors,  node_size=node_sz, font_size=font_sz, edge_color='black', alpha=0.5)\n",
    "\n",
    "        nx.draw_networkx_nodes(graph, pos, node_color=node_colors, node_size=node_sz)\n",
    "\n",
    "        # Draw the edges with another alpha value\n",
    "        nx.draw_networkx_edges(graph, pos, alpha=0.5)\n",
    "\n",
    "        if label:\n",
    "            # Draw labels separately without alpha\n",
    "            nx.draw_networkx_labels(graph, pos, font_size=font_sz)\n",
    "\n",
    "        # Legend \n",
    "        handles = [plt.Line2D([0], [0], marker='o', color='w', markerfacecolor=color, markersize=10) for color in category_color_dict.values()]\n",
    "        labels = [str(category) for category in category_color_dict.keys()]\n",
    "        plt.legend(handles, labels, title='Categories', loc = 'upper left', bbox_to_anchor=(1, 1))  \n",
    "        plt.title(title)\n",
    "        plt.axis('off')\n",
    "\n",
    "        plt.show()\n",
    "    \n",
    "    else:\n",
    "        print('Duration create_connection_graph for {} html files: {}'.format(len(html_files), datetime.now() - start_time))\n",
    "        return graph, node_colors"
   ]
  },
  {
   "cell_type": "code",
   "execution_count": null,
   "metadata": {},
   "outputs": [],
   "source": [
    "main_categories = dfs['categories'].copy()\n",
    "\n",
    "# Selection of the article list of people\n",
    "people_list = main_categories.copy()[main_categories['category'].str.contains('subject.People')]\n",
    "people_list = list(people_list.article)\n",
    "\n",
    "# Main categories of all articles \n",
    "main_categories.category = [cat.split('.')[1] for cat in main_categories.category]\n",
    "# Some of them have two main categories, for now I just select the first one that appear \n",
    "main_categories = main_categories.groupby('article')['category'].first().reset_index()\n",
    "\n",
    "# Color selection for all the main categories\n",
    "color_ = [\"#F3C300\", \"#875692\", \"#F38400\", \"#A1CAF1\", \"#BE0032\", \"#C2B280\", \"#848482\" ,\"#008856\", \"#E68FAC\", \"#0067A5\" ,\"#F99379\" ,\"#604E97\", \"#F6A600\" ,\"#B3446C\", \"#DCD300\", \"#882D17\", \"#8DB600\" ,\"#654522\",\"#E25822\" ,\"#2B3D26\"]\n"
   ]
  },
  {
   "cell_type": "markdown",
   "metadata": {},
   "source": [
    "### Article graphs"
   ]
  },
  {
   "cell_type": "code",
   "execution_count": null,
   "metadata": {},
   "outputs": [
    {
     "data": {
      "image/png": "[encoded data removed]",
      "text/plain": [
       "<Figure size 1500x1000 with 1 Axes>"
      ]
     },
     "metadata": {},
     "output_type": "display_data"
    }
   ],
   "source": [
    "connection_graph(list_articles_paths, dfs['article']['article'], main_categories, 0, (15,10), node_sz=30, font_sz=12 , \n",
    "                        color_pal = color_, title = 'Connection graph of links between articles', directional = False, label = False,  people = False, plot = True)"
   ]
  },
  {
   "cell_type": "markdown",
   "metadata": {},
   "source": [
    "Due to the large number of articles used, it is difficult to observe specific things. At least, we can observed that most article are linked together. A small cluster of unkown categories can be observed. "
   ]
  },
  {
   "cell_type": "markdown",
   "metadata": {},
   "source": [
    "### People article graphs "
   ]
  },
  {
   "cell_type": "code",
   "execution_count": null,
   "metadata": {},
   "outputs": [
    {
     "name": "stdout",
     "output_type": "stream",
     "text": [
      "Connection graph of the links from 2 famous people pages (Richard Wagner & Rudyard Kipling).\n"
     ]
    },
    {
     "data": {
      "image/png": "[encoded data removed]",
      "text/plain": [
       "<Figure size 1000x800 with 1 Axes>"
      ]
     },
     "metadata": {},
     "output_type": "display_data"
    },
    {
     "data": {
      "image/png": "[encoded data removed]",
      "text/plain": [
       "<Figure size 1000x800 with 1 Axes>"
      ]
     },
     "metadata": {},
     "output_type": "display_data"
    }
   ],
   "source": [
    "\n",
    "print('Connection graph of the links from 2 famous people pages (Richard Wagner & Rudyard Kipling).')\n",
    "connection_graph(list_articles_paths[:18], dfs['article']['article'], main_categories, people_list, (10,8), node_sz=40, font_sz=12 , \n",
    "                        color_pal = color_, title = 'Two people connection graph - With direction ', directional = True, label = True,  people = True, plot = True)\n",
    "\n",
    "connection_graph(list_articles_paths[:18], dfs['article']['article'], main_categories, people_list, (10,8), node_sz=40, font_sz=12 , \n",
    "                        color_pal = color_, title = 'Two people connection graph - Without direction', directional = False, label = True,  people = True, plot = True)"
   ]
  },
  {
   "cell_type": "markdown",
   "metadata": {},
   "source": [
    "Here, we have a visualisation of the links present in the page of two people. Even for a small number of page, with the name of the nodes (articles), it is difficult to read. We are interested to see if some cluster of domain are observed, so we will only look at the categories and not the article names. "
   ]
  },
  {
   "cell_type": "code",
   "execution_count": null,
   "metadata": {},
   "outputs": [
    {
     "data": {
      "image/png": "[encoded data removed]",
      "text/plain": [
       "<Figure size 1000x800 with 1 Axes>"
      ]
     },
     "metadata": {},
     "output_type": "display_data"
    }
   ],
   "source": [
    "connection_graph(list_articles_paths[:100], dfs['article']['article'], main_categories, people_list, (10,8), node_sz=40, font_sz=12 , \n",
    "                        color_pal = color_, title = 'Small number of people page connection graph', directional = False, label = False,  people = True, plot = True)"
   ]
  },
  {
   "cell_type": "markdown",
   "metadata": {},
   "source": [
    "By incresing the number of people pages, we can start to notice some distinctions. By instance, some peoples seem more to be related to people than others. "
   ]
  },
  {
   "cell_type": "code",
   "execution_count": null,
   "metadata": {},
   "outputs": [
    {
     "data": {
      "image/png": "[encoded data removed]",
      "text/plain": [
       "<Figure size 1000x800 with 1 Axes>"
      ]
     },
     "metadata": {},
     "output_type": "display_data"
    }
   ],
   "source": [
    "connection_graph(list_articles_paths, dfs['article']['article'], main_categories, people_list, (10,8) , \n",
    "                        color_pal = color_, title = 'Connection graph of the whole people pages', directional = False, label = False,  people = True, plot = True)"
   ]
  },
  {
   "cell_type": "markdown",
   "metadata": {},
   "source": [
    "As for the whole article plot, extracting information from the links across all people's pages is difficult due to the large number of points (require an interactive connection graph). However, at least we can observe the absence of clusters of domains."
   ]
  }
 ],
 "metadata": {
  "kernelspec": {
   "display_name": "base",
   "language": "python",
   "name": "python3"
  },
  "language_info": {
   "codemirror_mode": {
    "name": "ipython",
    "version": 3
   },
   "file_extension": ".py",
   "mimetype": "text/x-python",
   "name": "python",
   "nbconvert_exporter": "python",
   "pygments_lexer": "ipython3",
   "version": "3.9.6"
  }
 },
 "nbformat": 4,
 "nbformat_minor": 2
}
