{
 "cells": [
  {
   "cell_type": "code",
   "execution_count": null,
   "metadata": {},
   "outputs": [],
   "source": [
    "#necessary imports\n",
    "import numpy as np\n",
    "import matplotlib.pyplot as plt"
   ]
  },
  {
   "cell_type": "markdown",
   "metadata": {},
   "source": [
    "## NDLM'ADA - Look up ! Stars and how we them\n",
    "##### *Timo Achard, Romane Clerc, Louise Font, Julie Korber, Emeric Martin*"
   ]
  },
  {
   "cell_type": "markdown",
   "metadata": {},
   "source": [
    "# Table of contents\n",
    "* [Data Explanation](#section1)\n",
    "    * [General pre processing](#sub_section_1_1)\n",
    "    * [Data repartition](#sub_section_1_2)\n",
    "        * [Article categories](#sub_section_1_2_1)\n",
    "        * [People categories](#sub_section_1_2_2)\n",
    "    * [Gender retrieval](#sub_section_1_3)\n",
    "        * [Gender repartition in categories](#sub_section_1_3_1)\n",
    "    * [Graph connection and article representation](#sub_section_1_4)\n",
    "\n",
    "* [Page Rank](#section2)\n",
    "    * [General results](#sub_section_2_1)\n",
    "    * [PageRank and gender](#sub_section_2_2)\n",
    "* [Links analysis](#section3)\n",
    "    * [Last links analysis](#sub_section_3_1)\n",
    "* [Influence of link position](#section4)\n",
    "    * [Distribution of position](#sub_section_4_1)\n",
    "    * [Distribution influence](#sub_section_4_2)\n",
    "* [Influence of genre](#section5)\n",
    "    * [Unbalanced data](#sub_section_5_1)\n",
    "    * [Birth data explanation](#sub_section_5_2)\n"
   ]
  },
  {
   "cell_type": "markdown",
   "metadata": {},
   "source": [
    "## 1. Data Explanation <a classe=\"anchor\" id=\"Section1\"></a>"
   ]
  },
  {
   "cell_type": "markdown",
   "metadata": {},
   "source": [
    "### 1.1 General pre processing <a id=\"sub_section_1_1\"></a>"
   ]
  },
  {
   "cell_type": "code",
   "execution_count": null,
   "metadata": {},
   "outputs": [],
   "source": [
    "# IMPORTS\n",
    "\n",
    "import pandas as pd\n",
    "import matplotlib.pyplot as plt\n",
    "from urllib.parse import unquote\n",
    "import numpy as np\n",
    "import plotly.express as px\n",
    "\n",
    "# To Extract all the URLs from the HTM page\n",
    "from bs4 import BeautifulSoup\n",
    "import os\n",
    "\n",
    "import networkx as nx\n",
    "from datetime import datetime\n",
    "\n",
    "# Draw the graph\n",
    "import seaborn as sns\n",
    "\n",
    "from helpers import (\n",
    "    extract_links,\n",
    "    change_characters,\n",
    "    path_to_name,\n",
    "    get_gender_for_name,\n",
    "    add_all_genders\n",
    "    )   \n",
    "\n",
    "# Colors definition for beautiful graphs\n",
    "\n",
    "color_male = 'red'\n",
    "color_female = 'green'\n",
    "color_unknown = 'grey'\n",
    "\n",
    "colors_categories = [\"#F3C300\",\n",
    "                      \"#875692\",\n",
    "                      \"#F38400\",\n",
    "                      \"#A1CAF1\",\n",
    "                      \"#BE0032\",\n",
    "                      \"#C2B280\",\n",
    "                      \"#848482\",\n",
    "                      \"#008856\",\n",
    "                      \"#E68FAC\",\n",
    "                      \"#0067A5\",\n",
    "                      \"#F99379\",\n",
    "                      \"#604E97\",\n",
    "                      \"#F6A600\",\n",
    "                      \"#B3446C\",\n",
    "                      \"#DCD300\",\n",
    "                      \"#882D17\",\n",
    "                      \"#8DB600\",\n",
    "                      \"#654522\",\n",
    "                      \"#E25822\",\n",
    "                      \"#2B3D26\"] # <- Tried to have colorblind-friendly colors (unsure about having 20 different colors, even for non-colorblind people...)"
   ]
  },
  {
   "cell_type": "markdown",
   "metadata": {},
   "source": [
    "### Downloading the dataset"
   ]
  },
  {
   "cell_type": "code",
   "execution_count": null,
   "metadata": {},
   "outputs": [],
   "source": [
    "# Paths\n",
    "folder_path = \"dataset/wikispeedia_paths-and-graph/\"\n",
    "file_paths = [\"paths_finished.tsv\", \"paths_unfinished.tsv\", \"categories.tsv\", \"articles.tsv\", \"links.tsv\"]\n",
    "\n",
    "# Datasets: Names and their columns name\n",
    "data_frames_names = [\"paths_finished\", \"paths_unfinished\", \"categories\", \"article\", \"links\"]\n",
    "dfs_headers = [\n",
    "    [\"hashedIpAddress\", \"timestamp\", \"durationInSec\", \"path\", \"rating\"],\n",
    "    [\"hashedIpAddress\", \"timestamp\", \"durationInSec\", \"path\", \"target\", \"type\"],\n",
    "    [\"article\", \"category\"],\n",
    "    [\"article\"],\n",
    "    [\"linkSource\", \"linkTarget\"]\n",
    "]\n",
    "\n",
    "# Download\n",
    "dfs_skiprows = [16, 17, 13, 12, 12]\n",
    "dfs = {}\n",
    "for i in range(len(file_paths)):\n",
    "    dfs[data_frames_names[i]] = pd.read_csv(folder_path + file_paths[i], sep='\\t', header=None, names=dfs_headers[i], skiprows=range(dfs_skiprows[i]))"
   ]
  },
  {
   "cell_type": "code",
   "execution_count": null,
   "metadata": {},
   "outputs": [],
   "source": [
    "# renaming and adjustments\n",
    "\n",
    "dfs = change_characters(dfs, 'paths_finished', 'path')\n",
    "dfs['paths_finished'] = dfs['paths_finished'].drop(['hashedIpAddress', 'rating'], axis = 1)\n",
    "dfs = change_characters(dfs, 'paths_unfinished', 'path')\n",
    "dfs = change_characters(dfs, 'paths_unfinished', 'target')\n",
    "dfs = change_characters(dfs, 'categories', 'article')\n",
    "dfs = change_characters(dfs, 'categories', 'category')\n",
    "categories = dfs['categories']\n",
    "dfs = change_characters(dfs, 'article', 'article')\n",
    "dfs = change_characters(dfs, 'links', 'linkSource')\n",
    "dfs = change_characters(dfs, 'links', 'linkTarget')"
   ]
  },
  {
   "cell_type": "markdown",
   "metadata": {},
   "source": [
    "### 1.2 Data repartition <a id=\"sub_section_1_2\"></a>"
   ]
  },
  {
   "cell_type": "markdown",
   "metadata": {},
   "source": [
    "#### 1.2.1 Article categories <a id=\"subsection_1_2_1\"></a>"
   ]
  },
  {
   "cell_type": "code",
   "execution_count": null,
   "metadata": {},
   "outputs": [],
   "source": [
    "# First copy the data_frame\n",
    "reduced_categories = categories.copy(deep=True)\n",
    "\n",
    "# Extract the reduced categories and add them to the copied df\n",
    "reduced_categories_list = [category.replace('subject.', '').split('.')[0] for category in reduced_categories['category']]\n",
    "reduced_categories = reduced_categories.assign(first_category = reduced_categories_list)\n",
    "\n",
    "# Extract second most important category\n",
    "reduced_categories_list_2 = [category.replace('subject.', '').split('.')[1] if len(category.replace('subject.', '').split('.')) > 1 else None for category in reduced_categories['category']]\n",
    "reduced_categories = reduced_categories.assign(second_category = reduced_categories_list_2)\n",
    "\n",
    "# Count the new distribution and plot it\n",
    "first_category_distribution = reduced_categories['first_category'].value_counts()\n",
    "second_category_distribution = reduced_categories['second_category'].value_counts()\n",
    "reduced_categories = reduced_categories.drop(columns =['article', 'category']).drop_duplicates()\n",
    "\n",
    "merged = pd.merge(second_category_distribution, reduced_categories, on = 'second_category')\n",
    "#display(merged.head())\n",
    "\n",
    "fig = px.bar(merged, x=\"first_category\", y=\"count\", color=\"second_category\", title=\"Categories represented in our dataset\")\n",
    "fig.update_layout(barmode='stack', xaxis={'categoryorder':'total descending'})\n",
    "fig.show()\n",
    "fig.write_html(\"docs/overall_dataset_bar.html\")"
   ]
  },
  {
   "cell_type": "code",
   "execution_count": null,
   "metadata": {},
   "outputs": [],
   "source": []
  },
  {
   "cell_type": "markdown",
   "metadata": {},
   "source": [
    "#### 1.2.2 People categories <a id=\"subsection_1_2_2\"></a>"
   ]
  },
  {
   "cell_type": "markdown",
   "metadata": {},
   "source": [
    "##### Extracting people data"
   ]
  },
  {
   "cell_type": "code",
   "execution_count": null,
   "metadata": {},
   "outputs": [],
   "source": [
    "\n",
    "# Selection of all the articles from a people category\n",
    "all_people_selection = categories[categories['category'].str.contains('People')]\n",
    "\n",
    "# Separate the data as people that are main or secondary people\n",
    "main_people_selection = all_people_selection[all_people_selection['category'].str.contains('subject.People')]\n",
    "second_people_selection = pd.concat([main_people_selection,all_people_selection]).drop_duplicates(keep=False)\n",
    "\n",
    "# Verify that all the articles are unique\n",
    "all_people_selection.info() \n",
    "main_people_selection.info()\n",
    "second_people_selection.info()"
   ]
  },
  {
   "cell_type": "code",
   "execution_count": null,
   "metadata": {},
   "outputs": [],
   "source": [
    "# Count for each people category\n",
    "people_categories = pd.DataFrame(main_people_selection.value_counts('category'))\n",
    "people_categories.index = [cat.replace('subject.People.', '') for cat in people_categories.index]\n",
    "people_categories['category'] = people_categories.index\n",
    "\n",
    "# Do a beautiful plot\n",
    "fig = px.bar_polar(people_categories, r=\"count\", theta=\"category\", color= colors_categories)\n",
    "fig.update_layout(showlegend=False)\n",
    "fig.show()\n",
    "#Export html for the website\n",
    "fig.write_html(\"docs/people_categories.html\")\n",
    "\n"
   ]
  },
  {
   "cell_type": "markdown",
   "metadata": {},
   "source": [
    "### 1.3 Gender retrieval <a id=\"sub_section_1_3\"></a>"
   ]
  },
  {
   "cell_type": "code",
   "execution_count": null,
   "metadata": {},
   "outputs": [],
   "source": [
    "main_people_selection = add_all_genders(main_people_selection)"
   ]
  },
  {
   "cell_type": "code",
   "execution_count": null,
   "metadata": {},
   "outputs": [],
   "source": []
  },
  {
   "cell_type": "markdown",
   "metadata": {},
   "source": [
    "#### 1.3.1 Gender repartition in categories <a id=\"subsection_1_3_1\"></a>"
   ]
  },
  {
   "cell_type": "code",
   "execution_count": null,
   "metadata": {},
   "outputs": [],
   "source": []
  },
  {
   "cell_type": "markdown",
   "metadata": {},
   "source": [
    "### 1.4 Graph connection and article representation <a id=\"sub_section_1_4\"></a>"
   ]
  },
  {
   "cell_type": "code",
   "execution_count": null,
   "metadata": {},
   "outputs": [],
   "source": []
  },
  {
   "cell_type": "markdown",
   "metadata": {},
   "source": [
    "## 2 Page Rank <a id=\"section2\"></a>"
   ]
  },
  {
   "cell_type": "code",
   "execution_count": null,
   "metadata": {},
   "outputs": [],
   "source": []
  },
  {
   "cell_type": "markdown",
   "metadata": {},
   "source": [
    "### 2.1 General results <a id=\"sub_section_2_1\"></a>"
   ]
  },
  {
   "cell_type": "code",
   "execution_count": null,
   "metadata": {},
   "outputs": [],
   "source": []
  },
  {
   "cell_type": "markdown",
   "metadata": {},
   "source": [
    "### 2.2 Page Rank and gender <a id=\"sub_section_2_2\"></a>\n"
   ]
  },
  {
   "cell_type": "code",
   "execution_count": null,
   "metadata": {},
   "outputs": [],
   "source": []
  },
  {
   "cell_type": "markdown",
   "metadata": {},
   "source": [
    "## 3 Links analysis <a id=\"section3\"></a>\n"
   ]
  },
  {
   "cell_type": "code",
   "execution_count": null,
   "metadata": {},
   "outputs": [],
   "source": []
  },
  {
   "cell_type": "markdown",
   "metadata": {},
   "source": [
    "### 3.1 Last links analysis <a id=\"sub_section_3_1\"></a>\n"
   ]
  },
  {
   "cell_type": "code",
   "execution_count": null,
   "metadata": {},
   "outputs": [],
   "source": []
  },
  {
   "cell_type": "markdown",
   "metadata": {},
   "source": [
    "## 4 Influence of link position <a id=\"section4\">\n"
   ]
  },
  {
   "cell_type": "code",
   "execution_count": null,
   "metadata": {},
   "outputs": [],
   "source": []
  },
  {
   "cell_type": "markdown",
   "metadata": {},
   "source": [
    "### 4.1 Distribution of position <a id=\"sub_section_4_1\"></a>\n"
   ]
  },
  {
   "cell_type": "code",
   "execution_count": null,
   "metadata": {},
   "outputs": [],
   "source": []
  },
  {
   "cell_type": "markdown",
   "metadata": {},
   "source": [
    "### 4.2 Distribution of influence <a id=\"sub_section_4_2\"></a>\n"
   ]
  },
  {
   "cell_type": "code",
   "execution_count": null,
   "metadata": {},
   "outputs": [],
   "source": []
  },
  {
   "cell_type": "markdown",
   "metadata": {},
   "source": [
    "## 5 Influence of genre <a id=\"section5\"></a>\n"
   ]
  },
  {
   "cell_type": "code",
   "execution_count": null,
   "metadata": {},
   "outputs": [],
   "source": []
  },
  {
   "cell_type": "markdown",
   "metadata": {},
   "source": [
    "### 5.1 Unbalanced data <a id=\"sub_section_5_1\"></a>\n"
   ]
  },
  {
   "cell_type": "code",
   "execution_count": null,
   "metadata": {},
   "outputs": [],
   "source": []
  },
  {
   "cell_type": "markdown",
   "metadata": {},
   "source": [
    "### 5.2 Birth of date explanation <a id=\"sub_section_5_2\"></a>"
   ]
  },
  {
   "cell_type": "code",
   "execution_count": null,
   "metadata": {},
   "outputs": [],
   "source": []
  }
 ],
 "metadata": {
  "language_info": {
   "name": "python"
  }
 },
 "nbformat": 4,
 "nbformat_minor": 2
}
