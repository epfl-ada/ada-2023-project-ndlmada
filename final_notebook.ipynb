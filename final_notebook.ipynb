{
 "cells": [
  {
   "cell_type": "code",
   "execution_count": 1,
   "metadata": {},
   "outputs": [
    {
     "name": "stderr",
     "output_type": "stream",
     "text": [
      "/Users/louisefont/Library/Python/3.9/lib/python/site-packages/urllib3/__init__.py:34: NotOpenSSLWarning: urllib3 v2 only supports OpenSSL 1.1.1+, currently the 'ssl' module is compiled with 'LibreSSL 2.8.3'. See: https://github.com/urllib3/urllib3/issues/3020\n",
      "  warnings.warn(\n"
     ]
    }
   ],
   "source": [
    "#necessary imports\n",
    "\n",
    "import pandas as pd\n",
    "import matplotlib.pyplot as plt\n",
    "from urllib.parse import unquote\n",
    "import numpy as np\n",
    "import plotly.express as px\n",
    "\n",
    "# To Extract all the URLs from the HTM page\n",
    "from bs4 import BeautifulSoup\n",
    "import os\n",
    "\n",
    "import networkx as nx\n",
    "from datetime import datetime\n",
    "\n",
    "# Draw the graph\n",
    "import seaborn as sns\n",
    "\n",
    "from helpers import (\n",
    "    extract_links,\n",
    "    change_characters,\n",
    "    path_to_name,\n",
    "    get_gender_for_name,\n",
    "    add_all_genders,\n",
    "    get_dict_from_list,\n",
    "    update_dict_with_counts,\n",
    "    replace_to_simple,\n",
    "    create_dict_for_plotly_bar\n",
    "    )   \n",
    "%load_ext autoreload\n"
   ]
  },
  {
   "cell_type": "markdown",
   "metadata": {},
   "source": [
    "## NDLM'ADA - Look up ! Stars and how we them\n",
    "##### *Timo Achard, Romane Clerc, Louise Font, Julie Korber, Emeric Martin*"
   ]
  },
  {
   "cell_type": "markdown",
   "metadata": {},
   "source": [
    "# Table of contents\n",
    "* [Data Explanation](#section1)\n",
    "    * [General pre processing](#sub_section_1_1)\n",
    "    * [Data repartition](#sub_section_1_2)\n",
    "        * [Article categories](#sub_section_1_2_1)\n",
    "        * [People categories](#sub_section_1_2_2)\n",
    "    * [Gender retrieval](#sub_section_1_3)\n",
    "        * [Gender repartition in categories](#sub_section_1_3_1)\n",
    "    * [Graph connection and article representation](#sub_section_1_4)\n",
    "\n",
    "* [Page Rank](#section2)\n",
    "    * [General results](#sub_section_2_1)\n",
    "    * [PageRank and gender](#sub_section_2_2)\n",
    "* [Links analysis](#section3)\n",
    "    * [Get the data](#sub_section_3_1)\n",
    "    * [Distribution of last path](#sub_section_3_2)\n",
    "    * [Plot the paths](#sub_section_3_3)\n",
    "* [Influence of link position](#section4)\n",
    "    * [Distribution of position](#sub_section_4_1)\n",
    "    * [Distribution influence](#sub_section_4_2)\n",
    "* [Influence of genre](#section5)\n",
    "    * [Unbalanced data](#sub_section_5_1)\n",
    "    * [Birth data explanation](#sub_section_5_2)\n"
   ]
  },
  {
   "cell_type": "markdown",
   "metadata": {},
   "source": [
    "## 1. Data Explanation <a classe=\"anchor\" id=\"Section1\"></a>"
   ]
  },
  {
   "cell_type": "markdown",
   "metadata": {},
   "source": [
    "### 1.1 General pre processing <a id=\"sub_section_1_1\"></a>"
   ]
  },
  {
   "cell_type": "code",
   "execution_count": 2,
   "metadata": {},
   "outputs": [],
   "source": [
    "\n",
    "\n",
    "# Colors definition for beautiful graphs\n",
    "\n",
    "# Gender colors were inspired by this article : https://www.telegraph.co.uk/women/business/women-mean-business-interactive/\n",
    "color_male = '#0acc65'\n",
    "color_female = '#9904de'\n",
    "color_unknown = 'grey'\n",
    "colors_gender = [color_male, color_female, color_unknown]\n",
    "\n",
    "colors_categories = [\"#F3C300\",\n",
    "                      \"#875692\",\n",
    "                      \"#F38400\",\n",
    "                      \"#A1CAF1\",\n",
    "                      \"#BE0032\",\n",
    "                      \"#C2B280\",\n",
    "                      \"#848482\",\n",
    "                      \"#008856\",\n",
    "                      \"#E68FAC\",\n",
    "                      \"#0067A5\",\n",
    "                      \"#F99379\",\n",
    "                      \"#604E97\",\n",
    "                      \"#F6A600\",\n",
    "                      \"#B3446C\",\n",
    "                      \"#DCD300\",\n",
    "                      \"#882D17\",\n",
    "                      \"#8DB600\",\n",
    "                      \"#654522\",\n",
    "                      \"#E25822\",\n",
    "                      \"#2B3D26\"] # <- Tried to have colorblind-friendly colors (unsure about having 20 different colors, even for non-colorblind people...)\n",
    "\n",
    "color_dict = {'Science':'#48b059', 'Geography':'#3d8039', 'People':'#b44624','History':'#ff8544','Everyday_life':'#e25d90', 'Design_and_Technology':'#8b1e9c','Countries':'#a7d145','Citizenship':'#fced3e', 'Language_and_literature':'#6bc6ff', 'Religion':'#1d59a8', 'Music':'#ffa7dc', 'Business_Studies':'#ffec6f','IT':'#008756','Mathematics':'#6bffce','Art':'#e0025e'}\n"
   ]
  },
  {
   "cell_type": "markdown",
   "metadata": {},
   "source": [
    "### Downloading the dataset"
   ]
  },
  {
   "cell_type": "code",
   "execution_count": 3,
   "metadata": {},
   "outputs": [],
   "source": [
    "# Paths\n",
    "folder_path = \"dataset/wikispeedia_paths-and-graph/\"\n",
    "file_paths = [\"paths_finished.tsv\", \"paths_unfinished.tsv\", \"categories.tsv\", \"articles.tsv\", \"links.tsv\"]\n",
    "\n",
    "# Datasets: Names and their columns name\n",
    "data_frames_names = [\"paths_finished\", \"paths_unfinished\", \"categories\", \"article\", \"links\"]\n",
    "dfs_headers = [\n",
    "    [\"hashedIpAddress\", \"timestamp\", \"durationInSec\", \"path\", \"rating\"],\n",
    "    [\"hashedIpAddress\", \"timestamp\", \"durationInSec\", \"path\", \"target\", \"type\"],\n",
    "    [\"article\", \"category\"],\n",
    "    [\"article\"],\n",
    "    [\"linkSource\", \"linkTarget\"]\n",
    "]\n",
    "\n",
    "# Download\n",
    "dfs_skiprows = [16, 17, 13, 12, 12]\n",
    "dfs = {}\n",
    "for i in range(len(file_paths)):\n",
    "    dfs[data_frames_names[i]] = pd.read_csv(folder_path + file_paths[i], sep='\\t', header=None, names=dfs_headers[i], skiprows=range(dfs_skiprows[i]))"
   ]
  },
  {
   "cell_type": "code",
   "execution_count": 4,
   "metadata": {},
   "outputs": [],
   "source": [
    "# renaming and adjustments\n",
    "\n",
    "dfs = change_characters(dfs, 'paths_finished', 'path')\n",
    "dfs['paths_finished'] = dfs['paths_finished'].drop(['hashedIpAddress', 'rating'], axis = 1)\n",
    "dfs = change_characters(dfs, 'paths_unfinished', 'path')\n",
    "dfs = change_characters(dfs, 'paths_unfinished', 'target')\n",
    "dfs = change_characters(dfs, 'categories', 'article')\n",
    "dfs = change_characters(dfs, 'categories', 'category')\n",
    "categories = dfs['categories']\n",
    "dfs = change_characters(dfs, 'article', 'article')\n",
    "dfs = change_characters(dfs, 'links', 'linkSource')\n",
    "dfs = change_characters(dfs, 'links', 'linkTarget')"
   ]
  },
  {
   "cell_type": "markdown",
   "metadata": {},
   "source": [
    "### 1.2 Data repartition <a id=\"sub_section_1_2\"></a>"
   ]
  },
  {
   "cell_type": "markdown",
   "metadata": {},
   "source": [
    "#### 1.2.1 Article categories <a id=\"subsection_1_2_1\"></a>"
   ]
  },
  {
   "cell_type": "code",
   "execution_count": 5,
   "metadata": {},
   "outputs": [
    {
     "data": {
      "application/vnd.plotly.v1+json": {
       "config": {
        "plotlyServerURL": "https://plot.ly"
       },
       "data": [
        {
         "alignmentgroup": "True",
         "hovertemplate": "second_category=Biology<br>first_category=%{x}<br>count=%{y}<extra></extra>",
         "legendgroup": "Biology",
         "marker": {
          "color": "#636efa",
          "pattern": {
           "shape": ""
          }
         },
         "name": "Biology",
         "offsetgroup": "Biology",
         "orientation": "v",
         "showlegend": true,
         "textposition": "auto",
         "type": "bar",
         "x": [
          "Science"
         ],
         "xaxis": "x",
         "y": [
          704
         ],
         "yaxis": "y"
        },
        {
         "alignmentgroup": "True",
         "hovertemplate": "second_category=Physics<br>first_category=%{x}<br>count=%{y}<extra></extra>",
         "legendgroup": "Physics",
         "marker": {
          "color": "#EF553B",
          "pattern": {
           "shape": ""
          }
         },
         "name": "Physics",
         "offsetgroup": "Physics",
         "orientation": "v",
         "showlegend": true,
         "textposition": "auto",
         "type": "bar",
         "x": [
          "Science"
         ],
         "xaxis": "x",
         "y": [
          226
         ],
         "yaxis": "y"
        },
        {
         "alignmentgroup": "True",
         "hovertemplate": "second_category=Chemistry<br>first_category=%{x}<br>count=%{y}<extra></extra>",
         "legendgroup": "Chemistry",
         "marker": {
          "color": "#00cc96",
          "pattern": {
           "shape": ""
          }
         },
         "name": "Chemistry",
         "offsetgroup": "Chemistry",
         "orientation": "v",
         "showlegend": true,
         "textposition": "auto",
         "type": "bar",
         "x": [
          "Science"
         ],
         "xaxis": "x",
         "y": [
          192
         ],
         "yaxis": "y"
        },
        {
         "alignmentgroup": "True",
         "hovertemplate": "second_category=British_History<br>first_category=%{x}<br>count=%{y}<extra></extra>",
         "legendgroup": "British_History",
         "marker": {
          "color": "#ab63fa",
          "pattern": {
           "shape": ""
          }
         },
         "name": "British_History",
         "offsetgroup": "British_History",
         "orientation": "v",
         "showlegend": true,
         "textposition": "auto",
         "type": "bar",
         "x": [
          "History"
         ],
         "xaxis": "x",
         "y": [
          158
         ],
         "yaxis": "y"
        },
        {
         "alignmentgroup": "True",
         "hovertemplate": "second_category=European_Geography<br>first_category=%{x}<br>count=%{y}<extra></extra>",
         "legendgroup": "European_Geography",
         "marker": {
          "color": "#FFA15A",
          "pattern": {
           "shape": ""
          }
         },
         "name": "European_Geography",
         "offsetgroup": "European_Geography",
         "orientation": "v",
         "showlegend": true,
         "textposition": "auto",
         "type": "bar",
         "x": [
          "Geography"
         ],
         "xaxis": "x",
         "y": [
          139
         ],
         "yaxis": "y"
        },
        {
         "alignmentgroup": "True",
         "hovertemplate": "second_category=African_Geography<br>first_category=%{x}<br>count=%{y}<extra></extra>",
         "legendgroup": "African_Geography",
         "marker": {
          "color": "#19d3f3",
          "pattern": {
           "shape": ""
          }
         },
         "name": "African_Geography",
         "offsetgroup": "African_Geography",
         "orientation": "v",
         "showlegend": true,
         "textposition": "auto",
         "type": "bar",
         "x": [
          "Geography"
         ],
         "xaxis": "x",
         "y": [
          137
         ],
         "yaxis": "y"
        },
        {
         "alignmentgroup": "True",
         "hovertemplate": "second_category=Geography_of_Great_Britain<br>first_category=%{x}<br>count=%{y}<extra></extra>",
         "legendgroup": "Geography_of_Great_Britain",
         "marker": {
          "color": "#FF6692",
          "pattern": {
           "shape": ""
          }
         },
         "name": "Geography_of_Great_Britain",
         "offsetgroup": "Geography_of_Great_Britain",
         "orientation": "v",
         "showlegend": true,
         "textposition": "auto",
         "type": "bar",
         "x": [
          "Geography"
         ],
         "xaxis": "x",
         "y": [
          124
         ],
         "yaxis": "y"
        },
        {
         "alignmentgroup": "True",
         "hovertemplate": "second_category=Historical_figures<br>first_category=%{x}<br>count=%{y}<extra></extra>",
         "legendgroup": "Historical_figures",
         "marker": {
          "color": "#B6E880",
          "pattern": {
           "shape": ""
          }
         },
         "name": "Historical_figures",
         "offsetgroup": "Historical_figures",
         "orientation": "v",
         "showlegend": true,
         "textposition": "auto",
         "type": "bar",
         "x": [
          "People"
         ],
         "xaxis": "x",
         "y": [
          108
         ],
         "yaxis": "y"
        },
        {
         "alignmentgroup": "True",
         "hovertemplate": "second_category=Geography_of_Asia<br>first_category=%{x}<br>count=%{y}<extra></extra>",
         "legendgroup": "Geography_of_Asia",
         "marker": {
          "color": "#FF97FF",
          "pattern": {
           "shape": ""
          }
         },
         "name": "Geography_of_Asia",
         "offsetgroup": "Geography_of_Asia",
         "orientation": "v",
         "showlegend": true,
         "textposition": "auto",
         "type": "bar",
         "x": [
          "Geography"
         ],
         "xaxis": "x",
         "y": [
          106
         ],
         "yaxis": "y"
        },
        {
         "alignmentgroup": "True",
         "hovertemplate": "second_category=North_American_Geography<br>first_category=%{x}<br>count=%{y}<extra></extra>",
         "legendgroup": "North_American_Geography",
         "marker": {
          "color": "#FECB52",
          "pattern": {
           "shape": ""
          }
         },
         "name": "North_American_Geography",
         "offsetgroup": "North_American_Geography",
         "orientation": "v",
         "showlegend": true,
         "textposition": "auto",
         "type": "bar",
         "x": [
          "Geography"
         ],
         "xaxis": "x",
         "y": [
          103
         ],
         "yaxis": "y"
        },
        {
         "alignmentgroup": "True",
         "hovertemplate": "second_category=Politics_and_government<br>first_category=%{x}<br>count=%{y}<extra></extra>",
         "legendgroup": "Politics_and_government",
         "marker": {
          "color": "#636efa",
          "pattern": {
           "shape": ""
          }
         },
         "name": "Politics_and_government",
         "offsetgroup": "Politics_and_government",
         "orientation": "v",
         "showlegend": true,
         "textposition": "auto",
         "type": "bar",
         "x": [
          "Citizenship"
         ],
         "xaxis": "x",
         "y": [
          97
         ],
         "yaxis": "y"
        },
        {
         "alignmentgroup": "True",
         "hovertemplate": "second_category=Food_and_agriculture<br>first_category=%{x}<br>count=%{y}<extra></extra>",
         "legendgroup": "Food_and_agriculture",
         "marker": {
          "color": "#EF553B",
          "pattern": {
           "shape": ""
          }
         },
         "name": "Food_and_agriculture",
         "offsetgroup": "Food_and_agriculture",
         "orientation": "v",
         "showlegend": true,
         "textposition": "auto",
         "type": "bar",
         "x": [
          "Everyday_life"
         ],
         "xaxis": "x",
         "y": [
          97
         ],
         "yaxis": "y"
        },
        {
         "alignmentgroup": "True",
         "hovertemplate": "second_category=Ancient_History_Classical_History_and_Mythology<br>first_category=%{x}<br>count=%{y}<extra></extra>",
         "legendgroup": "Ancient_History_Classical_History_and_Mythology",
         "marker": {
          "color": "#00cc96",
          "pattern": {
           "shape": ""
          }
         },
         "name": "Ancient_History_Classical_History_and_Mythology",
         "offsetgroup": "Ancient_History_Classical_History_and_Mythology",
         "orientation": "v",
         "showlegend": true,
         "textposition": "auto",
         "type": "bar",
         "x": [
          "History"
         ],
         "xaxis": "x",
         "y": [
          87
         ],
         "yaxis": "y"
        },
        {
         "alignmentgroup": "True",
         "hovertemplate": "second_category=Railway_transport<br>first_category=%{x}<br>count=%{y}<extra></extra>",
         "legendgroup": "Railway_transport",
         "marker": {
          "color": "#ab63fa",
          "pattern": {
           "shape": ""
          }
         },
         "name": "Railway_transport",
         "offsetgroup": "Railway_transport",
         "orientation": "v",
         "showlegend": true,
         "textposition": "auto",
         "type": "bar",
         "x": [
          "Design_and_Technology"
         ],
         "xaxis": "x",
         "y": [
          84
         ],
         "yaxis": "y"
        },
        {
         "alignmentgroup": "True",
         "hovertemplate": "second_category=Central_and_South_American_Geography<br>first_category=%{x}<br>count=%{y}<extra></extra>",
         "legendgroup": "Central_and_South_American_Geography",
         "marker": {
          "color": "#FFA15A",
          "pattern": {
           "shape": ""
          }
         },
         "name": "Central_and_South_American_Geography",
         "offsetgroup": "Central_and_South_American_Geography",
         "orientation": "v",
         "showlegend": true,
         "textposition": "auto",
         "type": "bar",
         "x": [
          "Geography"
         ],
         "xaxis": "x",
         "y": [
          83
         ],
         "yaxis": "y"
        },
        {
         "alignmentgroup": "True",
         "hovertemplate": "second_category=General_history<br>first_category=%{x}<br>count=%{y}<extra></extra>",
         "legendgroup": "General_history",
         "marker": {
          "color": "#19d3f3",
          "pattern": {
           "shape": ""
          }
         },
         "name": "General_history",
         "offsetgroup": "General_history",
         "orientation": "v",
         "showlegend": true,
         "textposition": "auto",
         "type": "bar",
         "x": [
          "History"
         ],
         "xaxis": "x",
         "y": [
          80
         ],
         "yaxis": "y"
        },
        {
         "alignmentgroup": "True",
         "hovertemplate": "second_category=Geology_and_geophysics<br>first_category=%{x}<br>count=%{y}<extra></extra>",
         "legendgroup": "Geology_and_geophysics",
         "marker": {
          "color": "#FF6692",
          "pattern": {
           "shape": ""
          }
         },
         "name": "Geology_and_geophysics",
         "offsetgroup": "Geology_and_geophysics",
         "orientation": "v",
         "showlegend": true,
         "textposition": "auto",
         "type": "bar",
         "x": [
          "Geography"
         ],
         "xaxis": "x",
         "y": [
          76
         ],
         "yaxis": "y"
        },
        {
         "alignmentgroup": "True",
         "hovertemplate": "second_category=Engineering<br>first_category=%{x}<br>count=%{y}<extra></extra>",
         "legendgroup": "Engineering",
         "marker": {
          "color": "#B6E880",
          "pattern": {
           "shape": ""
          }
         },
         "name": "Engineering",
         "offsetgroup": "Engineering",
         "orientation": "v",
         "showlegend": true,
         "textposition": "auto",
         "type": "bar",
         "x": [
          "Design_and_Technology"
         ],
         "xaxis": "x",
         "y": [
          74
         ],
         "yaxis": "y"
        },
        {
         "alignmentgroup": "True",
         "hovertemplate": "second_category=Writers_and_critics<br>first_category=%{x}<br>count=%{y}<extra></extra>",
         "legendgroup": "Writers_and_critics",
         "marker": {
          "color": "#FF97FF",
          "pattern": {
           "shape": ""
          }
         },
         "name": "Writers_and_critics",
         "offsetgroup": "Writers_and_critics",
         "orientation": "v",
         "showlegend": true,
         "textposition": "auto",
         "type": "bar",
         "x": [
          "People"
         ],
         "xaxis": "x",
         "y": [
          71
         ],
         "yaxis": "y"
        },
        {
         "alignmentgroup": "True",
         "hovertemplate": "second_category=Military_History_and_War<br>first_category=%{x}<br>count=%{y}<extra></extra>",
         "legendgroup": "Military_History_and_War",
         "marker": {
          "color": "#FECB52",
          "pattern": {
           "shape": ""
          }
         },
         "name": "Military_History_and_War",
         "offsetgroup": "Military_History_and_War",
         "orientation": "v",
         "showlegend": true,
         "textposition": "auto",
         "type": "bar",
         "x": [
          "History"
         ],
         "xaxis": "x",
         "y": [
          71
         ],
         "yaxis": "y"
        },
        {
         "alignmentgroup": "True",
         "hovertemplate": "second_category=Political_People<br>first_category=%{x}<br>count=%{y}<extra></extra>",
         "legendgroup": "Political_People",
         "marker": {
          "color": "#636efa",
          "pattern": {
           "shape": ""
          }
         },
         "name": "Political_People",
         "offsetgroup": "Political_People",
         "orientation": "v",
         "showlegend": true,
         "textposition": "auto",
         "type": "bar",
         "x": [
          "People"
         ],
         "xaxis": "x",
         "y": [
          67
         ],
         "yaxis": "y"
        },
        {
         "alignmentgroup": "True",
         "hovertemplate": "second_category=General_Geography<br>first_category=%{x}<br>count=%{y}<extra></extra>",
         "legendgroup": "General_Geography",
         "marker": {
          "color": "#EF553B",
          "pattern": {
           "shape": ""
          }
         },
         "name": "General_Geography",
         "offsetgroup": "General_Geography",
         "orientation": "v",
         "showlegend": true,
         "textposition": "auto",
         "type": "bar",
         "x": [
          "Geography"
         ],
         "xaxis": "x",
         "y": [
          65
         ],
         "yaxis": "y"
        },
        {
         "alignmentgroup": "True",
         "hovertemplate": "second_category=Performers_and_composers<br>first_category=%{x}<br>count=%{y}<extra></extra>",
         "legendgroup": "Performers_and_composers",
         "marker": {
          "color": "#00cc96",
          "pattern": {
           "shape": ""
          }
         },
         "name": "Performers_and_composers",
         "offsetgroup": "Performers_and_composers",
         "orientation": "v",
         "showlegend": true,
         "textposition": "auto",
         "type": "bar",
         "x": [
          "Music",
          "People"
         ],
         "xaxis": "x",
         "y": [
          59,
          59
         ],
         "yaxis": "y"
        },
        {
         "alignmentgroup": "True",
         "hovertemplate": "second_category=Geography_of_Oceania_Australasia<br>first_category=%{x}<br>count=%{y}<extra></extra>",
         "legendgroup": "Geography_of_Oceania_Australasia",
         "marker": {
          "color": "#ab63fa",
          "pattern": {
           "shape": ""
          }
         },
         "name": "Geography_of_Oceania_Australasia",
         "offsetgroup": "Geography_of_Oceania_Australasia",
         "orientation": "v",
         "showlegend": true,
         "textposition": "auto",
         "type": "bar",
         "x": [
          "Geography"
         ],
         "xaxis": "x",
         "y": [
          58
         ],
         "yaxis": "y"
        },
        {
         "alignmentgroup": "True",
         "hovertemplate": "second_category=Architecture<br>first_category=%{x}<br>count=%{y}<extra></extra>",
         "legendgroup": "Architecture",
         "marker": {
          "color": "#FFA15A",
          "pattern": {
           "shape": ""
          }
         },
         "name": "Architecture",
         "offsetgroup": "Architecture",
         "orientation": "v",
         "showlegend": true,
         "textposition": "auto",
         "type": "bar",
         "x": [
          "Design_and_Technology"
         ],
         "xaxis": "x",
         "y": [
          53
         ],
         "yaxis": "y"
        },
        {
         "alignmentgroup": "True",
         "hovertemplate": "second_category=Recent_History<br>first_category=%{x}<br>count=%{y}<extra></extra>",
         "legendgroup": "Recent_History",
         "marker": {
          "color": "#19d3f3",
          "pattern": {
           "shape": ""
          }
         },
         "name": "Recent_History",
         "offsetgroup": "Recent_History",
         "orientation": "v",
         "showlegend": true,
         "textposition": "auto",
         "type": "bar",
         "x": [
          "History"
         ],
         "xaxis": "x",
         "y": [
          48
         ],
         "yaxis": "y"
        },
        {
         "alignmentgroup": "True",
         "hovertemplate": "second_category=Languages<br>first_category=%{x}<br>count=%{y}<extra></extra>",
         "legendgroup": "Languages",
         "marker": {
          "color": "#FF6692",
          "pattern": {
           "shape": ""
          }
         },
         "name": "Languages",
         "offsetgroup": "Languages",
         "orientation": "v",
         "showlegend": true,
         "textposition": "auto",
         "type": "bar",
         "x": [
          "Language_and_literature"
         ],
         "xaxis": "x",
         "y": [
          47
         ],
         "yaxis": "y"
        },
        {
         "alignmentgroup": "True",
         "hovertemplate": "second_category=Musical_genres_styles_eras_and_events<br>first_category=%{x}<br>count=%{y}<extra></extra>",
         "legendgroup": "Musical_genres_styles_eras_and_events",
         "marker": {
          "color": "#B6E880",
          "pattern": {
           "shape": ""
          }
         },
         "name": "Musical_genres_styles_eras_and_events",
         "offsetgroup": "Musical_genres_styles_eras_and_events",
         "orientation": "v",
         "showlegend": true,
         "textposition": "auto",
         "type": "bar",
         "x": [
          "Music"
         ],
         "xaxis": "x",
         "y": [
          46
         ],
         "yaxis": "y"
        },
        {
         "alignmentgroup": "True",
         "hovertemplate": "second_category=Sports_and_games_people<br>first_category=%{x}<br>count=%{y}<extra></extra>",
         "legendgroup": "Sports_and_games_people",
         "marker": {
          "color": "#FF97FF",
          "pattern": {
           "shape": ""
          }
         },
         "name": "Sports_and_games_people",
         "offsetgroup": "Sports_and_games_people",
         "orientation": "v",
         "showlegend": true,
         "textposition": "auto",
         "type": "bar",
         "x": [
          "People"
         ],
         "xaxis": "x",
         "y": [
          45
         ],
         "yaxis": "y"
        },
        {
         "alignmentgroup": "True",
         "hovertemplate": "second_category=Monarchs_of_Great_Britain<br>first_category=%{x}<br>count=%{y}<extra></extra>",
         "legendgroup": "Monarchs_of_Great_Britain",
         "marker": {
          "color": "#FECB52",
          "pattern": {
           "shape": ""
          }
         },
         "name": "Monarchs_of_Great_Britain",
         "offsetgroup": "Monarchs_of_Great_Britain",
         "orientation": "v",
         "showlegend": true,
         "textposition": "auto",
         "type": "bar",
         "x": [
          "People"
         ],
         "xaxis": "x",
         "y": [
          43
         ],
         "yaxis": "y"
        },
        {
         "alignmentgroup": "True",
         "hovertemplate": "second_category=Television<br>first_category=%{x}<br>count=%{y}<extra></extra>",
         "legendgroup": "Television",
         "marker": {
          "color": "#636efa",
          "pattern": {
           "shape": ""
          }
         },
         "name": "Television",
         "offsetgroup": "Television",
         "orientation": "v",
         "showlegend": true,
         "textposition": "auto",
         "type": "bar",
         "x": [
          "Everyday_life"
         ],
         "xaxis": "x",
         "y": [
          41
         ],
         "yaxis": "y"
        },
        {
         "alignmentgroup": "True",
         "hovertemplate": "second_category=Natural_Disasters<br>first_category=%{x}<br>count=%{y}<extra></extra>",
         "legendgroup": "Natural_Disasters",
         "marker": {
          "color": "#EF553B",
          "pattern": {
           "shape": ""
          }
         },
         "name": "Natural_Disasters",
         "offsetgroup": "Natural_Disasters",
         "orientation": "v",
         "showlegend": true,
         "textposition": "auto",
         "type": "bar",
         "x": [
          "Geography"
         ],
         "xaxis": "x",
         "y": [
          39
         ],
         "yaxis": "y"
        },
        {
         "alignmentgroup": "True",
         "hovertemplate": "second_category=Religious_figures_and_leaders<br>first_category=%{x}<br>count=%{y}<extra></extra>",
         "legendgroup": "Religious_figures_and_leaders",
         "marker": {
          "color": "#00cc96",
          "pattern": {
           "shape": ""
          }
         },
         "name": "Religious_figures_and_leaders",
         "offsetgroup": "Religious_figures_and_leaders",
         "orientation": "v",
         "showlegend": true,
         "textposition": "auto",
         "type": "bar",
         "x": [
          "People"
         ],
         "xaxis": "x",
         "y": [
          39
         ],
         "yaxis": "y"
        },
        {
         "alignmentgroup": "True",
         "hovertemplate": "second_category=Novels<br>first_category=%{x}<br>count=%{y}<extra></extra>",
         "legendgroup": "Novels",
         "marker": {
          "color": "#ab63fa",
          "pattern": {
           "shape": ""
          }
         },
         "name": "Novels",
         "offsetgroup": "Novels",
         "orientation": "v",
         "showlegend": true,
         "textposition": "auto",
         "type": "bar",
         "x": [
          "Language_and_literature"
         ],
         "xaxis": "x",
         "y": [
          39
         ],
         "yaxis": "y"
        },
        {
         "alignmentgroup": "True",
         "hovertemplate": "second_category=Climate_and_the_Weather<br>first_category=%{x}<br>count=%{y}<extra></extra>",
         "legendgroup": "Climate_and_the_Weather",
         "marker": {
          "color": "#FFA15A",
          "pattern": {
           "shape": ""
          }
         },
         "name": "Climate_and_the_Weather",
         "offsetgroup": "Climate_and_the_Weather",
         "orientation": "v",
         "showlegend": true,
         "textposition": "auto",
         "type": "bar",
         "x": [
          "Geography"
         ],
         "xaxis": "x",
         "y": [
          38
         ],
         "yaxis": "y"
        },
        {
         "alignmentgroup": "True",
         "hovertemplate": "second_category=Artists<br>first_category=%{x}<br>count=%{y}<extra></extra>",
         "legendgroup": "Artists",
         "marker": {
          "color": "#19d3f3",
          "pattern": {
           "shape": ""
          }
         },
         "name": "Artists",
         "offsetgroup": "Artists",
         "orientation": "v",
         "showlegend": true,
         "textposition": "auto",
         "type": "bar",
         "x": [
          "People",
          "Art"
         ],
         "xaxis": "x",
         "y": [
          38,
          38
         ],
         "yaxis": "y"
        },
        {
         "alignmentgroup": "True",
         "hovertemplate": "second_category=USA_Presidents<br>first_category=%{x}<br>count=%{y}<extra></extra>",
         "legendgroup": "USA_Presidents",
         "marker": {
          "color": "#FF6692",
          "pattern": {
           "shape": ""
          }
         },
         "name": "USA_Presidents",
         "offsetgroup": "USA_Presidents",
         "orientation": "v",
         "showlegend": true,
         "textposition": "auto",
         "type": "bar",
         "x": [
          "People"
         ],
         "xaxis": "x",
         "y": [
          37
         ],
         "yaxis": "y"
        },
        {
         "alignmentgroup": "True",
         "hovertemplate": "second_category=Films<br>first_category=%{x}<br>count=%{y}<extra></extra>",
         "legendgroup": "Films",
         "marker": {
          "color": "#B6E880",
          "pattern": {
           "shape": ""
          }
         },
         "name": "Films",
         "offsetgroup": "Films",
         "orientation": "v",
         "showlegend": true,
         "textposition": "auto",
         "type": "bar",
         "x": [
          "Everyday_life"
         ],
         "xaxis": "x",
         "y": [
          36
         ],
         "yaxis": "y"
        },
        {
         "alignmentgroup": "True",
         "hovertemplate": "second_category=Art<br>first_category=%{x}<br>count=%{y}<extra></extra>",
         "legendgroup": "Art",
         "marker": {
          "color": "#FF97FF",
          "pattern": {
           "shape": ""
          }
         },
         "name": "Art",
         "offsetgroup": "Art",
         "orientation": "v",
         "showlegend": true,
         "textposition": "auto",
         "type": "bar",
         "x": [
          "Art"
         ],
         "xaxis": "x",
         "y": [
          36
         ],
         "yaxis": "y"
        },
        {
         "alignmentgroup": "True",
         "hovertemplate": "second_category=Geography_of_the_Middle_East<br>first_category=%{x}<br>count=%{y}<extra></extra>",
         "legendgroup": "Geography_of_the_Middle_East",
         "marker": {
          "color": "#FECB52",
          "pattern": {
           "shape": ""
          }
         },
         "name": "Geography_of_the_Middle_East",
         "offsetgroup": "Geography_of_the_Middle_East",
         "orientation": "v",
         "showlegend": true,
         "textposition": "auto",
         "type": "bar",
         "x": [
          "Geography"
         ],
         "xaxis": "x",
         "y": [
          36
         ],
         "yaxis": "y"
        },
        {
         "alignmentgroup": "True",
         "hovertemplate": "second_category=Religious_movements_traditions_and_organizations<br>first_category=%{x}<br>count=%{y}<extra></extra>",
         "legendgroup": "Religious_movements_traditions_and_organizations",
         "marker": {
          "color": "#636efa",
          "pattern": {
           "shape": ""
          }
         },
         "name": "Religious_movements_traditions_and_organizations",
         "offsetgroup": "Religious_movements_traditions_and_organizations",
         "orientation": "v",
         "showlegend": true,
         "textposition": "auto",
         "type": "bar",
         "x": [
          "Religion"
         ],
         "xaxis": "x",
         "y": [
          35
         ],
         "yaxis": "y"
        },
        {
         "alignmentgroup": "True",
         "hovertemplate": "second_category=Storms<br>first_category=%{x}<br>count=%{y}<extra></extra>",
         "legendgroup": "Storms",
         "marker": {
          "color": "#EF553B",
          "pattern": {
           "shape": ""
          }
         },
         "name": "Storms",
         "offsetgroup": "Storms",
         "orientation": "v",
         "showlegend": true,
         "textposition": "auto",
         "type": "bar",
         "x": [
          "Geography"
         ],
         "xaxis": "x",
         "y": [
          33
         ],
         "yaxis": "y"
        },
        {
         "alignmentgroup": "True",
         "hovertemplate": "second_category=Theatre<br>first_category=%{x}<br>count=%{y}<extra></extra>",
         "legendgroup": "Theatre",
         "marker": {
          "color": "#00cc96",
          "pattern": {
           "shape": ""
          }
         },
         "name": "Theatre",
         "offsetgroup": "Theatre",
         "orientation": "v",
         "showlegend": true,
         "textposition": "auto",
         "type": "bar",
         "x": [
          "Language_and_literature"
         ],
         "xaxis": "x",
         "y": [
          32
         ],
         "yaxis": "y"
        },
        {
         "alignmentgroup": "True",
         "hovertemplate": "second_category=Sports<br>first_category=%{x}<br>count=%{y}<extra></extra>",
         "legendgroup": "Sports",
         "marker": {
          "color": "#ab63fa",
          "pattern": {
           "shape": ""
          }
         },
         "name": "Sports",
         "offsetgroup": "Sports",
         "orientation": "v",
         "showlegend": true,
         "textposition": "auto",
         "type": "bar",
         "x": [
          "Everyday_life"
         ],
         "xaxis": "x",
         "y": [
          32
         ],
         "yaxis": "y"
        },
        {
         "alignmentgroup": "True",
         "hovertemplate": "second_category=World_War_II<br>first_category=%{x}<br>count=%{y}<extra></extra>",
         "legendgroup": "World_War_II",
         "marker": {
          "color": "#FFA15A",
          "pattern": {
           "shape": ""
          }
         },
         "name": "World_War_II",
         "offsetgroup": "World_War_II",
         "orientation": "v",
         "showlegend": true,
         "textposition": "auto",
         "type": "bar",
         "x": [
          "History"
         ],
         "xaxis": "x",
         "y": [
          31
         ],
         "yaxis": "y"
        },
        {
         "alignmentgroup": "True",
         "hovertemplate": "second_category=Poetry_and_Opera<br>first_category=%{x}<br>count=%{y}<extra></extra>",
         "legendgroup": "Poetry_and_Opera",
         "marker": {
          "color": "#19d3f3",
          "pattern": {
           "shape": ""
          }
         },
         "name": "Poetry_and_Opera",
         "offsetgroup": "Poetry_and_Opera",
         "orientation": "v",
         "showlegend": true,
         "textposition": "auto",
         "type": "bar",
         "x": [
          "Language_and_literature"
         ],
         "xaxis": "x",
         "y": [
          30
         ],
         "yaxis": "y"
        },
        {
         "alignmentgroup": "True",
         "hovertemplate": "second_category=Economics<br>first_category=%{x}<br>count=%{y}<extra></extra>",
         "legendgroup": "Economics",
         "marker": {
          "color": "#FF6692",
          "pattern": {
           "shape": ""
          }
         },
         "name": "Economics",
         "offsetgroup": "Economics",
         "orientation": "v",
         "showlegend": true,
         "textposition": "auto",
         "type": "bar",
         "x": [
          "Business_Studies"
         ],
         "xaxis": "x",
         "y": [
          28
         ],
         "yaxis": "y"
        },
        {
         "alignmentgroup": "True",
         "hovertemplate": "second_category=Business<br>first_category=%{x}<br>count=%{y}<extra></extra>",
         "legendgroup": "Business",
         "marker": {
          "color": "#B6E880",
          "pattern": {
           "shape": ""
          }
         },
         "name": "Business",
         "offsetgroup": "Business",
         "orientation": "v",
         "showlegend": true,
         "textposition": "auto",
         "type": "bar",
         "x": [
          "Business_Studies"
         ],
         "xaxis": "x",
         "y": [
          28
         ],
         "yaxis": "y"
        },
        {
         "alignmentgroup": "True",
         "hovertemplate": "second_category=Pre_1900_Military<br>first_category=%{x}<br>count=%{y}<extra></extra>",
         "legendgroup": "Pre_1900_Military",
         "marker": {
          "color": "#FF97FF",
          "pattern": {
           "shape": ""
          }
         },
         "name": "Pre_1900_Military",
         "offsetgroup": "Pre_1900_Military",
         "orientation": "v",
         "showlegend": true,
         "textposition": "auto",
         "type": "bar",
         "x": [
          "History"
         ],
         "xaxis": "x",
         "y": [
          27
         ],
         "yaxis": "y"
        },
        {
         "alignmentgroup": "True",
         "hovertemplate": "second_category=Everyday_life<br>first_category=%{x}<br>count=%{y}<extra></extra>",
         "legendgroup": "Everyday_life",
         "marker": {
          "color": "#FECB52",
          "pattern": {
           "shape": ""
          }
         },
         "name": "Everyday_life",
         "offsetgroup": "Everyday_life",
         "orientation": "v",
         "showlegend": true,
         "textposition": "auto",
         "type": "bar",
         "x": [
          "Everyday_life"
         ],
         "xaxis": "x",
         "y": [
          27
         ],
         "yaxis": "y"
        },
        {
         "alignmentgroup": "True",
         "hovertemplate": "second_category=Computer_and_Video_games<br>first_category=%{x}<br>count=%{y}<extra></extra>",
         "legendgroup": "Computer_and_Video_games",
         "marker": {
          "color": "#636efa",
          "pattern": {
           "shape": ""
          }
         },
         "name": "Computer_and_Video_games",
         "offsetgroup": "Computer_and_Video_games",
         "orientation": "v",
         "showlegend": true,
         "textposition": "auto",
         "type": "bar",
         "x": [
          "Everyday_life"
         ],
         "xaxis": "x",
         "y": [
          26
         ],
         "yaxis": "y"
        },
        {
         "alignmentgroup": "True",
         "hovertemplate": "second_category=Environment<br>first_category=%{x}<br>count=%{y}<extra></extra>",
         "legendgroup": "Environment",
         "marker": {
          "color": "#EF553B",
          "pattern": {
           "shape": ""
          }
         },
         "name": "Environment",
         "offsetgroup": "Environment",
         "orientation": "v",
         "showlegend": true,
         "textposition": "auto",
         "type": "bar",
         "x": [
          "Citizenship"
         ],
         "xaxis": "x",
         "y": [
          26
         ],
         "yaxis": "y"
        },
        {
         "alignmentgroup": "True",
         "hovertemplate": "second_category=Engineers_and_inventors<br>first_category=%{x}<br>count=%{y}<extra></extra>",
         "legendgroup": "Engineers_and_inventors",
         "marker": {
          "color": "#00cc96",
          "pattern": {
           "shape": ""
          }
         },
         "name": "Engineers_and_inventors",
         "offsetgroup": "Engineers_and_inventors",
         "orientation": "v",
         "showlegend": true,
         "textposition": "auto",
         "type": "bar",
         "x": [
          "People"
         ],
         "xaxis": "x",
         "y": [
          25
         ],
         "yaxis": "y"
        },
        {
         "alignmentgroup": "True",
         "hovertemplate": "second_category=Actors_models_and_celebrities<br>first_category=%{x}<br>count=%{y}<extra></extra>",
         "legendgroup": "Actors_models_and_celebrities",
         "marker": {
          "color": "#ab63fa",
          "pattern": {
           "shape": ""
          }
         },
         "name": "Actors_models_and_celebrities",
         "offsetgroup": "Actors_models_and_celebrities",
         "orientation": "v",
         "showlegend": true,
         "textposition": "auto",
         "type": "bar",
         "x": [
          "People"
         ],
         "xaxis": "x",
         "y": [
          25
         ],
         "yaxis": "y"
        },
        {
         "alignmentgroup": "True",
         "hovertemplate": "second_category=Air_and_Sea_transport<br>first_category=%{x}<br>count=%{y}<extra></extra>",
         "legendgroup": "Air_and_Sea_transport",
         "marker": {
          "color": "#FFA15A",
          "pattern": {
           "shape": ""
          }
         },
         "name": "Air_and_Sea_transport",
         "offsetgroup": "Air_and_Sea_transport",
         "orientation": "v",
         "showlegend": true,
         "textposition": "auto",
         "type": "bar",
         "x": [
          "Design_and_Technology"
         ],
         "xaxis": "x",
         "y": [
          24
         ],
         "yaxis": "y"
        },
        {
         "alignmentgroup": "True",
         "hovertemplate": "second_category=Philosophy<br>first_category=%{x}<br>count=%{y}<extra></extra>",
         "legendgroup": "Philosophy",
         "marker": {
          "color": "#19d3f3",
          "pattern": {
           "shape": ""
          }
         },
         "name": "Philosophy",
         "offsetgroup": "Philosophy",
         "orientation": "v",
         "showlegend": true,
         "textposition": "auto",
         "type": "bar",
         "x": [
          "Religion"
         ],
         "xaxis": "x",
         "y": [
          24
         ],
         "yaxis": "y"
        },
        {
         "alignmentgroup": "True",
         "hovertemplate": "second_category=Software<br>first_category=%{x}<br>count=%{y}<extra></extra>",
         "legendgroup": "Software",
         "marker": {
          "color": "#FF6692",
          "pattern": {
           "shape": ""
          }
         },
         "name": "Software",
         "offsetgroup": "Software",
         "orientation": "v",
         "showlegend": true,
         "textposition": "auto",
         "type": "bar",
         "x": [
          "IT"
         ],
         "xaxis": "x",
         "y": [
          23
         ],
         "yaxis": "y"
        },
        {
         "alignmentgroup": "True",
         "hovertemplate": "second_category=Human_Scientists<br>first_category=%{x}<br>count=%{y}<extra></extra>",
         "legendgroup": "Human_Scientists",
         "marker": {
          "color": "#B6E880",
          "pattern": {
           "shape": ""
          }
         },
         "name": "Human_Scientists",
         "offsetgroup": "Human_Scientists",
         "orientation": "v",
         "showlegend": true,
         "textposition": "auto",
         "type": "bar",
         "x": [
          "People"
         ],
         "xaxis": "x",
         "y": [
          23
         ],
         "yaxis": "y"
        },
        {
         "alignmentgroup": "True",
         "hovertemplate": "second_category=Philosophers<br>first_category=%{x}<br>count=%{y}<extra></extra>",
         "legendgroup": "Philosophers",
         "marker": {
          "color": "#FF97FF",
          "pattern": {
           "shape": ""
          }
         },
         "name": "Philosophers",
         "offsetgroup": "Philosophers",
         "orientation": "v",
         "showlegend": true,
         "textposition": "auto",
         "type": "bar",
         "x": [
          "People"
         ],
         "xaxis": "x",
         "y": [
          23
         ],
         "yaxis": "y"
        },
        {
         "alignmentgroup": "True",
         "hovertemplate": "second_category=North_American_History<br>first_category=%{x}<br>count=%{y}<extra></extra>",
         "legendgroup": "North_American_History",
         "marker": {
          "color": "#FECB52",
          "pattern": {
           "shape": ""
          }
         },
         "name": "North_American_History",
         "offsetgroup": "North_American_History",
         "orientation": "v",
         "showlegend": true,
         "textposition": "auto",
         "type": "bar",
         "x": [
          "History"
         ],
         "xaxis": "x",
         "y": [
          22
         ],
         "yaxis": "y"
        },
        {
         "alignmentgroup": "True",
         "hovertemplate": "second_category=Sports_events<br>first_category=%{x}<br>count=%{y}<extra></extra>",
         "legendgroup": "Sports_events",
         "marker": {
          "color": "#636efa",
          "pattern": {
           "shape": ""
          }
         },
         "name": "Sports_events",
         "offsetgroup": "Sports_events",
         "orientation": "v",
         "showlegend": true,
         "textposition": "auto",
         "type": "bar",
         "x": [
          "Everyday_life"
         ],
         "xaxis": "x",
         "y": [
          22
         ],
         "yaxis": "y"
        },
        {
         "alignmentgroup": "True",
         "hovertemplate": "second_category=Military_People<br>first_category=%{x}<br>count=%{y}<extra></extra>",
         "legendgroup": "Military_People",
         "marker": {
          "color": "#EF553B",
          "pattern": {
           "shape": ""
          }
         },
         "name": "Military_People",
         "offsetgroup": "Military_People",
         "orientation": "v",
         "showlegend": true,
         "textposition": "auto",
         "type": "bar",
         "x": [
          "People"
         ],
         "xaxis": "x",
         "y": [
          22
         ],
         "yaxis": "y"
        },
        {
         "alignmentgroup": "True",
         "hovertemplate": "second_category=Peoples<br>first_category=%{x}<br>count=%{y}<extra></extra>",
         "legendgroup": "Peoples",
         "marker": {
          "color": "#00cc96",
          "pattern": {
           "shape": ""
          }
         },
         "name": "Peoples",
         "offsetgroup": "Peoples",
         "orientation": "v",
         "showlegend": true,
         "textposition": "auto",
         "type": "bar",
         "x": [
          "Geography"
         ],
         "xaxis": "x",
         "y": [
          22
         ],
         "yaxis": "y"
        },
        {
         "alignmentgroup": "True",
         "hovertemplate": "second_category=Recreation<br>first_category=%{x}<br>count=%{y}<extra></extra>",
         "legendgroup": "Recreation",
         "marker": {
          "color": "#ab63fa",
          "pattern": {
           "shape": ""
          }
         },
         "name": "Recreation",
         "offsetgroup": "Recreation",
         "orientation": "v",
         "showlegend": true,
         "textposition": "auto",
         "type": "bar",
         "x": [
          "Everyday_life"
         ],
         "xaxis": "x",
         "y": [
          21
         ],
         "yaxis": "y"
        },
        {
         "alignmentgroup": "True",
         "hovertemplate": "second_category=Geographers_and_explorers<br>first_category=%{x}<br>count=%{y}<extra></extra>",
         "legendgroup": "Geographers_and_explorers",
         "marker": {
          "color": "#FFA15A",
          "pattern": {
           "shape": ""
          }
         },
         "name": "Geographers_and_explorers",
         "offsetgroup": "Geographers_and_explorers",
         "orientation": "v",
         "showlegend": true,
         "textposition": "auto",
         "type": "bar",
         "x": [
          "People"
         ],
         "xaxis": "x",
         "y": [
          21
         ],
         "yaxis": "y"
        },
        {
         "alignmentgroup": "True",
         "hovertemplate": "second_category=Websites_and_the_Internet<br>first_category=%{x}<br>count=%{y}<extra></extra>",
         "legendgroup": "Websites_and_the_Internet",
         "marker": {
          "color": "#19d3f3",
          "pattern": {
           "shape": ""
          }
         },
         "name": "Websites_and_the_Internet",
         "offsetgroup": "Websites_and_the_Internet",
         "orientation": "v",
         "showlegend": true,
         "textposition": "auto",
         "type": "bar",
         "x": [
          "IT"
         ],
         "xaxis": "x",
         "y": [
          21
         ],
         "yaxis": "y"
        },
        {
         "alignmentgroup": "True",
         "hovertemplate": "second_category=Astronomers_and_physicists<br>first_category=%{x}<br>count=%{y}<extra></extra>",
         "legendgroup": "Astronomers_and_physicists",
         "marker": {
          "color": "#FF6692",
          "pattern": {
           "shape": ""
          }
         },
         "name": "Astronomers_and_physicists",
         "offsetgroup": "Astronomers_and_physicists",
         "orientation": "v",
         "showlegend": true,
         "textposition": "auto",
         "type": "bar",
         "x": [
          "People"
         ],
         "xaxis": "x",
         "y": [
          21
         ],
         "yaxis": "y"
        },
        {
         "alignmentgroup": "True",
         "hovertemplate": "second_category=Games<br>first_category=%{x}<br>count=%{y}<extra></extra>",
         "legendgroup": "Games",
         "marker": {
          "color": "#B6E880",
          "pattern": {
           "shape": ""
          }
         },
         "name": "Games",
         "offsetgroup": "Games",
         "orientation": "v",
         "showlegend": true,
         "textposition": "auto",
         "type": "bar",
         "x": [
          "Everyday_life"
         ],
         "xaxis": "x",
         "y": [
          21
         ],
         "yaxis": "y"
        },
        {
         "alignmentgroup": "True",
         "hovertemplate": "second_category=Divinities<br>first_category=%{x}<br>count=%{y}<extra></extra>",
         "legendgroup": "Divinities",
         "marker": {
          "color": "#FF97FF",
          "pattern": {
           "shape": ""
          }
         },
         "name": "Divinities",
         "offsetgroup": "Divinities",
         "orientation": "v",
         "showlegend": true,
         "textposition": "auto",
         "type": "bar",
         "x": [
          "Religion"
         ],
         "xaxis": "x",
         "y": [
          21
         ],
         "yaxis": "y"
        },
        {
         "alignmentgroup": "True",
         "hovertemplate": "second_category=Computing_hardware_and_infrastructure<br>first_category=%{x}<br>count=%{y}<extra></extra>",
         "legendgroup": "Computing_hardware_and_infrastructure",
         "marker": {
          "color": "#FECB52",
          "pattern": {
           "shape": ""
          }
         },
         "name": "Computing_hardware_and_infrastructure",
         "offsetgroup": "Computing_hardware_and_infrastructure",
         "orientation": "v",
         "showlegend": true,
         "textposition": "auto",
         "type": "bar",
         "x": [
          "IT"
         ],
         "xaxis": "x",
         "y": [
          20
         ],
         "yaxis": "y"
        },
        {
         "alignmentgroup": "True",
         "hovertemplate": "second_category=Cartoons<br>first_category=%{x}<br>count=%{y}<extra></extra>",
         "legendgroup": "Cartoons",
         "marker": {
          "color": "#636efa",
          "pattern": {
           "shape": ""
          }
         },
         "name": "Cartoons",
         "offsetgroup": "Cartoons",
         "orientation": "v",
         "showlegend": true,
         "textposition": "auto",
         "type": "bar",
         "x": [
          "Everyday_life"
         ],
         "xaxis": "x",
         "y": [
          20
         ],
         "yaxis": "y"
        },
        {
         "alignmentgroup": "True",
         "hovertemplate": "second_category=Law<br>first_category=%{x}<br>count=%{y}<extra></extra>",
         "legendgroup": "Law",
         "marker": {
          "color": "#EF553B",
          "pattern": {
           "shape": ""
          }
         },
         "name": "Law",
         "offsetgroup": "Law",
         "orientation": "v",
         "showlegend": true,
         "textposition": "auto",
         "type": "bar",
         "x": [
          "Citizenship"
         ],
         "xaxis": "x",
         "y": [
          19
         ],
         "yaxis": "y"
        },
        {
         "alignmentgroup": "True",
         "hovertemplate": "second_category=Road_transport<br>first_category=%{x}<br>count=%{y}<extra></extra>",
         "legendgroup": "Road_transport",
         "marker": {
          "color": "#00cc96",
          "pattern": {
           "shape": ""
          }
         },
         "name": "Road_transport",
         "offsetgroup": "Road_transport",
         "orientation": "v",
         "showlegend": true,
         "textposition": "auto",
         "type": "bar",
         "x": [
          "Design_and_Technology"
         ],
         "xaxis": "x",
         "y": [
          19
         ],
         "yaxis": "y"
        },
        {
         "alignmentgroup": "True",
         "hovertemplate": "second_category=Religious_disputes<br>first_category=%{x}<br>count=%{y}<extra></extra>",
         "legendgroup": "Religious_disputes",
         "marker": {
          "color": "#ab63fa",
          "pattern": {
           "shape": ""
          }
         },
         "name": "Religious_disputes",
         "offsetgroup": "Religious_disputes",
         "orientation": "v",
         "showlegend": true,
         "textposition": "auto",
         "type": "bar",
         "x": [
          "Religion"
         ],
         "xaxis": "x",
         "y": [
          19
         ],
         "yaxis": "y"
        },
        {
         "alignmentgroup": "True",
         "hovertemplate": "second_category=Religious_texts<br>first_category=%{x}<br>count=%{y}<extra></extra>",
         "legendgroup": "Religious_texts",
         "marker": {
          "color": "#FFA15A",
          "pattern": {
           "shape": ""
          }
         },
         "name": "Religious_texts",
         "offsetgroup": "Religious_texts",
         "orientation": "v",
         "showlegend": true,
         "textposition": "auto",
         "type": "bar",
         "x": [
          "Religion"
         ],
         "xaxis": "x",
         "y": [
          18
         ],
         "yaxis": "y"
        },
        {
         "alignmentgroup": "True",
         "hovertemplate": "second_category=Musical_Recordings_and_compositions<br>first_category=%{x}<br>count=%{y}<extra></extra>",
         "legendgroup": "Musical_Recordings_and_compositions",
         "marker": {
          "color": "#19d3f3",
          "pattern": {
           "shape": ""
          }
         },
         "name": "Musical_Recordings_and_compositions",
         "offsetgroup": "Musical_Recordings_and_compositions",
         "orientation": "v",
         "showlegend": true,
         "textposition": "auto",
         "type": "bar",
         "x": [
          "Music"
         ],
         "xaxis": "x",
         "y": [
          18
         ],
         "yaxis": "y"
        },
        {
         "alignmentgroup": "True",
         "hovertemplate": "second_category=Companies<br>first_category=%{x}<br>count=%{y}<extra></extra>",
         "legendgroup": "Companies",
         "marker": {
          "color": "#FF6692",
          "pattern": {
           "shape": ""
          }
         },
         "name": "Companies",
         "offsetgroup": "Companies",
         "orientation": "v",
         "showlegend": true,
         "textposition": "auto",
         "type": "bar",
         "x": [
          "Business_Studies"
         ],
         "xaxis": "x",
         "y": [
          18
         ],
         "yaxis": "y"
        },
        {
         "alignmentgroup": "True",
         "hovertemplate": "second_category=Myths<br>first_category=%{x}<br>count=%{y}<extra></extra>",
         "legendgroup": "Myths",
         "marker": {
          "color": "#B6E880",
          "pattern": {
           "shape": ""
          }
         },
         "name": "Myths",
         "offsetgroup": "Myths",
         "orientation": "v",
         "showlegend": true,
         "textposition": "auto",
         "type": "bar",
         "x": [
          "Religion"
         ],
         "xaxis": "x",
         "y": [
          17
         ],
         "yaxis": "y"
        },
        {
         "alignmentgroup": "True",
         "hovertemplate": "second_category=Musical_Instruments<br>first_category=%{x}<br>count=%{y}<extra></extra>",
         "legendgroup": "Musical_Instruments",
         "marker": {
          "color": "#FF97FF",
          "pattern": {
           "shape": ""
          }
         },
         "name": "Musical_Instruments",
         "offsetgroup": "Musical_Instruments",
         "orientation": "v",
         "showlegend": true,
         "textposition": "auto",
         "type": "bar",
         "x": [
          "Music"
         ],
         "xaxis": "x",
         "y": [
          17
         ],
         "yaxis": "y"
        },
        {
         "alignmentgroup": "True",
         "hovertemplate": "second_category=Education<br>first_category=%{x}<br>count=%{y}<extra></extra>",
         "legendgroup": "Education",
         "marker": {
          "color": "#FECB52",
          "pattern": {
           "shape": ""
          }
         },
         "name": "Education",
         "offsetgroup": "Education",
         "orientation": "v",
         "showlegend": true,
         "textposition": "auto",
         "type": "bar",
         "x": [
          "Citizenship"
         ],
         "xaxis": "x",
         "y": [
          17
         ],
         "yaxis": "y"
        },
        {
         "alignmentgroup": "True",
         "hovertemplate": "second_category=Animal_and_Human_Rights<br>first_category=%{x}<br>count=%{y}<extra></extra>",
         "legendgroup": "Animal_and_Human_Rights",
         "marker": {
          "color": "#636efa",
          "pattern": {
           "shape": ""
          }
         },
         "name": "Animal_and_Human_Rights",
         "offsetgroup": "Animal_and_Human_Rights",
         "orientation": "v",
         "showlegend": true,
         "textposition": "auto",
         "type": "bar",
         "x": [
          "Citizenship"
         ],
         "xaxis": "x",
         "y": [
          17
         ],
         "yaxis": "y"
        },
        {
         "alignmentgroup": "True",
         "hovertemplate": "second_category=Literature_types<br>first_category=%{x}<br>count=%{y}<extra></extra>",
         "legendgroup": "Literature_types",
         "marker": {
          "color": "#EF553B",
          "pattern": {
           "shape": ""
          }
         },
         "name": "Literature_types",
         "offsetgroup": "Literature_types",
         "orientation": "v",
         "showlegend": true,
         "textposition": "auto",
         "type": "bar",
         "x": [
          "Language_and_literature"
         ],
         "xaxis": "x",
         "y": [
          17
         ],
         "yaxis": "y"
        },
        {
         "alignmentgroup": "True",
         "hovertemplate": "second_category=Mineralogy<br>first_category=%{x}<br>count=%{y}<extra></extra>",
         "legendgroup": "Mineralogy",
         "marker": {
          "color": "#00cc96",
          "pattern": {
           "shape": ""
          }
         },
         "name": "Mineralogy",
         "offsetgroup": "Mineralogy",
         "orientation": "v",
         "showlegend": true,
         "textposition": "auto",
         "type": "bar",
         "x": [
          "Geography"
         ],
         "xaxis": "x",
         "y": [
          17
         ],
         "yaxis": "y"
        },
        {
         "alignmentgroup": "True",
         "hovertemplate": "second_category=General_Literature<br>first_category=%{x}<br>count=%{y}<extra></extra>",
         "legendgroup": "General_Literature",
         "marker": {
          "color": "#ab63fa",
          "pattern": {
           "shape": ""
          }
         },
         "name": "General_Literature",
         "offsetgroup": "General_Literature",
         "orientation": "v",
         "showlegend": true,
         "textposition": "auto",
         "type": "bar",
         "x": [
          "Language_and_literature"
         ],
         "xaxis": "x",
         "y": [
          16
         ],
         "yaxis": "y"
        },
        {
         "alignmentgroup": "True",
         "hovertemplate": "second_category=Sports_teams<br>first_category=%{x}<br>count=%{y}<extra></extra>",
         "legendgroup": "Sports_teams",
         "marker": {
          "color": "#FFA15A",
          "pattern": {
           "shape": ""
          }
         },
         "name": "Sports_teams",
         "offsetgroup": "Sports_teams",
         "orientation": "v",
         "showlegend": true,
         "textposition": "auto",
         "type": "bar",
         "x": [
          "Everyday_life"
         ],
         "xaxis": "x",
         "y": [
          16
         ],
         "yaxis": "y"
        },
        {
         "alignmentgroup": "True",
         "hovertemplate": "second_category=Culture_and_Diversity<br>first_category=%{x}<br>count=%{y}<extra></extra>",
         "legendgroup": "Culture_and_Diversity",
         "marker": {
          "color": "#19d3f3",
          "pattern": {
           "shape": ""
          }
         },
         "name": "Culture_and_Diversity",
         "offsetgroup": "Culture_and_Diversity",
         "orientation": "v",
         "showlegend": true,
         "textposition": "auto",
         "type": "bar",
         "x": [
          "Citizenship"
         ],
         "xaxis": "x",
         "y": [
          16
         ],
         "yaxis": "y"
        },
        {
         "alignmentgroup": "True",
         "hovertemplate": "second_category=Drink<br>first_category=%{x}<br>count=%{y}<extra></extra>",
         "legendgroup": "Drink",
         "marker": {
          "color": "#FF6692",
          "pattern": {
           "shape": ""
          }
         },
         "name": "Drink",
         "offsetgroup": "Drink",
         "orientation": "v",
         "showlegend": true,
         "textposition": "auto",
         "type": "bar",
         "x": [
          "Everyday_life"
         ],
         "xaxis": "x",
         "y": [
          15
         ],
         "yaxis": "y"
        },
        {
         "alignmentgroup": "True",
         "hovertemplate": "second_category=Mathematicians<br>first_category=%{x}<br>count=%{y}<extra></extra>",
         "legendgroup": "Mathematicians",
         "marker": {
          "color": "#B6E880",
          "pattern": {
           "shape": ""
          }
         },
         "name": "Mathematicians",
         "offsetgroup": "Mathematicians",
         "orientation": "v",
         "showlegend": true,
         "textposition": "auto",
         "type": "bar",
         "x": [
          "People"
         ],
         "xaxis": "x",
         "y": [
          15
         ],
         "yaxis": "y"
        },
        {
         "alignmentgroup": "True",
         "hovertemplate": "second_category=Linguistics<br>first_category=%{x}<br>count=%{y}<extra></extra>",
         "legendgroup": "Linguistics",
         "marker": {
          "color": "#FF97FF",
          "pattern": {
           "shape": ""
          }
         },
         "name": "Linguistics",
         "offsetgroup": "Linguistics",
         "orientation": "v",
         "showlegend": true,
         "textposition": "auto",
         "type": "bar",
         "x": [
          "Language_and_literature"
         ],
         "xaxis": "x",
         "y": [
          15
         ],
         "yaxis": "y"
        },
        {
         "alignmentgroup": "True",
         "hovertemplate": "second_category=Computer_Programming<br>first_category=%{x}<br>count=%{y}<extra></extra>",
         "legendgroup": "Computer_Programming",
         "marker": {
          "color": "#FECB52",
          "pattern": {
           "shape": ""
          }
         },
         "name": "Computer_Programming",
         "offsetgroup": "Computer_Programming",
         "orientation": "v",
         "showlegend": true,
         "textposition": "auto",
         "type": "bar",
         "x": [
          "IT"
         ],
         "xaxis": "x",
         "y": [
          15
         ],
         "yaxis": "y"
        },
        {
         "alignmentgroup": "True",
         "hovertemplate": "second_category=Currency<br>first_category=%{x}<br>count=%{y}<extra></extra>",
         "legendgroup": "Currency",
         "marker": {
          "color": "#636efa",
          "pattern": {
           "shape": ""
          }
         },
         "name": "Currency",
         "offsetgroup": "Currency",
         "orientation": "v",
         "showlegend": true,
         "textposition": "auto",
         "type": "bar",
         "x": [
          "Business_Studies"
         ],
         "xaxis": "x",
         "y": [
          14
         ],
         "yaxis": "y"
        },
        {
         "alignmentgroup": "True",
         "hovertemplate": "second_category=Archaeology<br>first_category=%{x}<br>count=%{y}<extra></extra>",
         "legendgroup": "Archaeology",
         "marker": {
          "color": "#EF553B",
          "pattern": {
           "shape": ""
          }
         },
         "name": "Archaeology",
         "offsetgroup": "Archaeology",
         "orientation": "v",
         "showlegend": true,
         "textposition": "auto",
         "type": "bar",
         "x": [
          "History"
         ],
         "xaxis": "x",
         "y": [
          11
         ],
         "yaxis": "y"
        },
        {
         "alignmentgroup": "True",
         "hovertemplate": "second_category=Media<br>first_category=%{x}<br>count=%{y}<extra></extra>",
         "legendgroup": "Media",
         "marker": {
          "color": "#00cc96",
          "pattern": {
           "shape": ""
          }
         },
         "name": "Media",
         "offsetgroup": "Media",
         "orientation": "v",
         "showlegend": true,
         "textposition": "auto",
         "type": "bar",
         "x": [
          "Citizenship"
         ],
         "xaxis": "x",
         "y": [
          11
         ],
         "yaxis": "y"
        },
        {
         "alignmentgroup": "True",
         "hovertemplate": "second_category=Community_organisations<br>first_category=%{x}<br>count=%{y}<extra></extra>",
         "legendgroup": "Community_organisations",
         "marker": {
          "color": "#ab63fa",
          "pattern": {
           "shape": ""
          }
         },
         "name": "Community_organisations",
         "offsetgroup": "Community_organisations",
         "orientation": "v",
         "showlegend": true,
         "textposition": "auto",
         "type": "bar",
         "x": [
          "Citizenship"
         ],
         "xaxis": "x",
         "y": [
          11
         ],
         "yaxis": "y"
        },
        {
         "alignmentgroup": "True",
         "hovertemplate": "second_category=Historians_chroniclers_and_history_books<br>first_category=%{x}<br>count=%{y}<extra></extra>",
         "legendgroup": "Historians_chroniclers_and_history_books",
         "marker": {
          "color": "#FFA15A",
          "pattern": {
           "shape": ""
          }
         },
         "name": "Historians_chroniclers_and_history_books",
         "offsetgroup": "Historians_chroniclers_and_history_books",
         "orientation": "v",
         "showlegend": true,
         "textposition": "auto",
         "type": "bar",
         "x": [
          "History"
         ],
         "xaxis": "x",
         "y": [
          10
         ],
         "yaxis": "y"
        },
        {
         "alignmentgroup": "True",
         "hovertemplate": "second_category=Conflict_and_Peace<br>first_category=%{x}<br>count=%{y}<extra></extra>",
         "legendgroup": "Conflict_and_Peace",
         "marker": {
          "color": "#19d3f3",
          "pattern": {
           "shape": ""
          }
         },
         "name": "Conflict_and_Peace",
         "offsetgroup": "Conflict_and_Peace",
         "orientation": "v",
         "showlegend": true,
         "textposition": "auto",
         "type": "bar",
         "x": [
          "Citizenship"
         ],
         "xaxis": "x",
         "y": [
          10
         ],
         "yaxis": "y"
        },
        {
         "alignmentgroup": "True",
         "hovertemplate": "second_category=Computing_People<br>first_category=%{x}<br>count=%{y}<extra></extra>",
         "legendgroup": "Computing_People",
         "marker": {
          "color": "#FF6692",
          "pattern": {
           "shape": ""
          }
         },
         "name": "Computing_People",
         "offsetgroup": "Computing_People",
         "orientation": "v",
         "showlegend": true,
         "textposition": "auto",
         "type": "bar",
         "x": [
          "People"
         ],
         "xaxis": "x",
         "y": [
          9
         ],
         "yaxis": "y"
        },
        {
         "alignmentgroup": "True",
         "hovertemplate": "second_category=Chemists<br>first_category=%{x}<br>count=%{y}<extra></extra>",
         "legendgroup": "Chemists",
         "marker": {
          "color": "#B6E880",
          "pattern": {
           "shape": ""
          }
         },
         "name": "Chemists",
         "offsetgroup": "Chemists",
         "orientation": "v",
         "showlegend": true,
         "textposition": "auto",
         "type": "bar",
         "x": [
          "People"
         ],
         "xaxis": "x",
         "y": [
          8
         ],
         "yaxis": "y"
        },
        {
         "alignmentgroup": "True",
         "hovertemplate": "second_category=Producers_directors_and_media_figures<br>first_category=%{x}<br>count=%{y}<extra></extra>",
         "legendgroup": "Producers_directors_and_media_figures",
         "marker": {
          "color": "#FF97FF",
          "pattern": {
           "shape": ""
          }
         },
         "name": "Producers_directors_and_media_figures",
         "offsetgroup": "Producers_directors_and_media_figures",
         "orientation": "v",
         "showlegend": true,
         "textposition": "auto",
         "type": "bar",
         "x": [
          "People"
         ],
         "xaxis": "x",
         "y": [
          8
         ],
         "yaxis": "y"
        },
        {
         "alignmentgroup": "True",
         "hovertemplate": "second_category=Antarctica<br>first_category=%{x}<br>count=%{y}<extra></extra>",
         "legendgroup": "Antarctica",
         "marker": {
          "color": "#FECB52",
          "pattern": {
           "shape": ""
          }
         },
         "name": "Antarctica",
         "offsetgroup": "Antarctica",
         "orientation": "v",
         "showlegend": true,
         "textposition": "auto",
         "type": "bar",
         "x": [
          "Geography"
         ],
         "xaxis": "x",
         "y": [
          8
         ],
         "yaxis": "y"
        },
        {
         "alignmentgroup": "True",
         "hovertemplate": "second_category=Cryptography<br>first_category=%{x}<br>count=%{y}<extra></extra>",
         "legendgroup": "Cryptography",
         "marker": {
          "color": "#636efa",
          "pattern": {
           "shape": ""
          }
         },
         "name": "Cryptography",
         "offsetgroup": "Cryptography",
         "orientation": "v",
         "showlegend": true,
         "textposition": "auto",
         "type": "bar",
         "x": [
          "IT"
         ],
         "xaxis": "x",
         "y": [
          6
         ],
         "yaxis": "y"
        }
       ],
       "layout": {
        "barmode": "stack",
        "legend": {
         "title": {
          "text": "second_category"
         },
         "tracegroupgap": 0
        },
        "template": {
         "data": {
          "bar": [
           {
            "error_x": {
             "color": "#2a3f5f"
            },
            "error_y": {
             "color": "#2a3f5f"
            },
            "marker": {
             "line": {
              "color": "#E5ECF6",
              "width": 0.5
             },
             "pattern": {
              "fillmode": "overlay",
              "size": 10,
              "solidity": 0.2
             }
            },
            "type": "bar"
           }
          ],
          "barpolar": [
           {
            "marker": {
             "line": {
              "color": "#E5ECF6",
              "width": 0.5
             },
             "pattern": {
              "fillmode": "overlay",
              "size": 10,
              "solidity": 0.2
             }
            },
            "type": "barpolar"
           }
          ],
          "carpet": [
           {
            "aaxis": {
             "endlinecolor": "#2a3f5f",
             "gridcolor": "white",
             "linecolor": "white",
             "minorgridcolor": "white",
             "startlinecolor": "#2a3f5f"
            },
            "baxis": {
             "endlinecolor": "#2a3f5f",
             "gridcolor": "white",
             "linecolor": "white",
             "minorgridcolor": "white",
             "startlinecolor": "#2a3f5f"
            },
            "type": "carpet"
           }
          ],
          "choropleth": [
           {
            "colorbar": {
             "outlinewidth": 0,
             "ticks": ""
            },
            "type": "choropleth"
           }
          ],
          "contour": [
           {
            "colorbar": {
             "outlinewidth": 0,
             "ticks": ""
            },
            "colorscale": [
             [
              0,
              "#0d0887"
             ],
             [
              0.1111111111111111,
              "#46039f"
             ],
             [
              0.2222222222222222,
              "#7201a8"
             ],
             [
              0.3333333333333333,
              "#9c179e"
             ],
             [
              0.4444444444444444,
              "#bd3786"
             ],
             [
              0.5555555555555556,
              "#d8576b"
             ],
             [
              0.6666666666666666,
              "#ed7953"
             ],
             [
              0.7777777777777778,
              "#fb9f3a"
             ],
             [
              0.8888888888888888,
              "#fdca26"
             ],
             [
              1,
              "#f0f921"
             ]
            ],
            "type": "contour"
           }
          ],
          "contourcarpet": [
           {
            "colorbar": {
             "outlinewidth": 0,
             "ticks": ""
            },
            "type": "contourcarpet"
           }
          ],
          "heatmap": [
           {
            "colorbar": {
             "outlinewidth": 0,
             "ticks": ""
            },
            "colorscale": [
             [
              0,
              "#0d0887"
             ],
             [
              0.1111111111111111,
              "#46039f"
             ],
             [
              0.2222222222222222,
              "#7201a8"
             ],
             [
              0.3333333333333333,
              "#9c179e"
             ],
             [
              0.4444444444444444,
              "#bd3786"
             ],
             [
              0.5555555555555556,
              "#d8576b"
             ],
             [
              0.6666666666666666,
              "#ed7953"
             ],
             [
              0.7777777777777778,
              "#fb9f3a"
             ],
             [
              0.8888888888888888,
              "#fdca26"
             ],
             [
              1,
              "#f0f921"
             ]
            ],
            "type": "heatmap"
           }
          ],
          "heatmapgl": [
           {
            "colorbar": {
             "outlinewidth": 0,
             "ticks": ""
            },
            "colorscale": [
             [
              0,
              "#0d0887"
             ],
             [
              0.1111111111111111,
              "#46039f"
             ],
             [
              0.2222222222222222,
              "#7201a8"
             ],
             [
              0.3333333333333333,
              "#9c179e"
             ],
             [
              0.4444444444444444,
              "#bd3786"
             ],
             [
              0.5555555555555556,
              "#d8576b"
             ],
             [
              0.6666666666666666,
              "#ed7953"
             ],
             [
              0.7777777777777778,
              "#fb9f3a"
             ],
             [
              0.8888888888888888,
              "#fdca26"
             ],
             [
              1,
              "#f0f921"
             ]
            ],
            "type": "heatmapgl"
           }
          ],
          "histogram": [
           {
            "marker": {
             "pattern": {
              "fillmode": "overlay",
              "size": 10,
              "solidity": 0.2
             }
            },
            "type": "histogram"
           }
          ],
          "histogram2d": [
           {
            "colorbar": {
             "outlinewidth": 0,
             "ticks": ""
            },
            "colorscale": [
             [
              0,
              "#0d0887"
             ],
             [
              0.1111111111111111,
              "#46039f"
             ],
             [
              0.2222222222222222,
              "#7201a8"
             ],
             [
              0.3333333333333333,
              "#9c179e"
             ],
             [
              0.4444444444444444,
              "#bd3786"
             ],
             [
              0.5555555555555556,
              "#d8576b"
             ],
             [
              0.6666666666666666,
              "#ed7953"
             ],
             [
              0.7777777777777778,
              "#fb9f3a"
             ],
             [
              0.8888888888888888,
              "#fdca26"
             ],
             [
              1,
              "#f0f921"
             ]
            ],
            "type": "histogram2d"
           }
          ],
          "histogram2dcontour": [
           {
            "colorbar": {
             "outlinewidth": 0,
             "ticks": ""
            },
            "colorscale": [
             [
              0,
              "#0d0887"
             ],
             [
              0.1111111111111111,
              "#46039f"
             ],
             [
              0.2222222222222222,
              "#7201a8"
             ],
             [
              0.3333333333333333,
              "#9c179e"
             ],
             [
              0.4444444444444444,
              "#bd3786"
             ],
             [
              0.5555555555555556,
              "#d8576b"
             ],
             [
              0.6666666666666666,
              "#ed7953"
             ],
             [
              0.7777777777777778,
              "#fb9f3a"
             ],
             [
              0.8888888888888888,
              "#fdca26"
             ],
             [
              1,
              "#f0f921"
             ]
            ],
            "type": "histogram2dcontour"
           }
          ],
          "mesh3d": [
           {
            "colorbar": {
             "outlinewidth": 0,
             "ticks": ""
            },
            "type": "mesh3d"
           }
          ],
          "parcoords": [
           {
            "line": {
             "colorbar": {
              "outlinewidth": 0,
              "ticks": ""
             }
            },
            "type": "parcoords"
           }
          ],
          "pie": [
           {
            "automargin": true,
            "type": "pie"
           }
          ],
          "scatter": [
           {
            "fillpattern": {
             "fillmode": "overlay",
             "size": 10,
             "solidity": 0.2
            },
            "type": "scatter"
           }
          ],
          "scatter3d": [
           {
            "line": {
             "colorbar": {
              "outlinewidth": 0,
              "ticks": ""
             }
            },
            "marker": {
             "colorbar": {
              "outlinewidth": 0,
              "ticks": ""
             }
            },
            "type": "scatter3d"
           }
          ],
          "scattercarpet": [
           {
            "marker": {
             "colorbar": {
              "outlinewidth": 0,
              "ticks": ""
             }
            },
            "type": "scattercarpet"
           }
          ],
          "scattergeo": [
           {
            "marker": {
             "colorbar": {
              "outlinewidth": 0,
              "ticks": ""
             }
            },
            "type": "scattergeo"
           }
          ],
          "scattergl": [
           {
            "marker": {
             "colorbar": {
              "outlinewidth": 0,
              "ticks": ""
             }
            },
            "type": "scattergl"
           }
          ],
          "scattermapbox": [
           {
            "marker": {
             "colorbar": {
              "outlinewidth": 0,
              "ticks": ""
             }
            },
            "type": "scattermapbox"
           }
          ],
          "scatterpolar": [
           {
            "marker": {
             "colorbar": {
              "outlinewidth": 0,
              "ticks": ""
             }
            },
            "type": "scatterpolar"
           }
          ],
          "scatterpolargl": [
           {
            "marker": {
             "colorbar": {
              "outlinewidth": 0,
              "ticks": ""
             }
            },
            "type": "scatterpolargl"
           }
          ],
          "scatterternary": [
           {
            "marker": {
             "colorbar": {
              "outlinewidth": 0,
              "ticks": ""
             }
            },
            "type": "scatterternary"
           }
          ],
          "surface": [
           {
            "colorbar": {
             "outlinewidth": 0,
             "ticks": ""
            },
            "colorscale": [
             [
              0,
              "#0d0887"
             ],
             [
              0.1111111111111111,
              "#46039f"
             ],
             [
              0.2222222222222222,
              "#7201a8"
             ],
             [
              0.3333333333333333,
              "#9c179e"
             ],
             [
              0.4444444444444444,
              "#bd3786"
             ],
             [
              0.5555555555555556,
              "#d8576b"
             ],
             [
              0.6666666666666666,
              "#ed7953"
             ],
             [
              0.7777777777777778,
              "#fb9f3a"
             ],
             [
              0.8888888888888888,
              "#fdca26"
             ],
             [
              1,
              "#f0f921"
             ]
            ],
            "type": "surface"
           }
          ],
          "table": [
           {
            "cells": {
             "fill": {
              "color": "#EBF0F8"
             },
             "line": {
              "color": "white"
             }
            },
            "header": {
             "fill": {
              "color": "#C8D4E3"
             },
             "line": {
              "color": "white"
             }
            },
            "type": "table"
           }
          ]
         },
         "layout": {
          "annotationdefaults": {
           "arrowcolor": "#2a3f5f",
           "arrowhead": 0,
           "arrowwidth": 1
          },
          "autotypenumbers": "strict",
          "coloraxis": {
           "colorbar": {
            "outlinewidth": 0,
            "ticks": ""
           }
          },
          "colorscale": {
           "diverging": [
            [
             0,
             "#8e0152"
            ],
            [
             0.1,
             "#c51b7d"
            ],
            [
             0.2,
             "#de77ae"
            ],
            [
             0.3,
             "#f1b6da"
            ],
            [
             0.4,
             "#fde0ef"
            ],
            [
             0.5,
             "#f7f7f7"
            ],
            [
             0.6,
             "#e6f5d0"
            ],
            [
             0.7,
             "#b8e186"
            ],
            [
             0.8,
             "#7fbc41"
            ],
            [
             0.9,
             "#4d9221"
            ],
            [
             1,
             "#276419"
            ]
           ],
           "sequential": [
            [
             0,
             "#0d0887"
            ],
            [
             0.1111111111111111,
             "#46039f"
            ],
            [
             0.2222222222222222,
             "#7201a8"
            ],
            [
             0.3333333333333333,
             "#9c179e"
            ],
            [
             0.4444444444444444,
             "#bd3786"
            ],
            [
             0.5555555555555556,
             "#d8576b"
            ],
            [
             0.6666666666666666,
             "#ed7953"
            ],
            [
             0.7777777777777778,
             "#fb9f3a"
            ],
            [
             0.8888888888888888,
             "#fdca26"
            ],
            [
             1,
             "#f0f921"
            ]
           ],
           "sequentialminus": [
            [
             0,
             "#0d0887"
            ],
            [
             0.1111111111111111,
             "#46039f"
            ],
            [
             0.2222222222222222,
             "#7201a8"
            ],
            [
             0.3333333333333333,
             "#9c179e"
            ],
            [
             0.4444444444444444,
             "#bd3786"
            ],
            [
             0.5555555555555556,
             "#d8576b"
            ],
            [
             0.6666666666666666,
             "#ed7953"
            ],
            [
             0.7777777777777778,
             "#fb9f3a"
            ],
            [
             0.8888888888888888,
             "#fdca26"
            ],
            [
             1,
             "#f0f921"
            ]
           ]
          },
          "colorway": [
           "#636efa",
           "#EF553B",
           "#00cc96",
           "#ab63fa",
           "#FFA15A",
           "#19d3f3",
           "#FF6692",
           "#B6E880",
           "#FF97FF",
           "#FECB52"
          ],
          "font": {
           "color": "#2a3f5f"
          },
          "geo": {
           "bgcolor": "white",
           "lakecolor": "white",
           "landcolor": "#E5ECF6",
           "showlakes": true,
           "showland": true,
           "subunitcolor": "white"
          },
          "hoverlabel": {
           "align": "left"
          },
          "hovermode": "closest",
          "mapbox": {
           "style": "light"
          },
          "paper_bgcolor": "white",
          "plot_bgcolor": "#E5ECF6",
          "polar": {
           "angularaxis": {
            "gridcolor": "white",
            "linecolor": "white",
            "ticks": ""
           },
           "bgcolor": "#E5ECF6",
           "radialaxis": {
            "gridcolor": "white",
            "linecolor": "white",
            "ticks": ""
           }
          },
          "scene": {
           "xaxis": {
            "backgroundcolor": "#E5ECF6",
            "gridcolor": "white",
            "gridwidth": 2,
            "linecolor": "white",
            "showbackground": true,
            "ticks": "",
            "zerolinecolor": "white"
           },
           "yaxis": {
            "backgroundcolor": "#E5ECF6",
            "gridcolor": "white",
            "gridwidth": 2,
            "linecolor": "white",
            "showbackground": true,
            "ticks": "",
            "zerolinecolor": "white"
           },
           "zaxis": {
            "backgroundcolor": "#E5ECF6",
            "gridcolor": "white",
            "gridwidth": 2,
            "linecolor": "white",
            "showbackground": true,
            "ticks": "",
            "zerolinecolor": "white"
           }
          },
          "shapedefaults": {
           "line": {
            "color": "#2a3f5f"
           }
          },
          "ternary": {
           "aaxis": {
            "gridcolor": "white",
            "linecolor": "white",
            "ticks": ""
           },
           "baxis": {
            "gridcolor": "white",
            "linecolor": "white",
            "ticks": ""
           },
           "bgcolor": "#E5ECF6",
           "caxis": {
            "gridcolor": "white",
            "linecolor": "white",
            "ticks": ""
           }
          },
          "title": {
           "x": 0.05
          },
          "xaxis": {
           "automargin": true,
           "gridcolor": "white",
           "linecolor": "white",
           "ticks": "",
           "title": {
            "standoff": 15
           },
           "zerolinecolor": "white",
           "zerolinewidth": 2
          },
          "yaxis": {
           "automargin": true,
           "gridcolor": "white",
           "linecolor": "white",
           "ticks": "",
           "title": {
            "standoff": 15
           },
           "zerolinecolor": "white",
           "zerolinewidth": 2
          }
         }
        },
        "title": {
         "text": "Categories represented in our dataset"
        },
        "xaxis": {
         "anchor": "y",
         "categoryorder": "total descending",
         "domain": [
          0,
          1
         ],
         "title": {
          "text": "first_category"
         }
        },
        "yaxis": {
         "anchor": "x",
         "domain": [
          0,
          1
         ],
         "title": {
          "text": "count"
         }
        }
       }
      }
     },
     "metadata": {},
     "output_type": "display_data"
    }
   ],
   "source": [
    "# First copy the data_frame\n",
    "reduced_categories = categories.copy(deep=True)\n",
    "\n",
    "# Extract the reduced categories and add them to the copied df\n",
    "reduced_categories_list = [category.replace('subject.', '').split('.')[0] for category in reduced_categories['category']]\n",
    "reduced_categories = reduced_categories.assign(first_category = reduced_categories_list)\n",
    "\n",
    "# Extract second most important category\n",
    "reduced_categories_list_2 = [category.replace('subject.', '').split('.')[1] if len(category.replace('subject.', '').split('.')) > 1 else None for category in reduced_categories['category']]\n",
    "reduced_categories = reduced_categories.assign(second_category = reduced_categories_list_2)\n",
    "\n",
    "# Count the new distribution and plot it\n",
    "first_category_distribution = reduced_categories['first_category'].value_counts()\n",
    "second_category_distribution = reduced_categories['second_category'].value_counts()\n",
    "reduced_categories = reduced_categories.drop(columns =['article', 'category']).drop_duplicates()\n",
    "\n",
    "merged = pd.merge(second_category_distribution, reduced_categories, on = 'second_category')\n",
    "#display(merged.head())\n",
    "\n",
    "fig = px.bar(merged, x=\"first_category\", y=\"count\", color=\"second_category\", title=\"Categories represented in our dataset\")\n",
    "fig.update_layout(barmode='stack', xaxis={'categoryorder':'total descending'})\n",
    "fig.show()\n",
    "fig.write_html(\"docs/overall_dataset_bar.html\")"
   ]
  },
  {
   "cell_type": "code",
   "execution_count": null,
   "metadata": {},
   "outputs": [],
   "source": []
  },
  {
   "cell_type": "markdown",
   "metadata": {},
   "source": [
    "#### 1.2.2 People categories <a id=\"subsection_1_2_2\"></a>"
   ]
  },
  {
   "cell_type": "markdown",
   "metadata": {},
   "source": [
    "##### Extracting people data"
   ]
  },
  {
   "cell_type": "code",
   "execution_count": 6,
   "metadata": {},
   "outputs": [
    {
     "name": "stdout",
     "output_type": "stream",
     "text": [
      "<class 'pandas.core.frame.DataFrame'>\n",
      "Index: 711 entries, 1 to 5200\n",
      "Data columns (total 2 columns):\n",
      " #   Column    Non-Null Count  Dtype \n",
      "---  ------    --------------  ----- \n",
      " 0   article   711 non-null    object\n",
      " 1   category  711 non-null    object\n",
      "dtypes: object(2)\n",
      "memory usage: 16.7+ KB\n",
      "<class 'pandas.core.frame.DataFrame'>\n",
      "Index: 689 entries, 1 to 5200\n",
      "Data columns (total 2 columns):\n",
      " #   Column    Non-Null Count  Dtype \n",
      "---  ------    --------------  ----- \n",
      " 0   article   689 non-null    object\n",
      " 1   category  689 non-null    object\n",
      "dtypes: object(2)\n",
      "memory usage: 16.1+ KB\n",
      "<class 'pandas.core.frame.DataFrame'>\n",
      "Index: 22 entries, 250 to 4806\n",
      "Data columns (total 2 columns):\n",
      " #   Column    Non-Null Count  Dtype \n",
      "---  ------    --------------  ----- \n",
      " 0   article   22 non-null     object\n",
      " 1   category  22 non-null     object\n",
      "dtypes: object(2)\n",
      "memory usage: 528.0+ bytes\n"
     ]
    }
   ],
   "source": [
    "\n",
    "# Selection of all the articles from a people category\n",
    "all_people_selection = categories[categories['category'].str.contains('People')]\n",
    "\n",
    "# Separate the data as people that are main or secondary people\n",
    "main_people_selection = all_people_selection[all_people_selection['category'].str.contains('subject.People')]\n",
    "second_people_selection = pd.concat([main_people_selection,all_people_selection]).drop_duplicates(keep=False)\n",
    "\n",
    "# Verify that all the articles are unique\n",
    "all_people_selection.info() \n",
    "main_people_selection.info()\n",
    "second_people_selection.info()"
   ]
  },
  {
   "cell_type": "code",
   "execution_count": 7,
   "metadata": {},
   "outputs": [
    {
     "data": {
      "application/vnd.plotly.v1+json": {
       "config": {
        "plotlyServerURL": "https://plot.ly"
       },
       "data": [
        {
         "hovertemplate": "color=#F3C300<br>count=%{r}<br>category=%{theta}<extra></extra>",
         "legendgroup": "#F3C300",
         "marker": {
          "color": "#636efa",
          "pattern": {
           "shape": ""
          }
         },
         "name": "#F3C300",
         "r": [
          108
         ],
         "showlegend": true,
         "subplot": "polar",
         "theta": [
          "Historical_figures"
         ],
         "type": "barpolar"
        },
        {
         "hovertemplate": "color=#875692<br>count=%{r}<br>category=%{theta}<extra></extra>",
         "legendgroup": "#875692",
         "marker": {
          "color": "#EF553B",
          "pattern": {
           "shape": ""
          }
         },
         "name": "#875692",
         "r": [
          71
         ],
         "showlegend": true,
         "subplot": "polar",
         "theta": [
          "Writers_and_critics"
         ],
         "type": "barpolar"
        },
        {
         "hovertemplate": "color=#F38400<br>count=%{r}<br>category=%{theta}<extra></extra>",
         "legendgroup": "#F38400",
         "marker": {
          "color": "#00cc96",
          "pattern": {
           "shape": ""
          }
         },
         "name": "#F38400",
         "r": [
          67
         ],
         "showlegend": true,
         "subplot": "polar",
         "theta": [
          "Political_People"
         ],
         "type": "barpolar"
        },
        {
         "hovertemplate": "color=#A1CAF1<br>count=%{r}<br>category=%{theta}<extra></extra>",
         "legendgroup": "#A1CAF1",
         "marker": {
          "color": "#ab63fa",
          "pattern": {
           "shape": ""
          }
         },
         "name": "#A1CAF1",
         "r": [
          45
         ],
         "showlegend": true,
         "subplot": "polar",
         "theta": [
          "Sports_and_games_people"
         ],
         "type": "barpolar"
        },
        {
         "hovertemplate": "color=#BE0032<br>count=%{r}<br>category=%{theta}<extra></extra>",
         "legendgroup": "#BE0032",
         "marker": {
          "color": "#FFA15A",
          "pattern": {
           "shape": ""
          }
         },
         "name": "#BE0032",
         "r": [
          43
         ],
         "showlegend": true,
         "subplot": "polar",
         "theta": [
          "Performers_and_composers"
         ],
         "type": "barpolar"
        },
        {
         "hovertemplate": "color=#C2B280<br>count=%{r}<br>category=%{theta}<extra></extra>",
         "legendgroup": "#C2B280",
         "marker": {
          "color": "#19d3f3",
          "pattern": {
           "shape": ""
          }
         },
         "name": "#C2B280",
         "r": [
          43
         ],
         "showlegend": true,
         "subplot": "polar",
         "theta": [
          "Monarchs_of_Great_Britain"
         ],
         "type": "barpolar"
        },
        {
         "hovertemplate": "color=#848482<br>count=%{r}<br>category=%{theta}<extra></extra>",
         "legendgroup": "#848482",
         "marker": {
          "color": "#FF6692",
          "pattern": {
           "shape": ""
          }
         },
         "name": "#848482",
         "r": [
          39
         ],
         "showlegend": true,
         "subplot": "polar",
         "theta": [
          "Religious_figures_and_leaders"
         ],
         "type": "barpolar"
        },
        {
         "hovertemplate": "color=#008856<br>count=%{r}<br>category=%{theta}<extra></extra>",
         "legendgroup": "#008856",
         "marker": {
          "color": "#B6E880",
          "pattern": {
           "shape": ""
          }
         },
         "name": "#008856",
         "r": [
          37
         ],
         "showlegend": true,
         "subplot": "polar",
         "theta": [
          "USA_Presidents"
         ],
         "type": "barpolar"
        },
        {
         "hovertemplate": "color=#E68FAC<br>count=%{r}<br>category=%{theta}<extra></extra>",
         "legendgroup": "#E68FAC",
         "marker": {
          "color": "#FF97FF",
          "pattern": {
           "shape": ""
          }
         },
         "name": "#E68FAC",
         "r": [
          36
         ],
         "showlegend": true,
         "subplot": "polar",
         "theta": [
          "Artists"
         ],
         "type": "barpolar"
        },
        {
         "hovertemplate": "color=#0067A5<br>count=%{r}<br>category=%{theta}<extra></extra>",
         "legendgroup": "#0067A5",
         "marker": {
          "color": "#FECB52",
          "pattern": {
           "shape": ""
          }
         },
         "name": "#0067A5",
         "r": [
          25
         ],
         "showlegend": true,
         "subplot": "polar",
         "theta": [
          "Actors_models_and_celebrities"
         ],
         "type": "barpolar"
        },
        {
         "hovertemplate": "color=#F99379<br>count=%{r}<br>category=%{theta}<extra></extra>",
         "legendgroup": "#F99379",
         "marker": {
          "color": "#636efa",
          "pattern": {
           "shape": ""
          }
         },
         "name": "#F99379",
         "r": [
          25
         ],
         "showlegend": true,
         "subplot": "polar",
         "theta": [
          "Engineers_and_inventors"
         ],
         "type": "barpolar"
        },
        {
         "hovertemplate": "color=#604E97<br>count=%{r}<br>category=%{theta}<extra></extra>",
         "legendgroup": "#604E97",
         "marker": {
          "color": "#EF553B",
          "pattern": {
           "shape": ""
          }
         },
         "name": "#604E97",
         "r": [
          23
         ],
         "showlegend": true,
         "subplot": "polar",
         "theta": [
          "Human_Scientists"
         ],
         "type": "barpolar"
        },
        {
         "hovertemplate": "color=#F6A600<br>count=%{r}<br>category=%{theta}<extra></extra>",
         "legendgroup": "#F6A600",
         "marker": {
          "color": "#00cc96",
          "pattern": {
           "shape": ""
          }
         },
         "name": "#F6A600",
         "r": [
          23
         ],
         "showlegend": true,
         "subplot": "polar",
         "theta": [
          "Philosophers"
         ],
         "type": "barpolar"
        },
        {
         "hovertemplate": "color=#B3446C<br>count=%{r}<br>category=%{theta}<extra></extra>",
         "legendgroup": "#B3446C",
         "marker": {
          "color": "#ab63fa",
          "pattern": {
           "shape": ""
          }
         },
         "name": "#B3446C",
         "r": [
          22
         ],
         "showlegend": true,
         "subplot": "polar",
         "theta": [
          "Military_People"
         ],
         "type": "barpolar"
        },
        {
         "hovertemplate": "color=#DCD300<br>count=%{r}<br>category=%{theta}<extra></extra>",
         "legendgroup": "#DCD300",
         "marker": {
          "color": "#FFA15A",
          "pattern": {
           "shape": ""
          }
         },
         "name": "#DCD300",
         "r": [
          21
         ],
         "showlegend": true,
         "subplot": "polar",
         "theta": [
          "Geographers_and_explorers"
         ],
         "type": "barpolar"
        },
        {
         "hovertemplate": "color=#882D17<br>count=%{r}<br>category=%{theta}<extra></extra>",
         "legendgroup": "#882D17",
         "marker": {
          "color": "#19d3f3",
          "pattern": {
           "shape": ""
          }
         },
         "name": "#882D17",
         "r": [
          21
         ],
         "showlegend": true,
         "subplot": "polar",
         "theta": [
          "Astronomers_and_physicists"
         ],
         "type": "barpolar"
        },
        {
         "hovertemplate": "color=#8DB600<br>count=%{r}<br>category=%{theta}<extra></extra>",
         "legendgroup": "#8DB600",
         "marker": {
          "color": "#FF6692",
          "pattern": {
           "shape": ""
          }
         },
         "name": "#8DB600",
         "r": [
          15
         ],
         "showlegend": true,
         "subplot": "polar",
         "theta": [
          "Mathematicians"
         ],
         "type": "barpolar"
        },
        {
         "hovertemplate": "color=#654522<br>count=%{r}<br>category=%{theta}<extra></extra>",
         "legendgroup": "#654522",
         "marker": {
          "color": "#B6E880",
          "pattern": {
           "shape": ""
          }
         },
         "name": "#654522",
         "r": [
          9
         ],
         "showlegend": true,
         "subplot": "polar",
         "theta": [
          "Computing_People"
         ],
         "type": "barpolar"
        },
        {
         "hovertemplate": "color=#E25822<br>count=%{r}<br>category=%{theta}<extra></extra>",
         "legendgroup": "#E25822",
         "marker": {
          "color": "#FF97FF",
          "pattern": {
           "shape": ""
          }
         },
         "name": "#E25822",
         "r": [
          8
         ],
         "showlegend": true,
         "subplot": "polar",
         "theta": [
          "Producers_directors_and_media_figures"
         ],
         "type": "barpolar"
        },
        {
         "hovertemplate": "color=#2B3D26<br>count=%{r}<br>category=%{theta}<extra></extra>",
         "legendgroup": "#2B3D26",
         "marker": {
          "color": "#FECB52",
          "pattern": {
           "shape": ""
          }
         },
         "name": "#2B3D26",
         "r": [
          8
         ],
         "showlegend": true,
         "subplot": "polar",
         "theta": [
          "Chemists"
         ],
         "type": "barpolar"
        }
       ],
       "layout": {
        "barmode": "relative",
        "legend": {
         "title": {
          "text": "color"
         },
         "tracegroupgap": 0
        },
        "margin": {
         "t": 60
        },
        "polar": {
         "angularaxis": {
          "direction": "clockwise",
          "rotation": 90
         },
         "domain": {
          "x": [
           0,
           1
          ],
          "y": [
           0,
           1
          ]
         }
        },
        "showlegend": false,
        "template": {
         "data": {
          "bar": [
           {
            "error_x": {
             "color": "#2a3f5f"
            },
            "error_y": {
             "color": "#2a3f5f"
            },
            "marker": {
             "line": {
              "color": "#E5ECF6",
              "width": 0.5
             },
             "pattern": {
              "fillmode": "overlay",
              "size": 10,
              "solidity": 0.2
             }
            },
            "type": "bar"
           }
          ],
          "barpolar": [
           {
            "marker": {
             "line": {
              "color": "#E5ECF6",
              "width": 0.5
             },
             "pattern": {
              "fillmode": "overlay",
              "size": 10,
              "solidity": 0.2
             }
            },
            "type": "barpolar"
           }
          ],
          "carpet": [
           {
            "aaxis": {
             "endlinecolor": "#2a3f5f",
             "gridcolor": "white",
             "linecolor": "white",
             "minorgridcolor": "white",
             "startlinecolor": "#2a3f5f"
            },
            "baxis": {
             "endlinecolor": "#2a3f5f",
             "gridcolor": "white",
             "linecolor": "white",
             "minorgridcolor": "white",
             "startlinecolor": "#2a3f5f"
            },
            "type": "carpet"
           }
          ],
          "choropleth": [
           {
            "colorbar": {
             "outlinewidth": 0,
             "ticks": ""
            },
            "type": "choropleth"
           }
          ],
          "contour": [
           {
            "colorbar": {
             "outlinewidth": 0,
             "ticks": ""
            },
            "colorscale": [
             [
              0,
              "#0d0887"
             ],
             [
              0.1111111111111111,
              "#46039f"
             ],
             [
              0.2222222222222222,
              "#7201a8"
             ],
             [
              0.3333333333333333,
              "#9c179e"
             ],
             [
              0.4444444444444444,
              "#bd3786"
             ],
             [
              0.5555555555555556,
              "#d8576b"
             ],
             [
              0.6666666666666666,
              "#ed7953"
             ],
             [
              0.7777777777777778,
              "#fb9f3a"
             ],
             [
              0.8888888888888888,
              "#fdca26"
             ],
             [
              1,
              "#f0f921"
             ]
            ],
            "type": "contour"
           }
          ],
          "contourcarpet": [
           {
            "colorbar": {
             "outlinewidth": 0,
             "ticks": ""
            },
            "type": "contourcarpet"
           }
          ],
          "heatmap": [
           {
            "colorbar": {
             "outlinewidth": 0,
             "ticks": ""
            },
            "colorscale": [
             [
              0,
              "#0d0887"
             ],
             [
              0.1111111111111111,
              "#46039f"
             ],
             [
              0.2222222222222222,
              "#7201a8"
             ],
             [
              0.3333333333333333,
              "#9c179e"
             ],
             [
              0.4444444444444444,
              "#bd3786"
             ],
             [
              0.5555555555555556,
              "#d8576b"
             ],
             [
              0.6666666666666666,
              "#ed7953"
             ],
             [
              0.7777777777777778,
              "#fb9f3a"
             ],
             [
              0.8888888888888888,
              "#fdca26"
             ],
             [
              1,
              "#f0f921"
             ]
            ],
            "type": "heatmap"
           }
          ],
          "heatmapgl": [
           {
            "colorbar": {
             "outlinewidth": 0,
             "ticks": ""
            },
            "colorscale": [
             [
              0,
              "#0d0887"
             ],
             [
              0.1111111111111111,
              "#46039f"
             ],
             [
              0.2222222222222222,
              "#7201a8"
             ],
             [
              0.3333333333333333,
              "#9c179e"
             ],
             [
              0.4444444444444444,
              "#bd3786"
             ],
             [
              0.5555555555555556,
              "#d8576b"
             ],
             [
              0.6666666666666666,
              "#ed7953"
             ],
             [
              0.7777777777777778,
              "#fb9f3a"
             ],
             [
              0.8888888888888888,
              "#fdca26"
             ],
             [
              1,
              "#f0f921"
             ]
            ],
            "type": "heatmapgl"
           }
          ],
          "histogram": [
           {
            "marker": {
             "pattern": {
              "fillmode": "overlay",
              "size": 10,
              "solidity": 0.2
             }
            },
            "type": "histogram"
           }
          ],
          "histogram2d": [
           {
            "colorbar": {
             "outlinewidth": 0,
             "ticks": ""
            },
            "colorscale": [
             [
              0,
              "#0d0887"
             ],
             [
              0.1111111111111111,
              "#46039f"
             ],
             [
              0.2222222222222222,
              "#7201a8"
             ],
             [
              0.3333333333333333,
              "#9c179e"
             ],
             [
              0.4444444444444444,
              "#bd3786"
             ],
             [
              0.5555555555555556,
              "#d8576b"
             ],
             [
              0.6666666666666666,
              "#ed7953"
             ],
             [
              0.7777777777777778,
              "#fb9f3a"
             ],
             [
              0.8888888888888888,
              "#fdca26"
             ],
             [
              1,
              "#f0f921"
             ]
            ],
            "type": "histogram2d"
           }
          ],
          "histogram2dcontour": [
           {
            "colorbar": {
             "outlinewidth": 0,
             "ticks": ""
            },
            "colorscale": [
             [
              0,
              "#0d0887"
             ],
             [
              0.1111111111111111,
              "#46039f"
             ],
             [
              0.2222222222222222,
              "#7201a8"
             ],
             [
              0.3333333333333333,
              "#9c179e"
             ],
             [
              0.4444444444444444,
              "#bd3786"
             ],
             [
              0.5555555555555556,
              "#d8576b"
             ],
             [
              0.6666666666666666,
              "#ed7953"
             ],
             [
              0.7777777777777778,
              "#fb9f3a"
             ],
             [
              0.8888888888888888,
              "#fdca26"
             ],
             [
              1,
              "#f0f921"
             ]
            ],
            "type": "histogram2dcontour"
           }
          ],
          "mesh3d": [
           {
            "colorbar": {
             "outlinewidth": 0,
             "ticks": ""
            },
            "type": "mesh3d"
           }
          ],
          "parcoords": [
           {
            "line": {
             "colorbar": {
              "outlinewidth": 0,
              "ticks": ""
             }
            },
            "type": "parcoords"
           }
          ],
          "pie": [
           {
            "automargin": true,
            "type": "pie"
           }
          ],
          "scatter": [
           {
            "fillpattern": {
             "fillmode": "overlay",
             "size": 10,
             "solidity": 0.2
            },
            "type": "scatter"
           }
          ],
          "scatter3d": [
           {
            "line": {
             "colorbar": {
              "outlinewidth": 0,
              "ticks": ""
             }
            },
            "marker": {
             "colorbar": {
              "outlinewidth": 0,
              "ticks": ""
             }
            },
            "type": "scatter3d"
           }
          ],
          "scattercarpet": [
           {
            "marker": {
             "colorbar": {
              "outlinewidth": 0,
              "ticks": ""
             }
            },
            "type": "scattercarpet"
           }
          ],
          "scattergeo": [
           {
            "marker": {
             "colorbar": {
              "outlinewidth": 0,
              "ticks": ""
             }
            },
            "type": "scattergeo"
           }
          ],
          "scattergl": [
           {
            "marker": {
             "colorbar": {
              "outlinewidth": 0,
              "ticks": ""
             }
            },
            "type": "scattergl"
           }
          ],
          "scattermapbox": [
           {
            "marker": {
             "colorbar": {
              "outlinewidth": 0,
              "ticks": ""
             }
            },
            "type": "scattermapbox"
           }
          ],
          "scatterpolar": [
           {
            "marker": {
             "colorbar": {
              "outlinewidth": 0,
              "ticks": ""
             }
            },
            "type": "scatterpolar"
           }
          ],
          "scatterpolargl": [
           {
            "marker": {
             "colorbar": {
              "outlinewidth": 0,
              "ticks": ""
             }
            },
            "type": "scatterpolargl"
           }
          ],
          "scatterternary": [
           {
            "marker": {
             "colorbar": {
              "outlinewidth": 0,
              "ticks": ""
             }
            },
            "type": "scatterternary"
           }
          ],
          "surface": [
           {
            "colorbar": {
             "outlinewidth": 0,
             "ticks": ""
            },
            "colorscale": [
             [
              0,
              "#0d0887"
             ],
             [
              0.1111111111111111,
              "#46039f"
             ],
             [
              0.2222222222222222,
              "#7201a8"
             ],
             [
              0.3333333333333333,
              "#9c179e"
             ],
             [
              0.4444444444444444,
              "#bd3786"
             ],
             [
              0.5555555555555556,
              "#d8576b"
             ],
             [
              0.6666666666666666,
              "#ed7953"
             ],
             [
              0.7777777777777778,
              "#fb9f3a"
             ],
             [
              0.8888888888888888,
              "#fdca26"
             ],
             [
              1,
              "#f0f921"
             ]
            ],
            "type": "surface"
           }
          ],
          "table": [
           {
            "cells": {
             "fill": {
              "color": "#EBF0F8"
             },
             "line": {
              "color": "white"
             }
            },
            "header": {
             "fill": {
              "color": "#C8D4E3"
             },
             "line": {
              "color": "white"
             }
            },
            "type": "table"
           }
          ]
         },
         "layout": {
          "annotationdefaults": {
           "arrowcolor": "#2a3f5f",
           "arrowhead": 0,
           "arrowwidth": 1
          },
          "autotypenumbers": "strict",
          "coloraxis": {
           "colorbar": {
            "outlinewidth": 0,
            "ticks": ""
           }
          },
          "colorscale": {
           "diverging": [
            [
             0,
             "#8e0152"
            ],
            [
             0.1,
             "#c51b7d"
            ],
            [
             0.2,
             "#de77ae"
            ],
            [
             0.3,
             "#f1b6da"
            ],
            [
             0.4,
             "#fde0ef"
            ],
            [
             0.5,
             "#f7f7f7"
            ],
            [
             0.6,
             "#e6f5d0"
            ],
            [
             0.7,
             "#b8e186"
            ],
            [
             0.8,
             "#7fbc41"
            ],
            [
             0.9,
             "#4d9221"
            ],
            [
             1,
             "#276419"
            ]
           ],
           "sequential": [
            [
             0,
             "#0d0887"
            ],
            [
             0.1111111111111111,
             "#46039f"
            ],
            [
             0.2222222222222222,
             "#7201a8"
            ],
            [
             0.3333333333333333,
             "#9c179e"
            ],
            [
             0.4444444444444444,
             "#bd3786"
            ],
            [
             0.5555555555555556,
             "#d8576b"
            ],
            [
             0.6666666666666666,
             "#ed7953"
            ],
            [
             0.7777777777777778,
             "#fb9f3a"
            ],
            [
             0.8888888888888888,
             "#fdca26"
            ],
            [
             1,
             "#f0f921"
            ]
           ],
           "sequentialminus": [
            [
             0,
             "#0d0887"
            ],
            [
             0.1111111111111111,
             "#46039f"
            ],
            [
             0.2222222222222222,
             "#7201a8"
            ],
            [
             0.3333333333333333,
             "#9c179e"
            ],
            [
             0.4444444444444444,
             "#bd3786"
            ],
            [
             0.5555555555555556,
             "#d8576b"
            ],
            [
             0.6666666666666666,
             "#ed7953"
            ],
            [
             0.7777777777777778,
             "#fb9f3a"
            ],
            [
             0.8888888888888888,
             "#fdca26"
            ],
            [
             1,
             "#f0f921"
            ]
           ]
          },
          "colorway": [
           "#636efa",
           "#EF553B",
           "#00cc96",
           "#ab63fa",
           "#FFA15A",
           "#19d3f3",
           "#FF6692",
           "#B6E880",
           "#FF97FF",
           "#FECB52"
          ],
          "font": {
           "color": "#2a3f5f"
          },
          "geo": {
           "bgcolor": "white",
           "lakecolor": "white",
           "landcolor": "#E5ECF6",
           "showlakes": true,
           "showland": true,
           "subunitcolor": "white"
          },
          "hoverlabel": {
           "align": "left"
          },
          "hovermode": "closest",
          "mapbox": {
           "style": "light"
          },
          "paper_bgcolor": "white",
          "plot_bgcolor": "#E5ECF6",
          "polar": {
           "angularaxis": {
            "gridcolor": "white",
            "linecolor": "white",
            "ticks": ""
           },
           "bgcolor": "#E5ECF6",
           "radialaxis": {
            "gridcolor": "white",
            "linecolor": "white",
            "ticks": ""
           }
          },
          "scene": {
           "xaxis": {
            "backgroundcolor": "#E5ECF6",
            "gridcolor": "white",
            "gridwidth": 2,
            "linecolor": "white",
            "showbackground": true,
            "ticks": "",
            "zerolinecolor": "white"
           },
           "yaxis": {
            "backgroundcolor": "#E5ECF6",
            "gridcolor": "white",
            "gridwidth": 2,
            "linecolor": "white",
            "showbackground": true,
            "ticks": "",
            "zerolinecolor": "white"
           },
           "zaxis": {
            "backgroundcolor": "#E5ECF6",
            "gridcolor": "white",
            "gridwidth": 2,
            "linecolor": "white",
            "showbackground": true,
            "ticks": "",
            "zerolinecolor": "white"
           }
          },
          "shapedefaults": {
           "line": {
            "color": "#2a3f5f"
           }
          },
          "ternary": {
           "aaxis": {
            "gridcolor": "white",
            "linecolor": "white",
            "ticks": ""
           },
           "baxis": {
            "gridcolor": "white",
            "linecolor": "white",
            "ticks": ""
           },
           "bgcolor": "#E5ECF6",
           "caxis": {
            "gridcolor": "white",
            "linecolor": "white",
            "ticks": ""
           }
          },
          "title": {
           "x": 0.05
          },
          "xaxis": {
           "automargin": true,
           "gridcolor": "white",
           "linecolor": "white",
           "ticks": "",
           "title": {
            "standoff": 15
           },
           "zerolinecolor": "white",
           "zerolinewidth": 2
          },
          "yaxis": {
           "automargin": true,
           "gridcolor": "white",
           "linecolor": "white",
           "ticks": "",
           "title": {
            "standoff": 15
           },
           "zerolinecolor": "white",
           "zerolinewidth": 2
          }
         }
        }
       }
      }
     },
     "metadata": {},
     "output_type": "display_data"
    }
   ],
   "source": [
    "# Count for each people category\n",
    "people_categories = pd.DataFrame(main_people_selection.value_counts('category'))\n",
    "people_categories.index = [cat.replace('subject.People.', '') for cat in people_categories.index]\n",
    "people_categories['category'] = people_categories.index\n",
    "\n",
    "# Do a beautiful plot\n",
    "fig = px.bar_polar(people_categories, r=\"count\", theta=\"category\", color= colors_categories)\n",
    "fig.update_layout(showlegend=False)\n",
    "fig.show()\n",
    "#Export html for the website\n",
    "fig.write_html(\"docs/people_categories.html\")\n",
    "\n"
   ]
  },
  {
   "cell_type": "markdown",
   "metadata": {},
   "source": [
    "### 1.3 Gender retrieval <a id=\"sub_section_1_3\"></a>"
   ]
  },
  {
   "cell_type": "code",
   "execution_count": 8,
   "metadata": {},
   "outputs": [],
   "source": [
    "#to run the script from raw\n",
    "#main_people_selection = add_all_genders(main_people_selection)\n",
    "\n",
    "#to download from stored file \n",
    "main_people_selection_path = 'dataset/people_selection.json'\n",
    "main_people_selection = pd.read_json(main_people_selection_path, orient = 'records', lines = True)\n",
    "main_people_selection = main_people_selection.set_index('article')"
   ]
  },
  {
   "cell_type": "markdown",
   "metadata": {},
   "source": [
    "#### 1.3.1 Gender repartition in categories <a id=\"subsection_1_3_1\"></a>"
   ]
  },
  {
   "cell_type": "code",
   "execution_count": 9,
   "metadata": {},
   "outputs": [
    {
     "data": {
      "text/html": [
       "<div>\n",
       "<style scoped>\n",
       "    .dataframe tbody tr th:only-of-type {\n",
       "        vertical-align: middle;\n",
       "    }\n",
       "\n",
       "    .dataframe tbody tr th {\n",
       "        vertical-align: top;\n",
       "    }\n",
       "\n",
       "    .dataframe thead th {\n",
       "        text-align: right;\n",
       "    }\n",
       "</style>\n",
       "<table border=\"1\" class=\"dataframe\">\n",
       "  <thead>\n",
       "    <tr style=\"text-align: right;\">\n",
       "      <th>gender</th>\n",
       "      <th>Female</th>\n",
       "      <th>Male</th>\n",
       "      <th>Unknown</th>\n",
       "      <th>category</th>\n",
       "    </tr>\n",
       "  </thead>\n",
       "  <tbody>\n",
       "    <tr>\n",
       "      <th>0</th>\n",
       "      <td>11</td>\n",
       "      <td>12</td>\n",
       "      <td>2</td>\n",
       "      <td>Actors_models_and_celebrities</td>\n",
       "    </tr>\n",
       "    <tr>\n",
       "      <th>1</th>\n",
       "      <td>1</td>\n",
       "      <td>35</td>\n",
       "      <td>0</td>\n",
       "      <td>Artists</td>\n",
       "    </tr>\n",
       "    <tr>\n",
       "      <th>2</th>\n",
       "      <td>0</td>\n",
       "      <td>21</td>\n",
       "      <td>0</td>\n",
       "      <td>Astronomers_and_physicists</td>\n",
       "    </tr>\n",
       "    <tr>\n",
       "      <th>3</th>\n",
       "      <td>1</td>\n",
       "      <td>7</td>\n",
       "      <td>0</td>\n",
       "      <td>Chemists</td>\n",
       "    </tr>\n",
       "    <tr>\n",
       "      <th>4</th>\n",
       "      <td>0</td>\n",
       "      <td>9</td>\n",
       "      <td>0</td>\n",
       "      <td>Computing_People</td>\n",
       "    </tr>\n",
       "  </tbody>\n",
       "</table>\n",
       "</div>"
      ],
      "text/plain": [
       "gender  Female  Male  Unknown                       category\n",
       "0           11    12        2  Actors_models_and_celebrities\n",
       "1            1    35        0                        Artists\n",
       "2            0    21        0     Astronomers_and_physicists\n",
       "3            1     7        0                       Chemists\n",
       "4            0     9        0               Computing_People"
      ]
     },
     "execution_count": 9,
     "metadata": {},
     "output_type": "execute_result"
    }
   ],
   "source": [
    "#group all people by their gender and category into a new dataframe\n",
    "\n",
    "people_gender = pd.DataFrame(main_people_selection.groupby(['category', 'gender']).size().unstack(fill_value=0))\n",
    "people_gender.index = [cat.replace('subject.People.', '') for cat in people_gender.index]\n",
    "people_gender['category'] = people_gender.index\n",
    "people_gender = people_gender.reset_index(drop = True, names = 'index')\n",
    "people_gender.head()"
   ]
  },
  {
   "cell_type": "code",
   "execution_count": 10,
   "metadata": {},
   "outputs": [
    {
     "data": {
      "text/html": [
       "<div>\n",
       "<style scoped>\n",
       "    .dataframe tbody tr th:only-of-type {\n",
       "        vertical-align: middle;\n",
       "    }\n",
       "\n",
       "    .dataframe tbody tr th {\n",
       "        vertical-align: top;\n",
       "    }\n",
       "\n",
       "    .dataframe thead th {\n",
       "        text-align: right;\n",
       "    }\n",
       "</style>\n",
       "<table border=\"1\" class=\"dataframe\">\n",
       "  <thead>\n",
       "    <tr style=\"text-align: right;\">\n",
       "      <th>gender</th>\n",
       "      <th>Female</th>\n",
       "      <th>Male</th>\n",
       "      <th>Unknown</th>\n",
       "      <th>category</th>\n",
       "    </tr>\n",
       "  </thead>\n",
       "  <tbody>\n",
       "    <tr>\n",
       "      <th>Actors_models_and_celebrities</th>\n",
       "      <td>11</td>\n",
       "      <td>12</td>\n",
       "      <td>2</td>\n",
       "      <td>Actors_models_and_celebrities</td>\n",
       "    </tr>\n",
       "    <tr>\n",
       "      <th>Artists</th>\n",
       "      <td>1</td>\n",
       "      <td>35</td>\n",
       "      <td>0</td>\n",
       "      <td>Artists</td>\n",
       "    </tr>\n",
       "    <tr>\n",
       "      <th>Astronomers_and_physicists</th>\n",
       "      <td>0</td>\n",
       "      <td>21</td>\n",
       "      <td>0</td>\n",
       "      <td>Astronomers_and_physicists</td>\n",
       "    </tr>\n",
       "    <tr>\n",
       "      <th>Chemists</th>\n",
       "      <td>1</td>\n",
       "      <td>7</td>\n",
       "      <td>0</td>\n",
       "      <td>Chemists</td>\n",
       "    </tr>\n",
       "    <tr>\n",
       "      <th>Computing_People</th>\n",
       "      <td>0</td>\n",
       "      <td>9</td>\n",
       "      <td>0</td>\n",
       "      <td>Computing_People</td>\n",
       "    </tr>\n",
       "    <tr>\n",
       "      <th>Engineers_and_inventors</th>\n",
       "      <td>0</td>\n",
       "      <td>24</td>\n",
       "      <td>1</td>\n",
       "      <td>Engineers_and_inventors</td>\n",
       "    </tr>\n",
       "    <tr>\n",
       "      <th>Geographers_and_explorers</th>\n",
       "      <td>0</td>\n",
       "      <td>19</td>\n",
       "      <td>2</td>\n",
       "      <td>Geographers_and_explorers</td>\n",
       "    </tr>\n",
       "    <tr>\n",
       "      <th>Historical_figures</th>\n",
       "      <td>9</td>\n",
       "      <td>93</td>\n",
       "      <td>6</td>\n",
       "      <td>Historical_figures</td>\n",
       "    </tr>\n",
       "    <tr>\n",
       "      <th>Human_Scientists</th>\n",
       "      <td>4</td>\n",
       "      <td>19</td>\n",
       "      <td>0</td>\n",
       "      <td>Human_Scientists</td>\n",
       "    </tr>\n",
       "    <tr>\n",
       "      <th>Mathematicians</th>\n",
       "      <td>0</td>\n",
       "      <td>15</td>\n",
       "      <td>0</td>\n",
       "      <td>Mathematicians</td>\n",
       "    </tr>\n",
       "    <tr>\n",
       "      <th>Military_People</th>\n",
       "      <td>1</td>\n",
       "      <td>21</td>\n",
       "      <td>0</td>\n",
       "      <td>Military_People</td>\n",
       "    </tr>\n",
       "    <tr>\n",
       "      <th>Monarchs_of_Great_Britain</th>\n",
       "      <td>5</td>\n",
       "      <td>33</td>\n",
       "      <td>5</td>\n",
       "      <td>Monarchs_of_Great_Britain</td>\n",
       "    </tr>\n",
       "    <tr>\n",
       "      <th>Performers_and_composers</th>\n",
       "      <td>6</td>\n",
       "      <td>36</td>\n",
       "      <td>1</td>\n",
       "      <td>Performers_and_composers</td>\n",
       "    </tr>\n",
       "    <tr>\n",
       "      <th>Philosophers</th>\n",
       "      <td>0</td>\n",
       "      <td>23</td>\n",
       "      <td>0</td>\n",
       "      <td>Philosophers</td>\n",
       "    </tr>\n",
       "    <tr>\n",
       "      <th>Political_People</th>\n",
       "      <td>8</td>\n",
       "      <td>54</td>\n",
       "      <td>5</td>\n",
       "      <td>Political_People</td>\n",
       "    </tr>\n",
       "    <tr>\n",
       "      <th>Producers_directors_and_media_figures</th>\n",
       "      <td>0</td>\n",
       "      <td>6</td>\n",
       "      <td>2</td>\n",
       "      <td>Producers_directors_and_media_figures</td>\n",
       "    </tr>\n",
       "    <tr>\n",
       "      <th>Religious_figures_and_leaders</th>\n",
       "      <td>2</td>\n",
       "      <td>34</td>\n",
       "      <td>3</td>\n",
       "      <td>Religious_figures_and_leaders</td>\n",
       "    </tr>\n",
       "    <tr>\n",
       "      <th>Sports_and_games_people</th>\n",
       "      <td>5</td>\n",
       "      <td>39</td>\n",
       "      <td>1</td>\n",
       "      <td>Sports_and_games_people</td>\n",
       "    </tr>\n",
       "    <tr>\n",
       "      <th>USA_Presidents</th>\n",
       "      <td>0</td>\n",
       "      <td>37</td>\n",
       "      <td>0</td>\n",
       "      <td>USA_Presidents</td>\n",
       "    </tr>\n",
       "    <tr>\n",
       "      <th>Writers_and_critics</th>\n",
       "      <td>8</td>\n",
       "      <td>61</td>\n",
       "      <td>2</td>\n",
       "      <td>Writers_and_critics</td>\n",
       "    </tr>\n",
       "  </tbody>\n",
       "</table>\n",
       "</div>"
      ],
      "text/plain": [
       "gender                                 Female  Male  Unknown  \\\n",
       "Actors_models_and_celebrities              11    12        2   \n",
       "Artists                                     1    35        0   \n",
       "Astronomers_and_physicists                  0    21        0   \n",
       "Chemists                                    1     7        0   \n",
       "Computing_People                            0     9        0   \n",
       "Engineers_and_inventors                     0    24        1   \n",
       "Geographers_and_explorers                   0    19        2   \n",
       "Historical_figures                          9    93        6   \n",
       "Human_Scientists                            4    19        0   \n",
       "Mathematicians                              0    15        0   \n",
       "Military_People                             1    21        0   \n",
       "Monarchs_of_Great_Britain                   5    33        5   \n",
       "Performers_and_composers                    6    36        1   \n",
       "Philosophers                                0    23        0   \n",
       "Political_People                            8    54        5   \n",
       "Producers_directors_and_media_figures       0     6        2   \n",
       "Religious_figures_and_leaders               2    34        3   \n",
       "Sports_and_games_people                     5    39        1   \n",
       "USA_Presidents                              0    37        0   \n",
       "Writers_and_critics                         8    61        2   \n",
       "\n",
       "gender                                                              category  \n",
       "Actors_models_and_celebrities                  Actors_models_and_celebrities  \n",
       "Artists                                                              Artists  \n",
       "Astronomers_and_physicists                        Astronomers_and_physicists  \n",
       "Chemists                                                            Chemists  \n",
       "Computing_People                                            Computing_People  \n",
       "Engineers_and_inventors                              Engineers_and_inventors  \n",
       "Geographers_and_explorers                          Geographers_and_explorers  \n",
       "Historical_figures                                        Historical_figures  \n",
       "Human_Scientists                                            Human_Scientists  \n",
       "Mathematicians                                                Mathematicians  \n",
       "Military_People                                              Military_People  \n",
       "Monarchs_of_Great_Britain                          Monarchs_of_Great_Britain  \n",
       "Performers_and_composers                            Performers_and_composers  \n",
       "Philosophers                                                    Philosophers  \n",
       "Political_People                                            Political_People  \n",
       "Producers_directors_and_media_figures  Producers_directors_and_media_figures  \n",
       "Religious_figures_and_leaders                  Religious_figures_and_leaders  \n",
       "Sports_and_games_people                              Sports_and_games_people  \n",
       "USA_Presidents                                                USA_Presidents  \n",
       "Writers_and_critics                                      Writers_and_critics  "
      ]
     },
     "execution_count": 10,
     "metadata": {},
     "output_type": "execute_result"
    }
   ],
   "source": [
    "people_gender = pd.DataFrame(main_people_selection.groupby(['category', 'gender']).size().unstack(fill_value=0))\n",
    "people_gender.index = [cat.replace('subject.People.', '') for cat in people_gender.index]\n",
    "people_gender['category'] = people_gender.index\n",
    "people_gender"
   ]
  },
  {
   "cell_type": "code",
   "execution_count": 11,
   "metadata": {},
   "outputs": [
    {
     "data": {
      "application/vnd.plotly.v1+json": {
       "config": {
        "plotlyServerURL": "https://plot.ly"
       },
       "data": [
        {
         "alignmentgroup": "True",
         "hovertemplate": "variable=Male<br>category=%{x}<br>value=%{y}<extra></extra>",
         "legendgroup": "Male",
         "marker": {
          "color": "#0acc65",
          "pattern": {
           "shape": ""
          }
         },
         "name": "Male",
         "offsetgroup": "Male",
         "orientation": "v",
         "showlegend": true,
         "textposition": "auto",
         "type": "bar",
         "x": [
          "Actors_models_and_celebrities",
          "Artists",
          "Astronomers_and_physicists",
          "Chemists",
          "Computing_People",
          "Engineers_and_inventors",
          "Geographers_and_explorers",
          "Historical_figures",
          "Human_Scientists",
          "Mathematicians",
          "Military_People",
          "Monarchs_of_Great_Britain",
          "Performers_and_composers",
          "Philosophers",
          "Political_People",
          "Producers_directors_and_media_figures",
          "Religious_figures_and_leaders",
          "Sports_and_games_people",
          "USA_Presidents",
          "Writers_and_critics"
         ],
         "xaxis": "x",
         "y": [
          12,
          35,
          21,
          7,
          9,
          24,
          19,
          93,
          19,
          15,
          21,
          33,
          36,
          23,
          54,
          6,
          34,
          39,
          37,
          61
         ],
         "yaxis": "y"
        },
        {
         "alignmentgroup": "True",
         "hovertemplate": "variable=Female<br>category=%{x}<br>value=%{y}<extra></extra>",
         "legendgroup": "Female",
         "marker": {
          "color": "#9904de",
          "pattern": {
           "shape": ""
          }
         },
         "name": "Female",
         "offsetgroup": "Female",
         "orientation": "v",
         "showlegend": true,
         "textposition": "auto",
         "type": "bar",
         "x": [
          "Actors_models_and_celebrities",
          "Artists",
          "Astronomers_and_physicists",
          "Chemists",
          "Computing_People",
          "Engineers_and_inventors",
          "Geographers_and_explorers",
          "Historical_figures",
          "Human_Scientists",
          "Mathematicians",
          "Military_People",
          "Monarchs_of_Great_Britain",
          "Performers_and_composers",
          "Philosophers",
          "Political_People",
          "Producers_directors_and_media_figures",
          "Religious_figures_and_leaders",
          "Sports_and_games_people",
          "USA_Presidents",
          "Writers_and_critics"
         ],
         "xaxis": "x",
         "y": [
          11,
          1,
          0,
          1,
          0,
          0,
          0,
          9,
          4,
          0,
          1,
          5,
          6,
          0,
          8,
          0,
          2,
          5,
          0,
          8
         ],
         "yaxis": "y"
        },
        {
         "alignmentgroup": "True",
         "hovertemplate": "variable=Unknown<br>category=%{x}<br>value=%{y}<extra></extra>",
         "legendgroup": "Unknown",
         "marker": {
          "color": "grey",
          "pattern": {
           "shape": ""
          }
         },
         "name": "Unknown",
         "offsetgroup": "Unknown",
         "orientation": "v",
         "showlegend": true,
         "textposition": "auto",
         "type": "bar",
         "x": [
          "Actors_models_and_celebrities",
          "Artists",
          "Astronomers_and_physicists",
          "Chemists",
          "Computing_People",
          "Engineers_and_inventors",
          "Geographers_and_explorers",
          "Historical_figures",
          "Human_Scientists",
          "Mathematicians",
          "Military_People",
          "Monarchs_of_Great_Britain",
          "Performers_and_composers",
          "Philosophers",
          "Political_People",
          "Producers_directors_and_media_figures",
          "Religious_figures_and_leaders",
          "Sports_and_games_people",
          "USA_Presidents",
          "Writers_and_critics"
         ],
         "xaxis": "x",
         "y": [
          2,
          0,
          0,
          0,
          0,
          1,
          2,
          6,
          0,
          0,
          0,
          5,
          1,
          0,
          5,
          2,
          3,
          1,
          0,
          2
         ],
         "yaxis": "y"
        }
       ],
       "layout": {
        "barmode": "stack",
        "legend": {
         "title": {
          "text": "variable"
         },
         "tracegroupgap": 0
        },
        "template": {
         "data": {
          "bar": [
           {
            "error_x": {
             "color": "#2a3f5f"
            },
            "error_y": {
             "color": "#2a3f5f"
            },
            "marker": {
             "line": {
              "color": "#E5ECF6",
              "width": 0.5
             },
             "pattern": {
              "fillmode": "overlay",
              "size": 10,
              "solidity": 0.2
             }
            },
            "type": "bar"
           }
          ],
          "barpolar": [
           {
            "marker": {
             "line": {
              "color": "#E5ECF6",
              "width": 0.5
             },
             "pattern": {
              "fillmode": "overlay",
              "size": 10,
              "solidity": 0.2
             }
            },
            "type": "barpolar"
           }
          ],
          "carpet": [
           {
            "aaxis": {
             "endlinecolor": "#2a3f5f",
             "gridcolor": "white",
             "linecolor": "white",
             "minorgridcolor": "white",
             "startlinecolor": "#2a3f5f"
            },
            "baxis": {
             "endlinecolor": "#2a3f5f",
             "gridcolor": "white",
             "linecolor": "white",
             "minorgridcolor": "white",
             "startlinecolor": "#2a3f5f"
            },
            "type": "carpet"
           }
          ],
          "choropleth": [
           {
            "colorbar": {
             "outlinewidth": 0,
             "ticks": ""
            },
            "type": "choropleth"
           }
          ],
          "contour": [
           {
            "colorbar": {
             "outlinewidth": 0,
             "ticks": ""
            },
            "colorscale": [
             [
              0,
              "#0d0887"
             ],
             [
              0.1111111111111111,
              "#46039f"
             ],
             [
              0.2222222222222222,
              "#7201a8"
             ],
             [
              0.3333333333333333,
              "#9c179e"
             ],
             [
              0.4444444444444444,
              "#bd3786"
             ],
             [
              0.5555555555555556,
              "#d8576b"
             ],
             [
              0.6666666666666666,
              "#ed7953"
             ],
             [
              0.7777777777777778,
              "#fb9f3a"
             ],
             [
              0.8888888888888888,
              "#fdca26"
             ],
             [
              1,
              "#f0f921"
             ]
            ],
            "type": "contour"
           }
          ],
          "contourcarpet": [
           {
            "colorbar": {
             "outlinewidth": 0,
             "ticks": ""
            },
            "type": "contourcarpet"
           }
          ],
          "heatmap": [
           {
            "colorbar": {
             "outlinewidth": 0,
             "ticks": ""
            },
            "colorscale": [
             [
              0,
              "#0d0887"
             ],
             [
              0.1111111111111111,
              "#46039f"
             ],
             [
              0.2222222222222222,
              "#7201a8"
             ],
             [
              0.3333333333333333,
              "#9c179e"
             ],
             [
              0.4444444444444444,
              "#bd3786"
             ],
             [
              0.5555555555555556,
              "#d8576b"
             ],
             [
              0.6666666666666666,
              "#ed7953"
             ],
             [
              0.7777777777777778,
              "#fb9f3a"
             ],
             [
              0.8888888888888888,
              "#fdca26"
             ],
             [
              1,
              "#f0f921"
             ]
            ],
            "type": "heatmap"
           }
          ],
          "heatmapgl": [
           {
            "colorbar": {
             "outlinewidth": 0,
             "ticks": ""
            },
            "colorscale": [
             [
              0,
              "#0d0887"
             ],
             [
              0.1111111111111111,
              "#46039f"
             ],
             [
              0.2222222222222222,
              "#7201a8"
             ],
             [
              0.3333333333333333,
              "#9c179e"
             ],
             [
              0.4444444444444444,
              "#bd3786"
             ],
             [
              0.5555555555555556,
              "#d8576b"
             ],
             [
              0.6666666666666666,
              "#ed7953"
             ],
             [
              0.7777777777777778,
              "#fb9f3a"
             ],
             [
              0.8888888888888888,
              "#fdca26"
             ],
             [
              1,
              "#f0f921"
             ]
            ],
            "type": "heatmapgl"
           }
          ],
          "histogram": [
           {
            "marker": {
             "pattern": {
              "fillmode": "overlay",
              "size": 10,
              "solidity": 0.2
             }
            },
            "type": "histogram"
           }
          ],
          "histogram2d": [
           {
            "colorbar": {
             "outlinewidth": 0,
             "ticks": ""
            },
            "colorscale": [
             [
              0,
              "#0d0887"
             ],
             [
              0.1111111111111111,
              "#46039f"
             ],
             [
              0.2222222222222222,
              "#7201a8"
             ],
             [
              0.3333333333333333,
              "#9c179e"
             ],
             [
              0.4444444444444444,
              "#bd3786"
             ],
             [
              0.5555555555555556,
              "#d8576b"
             ],
             [
              0.6666666666666666,
              "#ed7953"
             ],
             [
              0.7777777777777778,
              "#fb9f3a"
             ],
             [
              0.8888888888888888,
              "#fdca26"
             ],
             [
              1,
              "#f0f921"
             ]
            ],
            "type": "histogram2d"
           }
          ],
          "histogram2dcontour": [
           {
            "colorbar": {
             "outlinewidth": 0,
             "ticks": ""
            },
            "colorscale": [
             [
              0,
              "#0d0887"
             ],
             [
              0.1111111111111111,
              "#46039f"
             ],
             [
              0.2222222222222222,
              "#7201a8"
             ],
             [
              0.3333333333333333,
              "#9c179e"
             ],
             [
              0.4444444444444444,
              "#bd3786"
             ],
             [
              0.5555555555555556,
              "#d8576b"
             ],
             [
              0.6666666666666666,
              "#ed7953"
             ],
             [
              0.7777777777777778,
              "#fb9f3a"
             ],
             [
              0.8888888888888888,
              "#fdca26"
             ],
             [
              1,
              "#f0f921"
             ]
            ],
            "type": "histogram2dcontour"
           }
          ],
          "mesh3d": [
           {
            "colorbar": {
             "outlinewidth": 0,
             "ticks": ""
            },
            "type": "mesh3d"
           }
          ],
          "parcoords": [
           {
            "line": {
             "colorbar": {
              "outlinewidth": 0,
              "ticks": ""
             }
            },
            "type": "parcoords"
           }
          ],
          "pie": [
           {
            "automargin": true,
            "type": "pie"
           }
          ],
          "scatter": [
           {
            "fillpattern": {
             "fillmode": "overlay",
             "size": 10,
             "solidity": 0.2
            },
            "type": "scatter"
           }
          ],
          "scatter3d": [
           {
            "line": {
             "colorbar": {
              "outlinewidth": 0,
              "ticks": ""
             }
            },
            "marker": {
             "colorbar": {
              "outlinewidth": 0,
              "ticks": ""
             }
            },
            "type": "scatter3d"
           }
          ],
          "scattercarpet": [
           {
            "marker": {
             "colorbar": {
              "outlinewidth": 0,
              "ticks": ""
             }
            },
            "type": "scattercarpet"
           }
          ],
          "scattergeo": [
           {
            "marker": {
             "colorbar": {
              "outlinewidth": 0,
              "ticks": ""
             }
            },
            "type": "scattergeo"
           }
          ],
          "scattergl": [
           {
            "marker": {
             "colorbar": {
              "outlinewidth": 0,
              "ticks": ""
             }
            },
            "type": "scattergl"
           }
          ],
          "scattermapbox": [
           {
            "marker": {
             "colorbar": {
              "outlinewidth": 0,
              "ticks": ""
             }
            },
            "type": "scattermapbox"
           }
          ],
          "scatterpolar": [
           {
            "marker": {
             "colorbar": {
              "outlinewidth": 0,
              "ticks": ""
             }
            },
            "type": "scatterpolar"
           }
          ],
          "scatterpolargl": [
           {
            "marker": {
             "colorbar": {
              "outlinewidth": 0,
              "ticks": ""
             }
            },
            "type": "scatterpolargl"
           }
          ],
          "scatterternary": [
           {
            "marker": {
             "colorbar": {
              "outlinewidth": 0,
              "ticks": ""
             }
            },
            "type": "scatterternary"
           }
          ],
          "surface": [
           {
            "colorbar": {
             "outlinewidth": 0,
             "ticks": ""
            },
            "colorscale": [
             [
              0,
              "#0d0887"
             ],
             [
              0.1111111111111111,
              "#46039f"
             ],
             [
              0.2222222222222222,
              "#7201a8"
             ],
             [
              0.3333333333333333,
              "#9c179e"
             ],
             [
              0.4444444444444444,
              "#bd3786"
             ],
             [
              0.5555555555555556,
              "#d8576b"
             ],
             [
              0.6666666666666666,
              "#ed7953"
             ],
             [
              0.7777777777777778,
              "#fb9f3a"
             ],
             [
              0.8888888888888888,
              "#fdca26"
             ],
             [
              1,
              "#f0f921"
             ]
            ],
            "type": "surface"
           }
          ],
          "table": [
           {
            "cells": {
             "fill": {
              "color": "#EBF0F8"
             },
             "line": {
              "color": "white"
             }
            },
            "header": {
             "fill": {
              "color": "#C8D4E3"
             },
             "line": {
              "color": "white"
             }
            },
            "type": "table"
           }
          ]
         },
         "layout": {
          "annotationdefaults": {
           "arrowcolor": "#2a3f5f",
           "arrowhead": 0,
           "arrowwidth": 1
          },
          "autotypenumbers": "strict",
          "coloraxis": {
           "colorbar": {
            "outlinewidth": 0,
            "ticks": ""
           }
          },
          "colorscale": {
           "diverging": [
            [
             0,
             "#8e0152"
            ],
            [
             0.1,
             "#c51b7d"
            ],
            [
             0.2,
             "#de77ae"
            ],
            [
             0.3,
             "#f1b6da"
            ],
            [
             0.4,
             "#fde0ef"
            ],
            [
             0.5,
             "#f7f7f7"
            ],
            [
             0.6,
             "#e6f5d0"
            ],
            [
             0.7,
             "#b8e186"
            ],
            [
             0.8,
             "#7fbc41"
            ],
            [
             0.9,
             "#4d9221"
            ],
            [
             1,
             "#276419"
            ]
           ],
           "sequential": [
            [
             0,
             "#0d0887"
            ],
            [
             0.1111111111111111,
             "#46039f"
            ],
            [
             0.2222222222222222,
             "#7201a8"
            ],
            [
             0.3333333333333333,
             "#9c179e"
            ],
            [
             0.4444444444444444,
             "#bd3786"
            ],
            [
             0.5555555555555556,
             "#d8576b"
            ],
            [
             0.6666666666666666,
             "#ed7953"
            ],
            [
             0.7777777777777778,
             "#fb9f3a"
            ],
            [
             0.8888888888888888,
             "#fdca26"
            ],
            [
             1,
             "#f0f921"
            ]
           ],
           "sequentialminus": [
            [
             0,
             "#0d0887"
            ],
            [
             0.1111111111111111,
             "#46039f"
            ],
            [
             0.2222222222222222,
             "#7201a8"
            ],
            [
             0.3333333333333333,
             "#9c179e"
            ],
            [
             0.4444444444444444,
             "#bd3786"
            ],
            [
             0.5555555555555556,
             "#d8576b"
            ],
            [
             0.6666666666666666,
             "#ed7953"
            ],
            [
             0.7777777777777778,
             "#fb9f3a"
            ],
            [
             0.8888888888888888,
             "#fdca26"
            ],
            [
             1,
             "#f0f921"
            ]
           ]
          },
          "colorway": [
           "#636efa",
           "#EF553B",
           "#00cc96",
           "#ab63fa",
           "#FFA15A",
           "#19d3f3",
           "#FF6692",
           "#B6E880",
           "#FF97FF",
           "#FECB52"
          ],
          "font": {
           "color": "#2a3f5f"
          },
          "geo": {
           "bgcolor": "white",
           "lakecolor": "white",
           "landcolor": "#E5ECF6",
           "showlakes": true,
           "showland": true,
           "subunitcolor": "white"
          },
          "hoverlabel": {
           "align": "left"
          },
          "hovermode": "closest",
          "mapbox": {
           "style": "light"
          },
          "paper_bgcolor": "white",
          "plot_bgcolor": "#E5ECF6",
          "polar": {
           "angularaxis": {
            "gridcolor": "white",
            "linecolor": "white",
            "ticks": ""
           },
           "bgcolor": "#E5ECF6",
           "radialaxis": {
            "gridcolor": "white",
            "linecolor": "white",
            "ticks": ""
           }
          },
          "scene": {
           "xaxis": {
            "backgroundcolor": "#E5ECF6",
            "gridcolor": "white",
            "gridwidth": 2,
            "linecolor": "white",
            "showbackground": true,
            "ticks": "",
            "zerolinecolor": "white"
           },
           "yaxis": {
            "backgroundcolor": "#E5ECF6",
            "gridcolor": "white",
            "gridwidth": 2,
            "linecolor": "white",
            "showbackground": true,
            "ticks": "",
            "zerolinecolor": "white"
           },
           "zaxis": {
            "backgroundcolor": "#E5ECF6",
            "gridcolor": "white",
            "gridwidth": 2,
            "linecolor": "white",
            "showbackground": true,
            "ticks": "",
            "zerolinecolor": "white"
           }
          },
          "shapedefaults": {
           "line": {
            "color": "#2a3f5f"
           }
          },
          "ternary": {
           "aaxis": {
            "gridcolor": "white",
            "linecolor": "white",
            "ticks": ""
           },
           "baxis": {
            "gridcolor": "white",
            "linecolor": "white",
            "ticks": ""
           },
           "bgcolor": "#E5ECF6",
           "caxis": {
            "gridcolor": "white",
            "linecolor": "white",
            "ticks": ""
           }
          },
          "title": {
           "x": 0.05
          },
          "xaxis": {
           "automargin": true,
           "gridcolor": "white",
           "linecolor": "white",
           "ticks": "",
           "title": {
            "standoff": 15
           },
           "zerolinecolor": "white",
           "zerolinewidth": 2
          },
          "yaxis": {
           "automargin": true,
           "gridcolor": "white",
           "linecolor": "white",
           "ticks": "",
           "title": {
            "standoff": 15
           },
           "zerolinecolor": "white",
           "zerolinewidth": 2
          }
         }
        },
        "title": {
         "text": "Men and women in our dataset"
        },
        "xaxis": {
         "anchor": "y",
         "categoryorder": "total descending",
         "domain": [
          0,
          1
         ],
         "title": {
          "text": "category"
         }
        },
        "yaxis": {
         "anchor": "x",
         "domain": [
          0,
          1
         ],
         "title": {
          "text": "value"
         }
        }
       }
      }
     },
     "metadata": {},
     "output_type": "display_data"
    }
   ],
   "source": [
    "fig = px.bar(people_gender, x='category', y=[\"Male\", 'Female', \"Unknown\"], title=\"Men and women in our dataset\", color_discrete_sequence=[color_male,color_female,color_unknown])\n",
    "fig.update_layout(barmode='stack', xaxis={'categoryorder':'total descending'})\n",
    "fig.show()\n",
    "fig.write_html(\"docs/overall_categories_gender.html\")"
   ]
  },
  {
   "cell_type": "markdown",
   "metadata": {},
   "source": [
    "### 1.4 Graph connection and article representation <a id=\"sub_section_1_4\"></a>"
   ]
  },
  {
   "cell_type": "code",
   "execution_count": null,
   "metadata": {},
   "outputs": [],
   "source": []
  },
  {
   "cell_type": "markdown",
   "metadata": {},
   "source": [
    "## 2 Page Rank <a id=\"section2\"></a>"
   ]
  },
  {
   "cell_type": "code",
   "execution_count": null,
   "metadata": {},
   "outputs": [],
   "source": []
  },
  {
   "cell_type": "markdown",
   "metadata": {},
   "source": [
    "### 2.1 General results <a id=\"sub_section_2_1\"></a>"
   ]
  },
  {
   "cell_type": "code",
   "execution_count": null,
   "metadata": {},
   "outputs": [],
   "source": []
  },
  {
   "cell_type": "markdown",
   "metadata": {},
   "source": [
    "### 2.2 Page Rank and gender <a id=\"sub_section_2_2\"></a>\n"
   ]
  },
  {
   "cell_type": "code",
   "execution_count": null,
   "metadata": {},
   "outputs": [],
   "source": []
  },
  {
   "cell_type": "markdown",
   "metadata": {},
   "source": [
    "## 3 Links analysis <a id=\"section3\"></a>\n"
   ]
  },
  {
   "cell_type": "markdown",
   "metadata": {},
   "source": [
    "### 3.1 Get the data <a id=\"sub_section_3_1\"></a>\n"
   ]
  },
  {
   "cell_type": "code",
   "execution_count": 12,
   "metadata": {},
   "outputs": [],
   "source": [
    "# some helper functions\n",
    "\n",
    "# adds a column to a dataset to give the main category of last article in a path\n",
    "def get_end_cat(art):\n",
    "    return main_people_selection.reset_index().loc[main_people_selection.reset_index()['article'] == art, 'category'].iloc[0].replace('subject.','')\n",
    "\n",
    "# simplifies the path to transform it to a list and delete useless information\n",
    "def transform_path(path):\n",
    "    split_path = path.split(';')\n",
    "    split_cat = []\n",
    "    for art in split_path:\n",
    "        if art != '<' : \n",
    "            try: split_cat.append(categories.loc[categories['article'] == art, 'category'].iloc[0].replace('subject.', ''))\n",
    "            except IndexError : print('Warning: not valid article:', art)\n",
    "    return split_cat\n"
   ]
  },
  {
   "cell_type": "code",
   "execution_count": 13,
   "metadata": {},
   "outputs": [
    {
     "name": "stdout",
     "output_type": "stream",
     "text": [
      "Warning: not valid article: Pikachu\n",
      "Warning: not valid article: Pikachu\n",
      "Warning: not valid article: Pikachu\n",
      "Warning: not valid article: Pikachu\n",
      "Warning: not valid article: Pikachu\n",
      "Warning: not valid article: Pikachu\n",
      "Warning: not valid article: Pikachu\n",
      "Warning: not valid article: Pikachu\n",
      "Warning: not valid article: Pikachu\n",
      "Warning: not valid article: Pikachu\n",
      "Warning: not valid article: Pikachu\n",
      "Warning: not valid article: Pikachu\n",
      "Warning: not valid article: Pikachu\n",
      "Warning: not valid article: Pikachu\n",
      "Warning: not valid article: Pikachu\n",
      "Warning: not valid article: Pikachu\n",
      "Warning: not valid article: Pikachu\n",
      "Warning: not valid article: Pikachu\n",
      "Warning: not valid article: Pikachu\n",
      "Warning: not valid article: Pikachu\n",
      "Warning: not valid article: Pikachu\n",
      "Warning: not valid article: Pikachu\n",
      "Warning: not valid article: Pikachu\n",
      "Warning: not valid article: Pikachu\n",
      "Warning: not valid article: Pikachu\n",
      "Warning: not valid article: Pikachu\n",
      "Warning: not valid article: Pikachu\n",
      "Warning: not valid article: Pikachu\n",
      "Warning: not valid article: Pikachu\n",
      "Warning: not valid article: Pikachu\n",
      "Warning: not valid article: Pikachu\n",
      "Warning: not valid article: Pikachu\n",
      "Warning: not valid article: Pikachu\n",
      "Warning: not valid article: Pikachu\n",
      "Warning: not valid article: Pikachu\n",
      "Warning: not valid article: Pikachu\n",
      "Warning: not valid article: Pikachu\n",
      "Warning: not valid article: Pikachu\n",
      "Warning: not valid article: Pikachu\n",
      "Warning: not valid article: Pikachu\n",
      "Warning: not valid article: Pikachu\n",
      "Warning: not valid article: Pikachu\n",
      "Warning: not valid article: Pikachu\n",
      "Warning: not valid article: Pikachu\n",
      "Warning: not valid article: Pikachu\n",
      "Warning: not valid article: Pikachu\n",
      "Warning: not valid article: Pikachu\n",
      "Warning: not valid article: Pikachu\n",
      "Warning: not valid article: Pikachu\n",
      "Warning: not valid article: Pikachu\n",
      "Warning: not valid article: Pikachu\n",
      "Warning: not valid article: Pikachu\n",
      "Warning: not valid article: Pikachu\n",
      "Warning: not valid article: Pikachu\n",
      "Warning: not valid article: Pikachu\n",
      "Warning: not valid article: Pikachu\n",
      "Warning: not valid article: Pikachu\n",
      "Warning: not valid article: Pikachu\n",
      "Warning: not valid article: Pikachu\n",
      "Warning: not valid article: Pikachu\n",
      "Warning: not valid article: Pikachu\n",
      "Warning: not valid article: Pikachu\n",
      "Warning: not valid article: Pikachu\n",
      "Warning: not valid article: Pikachu\n",
      "Warning: not valid article: Pikachu\n",
      "Warning: not valid article: Pikachu\n",
      "Warning: not valid article: Pikachu\n",
      "Warning: not valid article: Pikachu\n",
      "Warning: not valid article: Pikachu\n",
      "Warning: not valid article: Pikachu\n"
     ]
    },
    {
     "data": {
      "text/html": [
       "<div>\n",
       "<style scoped>\n",
       "    .dataframe tbody tr th:only-of-type {\n",
       "        vertical-align: middle;\n",
       "    }\n",
       "\n",
       "    .dataframe tbody tr th {\n",
       "        vertical-align: top;\n",
       "    }\n",
       "\n",
       "    .dataframe thead th {\n",
       "        text-align: right;\n",
       "    }\n",
       "</style>\n",
       "<table border=\"1\" class=\"dataframe\">\n",
       "  <thead>\n",
       "    <tr style=\"text-align: right;\">\n",
       "      <th></th>\n",
       "      <th>path</th>\n",
       "      <th>end</th>\n",
       "      <th>path_cat</th>\n",
       "    </tr>\n",
       "  </thead>\n",
       "  <tbody>\n",
       "    <tr>\n",
       "      <th>0</th>\n",
       "      <td>14th_century;15th_century;16th_century;Pacific...</td>\n",
       "      <td>African_slave_trade</td>\n",
       "      <td>[History.General_history, History.General_hist...</td>\n",
       "    </tr>\n",
       "    <tr>\n",
       "      <th>1</th>\n",
       "      <td>14th_century;Europe;Africa;Atlantic_slave_trad...</td>\n",
       "      <td>African_slave_trade</td>\n",
       "      <td>[History.General_history, Geography.European_G...</td>\n",
       "    </tr>\n",
       "    <tr>\n",
       "      <th>2</th>\n",
       "      <td>14th_century;Niger;Nigeria;British_Empire;Slav...</td>\n",
       "      <td>African_slave_trade</td>\n",
       "      <td>[History.General_history, Geography.African_Ge...</td>\n",
       "    </tr>\n",
       "    <tr>\n",
       "      <th>3</th>\n",
       "      <td>14th_century;Renaissance;Ancient_Greece;Greece</td>\n",
       "      <td>Greece</td>\n",
       "      <td>[History.General_history, History.General_hist...</td>\n",
       "    </tr>\n",
       "    <tr>\n",
       "      <th>4</th>\n",
       "      <td>14th_century;Italy;Roman_Catholic_Church;HIV;R...</td>\n",
       "      <td>John_F._Kennedy</td>\n",
       "      <td>[History.General_history, Countries, Religion....</td>\n",
       "    </tr>\n",
       "    <tr>\n",
       "      <th>5</th>\n",
       "      <td>14th_century;Europe;North_America;United_State...</td>\n",
       "      <td>John_F._Kennedy</td>\n",
       "      <td>[History.General_history, Geography.European_G...</td>\n",
       "    </tr>\n",
       "    <tr>\n",
       "      <th>6</th>\n",
       "      <td>14th_century;China;Gunpowder;Fire</td>\n",
       "      <td>Fire</td>\n",
       "      <td>[History.General_history, Geography.Geography_...</td>\n",
       "    </tr>\n",
       "    <tr>\n",
       "      <th>7</th>\n",
       "      <td>14th_century;Time;Isaac_Newton;Light;Color;Rai...</td>\n",
       "      <td>Rainbow</td>\n",
       "      <td>[History.General_history, Science.Physics.Gene...</td>\n",
       "    </tr>\n",
       "    <tr>\n",
       "      <th>8</th>\n",
       "      <td>14th_century;Time;Light;Rainbow</td>\n",
       "      <td>Rainbow</td>\n",
       "      <td>[History.General_history, Science.Physics.Gene...</td>\n",
       "    </tr>\n",
       "    <tr>\n",
       "      <th>9</th>\n",
       "      <td>14th_century;15th_century;Plato;Nature;Ultravi...</td>\n",
       "      <td>Rainbow</td>\n",
       "      <td>[History.General_history, History.General_hist...</td>\n",
       "    </tr>\n",
       "  </tbody>\n",
       "</table>\n",
       "</div>"
      ],
      "text/plain": [
       "                                                path                  end  \\\n",
       "0  14th_century;15th_century;16th_century;Pacific...  African_slave_trade   \n",
       "1  14th_century;Europe;Africa;Atlantic_slave_trad...  African_slave_trade   \n",
       "2  14th_century;Niger;Nigeria;British_Empire;Slav...  African_slave_trade   \n",
       "3     14th_century;Renaissance;Ancient_Greece;Greece               Greece   \n",
       "4  14th_century;Italy;Roman_Catholic_Church;HIV;R...      John_F._Kennedy   \n",
       "5  14th_century;Europe;North_America;United_State...      John_F._Kennedy   \n",
       "6                  14th_century;China;Gunpowder;Fire                 Fire   \n",
       "7  14th_century;Time;Isaac_Newton;Light;Color;Rai...              Rainbow   \n",
       "8                    14th_century;Time;Light;Rainbow              Rainbow   \n",
       "9  14th_century;15th_century;Plato;Nature;Ultravi...              Rainbow   \n",
       "\n",
       "                                            path_cat  \n",
       "0  [History.General_history, History.General_hist...  \n",
       "1  [History.General_history, Geography.European_G...  \n",
       "2  [History.General_history, Geography.African_Ge...  \n",
       "3  [History.General_history, History.General_hist...  \n",
       "4  [History.General_history, Countries, Religion....  \n",
       "5  [History.General_history, Geography.European_G...  \n",
       "6  [History.General_history, Geography.Geography_...  \n",
       "7  [History.General_history, Science.Physics.Gene...  \n",
       "8  [History.General_history, Science.Physics.Gene...  \n",
       "9  [History.General_history, History.General_hist...  "
      ]
     },
     "execution_count": 13,
     "metadata": {},
     "output_type": "execute_result"
    }
   ],
   "source": [
    "# first lets retrieve all the paths and prepare them to be analysed\n",
    "paths_finished = dfs['paths_finished']\n",
    "paths = paths_finished.drop(['timestamp','durationInSec'], axis = 1)\n",
    "\n",
    "paths['end'] = [path.split(';')[-1] for path in paths['path']]\n",
    "paths['path_cat'] = [transform_path(path) for path in paths['path']]\n",
    "paths.head(10)"
   ]
  },
  {
   "cell_type": "code",
   "execution_count": 14,
   "metadata": {},
   "outputs": [],
   "source": [
    "# now let's focus on solely the paths\n",
    "\n",
    "paths_only = paths['path_cat']\n",
    "paths_only = [path[-4:] for path in paths_only]\n",
    "paths_only_simple = [replace_to_simple(path) for path in paths_only]\n",
    "\n",
    "# create a dictionnary that containts the paths leading to each category\n",
    "\n",
    "path_dict = {}\n",
    "for category in first_category_distribution.index:\n",
    "    cat_path = [path for path in paths_only_simple if path[-1]==category]\n",
    "    path_dict[category]=cat_path\n",
    "\n",
    "# create a dictionnary with supplementary data for all paths\n",
    "\n",
    "new_path_dict = update_dict_with_counts(path_dict)"
   ]
  },
  {
   "cell_type": "markdown",
   "metadata": {},
   "source": [
    "### 3.2 Get the data distribution <a id=\"sub_section_3_2\"></a>"
   ]
  },
  {
   "cell_type": "code",
   "execution_count": 15,
   "metadata": {},
   "outputs": [],
   "source": [
    "#combine everything in a single dataframe\n",
    "\n",
    "dict_for_bar_plot = {key:create_dict_for_plotly_bar(new_path_dict[key]) for key in new_path_dict.keys()}"
   ]
  },
  {
   "cell_type": "markdown",
   "metadata": {},
   "source": [
    "### Now let's get some more specific data as well"
   ]
  },
  {
   "cell_type": "markdown",
   "metadata": {},
   "source": [
    "#### Now let's do this same plot but comparing women and men in the people category "
   ]
  },
  {
   "cell_type": "code",
   "execution_count": 16,
   "metadata": {},
   "outputs": [],
   "source": [
    "main_people_selection_new = main_people_selection.reset_index()\n",
    "main_people_selection_new = main_people_selection_new.rename(columns={'article':'end'})\n",
    "\n",
    "people_path = paths.loc[paths['end'].isin(main_people_selection.index)]\n",
    "people_path = pd.merge(people_path, main_people_selection_new, on = 'end', how = 'left')\n",
    "path_male = people_path.loc[people_path['gender'] == 'Male']\n",
    "path_female = people_path.loc[people_path['gender'] == 'Female']\n",
    "\n",
    "paths_only_male = path_male['path_cat']\n",
    "paths_only_male = [path[-4:] for path in paths_only_male]\n",
    "paths_only_simple_male = [replace_to_simple(path) for path in paths_only_male]\n",
    "male_dict = get_dict_from_list(paths_only_simple_male)\n",
    "\n",
    "paths_only_female = path_female['path_cat']\n",
    "paths_only_female = [path[-4:] for path in paths_only_female]\n",
    "paths_only_simple_female = [replace_to_simple(path) for path in paths_only_female]\n",
    "female_dict = get_dict_from_list(paths_only_simple_female)\n",
    "\n",
    "female_dict = create_dict_for_plotly_bar(female_dict)\n",
    "male_dict = create_dict_for_plotly_bar(male_dict)"
   ]
  },
  {
   "cell_type": "markdown",
   "metadata": {},
   "source": [
    "#### And now if we focus only on celebrities"
   ]
  },
  {
   "cell_type": "code",
   "execution_count": 17,
   "metadata": {},
   "outputs": [],
   "source": [
    "path_actors = [path for path in people_path['path_cat'] if path[-1].split('.')[1] == 'Actors_models_and_celebrities']\n",
    "path_actors = [path[-4:] for path in path_actors]\n",
    "path_actors = [replace_to_simple(path) for path in path_actors]\n",
    "actors_dict = get_dict_from_list(path_actors)\n",
    "actors_dict = create_dict_for_plotly_bar(actors_dict)"
   ]
  },
  {
   "cell_type": "code",
   "execution_count": null,
   "metadata": {},
   "outputs": [],
   "source": [
    "people_path['simple_cat'] = [path.split('.')[-1] for path in people_path['category']]\n",
    "actors_path = people_path.loc[people_path['simple_cat'] == 'Actors_models_and_celebrities']\n",
    "\n",
    "path_male_actors = people_path.loc[people_path['gender'] == 'Male']\n",
    "path_female_actors = people_path.loc[people_path['gender'] == 'Female']\n",
    "\n",
    "paths_only_male_actors = path_male_actors['path_cat']\n",
    "paths_only_male_actors = [path[-4:] for path in paths_only_male_actors]\n",
    "paths_only_simple_male_actors = [replace_to_simple(path) for path in paths_only_male_actors]\n",
    "male_dict_actors = get_dict_from_list(paths_only_simple_male_actors)\n",
    "\n",
    "paths_only_female_actors = path_female_actors['path_cat']\n",
    "paths_only_female_actors = [path[-4:] for path in paths_only_female_actors]\n",
    "paths_only_simple_female_actors = [replace_to_simple(path) for path in paths_only_female_actors]\n",
    "female_dict_actors = get_dict_from_list(paths_only_simple_female_actors)\n",
    "\n",
    "female_dict_actors = create_dict_for_plotly_bar(female_dict_actors)\n",
    "male_dict_actors = create_dict_for_plotly_bar(male_dict_actors)"
   ]
  },
  {
   "cell_type": "code",
   "execution_count": 18,
   "metadata": {},
   "outputs": [
    {
     "ename": "NameError",
     "evalue": "name 'female_dict_actors' is not defined",
     "output_type": "error",
     "traceback": [
      "\u001b[0;31m---------------------------------------------------------------------------\u001b[0m",
      "\u001b[0;31mNameError\u001b[0m                                 Traceback (most recent call last)",
      "Cell \u001b[0;32mIn[18], line 1\u001b[0m\n\u001b[0;32m----> 1\u001b[0m specific_dict \u001b[38;5;241m=\u001b[39m {\u001b[38;5;124m'\u001b[39m\u001b[38;5;124mwomen\u001b[39m\u001b[38;5;124m'\u001b[39m:female_dict, \u001b[38;5;124m'\u001b[39m\u001b[38;5;124mmen\u001b[39m\u001b[38;5;124m'\u001b[39m:male_dict, \u001b[38;5;124m'\u001b[39m\u001b[38;5;124mactors, models and celebrities\u001b[39m\u001b[38;5;124m'\u001b[39m:actors_dict, \u001b[38;5;124m'\u001b[39m\u001b[38;5;124mfemale actors\u001b[39m\u001b[38;5;124m'\u001b[39m: \u001b[43mfemale_dict_actors\u001b[49m, \u001b[38;5;124m'\u001b[39m\u001b[38;5;124mmale actors\u001b[39m\u001b[38;5;124m'\u001b[39m: male_dict_actors}\n",
      "\u001b[0;31mNameError\u001b[0m: name 'female_dict_actors' is not defined"
     ]
    }
   ],
   "source": [
    "specific_dict = {'women':female_dict, 'men':male_dict, 'actors, models and celebrities':actors_dict, 'female actors': female_dict_actors, 'male actors': male_dict_actors}"
   ]
  },
  {
   "cell_type": "markdown",
   "metadata": {},
   "source": [
    "#### Now let's combine it all together"
   ]
  },
  {
   "cell_type": "code",
   "execution_count": null,
   "metadata": {},
   "outputs": [],
   "source": [
    "dict_for_bar_plot.update(specific_dict)"
   ]
  },
  {
   "cell_type": "code",
   "execution_count": null,
   "metadata": {},
   "outputs": [
    {
     "data": {
      "text/html": [
       "\n",
       "        <iframe\n",
       "            width=\"100%\"\n",
       "            height=\"650\"\n",
       "            src=\"http://127.0.0.1:8050/\"\n",
       "            frameborder=\"0\"\n",
       "            allowfullscreen\n",
       "            \n",
       "        ></iframe>\n",
       "        "
      ],
      "text/plain": [
       "<IPython.lib.display.IFrame at 0x250329a4950>"
      ]
     },
     "metadata": {},
     "output_type": "display_data"
    }
   ],
   "source": [
    "import dash\n",
    "from dash import dcc, html\n",
    "from dash.dependencies import Input, Output\n",
    "\n",
    "app = dash.Dash(__name__)\n",
    "app.layout = html.Div([\n",
    "    dcc.Dropdown(id='dic_dropdown', options = [{'label': key, 'value': key} for key in dict_for_bar_plot.keys()], value='Science', style={'width':'50%'}),\n",
    "    dcc.Graph(id='bar_chart')\n",
    "])\n",
    "\n",
    "@app.callback(\n",
    "    Output('bar_chart', 'figure'),\n",
    "    [Input('dic_dropdown', 'value')]\n",
    ")\n",
    "\n",
    "def update_chart(category):\n",
    "    selected_data_dict = dict_for_bar_plot[category]\n",
    "\n",
    "    # Create a bar chart using Plotly Express\n",
    "    fig = px.bar(selected_data_dict, x='category', y=['count_N1', 'count_N2', 'count_N3'], title=\"Categories in the path leading to final article in \" + str(category), color_discrete_sequence=colors_gender)\n",
    "    fig.update_layout(barmode='group', xaxis={'categoryorder':'total descending'})\n",
    "\n",
    "    return fig\n",
    "\n",
    "# Run the app\n",
    "if __name__ == '__main__':\n",
    "    app.run_server(debug=True)\n",
    "\n",
    "#fig.write_html(\"docs/path_categories_dropdown.html\")"
   ]
  },
  {
   "cell_type": "markdown",
   "metadata": {},
   "source": [
    "### 3.3 Plot the paths <a id=\"sub_section_3_3\"></a>"
   ]
  },
  {
   "cell_type": "code",
   "execution_count": null,
   "metadata": {},
   "outputs": [],
   "source": [
    "# for a clean legend\n",
    "\n",
    "from matplotlib.lines import Line2D\n",
    "\n",
    "color_dict = {'Science':'#48b059', 'Geography':'#3d8039', 'People':'#b44624','History':'#ff8544','Everyday_life':'#e25d90', 'Design_and_Technology':'#8b1e9c','Countries':'#a7d145','Citizenship':'#fced3e', 'Language_and_literature':'#6bc6ff', 'Religion':'#1d59a8', 'Music':'#ffa7dc', 'Business_Studies':'#ffec6f','IT':'#008756','Mathematics':'#6bffce','Art':'#e0025e'}\n",
    "\n",
    "custom_color_lines = [Line2D([0], [0], color='#48b059', lw=4),\n",
    "                Line2D([0], [0], color='#3d8039', lw=4),\n",
    "                Line2D([0], [0], color='#b44624', lw=4),\n",
    "                Line2D([0], [0], color='#ff8544', lw=4),\n",
    "                Line2D([0], [0], color='#e25d90', lw=4),\n",
    "                Line2D([0], [0], color='#8b1e9c', lw=4),\n",
    "                Line2D([0], [0], color='#a7d145', lw=4),\n",
    "                Line2D([0], [0], color='#fced3e', lw=4),\n",
    "                Line2D([0], [0], color='#6bc6ff', lw=4),\n",
    "                Line2D([0], [0], color='#1d59a8', lw=4),\n",
    "                Line2D([0], [0], color='#ffa7dc', lw=4),\n",
    "                Line2D([0], [0], color='#ffec6f', lw=4),\n",
    "                Line2D([0], [0], color='#008756', lw=4),\n",
    "                Line2D([0], [0], color='#6bffce', lw=4),\n",
    "                Line2D([0], [0], color='#e0025e', lw=4)]\n",
    "custom_color_labels = color_dict.keys()"
   ]
  },
  {
   "cell_type": "code",
   "execution_count": null,
   "metadata": {},
   "outputs": [],
   "source": [
    "def plot_path(path_dict, category):\n",
    "    print(category)\n",
    "    line_width = 10/len(path_dict[category])\n",
    "    for path in path_dict[category]['long_path_list']:\n",
    "        if len(path) > 1:\n",
    "            x_path = np.arange(start = 4 - len(path), stop = 4, step = 1)\n",
    "            plt.plot(x_path, path,color = color_dict[path[-2]], alpha = 0.01)\n",
    "    annotations_N1 = path_dict[category]['N1']['count'].tolist()\n",
    "    x_N1 = np.full(len(path_dict[category]['N1']), 2).tolist()\n",
    "    y_N1 = path_dict[category]['N1']['category'].tolist()\n",
    "    for i, annotation in enumerate(annotations_N1):\n",
    "        plt.annotate(str(annotation), (x_N1[i], y_N1[i]), fontsize = 6, color = 'grey')\n",
    "    annotations_N2 = path_dict[category]['N2']['count'].tolist()\n",
    "    x_N2 = np.full(len(path_dict[category]['N2']), 1).tolist()\n",
    "    y_N2 = path_dict[category]['N2']['category'].tolist()\n",
    "    for i, annotation in enumerate(annotations_N2):\n",
    "        plt.annotate(str(annotation), (x_N2[i], y_N2[i]), fontsize = 6, color = 'grey')\n",
    "    annotations_N3 = path_dict[category]['N3']['count'].tolist()\n",
    "    x_N3 = np.full(len(path_dict[category]['N3']), 0).tolist()\n",
    "    y_N3 = path_dict[category]['N3']['category'].tolist()\n",
    "    for i, annotation in enumerate(annotations_N3):\n",
    "        plt.annotate(str(annotation), (x_N3[i], y_N3[i]), fontsize = 6, color = 'grey')\n",
    "    \n",
    "    plt.title(category, size = 14)\n",
    "    plt.xticks(np.arange(4), ['N-3', 'N-2', 'N-1', 'N'])\n",
    "    plt.tick_params(labelsize = 10)\n",
    "    plt.legend(custom_color_lines, custom_color_labels, loc = 'upper left', bbox_to_anchor = (1,1))\n",
    "    plt.show()"
   ]
  },
  {
   "cell_type": "code",
   "execution_count": null,
   "metadata": {},
   "outputs": [
    {
     "name": "stdout",
     "output_type": "stream",
     "text": [
      "Science\n"
     ]
    },
    {
     "data": {
      "image/png": "[encoded data removed]",
      "text/plain": [
       "<Figure size 640x480 with 1 Axes>"
      ]
     },
     "metadata": {},
     "output_type": "display_data"
    }
   ],
   "source": [
    "plot_path(new_path_dict, 'Science')"
   ]
  },
  {
   "cell_type": "markdown",
   "metadata": {},
   "source": [
    "## 4 Influence of link position <a id=\"section4\">\n"
   ]
  },
  {
   "cell_type": "code",
   "execution_count": null,
   "metadata": {},
   "outputs": [],
   "source": []
  },
  {
   "cell_type": "markdown",
   "metadata": {},
   "source": [
    "### 4.1 Distribution of position <a id=\"sub_section_4_1\"></a>\n"
   ]
  },
  {
   "cell_type": "code",
   "execution_count": null,
   "metadata": {},
   "outputs": [],
   "source": []
  },
  {
   "cell_type": "markdown",
   "metadata": {},
   "source": [
    "### 4.2 Distribution of influence <a id=\"sub_section_4_2\"></a>\n"
   ]
  },
  {
   "cell_type": "code",
   "execution_count": null,
   "metadata": {},
   "outputs": [],
   "source": []
  },
  {
   "cell_type": "markdown",
   "metadata": {},
   "source": [
    "## 5 Influence of genre <a id=\"section5\"></a>\n"
   ]
  },
  {
   "cell_type": "markdown",
   "metadata": {},
   "source": [
    "### 5.1 Unbalanced data <a id=\"sub_section_5_1\"></a>\n"
   ]
  },
  {
   "cell_type": "markdown",
   "metadata": {},
   "source": [
    "First let's get the number of people in starting position and finishing position of the paths."
   ]
  },
  {
   "cell_type": "code",
   "execution_count": 44,
   "metadata": {},
   "outputs": [],
   "source": [
    "#get all starting points\n",
    "starting_points = pd.DataFrame([path.split(';')[0] for path in paths_finished['path']], columns=['article'])\n",
    "finishing_points = pd.DataFrame([path.split(';')[-1] for path in paths_finished['path']], columns=['article'])\n",
    "\n",
    "#keep only those about people\n",
    "starting_points = starting_points.loc[starting_points['article'].isin(main_people_selection.reset_index()['article'])]\n",
    "finishing_points = finishing_points.loc[finishing_points['article'].isin(main_people_selection.reset_index()['article'])]\n",
    "\n",
    "#get their gender\n",
    "main_people_selection_single = main_people_selection.reset_index().drop_duplicates(subset = ['article'], keep='first').set_index('article')\n",
    "starting_points['gender'] = [main_people_selection_single.loc[person]['gender'] for person in starting_points['article']]\n",
    "finishing_points['gender'] = [main_people_selection_single.loc[person]['gender'] for person in finishing_points['article']]"
   ]
  },
  {
   "cell_type": "code",
   "execution_count": 47,
   "metadata": {},
   "outputs": [],
   "source": [
    "starting_counts = starting_points.groupby(['gender']).count().reset_index()\n",
    "finishing_counts = finishing_points.groupby(['gender']).count().reset_index()"
   ]
  },
  {
   "cell_type": "code",
   "execution_count": 57,
   "metadata": {},
   "outputs": [
    {
     "data": {
      "application/vnd.plotly.v1+json": {
       "config": {
        "plotlyServerURL": "https://plot.ly"
       },
       "data": [
        {
         "domain": {
          "x": [
           0,
           0.45
          ],
          "y": [
           0,
           1
          ]
         },
         "hole": 0.4,
         "labels": [
          "Female",
          "Male",
          "Unknown"
         ],
         "name": "starting",
         "type": "pie",
         "values": [
          526,
          4925,
          239
         ]
        },
        {
         "domain": {
          "x": [
           0.55,
           1
          ],
          "y": [
           0,
           1
          ]
         },
         "hole": 0.4,
         "labels": [
          "Female",
          "Male",
          "Unknown"
         ],
         "name": "finishing",
         "type": "pie",
         "values": [
          352,
          5407,
          154
         ]
        }
       ],
       "layout": {
        "template": {
         "data": {
          "bar": [
           {
            "error_x": {
             "color": "#2a3f5f"
            },
            "error_y": {
             "color": "#2a3f5f"
            },
            "marker": {
             "line": {
              "color": "#E5ECF6",
              "width": 0.5
             },
             "pattern": {
              "fillmode": "overlay",
              "size": 10,
              "solidity": 0.2
             }
            },
            "type": "bar"
           }
          ],
          "barpolar": [
           {
            "marker": {
             "line": {
              "color": "#E5ECF6",
              "width": 0.5
             },
             "pattern": {
              "fillmode": "overlay",
              "size": 10,
              "solidity": 0.2
             }
            },
            "type": "barpolar"
           }
          ],
          "carpet": [
           {
            "aaxis": {
             "endlinecolor": "#2a3f5f",
             "gridcolor": "white",
             "linecolor": "white",
             "minorgridcolor": "white",
             "startlinecolor": "#2a3f5f"
            },
            "baxis": {
             "endlinecolor": "#2a3f5f",
             "gridcolor": "white",
             "linecolor": "white",
             "minorgridcolor": "white",
             "startlinecolor": "#2a3f5f"
            },
            "type": "carpet"
           }
          ],
          "choropleth": [
           {
            "colorbar": {
             "outlinewidth": 0,
             "ticks": ""
            },
            "type": "choropleth"
           }
          ],
          "contour": [
           {
            "colorbar": {
             "outlinewidth": 0,
             "ticks": ""
            },
            "colorscale": [
             [
              0,
              "#0d0887"
             ],
             [
              0.1111111111111111,
              "#46039f"
             ],
             [
              0.2222222222222222,
              "#7201a8"
             ],
             [
              0.3333333333333333,
              "#9c179e"
             ],
             [
              0.4444444444444444,
              "#bd3786"
             ],
             [
              0.5555555555555556,
              "#d8576b"
             ],
             [
              0.6666666666666666,
              "#ed7953"
             ],
             [
              0.7777777777777778,
              "#fb9f3a"
             ],
             [
              0.8888888888888888,
              "#fdca26"
             ],
             [
              1,
              "#f0f921"
             ]
            ],
            "type": "contour"
           }
          ],
          "contourcarpet": [
           {
            "colorbar": {
             "outlinewidth": 0,
             "ticks": ""
            },
            "type": "contourcarpet"
           }
          ],
          "heatmap": [
           {
            "colorbar": {
             "outlinewidth": 0,
             "ticks": ""
            },
            "colorscale": [
             [
              0,
              "#0d0887"
             ],
             [
              0.1111111111111111,
              "#46039f"
             ],
             [
              0.2222222222222222,
              "#7201a8"
             ],
             [
              0.3333333333333333,
              "#9c179e"
             ],
             [
              0.4444444444444444,
              "#bd3786"
             ],
             [
              0.5555555555555556,
              "#d8576b"
             ],
             [
              0.6666666666666666,
              "#ed7953"
             ],
             [
              0.7777777777777778,
              "#fb9f3a"
             ],
             [
              0.8888888888888888,
              "#fdca26"
             ],
             [
              1,
              "#f0f921"
             ]
            ],
            "type": "heatmap"
           }
          ],
          "heatmapgl": [
           {
            "colorbar": {
             "outlinewidth": 0,
             "ticks": ""
            },
            "colorscale": [
             [
              0,
              "#0d0887"
             ],
             [
              0.1111111111111111,
              "#46039f"
             ],
             [
              0.2222222222222222,
              "#7201a8"
             ],
             [
              0.3333333333333333,
              "#9c179e"
             ],
             [
              0.4444444444444444,
              "#bd3786"
             ],
             [
              0.5555555555555556,
              "#d8576b"
             ],
             [
              0.6666666666666666,
              "#ed7953"
             ],
             [
              0.7777777777777778,
              "#fb9f3a"
             ],
             [
              0.8888888888888888,
              "#fdca26"
             ],
             [
              1,
              "#f0f921"
             ]
            ],
            "type": "heatmapgl"
           }
          ],
          "histogram": [
           {
            "marker": {
             "pattern": {
              "fillmode": "overlay",
              "size": 10,
              "solidity": 0.2
             }
            },
            "type": "histogram"
           }
          ],
          "histogram2d": [
           {
            "colorbar": {
             "outlinewidth": 0,
             "ticks": ""
            },
            "colorscale": [
             [
              0,
              "#0d0887"
             ],
             [
              0.1111111111111111,
              "#46039f"
             ],
             [
              0.2222222222222222,
              "#7201a8"
             ],
             [
              0.3333333333333333,
              "#9c179e"
             ],
             [
              0.4444444444444444,
              "#bd3786"
             ],
             [
              0.5555555555555556,
              "#d8576b"
             ],
             [
              0.6666666666666666,
              "#ed7953"
             ],
             [
              0.7777777777777778,
              "#fb9f3a"
             ],
             [
              0.8888888888888888,
              "#fdca26"
             ],
             [
              1,
              "#f0f921"
             ]
            ],
            "type": "histogram2d"
           }
          ],
          "histogram2dcontour": [
           {
            "colorbar": {
             "outlinewidth": 0,
             "ticks": ""
            },
            "colorscale": [
             [
              0,
              "#0d0887"
             ],
             [
              0.1111111111111111,
              "#46039f"
             ],
             [
              0.2222222222222222,
              "#7201a8"
             ],
             [
              0.3333333333333333,
              "#9c179e"
             ],
             [
              0.4444444444444444,
              "#bd3786"
             ],
             [
              0.5555555555555556,
              "#d8576b"
             ],
             [
              0.6666666666666666,
              "#ed7953"
             ],
             [
              0.7777777777777778,
              "#fb9f3a"
             ],
             [
              0.8888888888888888,
              "#fdca26"
             ],
             [
              1,
              "#f0f921"
             ]
            ],
            "type": "histogram2dcontour"
           }
          ],
          "mesh3d": [
           {
            "colorbar": {
             "outlinewidth": 0,
             "ticks": ""
            },
            "type": "mesh3d"
           }
          ],
          "parcoords": [
           {
            "line": {
             "colorbar": {
              "outlinewidth": 0,
              "ticks": ""
             }
            },
            "type": "parcoords"
           }
          ],
          "pie": [
           {
            "automargin": true,
            "type": "pie"
           }
          ],
          "scatter": [
           {
            "fillpattern": {
             "fillmode": "overlay",
             "size": 10,
             "solidity": 0.2
            },
            "type": "scatter"
           }
          ],
          "scatter3d": [
           {
            "line": {
             "colorbar": {
              "outlinewidth": 0,
              "ticks": ""
             }
            },
            "marker": {
             "colorbar": {
              "outlinewidth": 0,
              "ticks": ""
             }
            },
            "type": "scatter3d"
           }
          ],
          "scattercarpet": [
           {
            "marker": {
             "colorbar": {
              "outlinewidth": 0,
              "ticks": ""
             }
            },
            "type": "scattercarpet"
           }
          ],
          "scattergeo": [
           {
            "marker": {
             "colorbar": {
              "outlinewidth": 0,
              "ticks": ""
             }
            },
            "type": "scattergeo"
           }
          ],
          "scattergl": [
           {
            "marker": {
             "colorbar": {
              "outlinewidth": 0,
              "ticks": ""
             }
            },
            "type": "scattergl"
           }
          ],
          "scattermapbox": [
           {
            "marker": {
             "colorbar": {
              "outlinewidth": 0,
              "ticks": ""
             }
            },
            "type": "scattermapbox"
           }
          ],
          "scatterpolar": [
           {
            "marker": {
             "colorbar": {
              "outlinewidth": 0,
              "ticks": ""
             }
            },
            "type": "scatterpolar"
           }
          ],
          "scatterpolargl": [
           {
            "marker": {
             "colorbar": {
              "outlinewidth": 0,
              "ticks": ""
             }
            },
            "type": "scatterpolargl"
           }
          ],
          "scatterternary": [
           {
            "marker": {
             "colorbar": {
              "outlinewidth": 0,
              "ticks": ""
             }
            },
            "type": "scatterternary"
           }
          ],
          "surface": [
           {
            "colorbar": {
             "outlinewidth": 0,
             "ticks": ""
            },
            "colorscale": [
             [
              0,
              "#0d0887"
             ],
             [
              0.1111111111111111,
              "#46039f"
             ],
             [
              0.2222222222222222,
              "#7201a8"
             ],
             [
              0.3333333333333333,
              "#9c179e"
             ],
             [
              0.4444444444444444,
              "#bd3786"
             ],
             [
              0.5555555555555556,
              "#d8576b"
             ],
             [
              0.6666666666666666,
              "#ed7953"
             ],
             [
              0.7777777777777778,
              "#fb9f3a"
             ],
             [
              0.8888888888888888,
              "#fdca26"
             ],
             [
              1,
              "#f0f921"
             ]
            ],
            "type": "surface"
           }
          ],
          "table": [
           {
            "cells": {
             "fill": {
              "color": "#EBF0F8"
             },
             "line": {
              "color": "white"
             }
            },
            "header": {
             "fill": {
              "color": "#C8D4E3"
             },
             "line": {
              "color": "white"
             }
            },
            "type": "table"
           }
          ]
         },
         "layout": {
          "annotationdefaults": {
           "arrowcolor": "#2a3f5f",
           "arrowhead": 0,
           "arrowwidth": 1
          },
          "autotypenumbers": "strict",
          "coloraxis": {
           "colorbar": {
            "outlinewidth": 0,
            "ticks": ""
           }
          },
          "colorscale": {
           "diverging": [
            [
             0,
             "#8e0152"
            ],
            [
             0.1,
             "#c51b7d"
            ],
            [
             0.2,
             "#de77ae"
            ],
            [
             0.3,
             "#f1b6da"
            ],
            [
             0.4,
             "#fde0ef"
            ],
            [
             0.5,
             "#f7f7f7"
            ],
            [
             0.6,
             "#e6f5d0"
            ],
            [
             0.7,
             "#b8e186"
            ],
            [
             0.8,
             "#7fbc41"
            ],
            [
             0.9,
             "#4d9221"
            ],
            [
             1,
             "#276419"
            ]
           ],
           "sequential": [
            [
             0,
             "#0d0887"
            ],
            [
             0.1111111111111111,
             "#46039f"
            ],
            [
             0.2222222222222222,
             "#7201a8"
            ],
            [
             0.3333333333333333,
             "#9c179e"
            ],
            [
             0.4444444444444444,
             "#bd3786"
            ],
            [
             0.5555555555555556,
             "#d8576b"
            ],
            [
             0.6666666666666666,
             "#ed7953"
            ],
            [
             0.7777777777777778,
             "#fb9f3a"
            ],
            [
             0.8888888888888888,
             "#fdca26"
            ],
            [
             1,
             "#f0f921"
            ]
           ],
           "sequentialminus": [
            [
             0,
             "#0d0887"
            ],
            [
             0.1111111111111111,
             "#46039f"
            ],
            [
             0.2222222222222222,
             "#7201a8"
            ],
            [
             0.3333333333333333,
             "#9c179e"
            ],
            [
             0.4444444444444444,
             "#bd3786"
            ],
            [
             0.5555555555555556,
             "#d8576b"
            ],
            [
             0.6666666666666666,
             "#ed7953"
            ],
            [
             0.7777777777777778,
             "#fb9f3a"
            ],
            [
             0.8888888888888888,
             "#fdca26"
            ],
            [
             1,
             "#f0f921"
            ]
           ]
          },
          "colorway": [
           "#636efa",
           "#EF553B",
           "#00cc96",
           "#ab63fa",
           "#FFA15A",
           "#19d3f3",
           "#FF6692",
           "#B6E880",
           "#FF97FF",
           "#FECB52"
          ],
          "font": {
           "color": "#2a3f5f"
          },
          "geo": {
           "bgcolor": "white",
           "lakecolor": "white",
           "landcolor": "#E5ECF6",
           "showlakes": true,
           "showland": true,
           "subunitcolor": "white"
          },
          "hoverlabel": {
           "align": "left"
          },
          "hovermode": "closest",
          "mapbox": {
           "style": "light"
          },
          "paper_bgcolor": "white",
          "plot_bgcolor": "#E5ECF6",
          "polar": {
           "angularaxis": {
            "gridcolor": "white",
            "linecolor": "white",
            "ticks": ""
           },
           "bgcolor": "#E5ECF6",
           "radialaxis": {
            "gridcolor": "white",
            "linecolor": "white",
            "ticks": ""
           }
          },
          "scene": {
           "xaxis": {
            "backgroundcolor": "#E5ECF6",
            "gridcolor": "white",
            "gridwidth": 2,
            "linecolor": "white",
            "showbackground": true,
            "ticks": "",
            "zerolinecolor": "white"
           },
           "yaxis": {
            "backgroundcolor": "#E5ECF6",
            "gridcolor": "white",
            "gridwidth": 2,
            "linecolor": "white",
            "showbackground": true,
            "ticks": "",
            "zerolinecolor": "white"
           },
           "zaxis": {
            "backgroundcolor": "#E5ECF6",
            "gridcolor": "white",
            "gridwidth": 2,
            "linecolor": "white",
            "showbackground": true,
            "ticks": "",
            "zerolinecolor": "white"
           }
          },
          "shapedefaults": {
           "line": {
            "color": "#2a3f5f"
           }
          },
          "ternary": {
           "aaxis": {
            "gridcolor": "white",
            "linecolor": "white",
            "ticks": ""
           },
           "baxis": {
            "gridcolor": "white",
            "linecolor": "white",
            "ticks": ""
           },
           "bgcolor": "#E5ECF6",
           "caxis": {
            "gridcolor": "white",
            "linecolor": "white",
            "ticks": ""
           }
          },
          "title": {
           "x": 0.05
          },
          "xaxis": {
           "automargin": true,
           "gridcolor": "white",
           "linecolor": "white",
           "ticks": "",
           "title": {
            "standoff": 15
           },
           "zerolinecolor": "white",
           "zerolinewidth": 2
          },
          "yaxis": {
           "automargin": true,
           "gridcolor": "white",
           "linecolor": "white",
           "ticks": "",
           "title": {
            "standoff": 15
           },
           "zerolinecolor": "white",
           "zerolinewidth": 2
          }
         }
        },
        "title": {
         "text": "Total number of people in paths and their gender distribution"
        }
       }
      }
     },
     "metadata": {},
     "output_type": "display_data"
    }
   ],
   "source": [
    "import plotly.graph_objects as go\n",
    "from plotly.subplots import make_subplots\n",
    "\n",
    "\n",
    "# Create subplots: use 'domain' type for Pie subplot\n",
    "fig = make_subplots(rows=1, cols=2, specs=[[{'type':'domain'}, {'type':'domain'}]])\n",
    "fig.add_trace(go.Pie(labels=starting_counts['gender'], values=starting_counts['article'], name=\"starting\"),\n",
    "              1, 1)\n",
    "fig.add_trace(go.Pie(labels=finishing_counts['gender'], values=finishing_counts['article'], name=\"finishing\"),\n",
    "              1, 2)\n",
    "\n",
    "# Use `hole` to create a donut-like pie chart\n",
    "fig.update_traces(hole=.4)\n",
    "\n",
    "fig.update_layout(title_text=\"Total number of people in paths and their gender distribution\")\n",
    "fig.show()"
   ]
  },
  {
   "cell_type": "markdown",
   "metadata": {},
   "source": [
    "### 5.2 Birth of date explanation <a id=\"sub_section_5_2\"></a>"
   ]
  },
  {
   "cell_type": "code",
   "execution_count": null,
   "metadata": {},
   "outputs": [],
   "source": []
  }
 ],
 "metadata": {
  "kernelspec": {
   "display_name": "Python 3",
   "language": "python",
   "name": "python3"
  },
  "language_info": {
   "codemirror_mode": {
    "name": "ipython",
    "version": 3
   },
   "file_extension": ".py",
   "mimetype": "text/x-python",
   "name": "python",
   "nbconvert_exporter": "python",
   "pygments_lexer": "ipython3",
   "version": "3.9.6"
  }
 },
 "nbformat": 4,
 "nbformat_minor": 2
}
