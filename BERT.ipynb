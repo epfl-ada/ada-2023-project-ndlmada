{
 "cells": [
  {
   "cell_type": "markdown",
   "metadata": {},
   "source": [
    "### Gender extraction from the articles"
   ]
  },
  {
   "cell_type": "markdown",
   "metadata": {},
   "source": [
    "To do so we inted to follow this process. \n",
    "\n",
    "1) Process the data. Remove title, accessory information and focus on the initial description of the article. Generally the first paragraph contains enough information to determine the gender already from here. We also want to standardize it, remove stop signs, generalize lower case and other usual good practices.\n",
    "2) We can then start feature extraction from the processed data. We want to investigate different options to represent each sample such a Glove, Word2Vec or TF-IDF.\n",
    "3) We then apply an unsupersived model to cluster the dataset into 2 different subgroups. \n",
    "4) Once the model converges, we analyze our results and see if the model did succeed at splitting the data.\n"
   ]
  }
 ],
 "metadata": {
  "language_info": {
   "name": "python"
  }
 },
 "nbformat": 4,
 "nbformat_minor": 2
}
