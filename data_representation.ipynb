{
 "cells": [
  {
   "cell_type": "markdown",
   "metadata": {},
   "source": [
    "# Imports"
   ]
  },
  {
   "cell_type": "code",
   "execution_count": 33,
   "metadata": {},
   "outputs": [],
   "source": [
    "import pandas as pd\n",
    "import matplotlib.pyplot as plt\n",
    "from helpers import *"
   ]
  },
  {
   "cell_type": "markdown",
   "metadata": {},
   "source": [
    "# Pre-processing\n",
    "Need to synthetise the preprocessing part in this notebook"
   ]
  },
  {
   "cell_type": "code",
   "execution_count": 34,
   "metadata": {},
   "outputs": [],
   "source": [
    "dfs = preprocessing()\n",
    "\n",
    "result_dict = create_dictionary_from_tsv(\"dataset/wikispeedia_paths-and-graph/categories.tsv\")"
   ]
  },
  {
   "cell_type": "markdown",
   "metadata": {},
   "source": [
    "## Palettes"
   ]
  },
  {
   "cell_type": "code",
   "execution_count": 35,
   "metadata": {},
   "outputs": [
    {
     "name": "stdout",
     "output_type": "stream",
     "text": [
      "('#F5F3C1', '#EAF0B5', '#DDECBF', '#D0E7CA', '#C2E3D2', '#B5DDD8', '#A8D8DC', '#9BD2E1', '#8DCBE4', '#81C4E7', '#7BBCE7', '#7EB2E4', '#88A5DD', '#9398D2', '#9B8AC4', '#9D7DB2', '#9A709E', '#906388', '#805770', '#684957', '#46353A')\n"
     ]
    }
   ],
   "source": [
    "from bokeh.palettes import TolPRGn, Category20c,Iridescent\n",
    "from bokeh.plotting import figure, show\n",
    "\n",
    "# Get a list of 21 colors\n",
    "colors = Category20c\n",
    "\n",
    "# Print the list of colors\n",
    "print(Iridescent[23][2:])"
   ]
  },
  {
   "cell_type": "markdown",
   "metadata": {},
   "source": [
    "# Data Exploration"
   ]
  },
  {
   "cell_type": "markdown",
   "metadata": {},
   "source": [
    "## Articles repartition"
   ]
  },
  {
   "cell_type": "code",
   "execution_count": 36,
   "metadata": {},
   "outputs": [
    {
     "name": "stdout",
     "output_type": "stream",
     "text": [
      "There are 14.70% of people articles (676 out of 4598)\n"
     ]
    },
    {
     "data": {
      "text/plain": [
       "category\n",
       "Historical_figures                       108\n",
       "Writers_and_critics                       71\n",
       "Political_People                          67\n",
       "Sports_and_games_people                   45\n",
       "Monarchs_of_Great_Britain                 43\n",
       "Performers_and_composers                  43\n",
       "Religious_figures_and_leaders             39\n",
       "USA_Presidents                            37\n",
       "Artists                                   36\n",
       "Engineers_and_inventors                   25\n",
       "Actors_models_and_celebrities             25\n",
       "Human_Scientists                          23\n",
       "Philosophers                              23\n",
       "Military_People                           22\n",
       "Astronomers_and_physicists                21\n",
       "Geographers_and_explorers                 21\n",
       "Mathematicians                            15\n",
       "Computing_People                           9\n",
       "Chemists                                   8\n",
       "Producers_directors_and_media_figures      8\n",
       "Name: count, dtype: int64"
      ]
     },
     "execution_count": 36,
     "metadata": {},
     "output_type": "execute_result"
    }
   ],
   "source": [
    "# main categories\n",
    "categories = dfs['categories'].copy()\n",
    "# Selection of all the people articles\n",
    "people_selection = categories[categories['category'].str.contains('subject.People.')]\n",
    "\n",
    "#Proportion of people vs other categories\n",
    "len_people = len(people_selection.article.unique())\n",
    "len_total_article = len(categories.article.unique())\n",
    "print('There are {:.2f}% of people articles ({} out of {})'.format(len_people/len_total_article*100, len_people, len_total_article))\n",
    "\n",
    "# Peoples categories\n",
    "people_main_categories = people_selection.category.str.split('.').apply(lambda x: x[2]).value_counts()\n",
    "people_main_categories"
   ]
  },
  {
   "cell_type": "markdown",
   "metadata": {},
   "source": [
    "# Target repartition"
   ]
  },
  {
   "cell_type": "code",
   "execution_count": 37,
   "metadata": {},
   "outputs": [],
   "source": [
    "def transform_path_main_category(path, dict_article_target):\n",
    "    split_path = path.split(';')\n",
    "    split_cat = []\n",
    "\n",
    "    for art in split_path:\n",
    "         if art[0] != '.' : \n",
    "            try: art in dict_article_target.keys()\n",
    "            except IndexError : print('Warning: not valid article:', art)\n",
    "            if art in dict_article_target.keys():\n",
    "                split_cat.append(dict_article_target[art]['main_subject'])\n",
    "    \n",
    "    return split_cat"
   ]
  },
  {
   "cell_type": "markdown",
   "metadata": {},
   "source": [
    "## Finished path"
   ]
  },
  {
   "cell_type": "code",
   "execution_count": null,
   "metadata": {},
   "outputs": [],
   "source": []
  },
  {
   "cell_type": "code",
   "execution_count": 38,
   "metadata": {},
   "outputs": [
    {
     "name": "stdout",
     "output_type": "stream",
     "text": [
      "There are 11.52% of target that are in the people category(5913 out of 51318)\n"
     ]
    },
    {
     "data": {
      "text/html": [
       "<div>\n",
       "<style scoped>\n",
       "    .dataframe tbody tr th:only-of-type {\n",
       "        vertical-align: middle;\n",
       "    }\n",
       "\n",
       "    .dataframe tbody tr th {\n",
       "        vertical-align: top;\n",
       "    }\n",
       "\n",
       "    .dataframe thead th {\n",
       "        text-align: right;\n",
       "    }\n",
       "</style>\n",
       "<table border=\"1\" class=\"dataframe\">\n",
       "  <thead>\n",
       "    <tr style=\"text-align: right;\">\n",
       "      <th></th>\n",
       "      <th>path</th>\n",
       "      <th>target</th>\n",
       "      <th>path_categories</th>\n",
       "    </tr>\n",
       "  </thead>\n",
       "  <tbody>\n",
       "    <tr>\n",
       "      <th>4</th>\n",
       "      <td>14th_century;Italy;Roman_Catholic_Church;HIV;R...</td>\n",
       "      <td>John_F._Kennedy</td>\n",
       "      <td>[History, Geography, Religion, Science, People...</td>\n",
       "    </tr>\n",
       "    <tr>\n",
       "      <th>5</th>\n",
       "      <td>14th_century;Europe;North_America;United_State...</td>\n",
       "      <td>John_F._Kennedy</td>\n",
       "      <td>[History, Geography, Geography, Geography, Cit...</td>\n",
       "    </tr>\n",
       "    <tr>\n",
       "      <th>36</th>\n",
       "      <td>14th_century;England;London;Spanish_Armada;Eng...</td>\n",
       "      <td>Elizabeth_I_of_England</td>\n",
       "      <td>[History, Geography, Geography, History, Geogr...</td>\n",
       "    </tr>\n",
       "    <tr>\n",
       "      <th>37</th>\n",
       "      <td>14th_century;England;James_I_of_England;Elizab...</td>\n",
       "      <td>Elizabeth_I_of_England</td>\n",
       "      <td>[History, Geography, People, People]</td>\n",
       "    </tr>\n",
       "    <tr>\n",
       "      <th>38</th>\n",
       "      <td>14th_century;Hundred_Years'_War;Henry_VI_of_En...</td>\n",
       "      <td>Elizabeth_I_of_England</td>\n",
       "      <td>[History, History, People, History, People, Pe...</td>\n",
       "    </tr>\n",
       "    <tr>\n",
       "      <th>...</th>\n",
       "      <td>...</td>\n",
       "      <td>...</td>\n",
       "      <td>...</td>\n",
       "    </tr>\n",
       "    <tr>\n",
       "      <th>51248</th>\n",
       "      <td>StarCraft;Macintosh;IPod;ITunes;Music;Ludwig_v...</td>\n",
       "      <td>Wolfgang_Amadeus_Mozart</td>\n",
       "      <td>[Everyday_life, IT, Design_and_Technology, Des...</td>\n",
       "    </tr>\n",
       "    <tr>\n",
       "      <th>51278</th>\n",
       "      <td>Thrush_(bird);Bird;Vertebrate;Human;United_Sta...</td>\n",
       "      <td>Michael_Jordan</td>\n",
       "      <td>[Science, Science, Science, Science, Business_...</td>\n",
       "    </tr>\n",
       "    <tr>\n",
       "      <th>51290</th>\n",
       "      <td>Tropical_Storm_Matthew_(2004);United_States;Me...</td>\n",
       "      <td>Edward_Jenner</td>\n",
       "      <td>[Geography, Geography, Science, Science, Scien...</td>\n",
       "    </tr>\n",
       "    <tr>\n",
       "      <th>51306</th>\n",
       "      <td>William_Thomson,_1st_Baron_Kelvin;Glasgow;Lond...</td>\n",
       "      <td>William_Shakespeare</td>\n",
       "      <td>[People, Geography, Geography, Geography, Lang...</td>\n",
       "    </tr>\n",
       "    <tr>\n",
       "      <th>51316</th>\n",
       "      <td>Yarralumla,_Australian_Capital_Territory;Austr...</td>\n",
       "      <td>Abraham_Lincoln</td>\n",
       "      <td>[Geography, Geography, Geography, People]</td>\n",
       "    </tr>\n",
       "  </tbody>\n",
       "</table>\n",
       "<p>5913 rows × 3 columns</p>\n",
       "</div>"
      ],
      "text/plain": [
       "                                                    path  \\\n",
       "4      14th_century;Italy;Roman_Catholic_Church;HIV;R...   \n",
       "5      14th_century;Europe;North_America;United_State...   \n",
       "36     14th_century;England;London;Spanish_Armada;Eng...   \n",
       "37     14th_century;England;James_I_of_England;Elizab...   \n",
       "38     14th_century;Hundred_Years'_War;Henry_VI_of_En...   \n",
       "...                                                  ...   \n",
       "51248  StarCraft;Macintosh;IPod;ITunes;Music;Ludwig_v...   \n",
       "51278  Thrush_(bird);Bird;Vertebrate;Human;United_Sta...   \n",
       "51290  Tropical_Storm_Matthew_(2004);United_States;Me...   \n",
       "51306  William_Thomson,_1st_Baron_Kelvin;Glasgow;Lond...   \n",
       "51316  Yarralumla,_Australian_Capital_Territory;Austr...   \n",
       "\n",
       "                        target  \\\n",
       "4              John_F._Kennedy   \n",
       "5              John_F._Kennedy   \n",
       "36      Elizabeth_I_of_England   \n",
       "37      Elizabeth_I_of_England   \n",
       "38      Elizabeth_I_of_England   \n",
       "...                        ...   \n",
       "51248  Wolfgang_Amadeus_Mozart   \n",
       "51278           Michael_Jordan   \n",
       "51290            Edward_Jenner   \n",
       "51306      William_Shakespeare   \n",
       "51316          Abraham_Lincoln   \n",
       "\n",
       "                                         path_categories  \n",
       "4      [History, Geography, Religion, Science, People...  \n",
       "5      [History, Geography, Geography, Geography, Cit...  \n",
       "36     [History, Geography, Geography, History, Geogr...  \n",
       "37                  [History, Geography, People, People]  \n",
       "38     [History, History, People, History, People, Pe...  \n",
       "...                                                  ...  \n",
       "51248  [Everyday_life, IT, Design_and_Technology, Des...  \n",
       "51278  [Science, Science, Science, Science, Business_...  \n",
       "51290  [Geography, Geography, Science, Science, Scien...  \n",
       "51306  [People, Geography, Geography, Geography, Lang...  \n",
       "51316          [Geography, Geography, Geography, People]  \n",
       "\n",
       "[5913 rows x 3 columns]"
      ]
     },
     "metadata": {},
     "output_type": "display_data"
    },
    {
     "data": {
      "application/vnd.plotly.v1+json": {
       "config": {
        "plotlyServerURL": "https://plot.ly"
       },
       "data": [
        {
         "domain": {
          "x": [
           0,
           1
          ],
          "y": [
           0,
           1
          ]
         },
         "hovertemplate": "label=%{label}<br>value=%{value}<extra></extra>",
         "labels": [
          "People",
          "Not people"
         ],
         "legendgroup": "",
         "name": "",
         "showlegend": true,
         "type": "pie",
         "values": [
          5913,
          -5912
         ]
        }
       ],
       "layout": {
        "legend": {
         "tracegroupgap": 0
        },
        "template": {
         "data": {
          "bar": [
           {
            "error_x": {
             "color": "#2a3f5f"
            },
            "error_y": {
             "color": "#2a3f5f"
            },
            "marker": {
             "line": {
              "color": "#E5ECF6",
              "width": 0.5
             },
             "pattern": {
              "fillmode": "overlay",
              "size": 10,
              "solidity": 0.2
             }
            },
            "type": "bar"
           }
          ],
          "barpolar": [
           {
            "marker": {
             "line": {
              "color": "#E5ECF6",
              "width": 0.5
             },
             "pattern": {
              "fillmode": "overlay",
              "size": 10,
              "solidity": 0.2
             }
            },
            "type": "barpolar"
           }
          ],
          "carpet": [
           {
            "aaxis": {
             "endlinecolor": "#2a3f5f",
             "gridcolor": "white",
             "linecolor": "white",
             "minorgridcolor": "white",
             "startlinecolor": "#2a3f5f"
            },
            "baxis": {
             "endlinecolor": "#2a3f5f",
             "gridcolor": "white",
             "linecolor": "white",
             "minorgridcolor": "white",
             "startlinecolor": "#2a3f5f"
            },
            "type": "carpet"
           }
          ],
          "choropleth": [
           {
            "colorbar": {
             "outlinewidth": 0,
             "ticks": ""
            },
            "type": "choropleth"
           }
          ],
          "contour": [
           {
            "colorbar": {
             "outlinewidth": 0,
             "ticks": ""
            },
            "colorscale": [
             [
              0,
              "#0d0887"
             ],
             [
              0.1111111111111111,
              "#46039f"
             ],
             [
              0.2222222222222222,
              "#7201a8"
             ],
             [
              0.3333333333333333,
              "#9c179e"
             ],
             [
              0.4444444444444444,
              "#bd3786"
             ],
             [
              0.5555555555555556,
              "#d8576b"
             ],
             [
              0.6666666666666666,
              "#ed7953"
             ],
             [
              0.7777777777777778,
              "#fb9f3a"
             ],
             [
              0.8888888888888888,
              "#fdca26"
             ],
             [
              1,
              "#f0f921"
             ]
            ],
            "type": "contour"
           }
          ],
          "contourcarpet": [
           {
            "colorbar": {
             "outlinewidth": 0,
             "ticks": ""
            },
            "type": "contourcarpet"
           }
          ],
          "heatmap": [
           {
            "colorbar": {
             "outlinewidth": 0,
             "ticks": ""
            },
            "colorscale": [
             [
              0,
              "#0d0887"
             ],
             [
              0.1111111111111111,
              "#46039f"
             ],
             [
              0.2222222222222222,
              "#7201a8"
             ],
             [
              0.3333333333333333,
              "#9c179e"
             ],
             [
              0.4444444444444444,
              "#bd3786"
             ],
             [
              0.5555555555555556,
              "#d8576b"
             ],
             [
              0.6666666666666666,
              "#ed7953"
             ],
             [
              0.7777777777777778,
              "#fb9f3a"
             ],
             [
              0.8888888888888888,
              "#fdca26"
             ],
             [
              1,
              "#f0f921"
             ]
            ],
            "type": "heatmap"
           }
          ],
          "heatmapgl": [
           {
            "colorbar": {
             "outlinewidth": 0,
             "ticks": ""
            },
            "colorscale": [
             [
              0,
              "#0d0887"
             ],
             [
              0.1111111111111111,
              "#46039f"
             ],
             [
              0.2222222222222222,
              "#7201a8"
             ],
             [
              0.3333333333333333,
              "#9c179e"
             ],
             [
              0.4444444444444444,
              "#bd3786"
             ],
             [
              0.5555555555555556,
              "#d8576b"
             ],
             [
              0.6666666666666666,
              "#ed7953"
             ],
             [
              0.7777777777777778,
              "#fb9f3a"
             ],
             [
              0.8888888888888888,
              "#fdca26"
             ],
             [
              1,
              "#f0f921"
             ]
            ],
            "type": "heatmapgl"
           }
          ],
          "histogram": [
           {
            "marker": {
             "pattern": {
              "fillmode": "overlay",
              "size": 10,
              "solidity": 0.2
             }
            },
            "type": "histogram"
           }
          ],
          "histogram2d": [
           {
            "colorbar": {
             "outlinewidth": 0,
             "ticks": ""
            },
            "colorscale": [
             [
              0,
              "#0d0887"
             ],
             [
              0.1111111111111111,
              "#46039f"
             ],
             [
              0.2222222222222222,
              "#7201a8"
             ],
             [
              0.3333333333333333,
              "#9c179e"
             ],
             [
              0.4444444444444444,
              "#bd3786"
             ],
             [
              0.5555555555555556,
              "#d8576b"
             ],
             [
              0.6666666666666666,
              "#ed7953"
             ],
             [
              0.7777777777777778,
              "#fb9f3a"
             ],
             [
              0.8888888888888888,
              "#fdca26"
             ],
             [
              1,
              "#f0f921"
             ]
            ],
            "type": "histogram2d"
           }
          ],
          "histogram2dcontour": [
           {
            "colorbar": {
             "outlinewidth": 0,
             "ticks": ""
            },
            "colorscale": [
             [
              0,
              "#0d0887"
             ],
             [
              0.1111111111111111,
              "#46039f"
             ],
             [
              0.2222222222222222,
              "#7201a8"
             ],
             [
              0.3333333333333333,
              "#9c179e"
             ],
             [
              0.4444444444444444,
              "#bd3786"
             ],
             [
              0.5555555555555556,
              "#d8576b"
             ],
             [
              0.6666666666666666,
              "#ed7953"
             ],
             [
              0.7777777777777778,
              "#fb9f3a"
             ],
             [
              0.8888888888888888,
              "#fdca26"
             ],
             [
              1,
              "#f0f921"
             ]
            ],
            "type": "histogram2dcontour"
           }
          ],
          "mesh3d": [
           {
            "colorbar": {
             "outlinewidth": 0,
             "ticks": ""
            },
            "type": "mesh3d"
           }
          ],
          "parcoords": [
           {
            "line": {
             "colorbar": {
              "outlinewidth": 0,
              "ticks": ""
             }
            },
            "type": "parcoords"
           }
          ],
          "pie": [
           {
            "automargin": true,
            "type": "pie"
           }
          ],
          "scatter": [
           {
            "fillpattern": {
             "fillmode": "overlay",
             "size": 10,
             "solidity": 0.2
            },
            "type": "scatter"
           }
          ],
          "scatter3d": [
           {
            "line": {
             "colorbar": {
              "outlinewidth": 0,
              "ticks": ""
             }
            },
            "marker": {
             "colorbar": {
              "outlinewidth": 0,
              "ticks": ""
             }
            },
            "type": "scatter3d"
           }
          ],
          "scattercarpet": [
           {
            "marker": {
             "colorbar": {
              "outlinewidth": 0,
              "ticks": ""
             }
            },
            "type": "scattercarpet"
           }
          ],
          "scattergeo": [
           {
            "marker": {
             "colorbar": {
              "outlinewidth": 0,
              "ticks": ""
             }
            },
            "type": "scattergeo"
           }
          ],
          "scattergl": [
           {
            "marker": {
             "colorbar": {
              "outlinewidth": 0,
              "ticks": ""
             }
            },
            "type": "scattergl"
           }
          ],
          "scattermapbox": [
           {
            "marker": {
             "colorbar": {
              "outlinewidth": 0,
              "ticks": ""
             }
            },
            "type": "scattermapbox"
           }
          ],
          "scatterpolar": [
           {
            "marker": {
             "colorbar": {
              "outlinewidth": 0,
              "ticks": ""
             }
            },
            "type": "scatterpolar"
           }
          ],
          "scatterpolargl": [
           {
            "marker": {
             "colorbar": {
              "outlinewidth": 0,
              "ticks": ""
             }
            },
            "type": "scatterpolargl"
           }
          ],
          "scatterternary": [
           {
            "marker": {
             "colorbar": {
              "outlinewidth": 0,
              "ticks": ""
             }
            },
            "type": "scatterternary"
           }
          ],
          "surface": [
           {
            "colorbar": {
             "outlinewidth": 0,
             "ticks": ""
            },
            "colorscale": [
             [
              0,
              "#0d0887"
             ],
             [
              0.1111111111111111,
              "#46039f"
             ],
             [
              0.2222222222222222,
              "#7201a8"
             ],
             [
              0.3333333333333333,
              "#9c179e"
             ],
             [
              0.4444444444444444,
              "#bd3786"
             ],
             [
              0.5555555555555556,
              "#d8576b"
             ],
             [
              0.6666666666666666,
              "#ed7953"
             ],
             [
              0.7777777777777778,
              "#fb9f3a"
             ],
             [
              0.8888888888888888,
              "#fdca26"
             ],
             [
              1,
              "#f0f921"
             ]
            ],
            "type": "surface"
           }
          ],
          "table": [
           {
            "cells": {
             "fill": {
              "color": "#EBF0F8"
             },
             "line": {
              "color": "white"
             }
            },
            "header": {
             "fill": {
              "color": "#C8D4E3"
             },
             "line": {
              "color": "white"
             }
            },
            "type": "table"
           }
          ]
         },
         "layout": {
          "annotationdefaults": {
           "arrowcolor": "#2a3f5f",
           "arrowhead": 0,
           "arrowwidth": 1
          },
          "autotypenumbers": "strict",
          "coloraxis": {
           "colorbar": {
            "outlinewidth": 0,
            "ticks": ""
           }
          },
          "colorscale": {
           "diverging": [
            [
             0,
             "#8e0152"
            ],
            [
             0.1,
             "#c51b7d"
            ],
            [
             0.2,
             "#de77ae"
            ],
            [
             0.3,
             "#f1b6da"
            ],
            [
             0.4,
             "#fde0ef"
            ],
            [
             0.5,
             "#f7f7f7"
            ],
            [
             0.6,
             "#e6f5d0"
            ],
            [
             0.7,
             "#b8e186"
            ],
            [
             0.8,
             "#7fbc41"
            ],
            [
             0.9,
             "#4d9221"
            ],
            [
             1,
             "#276419"
            ]
           ],
           "sequential": [
            [
             0,
             "#0d0887"
            ],
            [
             0.1111111111111111,
             "#46039f"
            ],
            [
             0.2222222222222222,
             "#7201a8"
            ],
            [
             0.3333333333333333,
             "#9c179e"
            ],
            [
             0.4444444444444444,
             "#bd3786"
            ],
            [
             0.5555555555555556,
             "#d8576b"
            ],
            [
             0.6666666666666666,
             "#ed7953"
            ],
            [
             0.7777777777777778,
             "#fb9f3a"
            ],
            [
             0.8888888888888888,
             "#fdca26"
            ],
            [
             1,
             "#f0f921"
            ]
           ],
           "sequentialminus": [
            [
             0,
             "#0d0887"
            ],
            [
             0.1111111111111111,
             "#46039f"
            ],
            [
             0.2222222222222222,
             "#7201a8"
            ],
            [
             0.3333333333333333,
             "#9c179e"
            ],
            [
             0.4444444444444444,
             "#bd3786"
            ],
            [
             0.5555555555555556,
             "#d8576b"
            ],
            [
             0.6666666666666666,
             "#ed7953"
            ],
            [
             0.7777777777777778,
             "#fb9f3a"
            ],
            [
             0.8888888888888888,
             "#fdca26"
            ],
            [
             1,
             "#f0f921"
            ]
           ]
          },
          "colorway": [
           "#636efa",
           "#EF553B",
           "#00cc96",
           "#ab63fa",
           "#FFA15A",
           "#19d3f3",
           "#FF6692",
           "#B6E880",
           "#FF97FF",
           "#FECB52"
          ],
          "font": {
           "color": "#2a3f5f"
          },
          "geo": {
           "bgcolor": "white",
           "lakecolor": "white",
           "landcolor": "#E5ECF6",
           "showlakes": true,
           "showland": true,
           "subunitcolor": "white"
          },
          "hoverlabel": {
           "align": "left"
          },
          "hovermode": "closest",
          "mapbox": {
           "style": "light"
          },
          "paper_bgcolor": "white",
          "plot_bgcolor": "#E5ECF6",
          "polar": {
           "angularaxis": {
            "gridcolor": "white",
            "linecolor": "white",
            "ticks": ""
           },
           "bgcolor": "#E5ECF6",
           "radialaxis": {
            "gridcolor": "white",
            "linecolor": "white",
            "ticks": ""
           }
          },
          "scene": {
           "xaxis": {
            "backgroundcolor": "#E5ECF6",
            "gridcolor": "white",
            "gridwidth": 2,
            "linecolor": "white",
            "showbackground": true,
            "ticks": "",
            "zerolinecolor": "white"
           },
           "yaxis": {
            "backgroundcolor": "#E5ECF6",
            "gridcolor": "white",
            "gridwidth": 2,
            "linecolor": "white",
            "showbackground": true,
            "ticks": "",
            "zerolinecolor": "white"
           },
           "zaxis": {
            "backgroundcolor": "#E5ECF6",
            "gridcolor": "white",
            "gridwidth": 2,
            "linecolor": "white",
            "showbackground": true,
            "ticks": "",
            "zerolinecolor": "white"
           }
          },
          "shapedefaults": {
           "line": {
            "color": "#2a3f5f"
           }
          },
          "ternary": {
           "aaxis": {
            "gridcolor": "white",
            "linecolor": "white",
            "ticks": ""
           },
           "baxis": {
            "gridcolor": "white",
            "linecolor": "white",
            "ticks": ""
           },
           "bgcolor": "#E5ECF6",
           "caxis": {
            "gridcolor": "white",
            "linecolor": "white",
            "ticks": ""
           }
          },
          "title": {
           "x": 0.05
          },
          "xaxis": {
           "automargin": true,
           "gridcolor": "white",
           "linecolor": "white",
           "ticks": "",
           "title": {
            "standoff": 15
           },
           "zerolinecolor": "white",
           "zerolinewidth": 2
          },
          "yaxis": {
           "automargin": true,
           "gridcolor": "white",
           "linecolor": "white",
           "ticks": "",
           "title": {
            "standoff": 15
           },
           "zerolinecolor": "white",
           "zerolinewidth": 2
          }
         }
        },
        "title": {
         "text": "Main category repartition of the people"
        }
       }
      }
     },
     "metadata": {},
     "output_type": "display_data"
    }
   ],
   "source": [
    "finished_path = dfs['paths_finished'].copy()\n",
    "finished_path['target'] = [path.split(';')[-1] for path in finished_path.path]\n",
    "target_list = finished_path.target\n",
    "list_people = people_selection.article.values\n",
    "len_target_people = len([target for target in target_list if target in list_people])\n",
    "len_target_all = len(finished_path)\n",
    "print('There are {:.2f}% of target that are in the people category({} out of {})'.format(len_target_people/len_target_all*100, len_target_people, len_target_all))\n",
    "\n",
    "\n",
    "finished_path_people = finished_path.loc[finished_path.target.isin(list_people), :]\n",
    "finished_path_people = finished_path_people.drop(['timestamp', 'durationInSec'], axis = 1)\n",
    "finished_path_people['path_categories'] = [transform_path_main_category(path, result_dict[0]) for path in finished_path_people['path']]\n",
    "display(finished_path_people)\n",
    "\n",
    "\n"
   ]
  },
  {
   "cell_type": "code",
   "execution_count": 59,
   "metadata": {},
   "outputs": [
    {
     "name": "stdout",
     "output_type": "stream",
     "text": [
      "There are 25.49% of article that are people in paths to people target (9626 out of 37761)\n",
      "The people ratio: %people_in_path/%people_article 1.73\n",
      "The non-people ratio: %non_people_in_path/%non_people_article 1.74\n",
      "Within the percentage of article that are people, there are 81.36% of people articles that are represented (550 out of 676).\n"
     ]
    },
    {
     "data": {
      "text/html": [
       "<div>\n",
       "<style scoped>\n",
       "    .dataframe tbody tr th:only-of-type {\n",
       "        vertical-align: middle;\n",
       "    }\n",
       "\n",
       "    .dataframe tbody tr th {\n",
       "        vertical-align: top;\n",
       "    }\n",
       "\n",
       "    .dataframe thead th {\n",
       "        text-align: right;\n",
       "    }\n",
       "</style>\n",
       "<table border=\"1\" class=\"dataframe\">\n",
       "  <thead>\n",
       "    <tr style=\"text-align: right;\">\n",
       "      <th></th>\n",
       "      <th>DF</th>\n",
       "      <th>leading to</th>\n",
       "      <th>percentage_people</th>\n",
       "      <th>percentage_other</th>\n",
       "    </tr>\n",
       "  </thead>\n",
       "  <tbody>\n",
       "    <tr>\n",
       "      <th>0</th>\n",
       "      <td>Dataset</td>\n",
       "      <td>all</td>\n",
       "      <td>0.115223</td>\n",
       "      <td>0.884777</td>\n",
       "    </tr>\n",
       "    <tr>\n",
       "      <th>1</th>\n",
       "      <td>Paths</td>\n",
       "      <td>all</td>\n",
       "      <td>0.147020</td>\n",
       "      <td>0.852980</td>\n",
       "    </tr>\n",
       "    <tr>\n",
       "      <th>2</th>\n",
       "      <td>Paths</td>\n",
       "      <td>people</td>\n",
       "      <td>0.254919</td>\n",
       "      <td>0.745081</td>\n",
       "    </tr>\n",
       "  </tbody>\n",
       "</table>\n",
       "</div>"
      ],
      "text/plain": [
       "        DF leading to  percentage_people  percentage_other\n",
       "0  Dataset        all           0.115223          0.884777\n",
       "1    Paths        all           0.147020          0.852980\n",
       "2    Paths     people           0.254919          0.745081"
      ]
     },
     "metadata": {},
     "output_type": "display_data"
    },
    {
     "data": {
      "application/vnd.plotly.v1+json": {
       "config": {
        "plotlyServerURL": "https://plot.ly"
       },
       "data": [
        {
         "domain": {
          "x": [
           0,
           0.2888888888888889
          ],
          "y": [
           0,
           1
          ]
         },
         "hoverinfo": "label+percent+name",
         "labels": [
          "people",
          "non-people"
         ],
         "name": "Starry Night",
         "textinfo": "percent",
         "type": "pie",
         "values": [
          0.1152227288670642,
          0.8847772711329358
         ]
        },
        {
         "domain": {
          "x": [
           0.35555555555555557,
           0.6444444444444445
          ],
          "y": [
           0,
           1
          ]
         },
         "hoverinfo": "label+percent+name",
         "labels": [
          "people",
          "non-people"
         ],
         "name": "Starry Night",
         "textinfo": "percent",
         "type": "pie",
         "values": [
          0.14702044367116138,
          0.8529795563288386
         ]
        },
        {
         "domain": {
          "x": [
           0.7111111111111111,
           1
          ],
          "y": [
           0,
           1
          ]
         },
         "hoverinfo": "label+percent+name",
         "labels": [
          "people",
          "non-people"
         ],
         "name": "Starry Night",
         "textinfo": "percent",
         "type": "pie",
         "values": [
          0.2549190964222346,
          0.7450809035777655
         ]
        }
       ],
       "layout": {
        "annotations": [
         {
          "font": {
           "size": 16
          },
          "showarrow": false,
          "text": "In the whole dataset",
          "x": 0.14444444444444446,
          "xanchor": "center",
          "xref": "paper",
          "y": 1,
          "yanchor": "bottom",
          "yref": "paper"
         },
         {
          "font": {
           "size": 16
          },
          "showarrow": false,
          "text": "In paths players took",
          "x": 0.5,
          "xanchor": "center",
          "xref": "paper",
          "y": 1,
          "yanchor": "bottom",
          "yref": "paper"
         },
         {
          "font": {
           "size": 16
          },
          "showarrow": false,
          "text": "In paths finishing by people",
          "x": 0.8555555555555556,
          "xanchor": "center",
          "xref": "paper",
          "y": 1,
          "yanchor": "bottom",
          "yref": "paper"
         }
        ],
        "showlegend": false,
        "template": {
         "data": {
          "bar": [
           {
            "error_x": {
             "color": "#2a3f5f"
            },
            "error_y": {
             "color": "#2a3f5f"
            },
            "marker": {
             "line": {
              "color": "#E5ECF6",
              "width": 0.5
             },
             "pattern": {
              "fillmode": "overlay",
              "size": 10,
              "solidity": 0.2
             }
            },
            "type": "bar"
           }
          ],
          "barpolar": [
           {
            "marker": {
             "line": {
              "color": "#E5ECF6",
              "width": 0.5
             },
             "pattern": {
              "fillmode": "overlay",
              "size": 10,
              "solidity": 0.2
             }
            },
            "type": "barpolar"
           }
          ],
          "carpet": [
           {
            "aaxis": {
             "endlinecolor": "#2a3f5f",
             "gridcolor": "white",
             "linecolor": "white",
             "minorgridcolor": "white",
             "startlinecolor": "#2a3f5f"
            },
            "baxis": {
             "endlinecolor": "#2a3f5f",
             "gridcolor": "white",
             "linecolor": "white",
             "minorgridcolor": "white",
             "startlinecolor": "#2a3f5f"
            },
            "type": "carpet"
           }
          ],
          "choropleth": [
           {
            "colorbar": {
             "outlinewidth": 0,
             "ticks": ""
            },
            "type": "choropleth"
           }
          ],
          "contour": [
           {
            "colorbar": {
             "outlinewidth": 0,
             "ticks": ""
            },
            "colorscale": [
             [
              0,
              "#0d0887"
             ],
             [
              0.1111111111111111,
              "#46039f"
             ],
             [
              0.2222222222222222,
              "#7201a8"
             ],
             [
              0.3333333333333333,
              "#9c179e"
             ],
             [
              0.4444444444444444,
              "#bd3786"
             ],
             [
              0.5555555555555556,
              "#d8576b"
             ],
             [
              0.6666666666666666,
              "#ed7953"
             ],
             [
              0.7777777777777778,
              "#fb9f3a"
             ],
             [
              0.8888888888888888,
              "#fdca26"
             ],
             [
              1,
              "#f0f921"
             ]
            ],
            "type": "contour"
           }
          ],
          "contourcarpet": [
           {
            "colorbar": {
             "outlinewidth": 0,
             "ticks": ""
            },
            "type": "contourcarpet"
           }
          ],
          "heatmap": [
           {
            "colorbar": {
             "outlinewidth": 0,
             "ticks": ""
            },
            "colorscale": [
             [
              0,
              "#0d0887"
             ],
             [
              0.1111111111111111,
              "#46039f"
             ],
             [
              0.2222222222222222,
              "#7201a8"
             ],
             [
              0.3333333333333333,
              "#9c179e"
             ],
             [
              0.4444444444444444,
              "#bd3786"
             ],
             [
              0.5555555555555556,
              "#d8576b"
             ],
             [
              0.6666666666666666,
              "#ed7953"
             ],
             [
              0.7777777777777778,
              "#fb9f3a"
             ],
             [
              0.8888888888888888,
              "#fdca26"
             ],
             [
              1,
              "#f0f921"
             ]
            ],
            "type": "heatmap"
           }
          ],
          "heatmapgl": [
           {
            "colorbar": {
             "outlinewidth": 0,
             "ticks": ""
            },
            "colorscale": [
             [
              0,
              "#0d0887"
             ],
             [
              0.1111111111111111,
              "#46039f"
             ],
             [
              0.2222222222222222,
              "#7201a8"
             ],
             [
              0.3333333333333333,
              "#9c179e"
             ],
             [
              0.4444444444444444,
              "#bd3786"
             ],
             [
              0.5555555555555556,
              "#d8576b"
             ],
             [
              0.6666666666666666,
              "#ed7953"
             ],
             [
              0.7777777777777778,
              "#fb9f3a"
             ],
             [
              0.8888888888888888,
              "#fdca26"
             ],
             [
              1,
              "#f0f921"
             ]
            ],
            "type": "heatmapgl"
           }
          ],
          "histogram": [
           {
            "marker": {
             "pattern": {
              "fillmode": "overlay",
              "size": 10,
              "solidity": 0.2
             }
            },
            "type": "histogram"
           }
          ],
          "histogram2d": [
           {
            "colorbar": {
             "outlinewidth": 0,
             "ticks": ""
            },
            "colorscale": [
             [
              0,
              "#0d0887"
             ],
             [
              0.1111111111111111,
              "#46039f"
             ],
             [
              0.2222222222222222,
              "#7201a8"
             ],
             [
              0.3333333333333333,
              "#9c179e"
             ],
             [
              0.4444444444444444,
              "#bd3786"
             ],
             [
              0.5555555555555556,
              "#d8576b"
             ],
             [
              0.6666666666666666,
              "#ed7953"
             ],
             [
              0.7777777777777778,
              "#fb9f3a"
             ],
             [
              0.8888888888888888,
              "#fdca26"
             ],
             [
              1,
              "#f0f921"
             ]
            ],
            "type": "histogram2d"
           }
          ],
          "histogram2dcontour": [
           {
            "colorbar": {
             "outlinewidth": 0,
             "ticks": ""
            },
            "colorscale": [
             [
              0,
              "#0d0887"
             ],
             [
              0.1111111111111111,
              "#46039f"
             ],
             [
              0.2222222222222222,
              "#7201a8"
             ],
             [
              0.3333333333333333,
              "#9c179e"
             ],
             [
              0.4444444444444444,
              "#bd3786"
             ],
             [
              0.5555555555555556,
              "#d8576b"
             ],
             [
              0.6666666666666666,
              "#ed7953"
             ],
             [
              0.7777777777777778,
              "#fb9f3a"
             ],
             [
              0.8888888888888888,
              "#fdca26"
             ],
             [
              1,
              "#f0f921"
             ]
            ],
            "type": "histogram2dcontour"
           }
          ],
          "mesh3d": [
           {
            "colorbar": {
             "outlinewidth": 0,
             "ticks": ""
            },
            "type": "mesh3d"
           }
          ],
          "parcoords": [
           {
            "line": {
             "colorbar": {
              "outlinewidth": 0,
              "ticks": ""
             }
            },
            "type": "parcoords"
           }
          ],
          "pie": [
           {
            "automargin": true,
            "type": "pie"
           }
          ],
          "scatter": [
           {
            "fillpattern": {
             "fillmode": "overlay",
             "size": 10,
             "solidity": 0.2
            },
            "type": "scatter"
           }
          ],
          "scatter3d": [
           {
            "line": {
             "colorbar": {
              "outlinewidth": 0,
              "ticks": ""
             }
            },
            "marker": {
             "colorbar": {
              "outlinewidth": 0,
              "ticks": ""
             }
            },
            "type": "scatter3d"
           }
          ],
          "scattercarpet": [
           {
            "marker": {
             "colorbar": {
              "outlinewidth": 0,
              "ticks": ""
             }
            },
            "type": "scattercarpet"
           }
          ],
          "scattergeo": [
           {
            "marker": {
             "colorbar": {
              "outlinewidth": 0,
              "ticks": ""
             }
            },
            "type": "scattergeo"
           }
          ],
          "scattergl": [
           {
            "marker": {
             "colorbar": {
              "outlinewidth": 0,
              "ticks": ""
             }
            },
            "type": "scattergl"
           }
          ],
          "scattermapbox": [
           {
            "marker": {
             "colorbar": {
              "outlinewidth": 0,
              "ticks": ""
             }
            },
            "type": "scattermapbox"
           }
          ],
          "scatterpolar": [
           {
            "marker": {
             "colorbar": {
              "outlinewidth": 0,
              "ticks": ""
             }
            },
            "type": "scatterpolar"
           }
          ],
          "scatterpolargl": [
           {
            "marker": {
             "colorbar": {
              "outlinewidth": 0,
              "ticks": ""
             }
            },
            "type": "scatterpolargl"
           }
          ],
          "scatterternary": [
           {
            "marker": {
             "colorbar": {
              "outlinewidth": 0,
              "ticks": ""
             }
            },
            "type": "scatterternary"
           }
          ],
          "surface": [
           {
            "colorbar": {
             "outlinewidth": 0,
             "ticks": ""
            },
            "colorscale": [
             [
              0,
              "#0d0887"
             ],
             [
              0.1111111111111111,
              "#46039f"
             ],
             [
              0.2222222222222222,
              "#7201a8"
             ],
             [
              0.3333333333333333,
              "#9c179e"
             ],
             [
              0.4444444444444444,
              "#bd3786"
             ],
             [
              0.5555555555555556,
              "#d8576b"
             ],
             [
              0.6666666666666666,
              "#ed7953"
             ],
             [
              0.7777777777777778,
              "#fb9f3a"
             ],
             [
              0.8888888888888888,
              "#fdca26"
             ],
             [
              1,
              "#f0f921"
             ]
            ],
            "type": "surface"
           }
          ],
          "table": [
           {
            "cells": {
             "fill": {
              "color": "#EBF0F8"
             },
             "line": {
              "color": "white"
             }
            },
            "header": {
             "fill": {
              "color": "#C8D4E3"
             },
             "line": {
              "color": "white"
             }
            },
            "type": "table"
           }
          ]
         },
         "layout": {
          "annotationdefaults": {
           "arrowcolor": "#2a3f5f",
           "arrowhead": 0,
           "arrowwidth": 1
          },
          "autotypenumbers": "strict",
          "coloraxis": {
           "colorbar": {
            "outlinewidth": 0,
            "ticks": ""
           }
          },
          "colorscale": {
           "diverging": [
            [
             0,
             "#8e0152"
            ],
            [
             0.1,
             "#c51b7d"
            ],
            [
             0.2,
             "#de77ae"
            ],
            [
             0.3,
             "#f1b6da"
            ],
            [
             0.4,
             "#fde0ef"
            ],
            [
             0.5,
             "#f7f7f7"
            ],
            [
             0.6,
             "#e6f5d0"
            ],
            [
             0.7,
             "#b8e186"
            ],
            [
             0.8,
             "#7fbc41"
            ],
            [
             0.9,
             "#4d9221"
            ],
            [
             1,
             "#276419"
            ]
           ],
           "sequential": [
            [
             0,
             "#0d0887"
            ],
            [
             0.1111111111111111,
             "#46039f"
            ],
            [
             0.2222222222222222,
             "#7201a8"
            ],
            [
             0.3333333333333333,
             "#9c179e"
            ],
            [
             0.4444444444444444,
             "#bd3786"
            ],
            [
             0.5555555555555556,
             "#d8576b"
            ],
            [
             0.6666666666666666,
             "#ed7953"
            ],
            [
             0.7777777777777778,
             "#fb9f3a"
            ],
            [
             0.8888888888888888,
             "#fdca26"
            ],
            [
             1,
             "#f0f921"
            ]
           ],
           "sequentialminus": [
            [
             0,
             "#0d0887"
            ],
            [
             0.1111111111111111,
             "#46039f"
            ],
            [
             0.2222222222222222,
             "#7201a8"
            ],
            [
             0.3333333333333333,
             "#9c179e"
            ],
            [
             0.4444444444444444,
             "#bd3786"
            ],
            [
             0.5555555555555556,
             "#d8576b"
            ],
            [
             0.6666666666666666,
             "#ed7953"
            ],
            [
             0.7777777777777778,
             "#fb9f3a"
            ],
            [
             0.8888888888888888,
             "#fdca26"
            ],
            [
             1,
             "#f0f921"
            ]
           ]
          },
          "colorway": [
           "#636efa",
           "#EF553B",
           "#00cc96",
           "#ab63fa",
           "#FFA15A",
           "#19d3f3",
           "#FF6692",
           "#B6E880",
           "#FF97FF",
           "#FECB52"
          ],
          "font": {
           "color": "#2a3f5f"
          },
          "geo": {
           "bgcolor": "white",
           "lakecolor": "white",
           "landcolor": "#E5ECF6",
           "showlakes": true,
           "showland": true,
           "subunitcolor": "white"
          },
          "hoverlabel": {
           "align": "left"
          },
          "hovermode": "closest",
          "mapbox": {
           "style": "light"
          },
          "paper_bgcolor": "white",
          "plot_bgcolor": "#E5ECF6",
          "polar": {
           "angularaxis": {
            "gridcolor": "white",
            "linecolor": "white",
            "ticks": ""
           },
           "bgcolor": "#E5ECF6",
           "radialaxis": {
            "gridcolor": "white",
            "linecolor": "white",
            "ticks": ""
           }
          },
          "scene": {
           "xaxis": {
            "backgroundcolor": "#E5ECF6",
            "gridcolor": "white",
            "gridwidth": 2,
            "linecolor": "white",
            "showbackground": true,
            "ticks": "",
            "zerolinecolor": "white"
           },
           "yaxis": {
            "backgroundcolor": "#E5ECF6",
            "gridcolor": "white",
            "gridwidth": 2,
            "linecolor": "white",
            "showbackground": true,
            "ticks": "",
            "zerolinecolor": "white"
           },
           "zaxis": {
            "backgroundcolor": "#E5ECF6",
            "gridcolor": "white",
            "gridwidth": 2,
            "linecolor": "white",
            "showbackground": true,
            "ticks": "",
            "zerolinecolor": "white"
           }
          },
          "shapedefaults": {
           "line": {
            "color": "#2a3f5f"
           }
          },
          "ternary": {
           "aaxis": {
            "gridcolor": "white",
            "linecolor": "white",
            "ticks": ""
           },
           "baxis": {
            "gridcolor": "white",
            "linecolor": "white",
            "ticks": ""
           },
           "bgcolor": "#E5ECF6",
           "caxis": {
            "gridcolor": "white",
            "linecolor": "white",
            "ticks": ""
           }
          },
          "title": {
           "x": 0.05
          },
          "xaxis": {
           "automargin": true,
           "gridcolor": "white",
           "linecolor": "white",
           "ticks": "",
           "title": {
            "standoff": 15
           },
           "zerolinecolor": "white",
           "zerolinewidth": 2
          },
          "yaxis": {
           "automargin": true,
           "gridcolor": "white",
           "linecolor": "white",
           "ticks": "",
           "title": {
            "standoff": 15
           },
           "zerolinecolor": "white",
           "zerolinewidth": 2
          }
         }
        },
        "title": {
         "text": "Percentage of articles about people"
        }
       }
      }
     },
     "metadata": {},
     "output_type": "display_data"
    }
   ],
   "source": [
    "path_all = pd.DataFrame(finished_path_people.path.str.split(';').explode())\n",
    "people_path = path_all.copy()[path_all.path.isin(list_people)]\n",
    "print('There are {:.2f}% of article that are people in paths to people target ({} out of {})'.format(len(people_path)/len(path_all)*100, len(people_path), len(path_all)))\n",
    "print('The people ratio: %people_in_path/%people_article {:.2f}\\nThe non-people ratio: %non_people_in_path/%non_people_article {:.2f}'.format(\n",
    "    len(people_path)/len(path_all)/(len_people/len_total_article),\n",
    "    (1-len(people_path))/len(path_all)/((1-len_people)/len_total_article)))\n",
    "len_people_unique = len(people_path.path.unique())\n",
    "print('Within the percentage of article that are people, there are {:.2f}% of people articles that are represented ({} out of {}).'.format(len_people_unique/len_people*100,len_people_unique, len_people))\n",
    "\n",
    "graph_df = pd.DataFrame({'DF':['Dataset'], 'leading to':['all'],'percentage_people':[len_target_people/len_target_all], 'percentage_other':[1-(len_target_people/len_target_all)]})\n",
    "graph_df.loc[len(graph_df.index)] = ['Paths', 'all', len_people/len_total_article, 1-len_people/len_total_article]\n",
    "graph_df.loc[len(graph_df.index)] = ['Paths', 'people',len(people_path)/len(path_all), 1-len(people_path)/len(path_all)]\n",
    "display(graph_df)\n",
    "\n",
    "import plotly.graph_objects as go\n",
    "from plotly.subplots import make_subplots\n",
    "\n",
    "labels = ['people', 'non-people']\n",
    "\n",
    "# Create subplots, using 'domain' type for pie charts\n",
    "specs = [[{'type':'domain'}, {'type':'domain'}, {'type':'domain'}]]\n",
    "fig = make_subplots(rows=1, cols=3, specs=specs,subplot_titles=['In the whole dataset', 'In paths players took','In paths finishing by people'])\n",
    "\n",
    "# Define pie charts\n",
    "fig.add_trace(go.Pie(labels=labels, values=[graph_df['percentage_people'][0],graph_df['percentage_other'][0]], name='Starry Night'), 1, 1)\n",
    "fig.add_trace(go.Pie(labels=labels, values=[graph_df['percentage_people'][1],graph_df['percentage_other'][1]], name='Starry Night'), 1, 2)\n",
    "fig.add_trace(go.Pie(labels=labels, values=[graph_df['percentage_people'][2],graph_df['percentage_other'][2]], name='Starry Night'), 1, 3)\n",
    "\n",
    "# Tune layout and hover info\n",
    "fig.update_traces(hoverinfo='label+percent+name', textinfo='percent')\n",
    "fig.update(layout_title_text='Percentage of articles about people',\n",
    "           layout_showlegend=False)\n",
    "\n",
    "fig = go.Figure(fig)\n",
    "fig.show()"
   ]
  },
  {
   "cell_type": "markdown",
   "metadata": {},
   "source": [
    "## Unfinished path"
   ]
  },
  {
   "cell_type": "code",
   "execution_count": null,
   "metadata": {},
   "outputs": [],
   "source": [
    "unfinished_path = dfs['paths_unfinished'].copy()\n",
    "unfinished_path['target'] = [path.split(';')[-1] for path in unfinished_path.path]\n",
    "target_list = unfinished_path.target\n",
    "list_people = people_selection.article.values\n",
    "len_target_people = len([target for target in target_list if target in list_people])\n",
    "len_target = len(finished_path)\n",
    "print('There are {:.2f}% of target that are in the people category ({} out of {})'.format(len_target_people/len_target*100, len_target_people, len_target))\n",
    "\n",
    "unfinished_path_people = unfinished_path.loc[unfinished_path.target.isin(list_people), :]\n",
    "unfinished_path_people = unfinished_path_people.drop(['timestamp', 'durationInSec'], axis = 1)\n",
    "unfinished_path_people.loc[:, 'path_categories'] = [transform_path_main_category(path, result_dict[0]) for path in unfinished_path_people['path']]\n",
    "\n",
    "article_path = pd.DataFrame(unfinished_path_people.path.str.split(';').explode())\n",
    "people_path = article_path.copy()[article_path.path.isin(list_people)]\n",
    "print('There are {:.2f}% of article that are people in paths to people target ({} out of {})'.format(len(people_path)/len(article_path)*100, len(people_path), len(article_path)))\n",
    "\n",
    "len_people_unique = len(people_path.path.unique())\n",
    "print('Within the percentage of article that are people, there are {:.2f}% of people articles that are represented ({} out of {}).'.format(len_people_unique/len_people*100,len_people_unique, len_people))"
   ]
  },
  {
   "cell_type": "markdown",
   "metadata": {},
   "source": [
    "## People main categories color palette"
   ]
  },
  {
   "cell_type": "code",
   "execution_count": null,
   "metadata": {},
   "outputs": [],
   "source": [
    "from bokeh.palettes import Iridescent\n",
    "\n",
    "color_len = len(people_main_categories)\n",
    "palette_len = 23\n",
    "colors = Iridescent[palette_len][palette_len-color_len:]\n",
    "\n",
    "# Palette\n",
    "colors_people_main_categories = dict(zip(people_main_categories.index, colors))\n",
    "print(colors_people_main_categories)\n",
    "\n",
    "# del color_len, palette_len, colors"
   ]
  },
  {
   "cell_type": "markdown",
   "metadata": {},
   "source": [
    "# Categories repartition"
   ]
  },
  {
   "cell_type": "code",
   "execution_count": null,
   "metadata": {},
   "outputs": [],
   "source": [
    "def create_dictionary_from_tsv(file_path):\n",
    "    \"\"\"  Creates a dictionary from a TSV file\n",
    "    parameter:\n",
    "        file_path: str\n",
    "            path to the TSV file\n",
    "    return:\n",
    "        all_article: list of str\n",
    "            name of each articles added as key\n",
    "        data_dict: dictionary\n",
    "            article name as key and 3 first subject as values\n",
    "    \"\"\"\n",
    "    data_dict = {}\n",
    "\n",
    "    with open(file_path, 'r', newline='', encoding='utf-8') as tsvfile:\n",
    "        reader = csv.reader(tsvfile, delimiter='\\t')\n",
    "        \n",
    "        all_articles = []\n",
    "        for row in reader:\n",
    "            if len(row) == 2:\n",
    "                article, subjects = row\n",
    "                subjects_list = subjects.split('.')\n",
    "                article = unquote(article)\n",
    "                all_articles.append(article)\n",
    "\n",
    "                data_dict[article] = {\n",
    "                    'main_subject': unquote(subjects_list[1]) if len(subjects_list) >= 2 else None,\n",
    "                    'secondary_subject': unquote(subjects_list[2]) if len(subjects_list) >= 3 else None,\n",
    "                    'tertiary_subject': unquote(subjects_list[3]) if len(subjects_list) >= 4 else None\n",
    "                }\n",
    "    \n",
    "    return data_dict, all_articles"
   ]
  },
  {
   "cell_type": "code",
   "execution_count": null,
   "metadata": {},
   "outputs": [],
   "source": [
    "# import csv\n",
    "# from urllib.parse import unquote\n",
    "# from helpers import *\n",
    "# import networkx as nx\n",
    "\n",
    "# # Function to create the dictionary from a TSV file\n",
    "# def create_dictionary_from_tsv(file_path):\n",
    "#     data_dict = {}\n",
    "#     G = nx.DiGraph()\n",
    "#     with open(file_path, 'r', newline='', encoding='utf-8') as tsvfile:\n",
    "#         reader = csv.reader(tsvfile, delimiter='\\t')\n",
    "        \n",
    "#         all_articles = []\n",
    "#         for row in reader:\n",
    "#             if len(row) == 2:\n",
    "#                 article, subjects = row\n",
    "#                 subjects_list = subjects.split('.')\n",
    "#                 for i in range(len(subjects_list)-1):\n",
    "#                     G.add_edge(unquote(subjects_list[i]), unquote(subjects_list[i+1]))\n",
    "                \n",
    "\n",
    "#                 article = unquote(article)\n",
    "#                 all_articles.append(article)\n",
    "\n",
    "#                 data_dict[article] = {\n",
    "#                     'main_subject': unquote(subjects_list[1]) if len(subjects_list) >= 2 else None,\n",
    "#                     'secondary_subject': unquote(subjects_list[2]) if len(subjects_list) >= 3 else None,\n",
    "#                     'tertiary_subject': unquote(subjects_list[3]) if len(subjects_list) >= 4 else None\n",
    "#                 }\n",
    "#     G.remove_edges_from(nx.selfloop_edges(G))\n",
    "    \n",
    "#     return data_dict, all_articles, G\n",
    "\n",
    "# # Example usage\n",
    "# result_dict, all_articles, graph_cat = create_dictionary_from_tsv(\"dataset/wikispeedia_paths-and-graph/categories.tsv\")\n",
    "\n",
    "# # Print the result dictionary\n",
    "# for article, subjects in result_dict.items():\n",
    "#     print(f\"Article: {article}\")\n",
    "#     print(f\"Main Subject: {subjects['main_subject']}\")\n",
    "#     print(f\"Secondary Subject: {subjects['secondary_subject']}\")\n",
    "#     print(f\"Tertiary Subject: {subjects['tertiary_subject']}\")\n",
    "#     print(\"\\n\")\n"
   ]
  },
  {
   "cell_type": "markdown",
   "metadata": {},
   "source": [
    "## Plot the main categories of people "
   ]
  },
  {
   "cell_type": "code",
   "execution_count": null,
   "metadata": {},
   "outputs": [],
   "source": [
    "people_main_categories"
   ]
  },
  {
   "cell_type": "code",
   "execution_count": null,
   "metadata": {},
   "outputs": [],
   "source": [
    "import plotly.express as px\n",
    "\n",
    "# Create a pie chart using Plotly Express\n",
    "fig = px.pie(values=people_main_categories.values, names=people_main_categories.index.str.replace('_', ' ' ),\n",
    "             title='Main category repartition of the people',\n",
    "             hole=0.1, color_discrete_sequence= px.colors.sequential.Cividis #YlOrRd, Greens_r, YlOrRd(_r), RdBu_r, Blues(_r), Cividis\n",
    "             #color_discrete_map =  colors_people_main_categories\n",
    "             )\n",
    "fig.show()\n",
    "\n",
    "#fig.write_html(\"docs/Pie_main_cat_people.html\")\n"
   ]
  },
  {
   "cell_type": "code",
   "execution_count": null,
   "metadata": {},
   "outputs": [],
   "source": [
    "individual_category = categories.category.str.split('.').explode().unique()\n",
    "print('There are {} categories.'.format(len(individual_category)-1))\n",
    "individual_category"
   ]
  },
  {
   "cell_type": "code",
   "execution_count": null,
   "metadata": {},
   "outputs": [],
   "source": [
    "finished_path_people['target_second_category'] = [result_dict[0][t]['secondary_subject'] for t in finished_path_people.target]\n",
    "finished_path_people['four_last'] = [row.path_categories[-1:-4] + [row.target_second_category] for i, row in finished_path_people.iterrows()]\n",
    "finished_path_people['one_last_category'] = [''.join(row[-1:-2]) for row in finished_path_people.four_last]\n",
    "heatmap_ = finished_path_people[['target_second_category', 'one_last_category']]"
   ]
  },
  {
   "cell_type": "code",
   "execution_count": null,
   "metadata": {},
   "outputs": [],
   "source": [
    "heatmap_.target_second_category.unique()"
   ]
  },
  {
   "cell_type": "code",
   "execution_count": null,
   "metadata": {},
   "outputs": [],
   "source": []
  },
  {
   "cell_type": "code",
   "execution_count": null,
   "metadata": {},
   "outputs": [],
   "source": [
    "import plotly.express as px\n",
    "\n",
    "# Assuming you want to count occurrences of combinations\n",
    "heatmap_data = heatmap_.groupby(['target_second_category', 'one_last_category']).size().reset_index(name='Count')\n",
    "\n",
    "# Create heatmap\n",
    "fig = px.imshow(pd.pivot_table(heatmap_data, values='Count', index='target_second_category', columns='one_last_category', fill_value=0),\n",
    "                labels=dict(x='one_last_category', y='target_second_category', color='Count'),\n",
    "                x=heatmap_data['one_last_category'].unique(),\n",
    "                y=heatmap_data['target_second_category'].unique())\n",
    "\n",
    "# Show the plot\n",
    "fig.show()\n"
   ]
  },
  {
   "cell_type": "code",
   "execution_count": null,
   "metadata": {},
   "outputs": [],
   "source": [
    "path_dict = {}\n",
    "for category in people_main_categories.index:\n",
    "    category_path = [path for path in finished_path_people.four_last if path[-1]==category]\n",
    "    path_dict[category]= category_path"
   ]
  },
  {
   "cell_type": "code",
   "execution_count": null,
   "metadata": {},
   "outputs": [],
   "source": [
    "def get_dict_from_list(path_list):\n",
    "\n",
    "    N0 = pd.DataFrame({'category':[path[-1] for path in path_list if len(path)>0]}).value_counts().to_frame().reset_index()\n",
    "    N1 = pd.DataFrame({'category':[path[-2] for path in path_list if len(path)>1]}).value_counts().to_frame().reset_index()\n",
    "    N2 = pd.DataFrame({'category':[path[-3] for path in path_list if len(path)>2]}).value_counts().to_frame().reset_index()\n",
    "    N3 = pd.DataFrame({'category':[path[-4] for path in path_list if len(path)>3]}).value_counts().to_frame().reset_index()\n",
    "    long_paths = [path for path in path_list if len(path) > 0]\n",
    "\n",
    "    return {'list':path_list, 'long_path_list': long_paths, 'N0': N0, 'N1': N1, 'N2': N2, 'N3': N3}\n",
    "\n",
    "def update_dict_with_counts(path_dict):\n",
    "    new_path_dict = {}\n",
    "    for cat in path_dict.keys():\n",
    "        new_path_dict[cat] = get_dict_from_list(path_dict[cat])\n",
    "    return new_path_dict\n",
    "\n",
    "new_path_dict = update_dict_with_counts(path_dict)\n",
    "\n"
   ]
  },
  {
   "cell_type": "code",
   "execution_count": null,
   "metadata": {},
   "outputs": [],
   "source": [
    "# color_dict = {'Science':'#48b059', 'Geography':'#3d8039', 'People':'#b44624','History':'#ff8544','Everyday_life':'#e25d90', 'Design_and_Technology':'#8b1e9c','Countries':'#a7d145','Citizenship':'#fced3e', 'Language_and_literature':'#6bc6ff', 'Religion':'#1d59a8', 'Music':'#ffa7dc', 'Business_Studies':'#ffec6f','IT':'#008756','Mathematics':'#6bffce','Art':'#e0025e'}\n",
    "\n",
    "fig,axes = plt.subplots(8,2, figsize=(50,100))\n",
    "axes = axes.flatten()\n",
    "\n",
    "i=0\n",
    "for cat in path_dict.keys():\n",
    "    line_width = 50/len(path_dict[cat])\n",
    "    for path in path_dict[cat]:\n",
    "        x_path = np.arange(start = 4 - len(path), stop = 4, step = 1)\n",
    "        axes[i].plot(x_path, path, alpha = line_width)\n",
    "    axes[i].set_title(cat, size = 20)\n",
    "    axes[i].set_xticks(np.arange(4), ['N-3', 'N-2', 'N-1', 'N'])\n",
    "    axes[i].tick_params(labelsize = 18)\n",
    "    i+=1\n",
    "plt.tight_layout()\n",
    "plt.show()"
   ]
  },
  {
   "cell_type": "code",
   "execution_count": null,
   "metadata": {},
   "outputs": [],
   "source": [
    "plt.plot(finished_path_people['3_last'])"
   ]
  },
  {
   "cell_type": "code",
   "execution_count": null,
   "metadata": {},
   "outputs": [],
   "source": [
    "path_dict.keys()"
   ]
  },
  {
   "cell_type": "code",
   "execution_count": null,
   "metadata": {},
   "outputs": [],
   "source": [
    "color_dict = {'Historical_figures':'#48b059', 'Writers_and_critics':'#3d8039', 'Political_People':'#b44624','Sports_and_games_people':'#ff8544','Performers_and_composers':'#e25d90', 'Monarchs_of_Great_Britain':'#8b1e9c','Religious_figures_and_leaders':'#a7d145','USA_Presidents':'#fced3e', 'Artists':'#6bc6ff', 'Engineers_and_inventors':'#1d59a8', 'Actors_models_and_celebrities':'#ffa7dc', 'Human_Scientists':'#ffec6f','Military_People':'#008756','Mathematics':'#6bffce','Art':'#e0025e'}\n",
    "\n",
    "fig,axes = plt.subplots(8,2, figsize=(50,100))\n",
    "axes = axes.flatten()\n",
    "\n",
    "i=0\n",
    "for cat in path_dict.keys():\n",
    "    line_width = 50/len(path_dict[cat])\n",
    "    for path in path_dict[cat]:\n",
    "        x_path = np.arange(start = 4 - len(path), stop = 4, step = 1)\n",
    "        axes[i].plot(x_path, path,  alpha = line_width)\n",
    "    axes[i].set_title(cat, size = 20)\n",
    "    axes[i].set_xticks(np.arange(4), ['N-3', 'N-2', 'N-1', 'N'])\n",
    "    axes[i].tick_params(labelsize = 18)\n",
    "    i+=1\n",
    "plt.tight_layout()\n",
    "plt.show()"
   ]
  },
  {
   "cell_type": "code",
   "execution_count": null,
   "metadata": {},
   "outputs": [],
   "source": []
  }
 ],
 "metadata": {
  "kernelspec": {
   "display_name": "ada",
   "language": "python",
   "name": "python3"
  },
  "language_info": {
   "codemirror_mode": {
    "name": "ipython",
    "version": 3
   },
   "file_extension": ".py",
   "mimetype": "text/x-python",
   "name": "python",
   "nbconvert_exporter": "python",
   "pygments_lexer": "ipython3",
   "version": "3.10.0"
  }
 },
 "nbformat": 4,
 "nbformat_minor": 2
}
