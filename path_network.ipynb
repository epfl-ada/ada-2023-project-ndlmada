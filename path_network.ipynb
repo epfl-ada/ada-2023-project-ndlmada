{
 "cells": [
  {
   "cell_type": "markdown",
   "metadata": {},
   "source": [
    "# Import"
   ]
  },
  {
   "cell_type": "code",
   "execution_count": 7,
   "metadata": {},
   "outputs": [],
   "source": [
    "from helpers import *\n",
    "import pandas as pd\n",
    "import networkx as nx\n",
    "import matplotlib.pyplot as plt\n",
    "import csv\n",
    "from urllib.parse import unquote"
   ]
  },
  {
   "cell_type": "markdown",
   "metadata": {},
   "source": [
    "# Downloading the data"
   ]
  },
  {
   "cell_type": "code",
   "execution_count": 8,
   "metadata": {},
   "outputs": [],
   "source": [
    "dfs = preprocessing()"
   ]
  },
  {
   "cell_type": "code",
   "execution_count": 9,
   "metadata": {},
   "outputs": [],
   "source": [
    "# Function to split the list based on '.' prefix\n",
    "def split_list_on_prefix(row):\n",
    "    list_ = []\n",
    "    row_ = []\n",
    "    for word in row:\n",
    "        if word.startswith('.'):\n",
    "            row_.append(list_)\n",
    "            list_ = [word[1:]]\n",
    "        else:\n",
    "            list_.append(word)  \n",
    "    row_.append(list_)\n",
    "    return row_"
   ]
  },
  {
   "cell_type": "code",
   "execution_count": 6,
   "metadata": {},
   "outputs": [
    {
     "name": "stdout",
     "output_type": "stream",
     "text": [
      "689 454\n"
     ]
    },
    {
     "data": {
      "text/plain": [
       "0              John_F._Kennedy\n",
       "2       Elizabeth_I_of_England\n",
       "7          Henry_David_Thoreau\n",
       "8           Buckminster_Fuller\n",
       "9          James_II_of_England\n",
       "                 ...          \n",
       "4254            Witold_Pilecki\n",
       "4296            Donald_Bradman\n",
       "4686              Sandy_Koufax\n",
       "4738            Hannibal_Barca\n",
       "5011               Franz_Kafka\n",
       "Name: target, Length: 454, dtype: object"
      ]
     },
     "metadata": {},
     "output_type": "display_data"
    }
   ],
   "source": [
    "# Create a list with all the peopls name\n",
    "list_people = dfs['categories'].copy()[dfs['categories']['category'].str.contains('subject.People.')].article\n",
    "\n",
    "# Look for all the finished path that target a people from the above list\n",
    "path_target_people = pd.DataFrame(dfs['paths_finished'].path.copy().str.split(';'))\n",
    "path_target_people['target'] = path_target_people.path.apply(lambda x: x[-1])\n",
    "path_target_people = path_target_people[path_target_people.target.isin(list_people)]\n",
    "\n",
    "#Remove all the path of length 1 (directly on the correct page)\n",
    "path_target_people = path_target_people[path_target_people['path'].apply(lambda x: len(x) >= 2)]\n",
    "\n",
    "# Separate the case of returns into list of list\n",
    "path_target_people.path = [split_list_on_prefix(r) for r in path_target_people.path]\n",
    "\n",
    "# Count the occurence of each name in target\n",
    "target_distribution = path_target_people.target.value_counts()\n",
    "path_target_people = path_target_people.merge(target_distribution, on = 'target', how = 'left')\n",
    "path_target_people\n",
    "\n",
    "target_people_list = path_target_people.target.drop_duplicates()\n",
    "print(len(list_people), len(target_people_list))\n",
    "display(target_people_list)"
   ]
  },
  {
   "cell_type": "markdown",
   "metadata": {},
   "source": [
    "### Not all the people articles are targeted in the game (454 target are people out of the 689 possible names)"
   ]
  },
  {
   "cell_type": "code",
   "execution_count": 10,
   "metadata": {},
   "outputs": [
    {
     "name": "stdout",
     "output_type": "stream",
     "text": [
      "Martina_Navratilova\n"
     ]
    },
    {
     "ename": "ImportError",
     "evalue": "requires pygraphviz http://pygraphviz.github.io/",
     "output_type": "error",
     "traceback": [
      "\u001b[0;31m---------------------------------------------------------------------------\u001b[0m",
      "\u001b[0;31mModuleNotFoundError\u001b[0m                       Traceback (most recent call last)",
      "File \u001b[0;32m~/opt/anaconda3/envs/ada/lib/python3.9/site-packages/networkx/drawing/nx_agraph.py:295\u001b[0m, in \u001b[0;36mpygraphviz_layout\u001b[0;34m(G, prog, root, args)\u001b[0m\n\u001b[1;32m    294\u001b[0m \u001b[39mtry\u001b[39;00m:\n\u001b[0;32m--> 295\u001b[0m     \u001b[39mimport\u001b[39;00m \u001b[39mpygraphviz\u001b[39;00m\n\u001b[1;32m    296\u001b[0m \u001b[39mexcept\u001b[39;00m \u001b[39mImportError\u001b[39;00m \u001b[39mas\u001b[39;00m err:\n",
      "\u001b[0;31mModuleNotFoundError\u001b[0m: No module named 'pygraphviz'",
      "\nThe above exception was the direct cause of the following exception:\n",
      "\u001b[0;31mImportError\u001b[0m                               Traceback (most recent call last)",
      "\u001b[1;32m/Users/juliekorber/Desktop/kDrive/Ma3 2023/Ada/ada-2023-project-ndlmada/path_network.ipynb Cell 8\u001b[0m line \u001b[0;36m5\n\u001b[1;32m     <a href='vscode-notebook-cell:/Users/juliekorber/Desktop/kDrive/Ma3%202023/Ada/ada-2023-project-ndlmada/path_network.ipynb#X22sZmlsZQ%3D%3D?line=49'>50</a>\u001b[0m             graph\u001b[39m.\u001b[39madd_node(cur_nod)\n\u001b[1;32m     <a href='vscode-notebook-cell:/Users/juliekorber/Desktop/kDrive/Ma3%202023/Ada/ada-2023-project-ndlmada/path_network.ipynb#X22sZmlsZQ%3D%3D?line=52'>53</a>\u001b[0m plt\u001b[39m.\u001b[39mfigure(figsize\u001b[39m=\u001b[39m(\u001b[39m8\u001b[39m, \u001b[39m4\u001b[39m))\n\u001b[0;32m---> <a href='vscode-notebook-cell:/Users/juliekorber/Desktop/kDrive/Ma3%202023/Ada/ada-2023-project-ndlmada/path_network.ipynb#X22sZmlsZQ%3D%3D?line=53'>54</a>\u001b[0m pos \u001b[39m=\u001b[39m nx\u001b[39m.\u001b[39;49mnx_agraph\u001b[39m.\u001b[39;49mgraphviz_layout(G \u001b[39m=\u001b[39;49m graph\u001b[39m.\u001b[39;49msubgraph(\u001b[39mset\u001b[39;49m(graph) \u001b[39m-\u001b[39;49m {target_article}), prog\u001b[39m=\u001b[39;49m\u001b[39m\"\u001b[39;49m\u001b[39mtwopi\u001b[39;49m\u001b[39m\"\u001b[39;49m, root\u001b[39m=\u001b[39;49m\u001b[39m0\u001b[39;49m)\n\u001b[1;32m     <a href='vscode-notebook-cell:/Users/juliekorber/Desktop/kDrive/Ma3%202023/Ada/ada-2023-project-ndlmada/path_network.ipynb#X22sZmlsZQ%3D%3D?line=54'>55</a>\u001b[0m pos[target_article] \u001b[39m=\u001b[39m np\u001b[39m.\u001b[39marray([\u001b[39m0\u001b[39m, \u001b[39m0\u001b[39m])\n\u001b[1;32m     <a href='vscode-notebook-cell:/Users/juliekorber/Desktop/kDrive/Ma3%202023/Ada/ada-2023-project-ndlmada/path_network.ipynb#X22sZmlsZQ%3D%3D?line=56'>57</a>\u001b[0m \u001b[39m#node size\u001b[39;00m\n",
      "File \u001b[0;32m~/opt/anaconda3/envs/ada/lib/python3.9/site-packages/networkx/drawing/nx_agraph.py:251\u001b[0m, in \u001b[0;36mgraphviz_layout\u001b[0;34m(G, prog, root, args)\u001b[0m\n\u001b[1;32m    220\u001b[0m \u001b[39mdef\u001b[39;00m \u001b[39mgraphviz_layout\u001b[39m(G, prog\u001b[39m=\u001b[39m\u001b[39m\"\u001b[39m\u001b[39mneato\u001b[39m\u001b[39m\"\u001b[39m, root\u001b[39m=\u001b[39m\u001b[39mNone\u001b[39;00m, args\u001b[39m=\u001b[39m\u001b[39m\"\u001b[39m\u001b[39m\"\u001b[39m):\n\u001b[1;32m    221\u001b[0m \u001b[39m    \u001b[39m\u001b[39m\"\"\"Create node positions for G using Graphviz.\u001b[39;00m\n\u001b[1;32m    222\u001b[0m \n\u001b[1;32m    223\u001b[0m \u001b[39m    Parameters\u001b[39;00m\n\u001b[0;32m   (...)\u001b[0m\n\u001b[1;32m    249\u001b[0m \u001b[39m    see https://gitlab.com/graphviz/graphviz/-/issues/1767 for more info.\u001b[39;00m\n\u001b[1;32m    250\u001b[0m \u001b[39m    \"\"\"\u001b[39;00m\n\u001b[0;32m--> 251\u001b[0m     \u001b[39mreturn\u001b[39;00m pygraphviz_layout(G, prog\u001b[39m=\u001b[39;49mprog, root\u001b[39m=\u001b[39;49mroot, args\u001b[39m=\u001b[39;49margs)\n",
      "File \u001b[0;32m~/opt/anaconda3/envs/ada/lib/python3.9/site-packages/networkx/drawing/nx_agraph.py:297\u001b[0m, in \u001b[0;36mpygraphviz_layout\u001b[0;34m(G, prog, root, args)\u001b[0m\n\u001b[1;32m    295\u001b[0m     \u001b[39mimport\u001b[39;00m \u001b[39mpygraphviz\u001b[39;00m\n\u001b[1;32m    296\u001b[0m \u001b[39mexcept\u001b[39;00m \u001b[39mImportError\u001b[39;00m \u001b[39mas\u001b[39;00m err:\n\u001b[0;32m--> 297\u001b[0m     \u001b[39mraise\u001b[39;00m \u001b[39mImportError\u001b[39;00m(\n\u001b[1;32m    298\u001b[0m         \u001b[39m\"\u001b[39m\u001b[39mrequires pygraphviz \u001b[39m\u001b[39m\"\u001b[39m \u001b[39m\"\u001b[39m\u001b[39mhttp://pygraphviz.github.io/\u001b[39m\u001b[39m\"\u001b[39m\n\u001b[1;32m    299\u001b[0m     ) \u001b[39mfrom\u001b[39;00m \u001b[39merr\u001b[39;00m\n\u001b[1;32m    300\u001b[0m \u001b[39mif\u001b[39;00m root \u001b[39mis\u001b[39;00m \u001b[39mnot\u001b[39;00m \u001b[39mNone\u001b[39;00m:\n\u001b[1;32m    301\u001b[0m     args \u001b[39m+\u001b[39m\u001b[39m=\u001b[39m \u001b[39mf\u001b[39m\u001b[39m\"\u001b[39m\u001b[39m-Groot=\u001b[39m\u001b[39m{\u001b[39;00mroot\u001b[39m}\u001b[39;00m\u001b[39m\"\u001b[39m\n",
      "\u001b[0;31mImportError\u001b[0m: requires pygraphviz http://pygraphviz.github.io/"
     ]
    },
    {
     "data": {
      "text/plain": [
       "<Figure size 800x400 with 0 Axes>"
      ]
     },
     "metadata": {},
     "output_type": "display_data"
    }
   ],
   "source": [
    "import matplotlib._color_data as mcd\n",
    "\n",
    "def get_cat(Node):\n",
    "    try:\n",
    "        return result_dict[Node][\"main_subject\"]\n",
    "    except KeyError as e:\n",
    "        return np.nan\n",
    "\n",
    "def get_color(Node):\n",
    "    try:\n",
    "        return map_cat_to_color[result_dict[Node][\"main_subject\"]]\n",
    "    except KeyError as e:\n",
    "        return \"#FFFFFF\"\n",
    "\n",
    "\n",
    "all_cat = ['Science', 'Geography', 'People', 'History', 'Everyday_life', 'Citizenship', 'Design_and_Technology', 'Countries', 'Language_and_literature', 'Religion', 'Music', 'IT', 'Business_Studies', 'Mathematics', 'Art', None]\n",
    "colors = list(mcd.XKCD_COLORS.values())[::7]\n",
    "map_cat_to_color = {}\n",
    "for i in range(len(all_cat)):\n",
    "    map_cat_to_color[all_cat[i]] = colors[i]\n",
    "\n",
    "j = 0\n",
    "source_list = []\n",
    "\n",
    "for people in target_people_list.iloc[7:17]:\n",
    "    graph = nx.MultiDiGraph()\n",
    "    target_article = people\n",
    "    print(target_article)\n",
    "    source_list = []\n",
    "\n",
    "    #Find all the path that this target have\n",
    "    for i, path in path_target_people[path_target_people.target == people].iterrows():\n",
    "        # Need to add the path of each nodes\n",
    "        path_target = path.path\n",
    "        # Handle return case\n",
    "        for j in range(len(path_target)):\n",
    " \n",
    "            #Iterate to each words of the (partial) list\n",
    "            partial_path = path_target[j]\n",
    "            for k in range(len(partial_path)-1):\n",
    "                target = partial_path[k+1]\n",
    "                if target != target_article:\n",
    "    \n",
    "                    target = target\n",
    "                # Add edges to the graph\n",
    "                cur_nod = partial_path[k]\n",
    "                if k == 0: \n",
    "                    source_list.append(cur_nod)\n",
    "                graph.add_edge(cur_nod, target)\n",
    "                graph.add_node(cur_nod)\n",
    "\n",
    "\n",
    "    plt.figure(figsize=(8, 4))\n",
    "    pos = nx.nx_agraph.graphviz_layout(G = graph.subgraph(set(graph) - {target_article}), prog=\"twopi\", root=0)\n",
    "    pos[target_article] = np.array([0, 0])\n",
    "\n",
    "    #node size\n",
    "    nd = 100\n",
    "    color_noded = 'skyblue'\n",
    "    node_names = list(graph.nodes())\n",
    "\n",
    "    node_colors = [get_color(node) for node in node_names]\n",
    "    color_of_target = get_color(target_article)\n",
    "    color_of_source = [get_color(node) for node in source_list]\n",
    "    print(color_of_source)\n",
    "\n",
    "    color_edge_target = 'red'\n",
    "    color_edge_source = 'green'\n",
    "    #nx.flow_hierarchy(graph)\n",
    "    nx.draw(graph, pos, with_labels=False, node_size=nd, node_color= node_colors, nodelist=node_names,  font_size=5, font_color='black', font_weight='bold', arrowsize=8, alpha = 0.2)\n",
    "    nx.draw_networkx_nodes(graph, pos, nodelist=[target_article], node_color= color_of_target,  edgecolors = color_edge_target, node_size=nd, linewidths=2)\n",
    "    nx.draw_networkx_nodes(graph, pos, nodelist=source_list, node_color= color_of_source, edgecolors=color_edge_source, node_size=nd, linewidths=2, alpha = 0.5)\n",
    "    \n",
    "    # Create a custom legend using the color map\n",
    "    legend_labels = [f'{cat}' for cat in all_cat]  # Unicode character for a filled circle\n",
    "    legend_colors = [map_cat_to_color[cat] for cat in all_cat]\n",
    "    legend_markers = [plt.Line2D([0], [0], marker='o', color='w', markerfacecolor=color, markersize=10) for color in legend_colors]\n",
    "    plt.legend(legend_markers, legend_labels, loc='upper left', bbox_to_anchor=(1, 1))\n",
    "\n",
    "    plt.show()\n"
   ]
  },
  {
   "cell_type": "markdown",
   "metadata": {},
   "source": [
    "# Repartition of last linkage"
   ]
  },
  {
   "cell_type": "markdown",
   "metadata": {},
   "source": [
    "Dans mes plots on prends pas en compte le count des paths dans l'épaisseur des edge, ça pourrait être qch à étudier"
   ]
  },
  {
   "cell_type": "code",
   "execution_count": 13,
   "metadata": {},
   "outputs": [
    {
     "data": {
      "text/html": [
       "<div>\n",
       "<style scoped>\n",
       "    .dataframe tbody tr th:only-of-type {\n",
       "        vertical-align: middle;\n",
       "    }\n",
       "\n",
       "    .dataframe tbody tr th {\n",
       "        vertical-align: top;\n",
       "    }\n",
       "\n",
       "    .dataframe thead th {\n",
       "        text-align: right;\n",
       "    }\n",
       "</style>\n",
       "<table border=\"1\" class=\"dataframe\">\n",
       "  <thead>\n",
       "    <tr style=\"text-align: right;\">\n",
       "      <th></th>\n",
       "      <th>target</th>\n",
       "      <th>last_before_target</th>\n",
       "      <th>count_duplicates</th>\n",
       "      <th>repartition_perc</th>\n",
       "      <th>category_last</th>\n",
       "      <th>count_by_categories</th>\n",
       "    </tr>\n",
       "  </thead>\n",
       "  <tbody>\n",
       "    <tr>\n",
       "      <th>0</th>\n",
       "      <td>John_F._Kennedy</td>\n",
       "      <td>President_of_the_United_States</td>\n",
       "      <td>12</td>\n",
       "      <td>54.545455</td>\n",
       "      <td>non_people</td>\n",
       "      <td>21</td>\n",
       "    </tr>\n",
       "    <tr>\n",
       "      <th>1</th>\n",
       "      <td>Elizabeth_I_of_England</td>\n",
       "      <td>Francis_Drake</td>\n",
       "      <td>1</td>\n",
       "      <td>5.000000</td>\n",
       "      <td>people</td>\n",
       "      <td>8</td>\n",
       "    </tr>\n",
       "    <tr>\n",
       "      <th>2</th>\n",
       "      <td>Elizabeth_I_of_England</td>\n",
       "      <td>James_I_of_England</td>\n",
       "      <td>1</td>\n",
       "      <td>5.000000</td>\n",
       "      <td>people</td>\n",
       "      <td>8</td>\n",
       "    </tr>\n",
       "    <tr>\n",
       "      <th>3</th>\n",
       "      <td>Elizabeth_I_of_England</td>\n",
       "      <td>Henry_VIII_of_England</td>\n",
       "      <td>5</td>\n",
       "      <td>25.000000</td>\n",
       "      <td>people</td>\n",
       "      <td>8</td>\n",
       "    </tr>\n",
       "    <tr>\n",
       "      <th>4</th>\n",
       "      <td>Elizabeth_I_of_England</td>\n",
       "      <td>Windsor_Castle</td>\n",
       "      <td>1</td>\n",
       "      <td>5.000000</td>\n",
       "      <td>non_people</td>\n",
       "      <td>12</td>\n",
       "    </tr>\n",
       "    <tr>\n",
       "      <th>...</th>\n",
       "      <td>...</td>\n",
       "      <td>...</td>\n",
       "      <td>...</td>\n",
       "      <td>...</td>\n",
       "      <td>...</td>\n",
       "      <td>...</td>\n",
       "    </tr>\n",
       "    <tr>\n",
       "      <th>1459</th>\n",
       "      <td>Felix_Mendelssohn</td>\n",
       "      <td>Romanticism</td>\n",
       "      <td>1</td>\n",
       "      <td>25.000000</td>\n",
       "      <td>non_people</td>\n",
       "      <td>4</td>\n",
       "    </tr>\n",
       "    <tr>\n",
       "      <th>1460</th>\n",
       "      <td>Zoroaster</td>\n",
       "      <td>Persian_Empire</td>\n",
       "      <td>1</td>\n",
       "      <td>25.000000</td>\n",
       "      <td>non_people</td>\n",
       "      <td>4</td>\n",
       "    </tr>\n",
       "    <tr>\n",
       "      <th>1461</th>\n",
       "      <td>Christopher_Columbus</td>\n",
       "      <td>15th_century</td>\n",
       "      <td>1</td>\n",
       "      <td>6.666667</td>\n",
       "      <td>non_people</td>\n",
       "      <td>15</td>\n",
       "    </tr>\n",
       "    <tr>\n",
       "      <th>1462</th>\n",
       "      <td>Robert_Oppenheimer</td>\n",
       "      <td>Richard_Feynman</td>\n",
       "      <td>1</td>\n",
       "      <td>20.000000</td>\n",
       "      <td>people</td>\n",
       "      <td>2</td>\n",
       "    </tr>\n",
       "    <tr>\n",
       "      <th>1463</th>\n",
       "      <td>Henry_IV_of_England</td>\n",
       "      <td>Henry_VI_of_England</td>\n",
       "      <td>1</td>\n",
       "      <td>4.761905</td>\n",
       "      <td>people</td>\n",
       "      <td>15</td>\n",
       "    </tr>\n",
       "  </tbody>\n",
       "</table>\n",
       "<p>1464 rows × 6 columns</p>\n",
       "</div>"
      ],
      "text/plain": [
       "                      target              last_before_target  \\\n",
       "0            John_F._Kennedy  President_of_the_United_States   \n",
       "1     Elizabeth_I_of_England                   Francis_Drake   \n",
       "2     Elizabeth_I_of_England              James_I_of_England   \n",
       "3     Elizabeth_I_of_England           Henry_VIII_of_England   \n",
       "4     Elizabeth_I_of_England                  Windsor_Castle   \n",
       "...                      ...                             ...   \n",
       "1459       Felix_Mendelssohn                     Romanticism   \n",
       "1460               Zoroaster                  Persian_Empire   \n",
       "1461    Christopher_Columbus                    15th_century   \n",
       "1462      Robert_Oppenheimer                 Richard_Feynman   \n",
       "1463     Henry_IV_of_England             Henry_VI_of_England   \n",
       "\n",
       "      count_duplicates  repartition_perc category_last  count_by_categories  \n",
       "0                   12         54.545455    non_people                   21  \n",
       "1                    1          5.000000        people                    8  \n",
       "2                    1          5.000000        people                    8  \n",
       "3                    5         25.000000        people                    8  \n",
       "4                    1          5.000000    non_people                   12  \n",
       "...                ...               ...           ...                  ...  \n",
       "1459                 1         25.000000    non_people                    4  \n",
       "1460                 1         25.000000    non_people                    4  \n",
       "1461                 1          6.666667    non_people                   15  \n",
       "1462                 1         20.000000        people                    2  \n",
       "1463                 1          4.761905        people                   15  \n",
       "\n",
       "[1464 rows x 6 columns]"
      ]
     },
     "metadata": {},
     "output_type": "display_data"
    }
   ],
   "source": [
    "\n",
    "# Add the name of the last article before reaching the target in the path \n",
    "path_target_people['last_before_target'] = 'None'\n",
    "for i, row in path_target_people.iterrows():\n",
    "    if len(row.path[-1]) <2:\n",
    "        print(row.path[-1])\n",
    "        print(i)\n",
    "    path_target_people.loc[i, 'last_before_target'] = row.path[-1][-2]\n",
    "path_target_people\n",
    "\n",
    "# Count duplicates of the target, last_before_target pairs \n",
    "last_link = path_target_people.loc[:,['target', 'last_before_target']]\n",
    "last_link['count_duplicates'] = last_link.groupby(['target', 'last_before_target'])['last_before_target'].transform('count')\n",
    "last_link.drop_duplicates(subset=['target', 'last_before_target'], inplace=True)\n",
    "\n",
    "# Add the percentage that the name of the last article before reaching the target represent\n",
    "last_link['repartition_perc'] = 1000.0\n",
    "for people in last_link.target.unique():\n",
    "    l = last_link[last_link.target == people].count_duplicates\n",
    "    last_link.loc[last_link.target == people, 'repartition_perc'] = last_link.loc[last_link.target == people, 'count_duplicates']/last_link[last_link.target == people].count_duplicates.sum()*100\n",
    "\n",
    "# Add the general count of value according to the category of the last article before reaching the target\n",
    "last_link['category_last'] = [ ('people' if last in list_people.values else 'non_people') for last in last_link.last_before_target ]\n",
    "target_cat_last = last_link.groupby(['target', 'category_last'])['count_duplicates'].sum().reset_index()\n",
    "target_cat_last.rename(columns={'count_duplicates': 'count_by_categories'}, inplace = True)\n",
    "last_link = last_link.merge(target_cat_last, on = ['target', 'category_last'], how = 'left')\n",
    "\n",
    "display(last_link)"
   ]
  },
  {
   "cell_type": "code",
   "execution_count": 14,
   "metadata": {},
   "outputs": [
    {
     "data": {
      "text/html": [
       "<div>\n",
       "<style scoped>\n",
       "    .dataframe tbody tr th:only-of-type {\n",
       "        vertical-align: middle;\n",
       "    }\n",
       "\n",
       "    .dataframe tbody tr th {\n",
       "        vertical-align: top;\n",
       "    }\n",
       "\n",
       "    .dataframe thead th {\n",
       "        text-align: right;\n",
       "    }\n",
       "</style>\n",
       "<table border=\"1\" class=\"dataframe\">\n",
       "  <thead>\n",
       "    <tr style=\"text-align: right;\">\n",
       "      <th></th>\n",
       "      <th>target</th>\n",
       "      <th>last_before_target</th>\n",
       "      <th>count_duplicates</th>\n",
       "      <th>repartition_perc</th>\n",
       "      <th>category_last</th>\n",
       "      <th>count_by_categories</th>\n",
       "    </tr>\n",
       "  </thead>\n",
       "  <tbody>\n",
       "    <tr>\n",
       "      <th>825</th>\n",
       "      <td>Robert_Oppenheimer</td>\n",
       "      <td>History_of_nuclear_weapons</td>\n",
       "      <td>3</td>\n",
       "      <td>60.0</td>\n",
       "      <td>non_people</td>\n",
       "      <td>3</td>\n",
       "    </tr>\n",
       "    <tr>\n",
       "      <th>1214</th>\n",
       "      <td>Robert_Oppenheimer</td>\n",
       "      <td>Linus_Pauling</td>\n",
       "      <td>1</td>\n",
       "      <td>20.0</td>\n",
       "      <td>people</td>\n",
       "      <td>2</td>\n",
       "    </tr>\n",
       "    <tr>\n",
       "      <th>1462</th>\n",
       "      <td>Robert_Oppenheimer</td>\n",
       "      <td>Richard_Feynman</td>\n",
       "      <td>1</td>\n",
       "      <td>20.0</td>\n",
       "      <td>people</td>\n",
       "      <td>2</td>\n",
       "    </tr>\n",
       "  </tbody>\n",
       "</table>\n",
       "</div>"
      ],
      "text/plain": [
       "                  target          last_before_target  count_duplicates  \\\n",
       "825   Robert_Oppenheimer  History_of_nuclear_weapons                 3   \n",
       "1214  Robert_Oppenheimer               Linus_Pauling                 1   \n",
       "1462  Robert_Oppenheimer             Richard_Feynman                 1   \n",
       "\n",
       "      repartition_perc category_last  count_by_categories  \n",
       "825               60.0    non_people                    3  \n",
       "1214              20.0        people                    2  \n",
       "1462              20.0        people                    2  "
      ]
     },
     "execution_count": 14,
     "metadata": {},
     "output_type": "execute_result"
    }
   ],
   "source": [
    "last_link[last_link.target == 'Robert_Oppenheimer']"
   ]
  },
  {
   "cell_type": "code",
   "execution_count": 15,
   "metadata": {},
   "outputs": [],
   "source": [
    "last_people = last_link.loc[last_link.category_last == 'people',]\n",
    "last_not_people = last_link.loc[last_link.category_last == 'non_people',]"
   ]
  },
  {
   "cell_type": "code",
   "execution_count": 16,
   "metadata": {},
   "outputs": [
    {
     "name": "stdout",
     "output_type": "stream",
     "text": [
      "5129 781\n",
      "1128 336\n"
     ]
    }
   ],
   "source": [
    "print(last_not_people.count_duplicates.sum(), last_people.count_duplicates.sum())\n",
    "print(len(last_not_people.count_duplicates), len(last_people.count_duplicates))"
   ]
  }
 ],
 "metadata": {
  "kernelspec": {
   "display_name": "ada",
   "language": "python",
   "name": "python3"
  },
  "language_info": {
   "codemirror_mode": {
    "name": "ipython",
    "version": 3
   },
   "file_extension": ".py",
   "mimetype": "text/x-python",
   "name": "python",
   "nbconvert_exporter": "python",
   "pygments_lexer": "ipython3",
   "version": "3.9.18"
  }
 },
 "nbformat": 4,
 "nbformat_minor": 2
}
