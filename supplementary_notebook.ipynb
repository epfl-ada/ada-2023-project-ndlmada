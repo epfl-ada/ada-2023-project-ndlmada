{
 "cells": [
  {
   "cell_type": "markdown",
   "metadata": {},
   "source": [
    "# Imports"
   ]
  },
  {
   "cell_type": "code",
   "execution_count": 5,
   "metadata": {},
   "outputs": [],
   "source": [
    "from helpers import *\n",
    "import os\n",
    "import pandas as pd\n",
    "import numpy as np\n",
    "import plotly.express as px\n",
    "import seaborn as sns\n",
    "\n",
    "from bs4 import BeautifulSoup # To Extract all the URLs from the HTML page"
   ]
  },
  {
   "cell_type": "markdown",
   "metadata": {},
   "source": [
    "## NDLM'ADA - Look up ! Stars and how we them\n",
    "#### *Timo Achard, Romane Clerc, Louise Font, Julie Korber, Emeric Martin*\n",
    "Supplementary notebook containing additional data exploration and analysis not usefull for the main pipeline of our project. "
   ]
  },
  {
   "cell_type": "markdown",
   "metadata": {},
   "source": [
    "# Table of contents\n",
    "* [Downloading the data](#section0)\n",
    "* [Position of the links in each article pages](#section1)\n",
    "    * [Extraction of the links position](#subsection_1_1)\n",
    "    * [Distribution of the links by their position categories](#subsection_1_2)\n",
    "    * [Linkage with the frequence of visit](#subsection_1_3)\n",
    "* [](#section2)\n",
    "\n",
    "\n"
   ]
  },
  {
   "cell_type": "markdown",
   "metadata": {},
   "source": [
    "# 0. Downloading the data <a classe=\"anchor\" id=\"section0\"></a>"
   ]
  },
  {
   "cell_type": "code",
   "execution_count": 6,
   "metadata": {},
   "outputs": [],
   "source": [
    "dfs = preprocessing()"
   ]
  },
  {
   "cell_type": "markdown",
   "metadata": {},
   "source": [
    "# 1. Position of the links in each article pages <a classe=\"anchor\" id=\"section1\"></a>"
   ]
  },
  {
   "cell_type": "markdown",
   "metadata": {},
   "source": [
    "## 1.1 Extraction of the links position <a id=\"subsection_1_1\"></a>"
   ]
  },
  {
   "cell_type": "code",
   "execution_count": 8,
   "metadata": {},
   "outputs": [
    {
     "data": {
      "text/plain": [
       "5237"
      ]
     },
     "execution_count": 8,
     "metadata": {},
     "output_type": "execute_result"
    }
   ],
   "source": [
    "# List of paths to access the articles htm\n",
    "list_articles_paths = []\n",
    "\n",
    "# Iterate through all the htm files in all subfolders from the main folder wp \n",
    "for root, dirs, subfolders in os.walk('dataset/wpcd/wp/'):\n",
    "    for file in subfolders:\n",
    "        # Select only the htm files\n",
    "        if file.endswith('.htm'):\n",
    "            file_path = os.path.join(root, file)\n",
    "            # Store htm usefull for the game \n",
    "            if '/index/' not in file_path:\n",
    "                list_articles_paths.append(file_path)\n",
    "\n",
    "len(list_articles_paths)"
   ]
  },
  {
   "cell_type": "code",
   "execution_count": 9,
   "metadata": {},
   "outputs": [],
   "source": [
    "def classify_href(links, length_page, source_name):\n",
    "    \"\"\" It classifies each link from a provided list \n",
    "    parameters:\n",
    "        links: list of bs4.element.Tag\n",
    "        length_page: int, length of the article htm from which the links are from\n",
    "        source_name: str, name of the article from which the links are from \n",
    "    return:\n",
    "        dataFrame containing the name article with their link category and the number of occcurence in the list. \n",
    "     \"\"\"\n",
    "    categories = pd.DataFrame(columns=['source', 'target', 'category', 'line_position', 'relative_position'])\n",
    "\n",
    "    # Specification of the categories\n",
    "    block_level_elements = {'div',      # legend\n",
    "                             'p',       # text\n",
    "                            'table'}    # summary tables\n",
    "\n",
    "    # Go through each link on the page\n",
    "    for i, link in enumerate(links): \n",
    "        element = link\n",
    "\n",
    "        # Get the line position\n",
    "        line_position = link.sourceline \n",
    "\n",
    "        # Iterate until it find an element from the specified list (block_level_elements)\n",
    "        while element and element.name not in block_level_elements:\n",
    "            element = element.find_parent()\n",
    "\n",
    "        # Rename the categories\n",
    "        el_name = element.name\n",
    "        if el_name == 'div':\n",
    "            el_name = 'legend'\n",
    "        elif el_name == 'p':\n",
    "            el_name = 'text'\n",
    "\n",
    "        # Store a new row with the corresponding info \n",
    "        categories.loc[i] = (source_name, path_to_name(link.get('href')), el_name, line_position, np.round(line_position/length_page,3))\n",
    "\n",
    "    # Groupe the links with multiple occurrences, adjust their category if they belong to more than one, and sum their occurrences.\n",
    "    categories = categories.groupby(['source', 'target'])[['category', 'line_position', 'relative_position']].agg(list).reset_index()\n",
    "    categories['count'] = [len(l) for l in categories['category']] \n",
    "    categories['group'] = ['|'.join(sorted(np.unique(l))) for l in categories['category']] \n",
    "    categories = categories.sort_values(by = 'target')\n",
    "\n",
    "    return categories\n"
   ]
  },
  {
   "cell_type": "code",
   "execution_count": 10,
   "metadata": {},
   "outputs": [],
   "source": [
    "category_repartition = []\n",
    "articles_df = pd.DataFrame(columns=['source', 'target', 'category', 'line_position', 'relative_position'])\n",
    "\n",
    "#Iterate in each paths from the list of articles\n",
    "for path in list_articles_paths:\n",
    "    with open(path, 'r', encoding='utf-8', errors='replace') as file:\n",
    "        soup = BeautifulSoup(file, 'html.parser')\n",
    "\n",
    "    # Selection of the links\n",
    "    all_links = soup.find_all('a', href=True)\n",
    "    all_links = [link for link in all_links if '/images/' not in link.get('href') and \n",
    "                                                    'disclaimer.htm' not in link.get('href') and \n",
    "                                                    '/index/' not in link.get('href')and \n",
    "                                                    '.htm' in link.get('href')]\n",
    "                                                    \n",
    "    # Classification of the links\n",
    "    class_ = classify_href(all_links, len(soup.find_all()), path_to_name(path))\n",
    "    articles_df = pd.concat([articles_df, class_], axis = 0)\n",
    "\n",
    "    category_repartition.append(class_.groupby(['group']).sum('count').rename(columns={'count': path_to_name(path)}))\n",
    "\n",
    "# Calculation of the number of element in each categorise and their corresponding percentage \n",
    "category_repartition_df = pd.concat(category_repartition.copy(), axis = 1)\n",
    "category_repartition_df.fillna(0, inplace = True)\n",
    "\n",
    "repartition_summary = pd.DataFrame(columns = ['sum', 'percentage'])\n",
    "repartition_summary['sum'] = category_repartition_df.sum(axis = 1).astype(int)\n",
    "repartition_summary['percentage'] = np.round(repartition_summary['sum'].div(repartition_summary['sum'].sum()) * 100, 2)\n",
    "    "
   ]
  },
  {
   "cell_type": "code",
   "execution_count": 11,
   "metadata": {},
   "outputs": [
    {
     "name": "stdout",
     "output_type": "stream",
     "text": [
      "Categories repartition\n"
     ]
    },
    {
     "data": {
      "text/html": [
       "<div>\n",
       "<style scoped>\n",
       "    .dataframe tbody tr th:only-of-type {\n",
       "        vertical-align: middle;\n",
       "    }\n",
       "\n",
       "    .dataframe tbody tr th {\n",
       "        vertical-align: top;\n",
       "    }\n",
       "\n",
       "    .dataframe thead th {\n",
       "        text-align: right;\n",
       "    }\n",
       "</style>\n",
       "<table border=\"1\" class=\"dataframe\">\n",
       "  <thead>\n",
       "    <tr style=\"text-align: right;\">\n",
       "      <th></th>\n",
       "      <th>sum</th>\n",
       "      <th>percentage</th>\n",
       "    </tr>\n",
       "    <tr>\n",
       "      <th>group</th>\n",
       "      <th></th>\n",
       "      <th></th>\n",
       "    </tr>\n",
       "  </thead>\n",
       "  <tbody>\n",
       "    <tr>\n",
       "      <th>legend</th>\n",
       "      <td>21143</td>\n",
       "      <td>11.00</td>\n",
       "    </tr>\n",
       "    <tr>\n",
       "      <th>table</th>\n",
       "      <td>14033</td>\n",
       "      <td>7.30</td>\n",
       "    </tr>\n",
       "    <tr>\n",
       "      <th>table|text</th>\n",
       "      <td>19061</td>\n",
       "      <td>9.92</td>\n",
       "    </tr>\n",
       "    <tr>\n",
       "      <th>text</th>\n",
       "      <td>128974</td>\n",
       "      <td>67.09</td>\n",
       "    </tr>\n",
       "    <tr>\n",
       "      <th>legend|text</th>\n",
       "      <td>6485</td>\n",
       "      <td>3.37</td>\n",
       "    </tr>\n",
       "    <tr>\n",
       "      <th>legend|table|text</th>\n",
       "      <td>2312</td>\n",
       "      <td>1.20</td>\n",
       "    </tr>\n",
       "    <tr>\n",
       "      <th>legend|table</th>\n",
       "      <td>227</td>\n",
       "      <td>0.12</td>\n",
       "    </tr>\n",
       "  </tbody>\n",
       "</table>\n",
       "</div>"
      ],
      "text/plain": [
       "                      sum  percentage\n",
       "group                                \n",
       "legend              21143       11.00\n",
       "table               14033        7.30\n",
       "table|text          19061        9.92\n",
       "text               128974       67.09\n",
       "legend|text          6485        3.37\n",
       "legend|table|text    2312        1.20\n",
       "legend|table          227        0.12"
      ]
     },
     "metadata": {},
     "output_type": "display_data"
    },
    {
     "name": "stdout",
     "output_type": "stream",
     "text": [
      "\n",
      "Percentage of link being in multiple categories: 14.61%\n"
     ]
    }
   ],
   "source": [
    "print('Categories repartition')\n",
    "display(repartition_summary)\n",
    "print('\\nPercentage of link being in multiple categories: {:.2f}%'.format(repartition_summary.loc[repartition_summary.index.str.contains('\\|'),'percentage'].sum()))"
   ]
  },
  {
   "cell_type": "markdown",
   "metadata": {},
   "source": [
    "## 1.2 Distribution of the links by their position categories <a id=\"subsection_1_2\"></a>"
   ]
  },
  {
   "cell_type": "code",
   "execution_count": 12,
   "metadata": {},
   "outputs": [
    {
     "data": {
      "application/vnd.plotly.v1+json": {
       "config": {
        "plotlyServerURL": "https://plot.ly"
       },
       "data": [
        {
         "alignmentgroup": "True",
         "hovertemplate": "variable=legend<br>group=%{x}<br>value=%{y}<extra></extra>",
         "legendgroup": "legend",
         "marker": {
          "color": "#636efa",
          "pattern": {
           "shape": ""
          }
         },
         "name": "legend",
         "offsetgroup": "legend",
         "orientation": "v",
         "showlegend": true,
         "textposition": "auto",
         "type": "bar",
         "x": [
          "legend",
          "legend|table",
          "legend|table|text",
          "legend|text",
          "table",
          "table|text",
          "text"
         ],
         "xaxis": "x",
         "y": [
          21143,
          108,
          507,
          2454,
          0,
          0,
          0
         ],
         "yaxis": "y"
        },
        {
         "alignmentgroup": "True",
         "hovertemplate": "variable=table<br>group=%{x}<br>value=%{y}<extra></extra>",
         "legendgroup": "table",
         "marker": {
          "color": "#EF553B",
          "pattern": {
           "shape": ""
          }
         },
         "name": "table",
         "offsetgroup": "table",
         "orientation": "v",
         "showlegend": true,
         "textposition": "auto",
         "type": "bar",
         "x": [
          "legend",
          "legend|table",
          "legend|table|text",
          "legend|text",
          "table",
          "table|text",
          "text"
         ],
         "xaxis": "x",
         "y": [
          0,
          119,
          577,
          0,
          14033,
          7794,
          0
         ],
         "yaxis": "y"
        },
        {
         "alignmentgroup": "True",
         "hovertemplate": "variable=text<br>group=%{x}<br>value=%{y}<extra></extra>",
         "legendgroup": "text",
         "marker": {
          "color": "#00cc96",
          "pattern": {
           "shape": ""
          }
         },
         "name": "text",
         "offsetgroup": "text",
         "orientation": "v",
         "showlegend": true,
         "textposition": "auto",
         "type": "bar",
         "x": [
          "legend",
          "legend|table",
          "legend|table|text",
          "legend|text",
          "table",
          "table|text",
          "text"
         ],
         "xaxis": "x",
         "y": [
          0,
          0,
          1228,
          4031,
          0,
          11267,
          128974
         ],
         "yaxis": "y"
        }
       ],
       "layout": {
        "barmode": "stack",
        "legend": {
         "title": {
          "text": "variable"
         },
         "tracegroupgap": 0
        },
        "margin": {
         "t": 60
        },
        "template": {
         "data": {
          "bar": [
           {
            "error_x": {
             "color": "#2a3f5f"
            },
            "error_y": {
             "color": "#2a3f5f"
            },
            "marker": {
             "line": {
              "color": "#E5ECF6",
              "width": 0.5
             },
             "pattern": {
              "fillmode": "overlay",
              "size": 10,
              "solidity": 0.2
             }
            },
            "type": "bar"
           }
          ],
          "barpolar": [
           {
            "marker": {
             "line": {
              "color": "#E5ECF6",
              "width": 0.5
             },
             "pattern": {
              "fillmode": "overlay",
              "size": 10,
              "solidity": 0.2
             }
            },
            "type": "barpolar"
           }
          ],
          "carpet": [
           {
            "aaxis": {
             "endlinecolor": "#2a3f5f",
             "gridcolor": "white",
             "linecolor": "white",
             "minorgridcolor": "white",
             "startlinecolor": "#2a3f5f"
            },
            "baxis": {
             "endlinecolor": "#2a3f5f",
             "gridcolor": "white",
             "linecolor": "white",
             "minorgridcolor": "white",
             "startlinecolor": "#2a3f5f"
            },
            "type": "carpet"
           }
          ],
          "choropleth": [
           {
            "colorbar": {
             "outlinewidth": 0,
             "ticks": ""
            },
            "type": "choropleth"
           }
          ],
          "contour": [
           {
            "colorbar": {
             "outlinewidth": 0,
             "ticks": ""
            },
            "colorscale": [
             [
              0,
              "#0d0887"
             ],
             [
              0.1111111111111111,
              "#46039f"
             ],
             [
              0.2222222222222222,
              "#7201a8"
             ],
             [
              0.3333333333333333,
              "#9c179e"
             ],
             [
              0.4444444444444444,
              "#bd3786"
             ],
             [
              0.5555555555555556,
              "#d8576b"
             ],
             [
              0.6666666666666666,
              "#ed7953"
             ],
             [
              0.7777777777777778,
              "#fb9f3a"
             ],
             [
              0.8888888888888888,
              "#fdca26"
             ],
             [
              1,
              "#f0f921"
             ]
            ],
            "type": "contour"
           }
          ],
          "contourcarpet": [
           {
            "colorbar": {
             "outlinewidth": 0,
             "ticks": ""
            },
            "type": "contourcarpet"
           }
          ],
          "heatmap": [
           {
            "colorbar": {
             "outlinewidth": 0,
             "ticks": ""
            },
            "colorscale": [
             [
              0,
              "#0d0887"
             ],
             [
              0.1111111111111111,
              "#46039f"
             ],
             [
              0.2222222222222222,
              "#7201a8"
             ],
             [
              0.3333333333333333,
              "#9c179e"
             ],
             [
              0.4444444444444444,
              "#bd3786"
             ],
             [
              0.5555555555555556,
              "#d8576b"
             ],
             [
              0.6666666666666666,
              "#ed7953"
             ],
             [
              0.7777777777777778,
              "#fb9f3a"
             ],
             [
              0.8888888888888888,
              "#fdca26"
             ],
             [
              1,
              "#f0f921"
             ]
            ],
            "type": "heatmap"
           }
          ],
          "heatmapgl": [
           {
            "colorbar": {
             "outlinewidth": 0,
             "ticks": ""
            },
            "colorscale": [
             [
              0,
              "#0d0887"
             ],
             [
              0.1111111111111111,
              "#46039f"
             ],
             [
              0.2222222222222222,
              "#7201a8"
             ],
             [
              0.3333333333333333,
              "#9c179e"
             ],
             [
              0.4444444444444444,
              "#bd3786"
             ],
             [
              0.5555555555555556,
              "#d8576b"
             ],
             [
              0.6666666666666666,
              "#ed7953"
             ],
             [
              0.7777777777777778,
              "#fb9f3a"
             ],
             [
              0.8888888888888888,
              "#fdca26"
             ],
             [
              1,
              "#f0f921"
             ]
            ],
            "type": "heatmapgl"
           }
          ],
          "histogram": [
           {
            "marker": {
             "pattern": {
              "fillmode": "overlay",
              "size": 10,
              "solidity": 0.2
             }
            },
            "type": "histogram"
           }
          ],
          "histogram2d": [
           {
            "colorbar": {
             "outlinewidth": 0,
             "ticks": ""
            },
            "colorscale": [
             [
              0,
              "#0d0887"
             ],
             [
              0.1111111111111111,
              "#46039f"
             ],
             [
              0.2222222222222222,
              "#7201a8"
             ],
             [
              0.3333333333333333,
              "#9c179e"
             ],
             [
              0.4444444444444444,
              "#bd3786"
             ],
             [
              0.5555555555555556,
              "#d8576b"
             ],
             [
              0.6666666666666666,
              "#ed7953"
             ],
             [
              0.7777777777777778,
              "#fb9f3a"
             ],
             [
              0.8888888888888888,
              "#fdca26"
             ],
             [
              1,
              "#f0f921"
             ]
            ],
            "type": "histogram2d"
           }
          ],
          "histogram2dcontour": [
           {
            "colorbar": {
             "outlinewidth": 0,
             "ticks": ""
            },
            "colorscale": [
             [
              0,
              "#0d0887"
             ],
             [
              0.1111111111111111,
              "#46039f"
             ],
             [
              0.2222222222222222,
              "#7201a8"
             ],
             [
              0.3333333333333333,
              "#9c179e"
             ],
             [
              0.4444444444444444,
              "#bd3786"
             ],
             [
              0.5555555555555556,
              "#d8576b"
             ],
             [
              0.6666666666666666,
              "#ed7953"
             ],
             [
              0.7777777777777778,
              "#fb9f3a"
             ],
             [
              0.8888888888888888,
              "#fdca26"
             ],
             [
              1,
              "#f0f921"
             ]
            ],
            "type": "histogram2dcontour"
           }
          ],
          "mesh3d": [
           {
            "colorbar": {
             "outlinewidth": 0,
             "ticks": ""
            },
            "type": "mesh3d"
           }
          ],
          "parcoords": [
           {
            "line": {
             "colorbar": {
              "outlinewidth": 0,
              "ticks": ""
             }
            },
            "type": "parcoords"
           }
          ],
          "pie": [
           {
            "automargin": true,
            "type": "pie"
           }
          ],
          "scatter": [
           {
            "fillpattern": {
             "fillmode": "overlay",
             "size": 10,
             "solidity": 0.2
            },
            "type": "scatter"
           }
          ],
          "scatter3d": [
           {
            "line": {
             "colorbar": {
              "outlinewidth": 0,
              "ticks": ""
             }
            },
            "marker": {
             "colorbar": {
              "outlinewidth": 0,
              "ticks": ""
             }
            },
            "type": "scatter3d"
           }
          ],
          "scattercarpet": [
           {
            "marker": {
             "colorbar": {
              "outlinewidth": 0,
              "ticks": ""
             }
            },
            "type": "scattercarpet"
           }
          ],
          "scattergeo": [
           {
            "marker": {
             "colorbar": {
              "outlinewidth": 0,
              "ticks": ""
             }
            },
            "type": "scattergeo"
           }
          ],
          "scattergl": [
           {
            "marker": {
             "colorbar": {
              "outlinewidth": 0,
              "ticks": ""
             }
            },
            "type": "scattergl"
           }
          ],
          "scattermapbox": [
           {
            "marker": {
             "colorbar": {
              "outlinewidth": 0,
              "ticks": ""
             }
            },
            "type": "scattermapbox"
           }
          ],
          "scatterpolar": [
           {
            "marker": {
             "colorbar": {
              "outlinewidth": 0,
              "ticks": ""
             }
            },
            "type": "scatterpolar"
           }
          ],
          "scatterpolargl": [
           {
            "marker": {
             "colorbar": {
              "outlinewidth": 0,
              "ticks": ""
             }
            },
            "type": "scatterpolargl"
           }
          ],
          "scatterternary": [
           {
            "marker": {
             "colorbar": {
              "outlinewidth": 0,
              "ticks": ""
             }
            },
            "type": "scatterternary"
           }
          ],
          "surface": [
           {
            "colorbar": {
             "outlinewidth": 0,
             "ticks": ""
            },
            "colorscale": [
             [
              0,
              "#0d0887"
             ],
             [
              0.1111111111111111,
              "#46039f"
             ],
             [
              0.2222222222222222,
              "#7201a8"
             ],
             [
              0.3333333333333333,
              "#9c179e"
             ],
             [
              0.4444444444444444,
              "#bd3786"
             ],
             [
              0.5555555555555556,
              "#d8576b"
             ],
             [
              0.6666666666666666,
              "#ed7953"
             ],
             [
              0.7777777777777778,
              "#fb9f3a"
             ],
             [
              0.8888888888888888,
              "#fdca26"
             ],
             [
              1,
              "#f0f921"
             ]
            ],
            "type": "surface"
           }
          ],
          "table": [
           {
            "cells": {
             "fill": {
              "color": "#EBF0F8"
             },
             "line": {
              "color": "white"
             }
            },
            "header": {
             "fill": {
              "color": "#C8D4E3"
             },
             "line": {
              "color": "white"
             }
            },
            "type": "table"
           }
          ]
         },
         "layout": {
          "annotationdefaults": {
           "arrowcolor": "#2a3f5f",
           "arrowhead": 0,
           "arrowwidth": 1
          },
          "autotypenumbers": "strict",
          "coloraxis": {
           "colorbar": {
            "outlinewidth": 0,
            "ticks": ""
           }
          },
          "colorscale": {
           "diverging": [
            [
             0,
             "#8e0152"
            ],
            [
             0.1,
             "#c51b7d"
            ],
            [
             0.2,
             "#de77ae"
            ],
            [
             0.3,
             "#f1b6da"
            ],
            [
             0.4,
             "#fde0ef"
            ],
            [
             0.5,
             "#f7f7f7"
            ],
            [
             0.6,
             "#e6f5d0"
            ],
            [
             0.7,
             "#b8e186"
            ],
            [
             0.8,
             "#7fbc41"
            ],
            [
             0.9,
             "#4d9221"
            ],
            [
             1,
             "#276419"
            ]
           ],
           "sequential": [
            [
             0,
             "#0d0887"
            ],
            [
             0.1111111111111111,
             "#46039f"
            ],
            [
             0.2222222222222222,
             "#7201a8"
            ],
            [
             0.3333333333333333,
             "#9c179e"
            ],
            [
             0.4444444444444444,
             "#bd3786"
            ],
            [
             0.5555555555555556,
             "#d8576b"
            ],
            [
             0.6666666666666666,
             "#ed7953"
            ],
            [
             0.7777777777777778,
             "#fb9f3a"
            ],
            [
             0.8888888888888888,
             "#fdca26"
            ],
            [
             1,
             "#f0f921"
            ]
           ],
           "sequentialminus": [
            [
             0,
             "#0d0887"
            ],
            [
             0.1111111111111111,
             "#46039f"
            ],
            [
             0.2222222222222222,
             "#7201a8"
            ],
            [
             0.3333333333333333,
             "#9c179e"
            ],
            [
             0.4444444444444444,
             "#bd3786"
            ],
            [
             0.5555555555555556,
             "#d8576b"
            ],
            [
             0.6666666666666666,
             "#ed7953"
            ],
            [
             0.7777777777777778,
             "#fb9f3a"
            ],
            [
             0.8888888888888888,
             "#fdca26"
            ],
            [
             1,
             "#f0f921"
            ]
           ]
          },
          "colorway": [
           "#636efa",
           "#EF553B",
           "#00cc96",
           "#ab63fa",
           "#FFA15A",
           "#19d3f3",
           "#FF6692",
           "#B6E880",
           "#FF97FF",
           "#FECB52"
          ],
          "font": {
           "color": "#2a3f5f"
          },
          "geo": {
           "bgcolor": "white",
           "lakecolor": "white",
           "landcolor": "#E5ECF6",
           "showlakes": true,
           "showland": true,
           "subunitcolor": "white"
          },
          "hoverlabel": {
           "align": "left"
          },
          "hovermode": "closest",
          "mapbox": {
           "style": "light"
          },
          "paper_bgcolor": "white",
          "plot_bgcolor": "#E5ECF6",
          "polar": {
           "angularaxis": {
            "gridcolor": "white",
            "linecolor": "white",
            "ticks": ""
           },
           "bgcolor": "#E5ECF6",
           "radialaxis": {
            "gridcolor": "white",
            "linecolor": "white",
            "ticks": ""
           }
          },
          "scene": {
           "xaxis": {
            "backgroundcolor": "#E5ECF6",
            "gridcolor": "white",
            "gridwidth": 2,
            "linecolor": "white",
            "showbackground": true,
            "ticks": "",
            "zerolinecolor": "white"
           },
           "yaxis": {
            "backgroundcolor": "#E5ECF6",
            "gridcolor": "white",
            "gridwidth": 2,
            "linecolor": "white",
            "showbackground": true,
            "ticks": "",
            "zerolinecolor": "white"
           },
           "zaxis": {
            "backgroundcolor": "#E5ECF6",
            "gridcolor": "white",
            "gridwidth": 2,
            "linecolor": "white",
            "showbackground": true,
            "ticks": "",
            "zerolinecolor": "white"
           }
          },
          "shapedefaults": {
           "line": {
            "color": "#2a3f5f"
           }
          },
          "ternary": {
           "aaxis": {
            "gridcolor": "white",
            "linecolor": "white",
            "ticks": ""
           },
           "baxis": {
            "gridcolor": "white",
            "linecolor": "white",
            "ticks": ""
           },
           "bgcolor": "#E5ECF6",
           "caxis": {
            "gridcolor": "white",
            "linecolor": "white",
            "ticks": ""
           }
          },
          "title": {
           "x": 0.05
          },
          "xaxis": {
           "automargin": true,
           "gridcolor": "white",
           "linecolor": "white",
           "ticks": "",
           "title": {
            "standoff": 15
           },
           "zerolinecolor": "white",
           "zerolinewidth": 2
          },
          "yaxis": {
           "automargin": true,
           "gridcolor": "white",
           "linecolor": "white",
           "ticks": "",
           "title": {
            "standoff": 15
           },
           "zerolinecolor": "white",
           "zerolinewidth": 2
          }
         }
        },
        "xaxis": {
         "anchor": "y",
         "categoryorder": "total descending",
         "domain": [
          0,
          1
         ],
         "title": {
          "text": "group"
         }
        },
        "yaxis": {
         "anchor": "x",
         "domain": [
          0,
          1
         ],
         "title": {
          "text": "value"
         }
        }
       }
      }
     },
     "metadata": {},
     "output_type": "display_data"
    }
   ],
   "source": [
    "a = articles_df.copy()[['group', 'category']].explode('category')\n",
    "dummies = pd.get_dummies(a['category']).astype(int)\n",
    "a = pd.concat([a, dummies], axis=1).drop('category', axis = 1)\n",
    "a = a.groupby('group', as_index=False).sum()\n",
    "fig = px.bar(a, x='group', y=a.columns.values)\n",
    "fig.update_layout(barmode='stack', xaxis={'categoryorder':'total descending'})\n",
    "fig.show()"
   ]
  },
  {
   "cell_type": "code",
   "execution_count": 13,
   "metadata": {},
   "outputs": [
    {
     "data": {
      "application/vnd.plotly.v1+json": {
       "config": {
        "plotlyServerURL": "https://plot.ly"
       },
       "data": [
        {
         "alignmentgroup": "True",
         "hovertemplate": "variable=legend<br>category=%{x}<br>value=%{y}<extra></extra>",
         "legendgroup": "legend",
         "marker": {
          "color": "#636efa",
          "pattern": {
           "shape": ""
          }
         },
         "name": "legend",
         "offsetgroup": "legend",
         "orientation": "v",
         "showlegend": true,
         "textposition": "auto",
         "type": "bar",
         "x": [
          "legend",
          "table",
          "text"
         ],
         "xaxis": "x",
         "y": [
          21143,
          0,
          0
         ],
         "yaxis": "y"
        },
        {
         "alignmentgroup": "True",
         "hovertemplate": "variable=legend|table<br>category=%{x}<br>value=%{y}<extra></extra>",
         "legendgroup": "legend|table",
         "marker": {
          "color": "#EF553B",
          "pattern": {
           "shape": ""
          }
         },
         "name": "legend|table",
         "offsetgroup": "legend|table",
         "orientation": "v",
         "showlegend": true,
         "textposition": "auto",
         "type": "bar",
         "x": [
          "legend",
          "table",
          "text"
         ],
         "xaxis": "x",
         "y": [
          108,
          119,
          0
         ],
         "yaxis": "y"
        },
        {
         "alignmentgroup": "True",
         "hovertemplate": "variable=legend|table|text<br>category=%{x}<br>value=%{y}<extra></extra>",
         "legendgroup": "legend|table|text",
         "marker": {
          "color": "#00cc96",
          "pattern": {
           "shape": ""
          }
         },
         "name": "legend|table|text",
         "offsetgroup": "legend|table|text",
         "orientation": "v",
         "showlegend": true,
         "textposition": "auto",
         "type": "bar",
         "x": [
          "legend",
          "table",
          "text"
         ],
         "xaxis": "x",
         "y": [
          507,
          577,
          1228
         ],
         "yaxis": "y"
        },
        {
         "alignmentgroup": "True",
         "hovertemplate": "variable=legend|text<br>category=%{x}<br>value=%{y}<extra></extra>",
         "legendgroup": "legend|text",
         "marker": {
          "color": "#ab63fa",
          "pattern": {
           "shape": ""
          }
         },
         "name": "legend|text",
         "offsetgroup": "legend|text",
         "orientation": "v",
         "showlegend": true,
         "textposition": "auto",
         "type": "bar",
         "x": [
          "legend",
          "table",
          "text"
         ],
         "xaxis": "x",
         "y": [
          2454,
          0,
          4031
         ],
         "yaxis": "y"
        },
        {
         "alignmentgroup": "True",
         "hovertemplate": "variable=table<br>category=%{x}<br>value=%{y}<extra></extra>",
         "legendgroup": "table",
         "marker": {
          "color": "#FFA15A",
          "pattern": {
           "shape": ""
          }
         },
         "name": "table",
         "offsetgroup": "table",
         "orientation": "v",
         "showlegend": true,
         "textposition": "auto",
         "type": "bar",
         "x": [
          "legend",
          "table",
          "text"
         ],
         "xaxis": "x",
         "y": [
          0,
          14033,
          0
         ],
         "yaxis": "y"
        },
        {
         "alignmentgroup": "True",
         "hovertemplate": "variable=table|text<br>category=%{x}<br>value=%{y}<extra></extra>",
         "legendgroup": "table|text",
         "marker": {
          "color": "#19d3f3",
          "pattern": {
           "shape": ""
          }
         },
         "name": "table|text",
         "offsetgroup": "table|text",
         "orientation": "v",
         "showlegend": true,
         "textposition": "auto",
         "type": "bar",
         "x": [
          "legend",
          "table",
          "text"
         ],
         "xaxis": "x",
         "y": [
          0,
          7794,
          11267
         ],
         "yaxis": "y"
        },
        {
         "alignmentgroup": "True",
         "hovertemplate": "variable=text<br>category=%{x}<br>value=%{y}<extra></extra>",
         "legendgroup": "text",
         "marker": {
          "color": "#FF6692",
          "pattern": {
           "shape": ""
          }
         },
         "name": "text",
         "offsetgroup": "text",
         "orientation": "v",
         "showlegend": true,
         "textposition": "auto",
         "type": "bar",
         "x": [
          "legend",
          "table",
          "text"
         ],
         "xaxis": "x",
         "y": [
          0,
          0,
          128974
         ],
         "yaxis": "y"
        }
       ],
       "layout": {
        "barmode": "stack",
        "legend": {
         "title": {
          "text": "variable"
         },
         "tracegroupgap": 0
        },
        "template": {
         "data": {
          "bar": [
           {
            "error_x": {
             "color": "#2a3f5f"
            },
            "error_y": {
             "color": "#2a3f5f"
            },
            "marker": {
             "line": {
              "color": "#E5ECF6",
              "width": 0.5
             },
             "pattern": {
              "fillmode": "overlay",
              "size": 10,
              "solidity": 0.2
             }
            },
            "type": "bar"
           }
          ],
          "barpolar": [
           {
            "marker": {
             "line": {
              "color": "#E5ECF6",
              "width": 0.5
             },
             "pattern": {
              "fillmode": "overlay",
              "size": 10,
              "solidity": 0.2
             }
            },
            "type": "barpolar"
           }
          ],
          "carpet": [
           {
            "aaxis": {
             "endlinecolor": "#2a3f5f",
             "gridcolor": "white",
             "linecolor": "white",
             "minorgridcolor": "white",
             "startlinecolor": "#2a3f5f"
            },
            "baxis": {
             "endlinecolor": "#2a3f5f",
             "gridcolor": "white",
             "linecolor": "white",
             "minorgridcolor": "white",
             "startlinecolor": "#2a3f5f"
            },
            "type": "carpet"
           }
          ],
          "choropleth": [
           {
            "colorbar": {
             "outlinewidth": 0,
             "ticks": ""
            },
            "type": "choropleth"
           }
          ],
          "contour": [
           {
            "colorbar": {
             "outlinewidth": 0,
             "ticks": ""
            },
            "colorscale": [
             [
              0,
              "#0d0887"
             ],
             [
              0.1111111111111111,
              "#46039f"
             ],
             [
              0.2222222222222222,
              "#7201a8"
             ],
             [
              0.3333333333333333,
              "#9c179e"
             ],
             [
              0.4444444444444444,
              "#bd3786"
             ],
             [
              0.5555555555555556,
              "#d8576b"
             ],
             [
              0.6666666666666666,
              "#ed7953"
             ],
             [
              0.7777777777777778,
              "#fb9f3a"
             ],
             [
              0.8888888888888888,
              "#fdca26"
             ],
             [
              1,
              "#f0f921"
             ]
            ],
            "type": "contour"
           }
          ],
          "contourcarpet": [
           {
            "colorbar": {
             "outlinewidth": 0,
             "ticks": ""
            },
            "type": "contourcarpet"
           }
          ],
          "heatmap": [
           {
            "colorbar": {
             "outlinewidth": 0,
             "ticks": ""
            },
            "colorscale": [
             [
              0,
              "#0d0887"
             ],
             [
              0.1111111111111111,
              "#46039f"
             ],
             [
              0.2222222222222222,
              "#7201a8"
             ],
             [
              0.3333333333333333,
              "#9c179e"
             ],
             [
              0.4444444444444444,
              "#bd3786"
             ],
             [
              0.5555555555555556,
              "#d8576b"
             ],
             [
              0.6666666666666666,
              "#ed7953"
             ],
             [
              0.7777777777777778,
              "#fb9f3a"
             ],
             [
              0.8888888888888888,
              "#fdca26"
             ],
             [
              1,
              "#f0f921"
             ]
            ],
            "type": "heatmap"
           }
          ],
          "heatmapgl": [
           {
            "colorbar": {
             "outlinewidth": 0,
             "ticks": ""
            },
            "colorscale": [
             [
              0,
              "#0d0887"
             ],
             [
              0.1111111111111111,
              "#46039f"
             ],
             [
              0.2222222222222222,
              "#7201a8"
             ],
             [
              0.3333333333333333,
              "#9c179e"
             ],
             [
              0.4444444444444444,
              "#bd3786"
             ],
             [
              0.5555555555555556,
              "#d8576b"
             ],
             [
              0.6666666666666666,
              "#ed7953"
             ],
             [
              0.7777777777777778,
              "#fb9f3a"
             ],
             [
              0.8888888888888888,
              "#fdca26"
             ],
             [
              1,
              "#f0f921"
             ]
            ],
            "type": "heatmapgl"
           }
          ],
          "histogram": [
           {
            "marker": {
             "pattern": {
              "fillmode": "overlay",
              "size": 10,
              "solidity": 0.2
             }
            },
            "type": "histogram"
           }
          ],
          "histogram2d": [
           {
            "colorbar": {
             "outlinewidth": 0,
             "ticks": ""
            },
            "colorscale": [
             [
              0,
              "#0d0887"
             ],
             [
              0.1111111111111111,
              "#46039f"
             ],
             [
              0.2222222222222222,
              "#7201a8"
             ],
             [
              0.3333333333333333,
              "#9c179e"
             ],
             [
              0.4444444444444444,
              "#bd3786"
             ],
             [
              0.5555555555555556,
              "#d8576b"
             ],
             [
              0.6666666666666666,
              "#ed7953"
             ],
             [
              0.7777777777777778,
              "#fb9f3a"
             ],
             [
              0.8888888888888888,
              "#fdca26"
             ],
             [
              1,
              "#f0f921"
             ]
            ],
            "type": "histogram2d"
           }
          ],
          "histogram2dcontour": [
           {
            "colorbar": {
             "outlinewidth": 0,
             "ticks": ""
            },
            "colorscale": [
             [
              0,
              "#0d0887"
             ],
             [
              0.1111111111111111,
              "#46039f"
             ],
             [
              0.2222222222222222,
              "#7201a8"
             ],
             [
              0.3333333333333333,
              "#9c179e"
             ],
             [
              0.4444444444444444,
              "#bd3786"
             ],
             [
              0.5555555555555556,
              "#d8576b"
             ],
             [
              0.6666666666666666,
              "#ed7953"
             ],
             [
              0.7777777777777778,
              "#fb9f3a"
             ],
             [
              0.8888888888888888,
              "#fdca26"
             ],
             [
              1,
              "#f0f921"
             ]
            ],
            "type": "histogram2dcontour"
           }
          ],
          "mesh3d": [
           {
            "colorbar": {
             "outlinewidth": 0,
             "ticks": ""
            },
            "type": "mesh3d"
           }
          ],
          "parcoords": [
           {
            "line": {
             "colorbar": {
              "outlinewidth": 0,
              "ticks": ""
             }
            },
            "type": "parcoords"
           }
          ],
          "pie": [
           {
            "automargin": true,
            "type": "pie"
           }
          ],
          "scatter": [
           {
            "fillpattern": {
             "fillmode": "overlay",
             "size": 10,
             "solidity": 0.2
            },
            "type": "scatter"
           }
          ],
          "scatter3d": [
           {
            "line": {
             "colorbar": {
              "outlinewidth": 0,
              "ticks": ""
             }
            },
            "marker": {
             "colorbar": {
              "outlinewidth": 0,
              "ticks": ""
             }
            },
            "type": "scatter3d"
           }
          ],
          "scattercarpet": [
           {
            "marker": {
             "colorbar": {
              "outlinewidth": 0,
              "ticks": ""
             }
            },
            "type": "scattercarpet"
           }
          ],
          "scattergeo": [
           {
            "marker": {
             "colorbar": {
              "outlinewidth": 0,
              "ticks": ""
             }
            },
            "type": "scattergeo"
           }
          ],
          "scattergl": [
           {
            "marker": {
             "colorbar": {
              "outlinewidth": 0,
              "ticks": ""
             }
            },
            "type": "scattergl"
           }
          ],
          "scattermapbox": [
           {
            "marker": {
             "colorbar": {
              "outlinewidth": 0,
              "ticks": ""
             }
            },
            "type": "scattermapbox"
           }
          ],
          "scatterpolar": [
           {
            "marker": {
             "colorbar": {
              "outlinewidth": 0,
              "ticks": ""
             }
            },
            "type": "scatterpolar"
           }
          ],
          "scatterpolargl": [
           {
            "marker": {
             "colorbar": {
              "outlinewidth": 0,
              "ticks": ""
             }
            },
            "type": "scatterpolargl"
           }
          ],
          "scatterternary": [
           {
            "marker": {
             "colorbar": {
              "outlinewidth": 0,
              "ticks": ""
             }
            },
            "type": "scatterternary"
           }
          ],
          "surface": [
           {
            "colorbar": {
             "outlinewidth": 0,
             "ticks": ""
            },
            "colorscale": [
             [
              0,
              "#0d0887"
             ],
             [
              0.1111111111111111,
              "#46039f"
             ],
             [
              0.2222222222222222,
              "#7201a8"
             ],
             [
              0.3333333333333333,
              "#9c179e"
             ],
             [
              0.4444444444444444,
              "#bd3786"
             ],
             [
              0.5555555555555556,
              "#d8576b"
             ],
             [
              0.6666666666666666,
              "#ed7953"
             ],
             [
              0.7777777777777778,
              "#fb9f3a"
             ],
             [
              0.8888888888888888,
              "#fdca26"
             ],
             [
              1,
              "#f0f921"
             ]
            ],
            "type": "surface"
           }
          ],
          "table": [
           {
            "cells": {
             "fill": {
              "color": "#EBF0F8"
             },
             "line": {
              "color": "white"
             }
            },
            "header": {
             "fill": {
              "color": "#C8D4E3"
             },
             "line": {
              "color": "white"
             }
            },
            "type": "table"
           }
          ]
         },
         "layout": {
          "annotationdefaults": {
           "arrowcolor": "#2a3f5f",
           "arrowhead": 0,
           "arrowwidth": 1
          },
          "autotypenumbers": "strict",
          "coloraxis": {
           "colorbar": {
            "outlinewidth": 0,
            "ticks": ""
           }
          },
          "colorscale": {
           "diverging": [
            [
             0,
             "#8e0152"
            ],
            [
             0.1,
             "#c51b7d"
            ],
            [
             0.2,
             "#de77ae"
            ],
            [
             0.3,
             "#f1b6da"
            ],
            [
             0.4,
             "#fde0ef"
            ],
            [
             0.5,
             "#f7f7f7"
            ],
            [
             0.6,
             "#e6f5d0"
            ],
            [
             0.7,
             "#b8e186"
            ],
            [
             0.8,
             "#7fbc41"
            ],
            [
             0.9,
             "#4d9221"
            ],
            [
             1,
             "#276419"
            ]
           ],
           "sequential": [
            [
             0,
             "#0d0887"
            ],
            [
             0.1111111111111111,
             "#46039f"
            ],
            [
             0.2222222222222222,
             "#7201a8"
            ],
            [
             0.3333333333333333,
             "#9c179e"
            ],
            [
             0.4444444444444444,
             "#bd3786"
            ],
            [
             0.5555555555555556,
             "#d8576b"
            ],
            [
             0.6666666666666666,
             "#ed7953"
            ],
            [
             0.7777777777777778,
             "#fb9f3a"
            ],
            [
             0.8888888888888888,
             "#fdca26"
            ],
            [
             1,
             "#f0f921"
            ]
           ],
           "sequentialminus": [
            [
             0,
             "#0d0887"
            ],
            [
             0.1111111111111111,
             "#46039f"
            ],
            [
             0.2222222222222222,
             "#7201a8"
            ],
            [
             0.3333333333333333,
             "#9c179e"
            ],
            [
             0.4444444444444444,
             "#bd3786"
            ],
            [
             0.5555555555555556,
             "#d8576b"
            ],
            [
             0.6666666666666666,
             "#ed7953"
            ],
            [
             0.7777777777777778,
             "#fb9f3a"
            ],
            [
             0.8888888888888888,
             "#fdca26"
            ],
            [
             1,
             "#f0f921"
            ]
           ]
          },
          "colorway": [
           "#636efa",
           "#EF553B",
           "#00cc96",
           "#ab63fa",
           "#FFA15A",
           "#19d3f3",
           "#FF6692",
           "#B6E880",
           "#FF97FF",
           "#FECB52"
          ],
          "font": {
           "color": "#2a3f5f"
          },
          "geo": {
           "bgcolor": "white",
           "lakecolor": "white",
           "landcolor": "#E5ECF6",
           "showlakes": true,
           "showland": true,
           "subunitcolor": "white"
          },
          "hoverlabel": {
           "align": "left"
          },
          "hovermode": "closest",
          "mapbox": {
           "style": "light"
          },
          "paper_bgcolor": "white",
          "plot_bgcolor": "#E5ECF6",
          "polar": {
           "angularaxis": {
            "gridcolor": "white",
            "linecolor": "white",
            "ticks": ""
           },
           "bgcolor": "#E5ECF6",
           "radialaxis": {
            "gridcolor": "white",
            "linecolor": "white",
            "ticks": ""
           }
          },
          "scene": {
           "xaxis": {
            "backgroundcolor": "#E5ECF6",
            "gridcolor": "white",
            "gridwidth": 2,
            "linecolor": "white",
            "showbackground": true,
            "ticks": "",
            "zerolinecolor": "white"
           },
           "yaxis": {
            "backgroundcolor": "#E5ECF6",
            "gridcolor": "white",
            "gridwidth": 2,
            "linecolor": "white",
            "showbackground": true,
            "ticks": "",
            "zerolinecolor": "white"
           },
           "zaxis": {
            "backgroundcolor": "#E5ECF6",
            "gridcolor": "white",
            "gridwidth": 2,
            "linecolor": "white",
            "showbackground": true,
            "ticks": "",
            "zerolinecolor": "white"
           }
          },
          "shapedefaults": {
           "line": {
            "color": "#2a3f5f"
           }
          },
          "ternary": {
           "aaxis": {
            "gridcolor": "white",
            "linecolor": "white",
            "ticks": ""
           },
           "baxis": {
            "gridcolor": "white",
            "linecolor": "white",
            "ticks": ""
           },
           "bgcolor": "#E5ECF6",
           "caxis": {
            "gridcolor": "white",
            "linecolor": "white",
            "ticks": ""
           }
          },
          "title": {
           "x": 0.05
          },
          "xaxis": {
           "automargin": true,
           "gridcolor": "white",
           "linecolor": "white",
           "ticks": "",
           "title": {
            "standoff": 15
           },
           "zerolinecolor": "white",
           "zerolinewidth": 2
          },
          "yaxis": {
           "automargin": true,
           "gridcolor": "white",
           "linecolor": "white",
           "ticks": "",
           "title": {
            "standoff": 15
           },
           "zerolinecolor": "white",
           "zerolinewidth": 2
          }
         }
        },
        "title": {
         "text": "Position repartition"
        },
        "xaxis": {
         "anchor": "y",
         "categoryorder": "total descending",
         "domain": [
          0,
          1
         ],
         "title": {
          "text": "category"
         }
        },
        "yaxis": {
         "anchor": "x",
         "domain": [
          0,
          1
         ],
         "title": {
          "text": "value"
         }
        }
       }
      }
     },
     "metadata": {},
     "output_type": "display_data"
    }
   ],
   "source": [
    "a = articles_df.copy()[['group', 'category']].explode('category')\n",
    "dummies = pd.get_dummies(a['group']).astype(int)\n",
    "a = pd.concat([a, dummies], axis=1).drop('group', axis = 1)\n",
    "a = a.groupby('category', as_index=False).sum()\n",
    "fig = px.bar(a, x='category', y=a.columns.values, title=\"Position repartition\")\n",
    "fig.update_layout(barmode='stack', xaxis={'categoryorder':'total descending'})\n",
    "fig.show()"
   ]
  },
  {
   "cell_type": "markdown",
   "metadata": {},
   "source": [
    "## 1.3 Linkage with the frequence of visit <a id=\"subsection_1_3\"></a>"
   ]
  },
  {
   "cell_type": "code",
   "execution_count": 14,
   "metadata": {},
   "outputs": [],
   "source": [
    "paths =  pd.concat([dfs['paths_unfinished'].path, dfs['paths_finished'].path], axis=0)\n",
    "paths = paths.str.split(';')\n",
    "paths = paths[paths.apply(lambda x: len(x) != 1)].reset_index(drop=True)\n",
    "paths_df = pd.concat([paths, paths], axis = 1)\n",
    "paths_df.columns = ['original', 'modified']\n",
    "paths_df.modified = [replace_return(list_) for list_ in paths_df.modified]"
   ]
  },
  {
   "cell_type": "code",
   "execution_count": 15,
   "metadata": {},
   "outputs": [
    {
     "data": {
      "text/html": [
       "<div>\n",
       "<style scoped>\n",
       "    .dataframe tbody tr th:only-of-type {\n",
       "        vertical-align: middle;\n",
       "    }\n",
       "\n",
       "    .dataframe tbody tr th {\n",
       "        vertical-align: top;\n",
       "    }\n",
       "\n",
       "    .dataframe thead th {\n",
       "        text-align: right;\n",
       "    }\n",
       "</style>\n",
       "<table border=\"1\" class=\"dataframe\">\n",
       "  <thead>\n",
       "    <tr style=\"text-align: right;\">\n",
       "      <th></th>\n",
       "      <th>source</th>\n",
       "      <th>target</th>\n",
       "      <th>count_link_selection</th>\n",
       "    </tr>\n",
       "  </thead>\n",
       "  <tbody>\n",
       "    <tr>\n",
       "      <th>0</th>\n",
       "      <td>10th_century</td>\n",
       "      <td>11th_century</td>\n",
       "      <td>21</td>\n",
       "    </tr>\n",
       "    <tr>\n",
       "      <th>1</th>\n",
       "      <td>10th_century</td>\n",
       "      <td>9th_century</td>\n",
       "      <td>33</td>\n",
       "    </tr>\n",
       "    <tr>\n",
       "      <th>2</th>\n",
       "      <td>10th_century</td>\n",
       "      <td>Algeria</td>\n",
       "      <td>2</td>\n",
       "    </tr>\n",
       "    <tr>\n",
       "      <th>3</th>\n",
       "      <td>10th_century</td>\n",
       "      <td>Beer</td>\n",
       "      <td>2</td>\n",
       "    </tr>\n",
       "    <tr>\n",
       "      <th>4</th>\n",
       "      <td>10th_century</td>\n",
       "      <td>Byzantine_Empire</td>\n",
       "      <td>5</td>\n",
       "    </tr>\n",
       "    <tr>\n",
       "      <th>...</th>\n",
       "      <td>...</td>\n",
       "      <td>...</td>\n",
       "      <td>...</td>\n",
       "    </tr>\n",
       "    <tr>\n",
       "      <th>58955</th>\n",
       "      <td>Édouard_Manet</td>\n",
       "      <td>Renaissance</td>\n",
       "      <td>1</td>\n",
       "    </tr>\n",
       "    <tr>\n",
       "      <th>58956</th>\n",
       "      <td>Éire</td>\n",
       "      <td>Canada</td>\n",
       "      <td>1</td>\n",
       "    </tr>\n",
       "    <tr>\n",
       "      <th>58957</th>\n",
       "      <td>Éire</td>\n",
       "      <td>Ireland</td>\n",
       "      <td>3</td>\n",
       "    </tr>\n",
       "    <tr>\n",
       "      <th>58958</th>\n",
       "      <td>Éire</td>\n",
       "      <td>Republic_of_Ireland</td>\n",
       "      <td>1</td>\n",
       "    </tr>\n",
       "    <tr>\n",
       "      <th>58959</th>\n",
       "      <td>€2_commemorative_coins</td>\n",
       "      <td>Ireland</td>\n",
       "      <td>1</td>\n",
       "    </tr>\n",
       "  </tbody>\n",
       "</table>\n",
       "<p>58960 rows × 3 columns</p>\n",
       "</div>"
      ],
      "text/plain": [
       "                       source               target  count_link_selection\n",
       "0                10th_century         11th_century                    21\n",
       "1                10th_century          9th_century                    33\n",
       "2                10th_century              Algeria                     2\n",
       "3                10th_century                 Beer                     2\n",
       "4                10th_century     Byzantine_Empire                     5\n",
       "...                       ...                  ...                   ...\n",
       "58955           Édouard_Manet          Renaissance                     1\n",
       "58956                    Éire               Canada                     1\n",
       "58957                    Éire              Ireland                     3\n",
       "58958                    Éire  Republic_of_Ireland                     1\n",
       "58959  €2_commemorative_coins              Ireland                     1\n",
       "\n",
       "[58960 rows x 3 columns]"
      ]
     },
     "metadata": {},
     "output_type": "display_data"
    }
   ],
   "source": [
    "# Separating the original lists as new list of list of 2 articles (source, target)\n",
    "link_table_user = [list_[i:i+2] for list_ in paths_df.modified for i in range(len(list_)-1)]\n",
    "link_table_user = pd.DataFrame(link_table_user, columns=['source', 'target'])\n",
    "link_table_user.sort_values(by = 'source', inplace = True)\n",
    "\n",
    "# Remove the row with target starting with a point --> remove the return which are not a user link selection\n",
    "link_table_user = link_table_user[~link_table_user['target'].str.startswith('.')]\n",
    "\n",
    "# We don't need to know the past of the source article --> remove the return indication\n",
    "link_table_user['source'] = link_table_user['source'].str.lstrip('.')\n",
    "\n",
    "# Count how many times the link between the source and the direct target articles are selected\n",
    "link_table_user = link_table_user.groupby(['source', 'target']).size().reset_index(name='count_link_selection')\n",
    "\n",
    "display(link_table_user)"
   ]
  },
  {
   "cell_type": "code",
   "execution_count": 16,
   "metadata": {},
   "outputs": [
    {
     "name": "stdout",
     "output_type": "stream",
     "text": [
      "The more used path was selected 709 times.\n"
     ]
    },
    {
     "data": {
      "text/html": [
       "<div>\n",
       "<style scoped>\n",
       "    .dataframe tbody tr th:only-of-type {\n",
       "        vertical-align: middle;\n",
       "    }\n",
       "\n",
       "    .dataframe tbody tr th {\n",
       "        vertical-align: top;\n",
       "    }\n",
       "\n",
       "    .dataframe thead th {\n",
       "        text-align: right;\n",
       "    }\n",
       "</style>\n",
       "<table border=\"1\" class=\"dataframe\">\n",
       "  <thead>\n",
       "    <tr style=\"text-align: right;\">\n",
       "      <th></th>\n",
       "      <th>source</th>\n",
       "      <th>target</th>\n",
       "      <th>count_link_selection</th>\n",
       "    </tr>\n",
       "  </thead>\n",
       "  <tbody>\n",
       "    <tr>\n",
       "      <th>3822</th>\n",
       "      <td>Animal</td>\n",
       "      <td>Mammal</td>\n",
       "      <td>705</td>\n",
       "    </tr>\n",
       "    <tr>\n",
       "      <th>8944</th>\n",
       "      <td>Brain</td>\n",
       "      <td>Computer_science</td>\n",
       "      <td>709</td>\n",
       "    </tr>\n",
       "    <tr>\n",
       "      <th>13603</th>\n",
       "      <td>Communication</td>\n",
       "      <td>Telephone</td>\n",
       "      <td>539</td>\n",
       "    </tr>\n",
       "    <tr>\n",
       "      <th>19254</th>\n",
       "      <td>Europe</td>\n",
       "      <td>United_Kingdom</td>\n",
       "      <td>634</td>\n",
       "    </tr>\n",
       "    <tr>\n",
       "      <th>38530</th>\n",
       "      <td>North_America</td>\n",
       "      <td>United_States</td>\n",
       "      <td>677</td>\n",
       "    </tr>\n",
       "    <tr>\n",
       "      <th>54803</th>\n",
       "      <td>United_Kingdom</td>\n",
       "      <td>England</td>\n",
       "      <td>511</td>\n",
       "    </tr>\n",
       "    <tr>\n",
       "      <th>55220</th>\n",
       "      <td>United_States</td>\n",
       "      <td>President_of_the_United_States</td>\n",
       "      <td>553</td>\n",
       "    </tr>\n",
       "  </tbody>\n",
       "</table>\n",
       "</div>"
      ],
      "text/plain": [
       "               source                          target  count_link_selection\n",
       "3822           Animal                          Mammal                   705\n",
       "8944            Brain                Computer_science                   709\n",
       "13603   Communication                       Telephone                   539\n",
       "19254          Europe                  United_Kingdom                   634\n",
       "38530   North_America                   United_States                   677\n",
       "54803  United_Kingdom                         England                   511\n",
       "55220   United_States  President_of_the_United_States                   553"
      ]
     },
     "execution_count": 16,
     "metadata": {},
     "output_type": "execute_result"
    }
   ],
   "source": [
    "print('The more used path was selected {} times.'.format(max(link_table_user.count_link_selection)))\n",
    "link_table_user[link_table_user.count_link_selection >= 500]"
   ]
  },
  {
   "cell_type": "code",
   "execution_count": 17,
   "metadata": {},
   "outputs": [
    {
     "data": {
      "text/html": [
       "<div>\n",
       "<style scoped>\n",
       "    .dataframe tbody tr th:only-of-type {\n",
       "        vertical-align: middle;\n",
       "    }\n",
       "\n",
       "    .dataframe tbody tr th {\n",
       "        vertical-align: top;\n",
       "    }\n",
       "\n",
       "    .dataframe thead th {\n",
       "        text-align: right;\n",
       "    }\n",
       "</style>\n",
       "<table border=\"1\" class=\"dataframe\">\n",
       "  <thead>\n",
       "    <tr style=\"text-align: right;\">\n",
       "      <th></th>\n",
       "      <th>source</th>\n",
       "      <th>target</th>\n",
       "      <th>category</th>\n",
       "      <th>line_position</th>\n",
       "      <th>relative_position</th>\n",
       "      <th>count</th>\n",
       "      <th>group</th>\n",
       "      <th>count_link_selection</th>\n",
       "    </tr>\n",
       "  </thead>\n",
       "  <tbody>\n",
       "    <tr>\n",
       "      <th>0</th>\n",
       "      <td>Royal_Marines</td>\n",
       "      <td>15th_Marine_Expeditionary_Unit</td>\n",
       "      <td>[text]</td>\n",
       "      <td>[308]</td>\n",
       "      <td>[0.521]</td>\n",
       "      <td>1.0</td>\n",
       "      <td>text</td>\n",
       "      <td>1.0</td>\n",
       "    </tr>\n",
       "    <tr>\n",
       "      <th>1</th>\n",
       "      <td>Royal_Marines</td>\n",
       "      <td>Afghanistan</td>\n",
       "      <td>[text, text, text]</td>\n",
       "      <td>[308, 308, 308]</td>\n",
       "      <td>[0.521, 0.521, 0.521]</td>\n",
       "      <td>3.0</td>\n",
       "      <td>text</td>\n",
       "      <td>0.0</td>\n",
       "    </tr>\n",
       "    <tr>\n",
       "      <th>2</th>\n",
       "      <td>Royal_Marines</td>\n",
       "      <td>American_Revolutionary_War</td>\n",
       "      <td>[text]</td>\n",
       "      <td>[293]</td>\n",
       "      <td>[0.496]</td>\n",
       "      <td>1.0</td>\n",
       "      <td>text</td>\n",
       "      <td>0.0</td>\n",
       "    </tr>\n",
       "    <tr>\n",
       "      <th>3</th>\n",
       "      <td>Royal_Marines</td>\n",
       "      <td>Antwerp</td>\n",
       "      <td>[text, text]</td>\n",
       "      <td>[296, 302]</td>\n",
       "      <td>[0.501, 0.511]</td>\n",
       "      <td>2.0</td>\n",
       "      <td>text</td>\n",
       "      <td>0.0</td>\n",
       "    </tr>\n",
       "    <tr>\n",
       "      <th>4</th>\n",
       "      <td>Royal_Marines</td>\n",
       "      <td>Argentina</td>\n",
       "      <td>[text]</td>\n",
       "      <td>[308]</td>\n",
       "      <td>[0.521]</td>\n",
       "      <td>1.0</td>\n",
       "      <td>text</td>\n",
       "      <td>3.0</td>\n",
       "    </tr>\n",
       "    <tr>\n",
       "      <th>...</th>\n",
       "      <td>...</td>\n",
       "      <td>...</td>\n",
       "      <td>...</td>\n",
       "      <td>...</td>\n",
       "      <td>...</td>\n",
       "      <td>...</td>\n",
       "      <td>...</td>\n",
       "      <td>...</td>\n",
       "    </tr>\n",
       "    <tr>\n",
       "      <th>141925</th>\n",
       "      <td>World_War_II</td>\n",
       "      <td>Warsaw</td>\n",
       "      <td>[text]</td>\n",
       "      <td>[150]</td>\n",
       "      <td>[0.108]</td>\n",
       "      <td>1.0</td>\n",
       "      <td>text</td>\n",
       "      <td>5.0</td>\n",
       "    </tr>\n",
       "    <tr>\n",
       "      <th>141926</th>\n",
       "      <td>World_War_II</td>\n",
       "      <td>Wikipedia_Text_of_the_GNU_Free_Documentation_L...</td>\n",
       "      <td>[legend]</td>\n",
       "      <td>[650]</td>\n",
       "      <td>[0.469]</td>\n",
       "      <td>1.0</td>\n",
       "      <td>legend</td>\n",
       "      <td>0.0</td>\n",
       "    </tr>\n",
       "    <tr>\n",
       "      <th>141927</th>\n",
       "      <td>World_War_II</td>\n",
       "      <td>Winston_Churchill</td>\n",
       "      <td>[table, text, text, text, text]</td>\n",
       "      <td>[90, 242, 270, 409, 505]</td>\n",
       "      <td>[0.065, 0.175, 0.195, 0.295, 0.364]</td>\n",
       "      <td>5.0</td>\n",
       "      <td>table|text</td>\n",
       "      <td>41.0</td>\n",
       "    </tr>\n",
       "    <tr>\n",
       "      <th>141928</th>\n",
       "      <td>World_War_II</td>\n",
       "      <td>Yugoslavia</td>\n",
       "      <td>[text]</td>\n",
       "      <td>[224]</td>\n",
       "      <td>[0.162]</td>\n",
       "      <td>1.0</td>\n",
       "      <td>text</td>\n",
       "      <td>10.0</td>\n",
       "    </tr>\n",
       "    <tr>\n",
       "      <th>141929</th>\n",
       "      <td>World_War_II</td>\n",
       "      <td>index</td>\n",
       "      <td>[legend]</td>\n",
       "      <td>[50]</td>\n",
       "      <td>[0.036]</td>\n",
       "      <td>1.0</td>\n",
       "      <td>legend</td>\n",
       "      <td>0.0</td>\n",
       "    </tr>\n",
       "  </tbody>\n",
       "</table>\n",
       "<p>141930 rows × 8 columns</p>\n",
       "</div>"
      ],
      "text/plain": [
       "               source                                             target  \\\n",
       "0       Royal_Marines                     15th_Marine_Expeditionary_Unit   \n",
       "1       Royal_Marines                                        Afghanistan   \n",
       "2       Royal_Marines                         American_Revolutionary_War   \n",
       "3       Royal_Marines                                            Antwerp   \n",
       "4       Royal_Marines                                          Argentina   \n",
       "...               ...                                                ...   \n",
       "141925   World_War_II                                             Warsaw   \n",
       "141926   World_War_II  Wikipedia_Text_of_the_GNU_Free_Documentation_L...   \n",
       "141927   World_War_II                                  Winston_Churchill   \n",
       "141928   World_War_II                                         Yugoslavia   \n",
       "141929   World_War_II                                              index   \n",
       "\n",
       "                               category             line_position  \\\n",
       "0                                [text]                     [308]   \n",
       "1                    [text, text, text]           [308, 308, 308]   \n",
       "2                                [text]                     [293]   \n",
       "3                          [text, text]                [296, 302]   \n",
       "4                                [text]                     [308]   \n",
       "...                                 ...                       ...   \n",
       "141925                           [text]                     [150]   \n",
       "141926                         [legend]                     [650]   \n",
       "141927  [table, text, text, text, text]  [90, 242, 270, 409, 505]   \n",
       "141928                           [text]                     [224]   \n",
       "141929                         [legend]                      [50]   \n",
       "\n",
       "                          relative_position  count       group  \\\n",
       "0                                   [0.521]    1.0        text   \n",
       "1                     [0.521, 0.521, 0.521]    3.0        text   \n",
       "2                                   [0.496]    1.0        text   \n",
       "3                            [0.501, 0.511]    2.0        text   \n",
       "4                                   [0.521]    1.0        text   \n",
       "...                                     ...    ...         ...   \n",
       "141925                              [0.108]    1.0        text   \n",
       "141926                              [0.469]    1.0      legend   \n",
       "141927  [0.065, 0.175, 0.195, 0.295, 0.364]    5.0  table|text   \n",
       "141928                              [0.162]    1.0        text   \n",
       "141929                              [0.036]    1.0      legend   \n",
       "\n",
       "        count_link_selection  \n",
       "0                        1.0  \n",
       "1                        0.0  \n",
       "2                        0.0  \n",
       "3                        0.0  \n",
       "4                        3.0  \n",
       "...                      ...  \n",
       "141925                   5.0  \n",
       "141926                   0.0  \n",
       "141927                  41.0  \n",
       "141928                  10.0  \n",
       "141929                   0.0  \n",
       "\n",
       "[141930 rows x 8 columns]"
      ]
     },
     "metadata": {},
     "output_type": "display_data"
    }
   ],
   "source": [
    "# Add the link selection to the article_df dataframe\n",
    "articles_df = articles_df.merge(link_table_user, on = ['source', 'target'], how= 'outer')\n",
    "articles_df.fillna(0, inplace = True)\n",
    "display(articles_df)"
   ]
  },
  {
   "cell_type": "code",
   "execution_count": 18,
   "metadata": {},
   "outputs": [
    {
     "data": {
      "text/html": [
       "<div>\n",
       "<style scoped>\n",
       "    .dataframe tbody tr th:only-of-type {\n",
       "        vertical-align: middle;\n",
       "    }\n",
       "\n",
       "    .dataframe tbody tr th {\n",
       "        vertical-align: top;\n",
       "    }\n",
       "\n",
       "    .dataframe thead th {\n",
       "        text-align: right;\n",
       "    }\n",
       "</style>\n",
       "<table border=\"1\" class=\"dataframe\">\n",
       "  <thead>\n",
       "    <tr style=\"text-align: right;\">\n",
       "      <th></th>\n",
       "      <th>source</th>\n",
       "      <th>target</th>\n",
       "      <th>category</th>\n",
       "      <th>line_position</th>\n",
       "      <th>relative_position</th>\n",
       "      <th>count</th>\n",
       "      <th>group</th>\n",
       "      <th>count_link_selection</th>\n",
       "      <th>relative_position_mean</th>\n",
       "    </tr>\n",
       "  </thead>\n",
       "  <tbody>\n",
       "    <tr>\n",
       "      <th>0</th>\n",
       "      <td>Royal_Marines</td>\n",
       "      <td>15th_Marine_Expeditionary_Unit</td>\n",
       "      <td>[text]</td>\n",
       "      <td>[308]</td>\n",
       "      <td>[0.521]</td>\n",
       "      <td>1.0</td>\n",
       "      <td>text</td>\n",
       "      <td>1.0</td>\n",
       "      <td>0.5210</td>\n",
       "    </tr>\n",
       "    <tr>\n",
       "      <th>1</th>\n",
       "      <td>Royal_Marines</td>\n",
       "      <td>Afghanistan</td>\n",
       "      <td>[text, text, text]</td>\n",
       "      <td>[308, 308, 308]</td>\n",
       "      <td>[0.521, 0.521, 0.521]</td>\n",
       "      <td>3.0</td>\n",
       "      <td>text</td>\n",
       "      <td>0.0</td>\n",
       "      <td>0.5210</td>\n",
       "    </tr>\n",
       "    <tr>\n",
       "      <th>2</th>\n",
       "      <td>Royal_Marines</td>\n",
       "      <td>American_Revolutionary_War</td>\n",
       "      <td>[text]</td>\n",
       "      <td>[293]</td>\n",
       "      <td>[0.496]</td>\n",
       "      <td>1.0</td>\n",
       "      <td>text</td>\n",
       "      <td>0.0</td>\n",
       "      <td>0.4960</td>\n",
       "    </tr>\n",
       "    <tr>\n",
       "      <th>3</th>\n",
       "      <td>Royal_Marines</td>\n",
       "      <td>Antwerp</td>\n",
       "      <td>[text, text]</td>\n",
       "      <td>[296, 302]</td>\n",
       "      <td>[0.501, 0.511]</td>\n",
       "      <td>2.0</td>\n",
       "      <td>text</td>\n",
       "      <td>0.0</td>\n",
       "      <td>0.5060</td>\n",
       "    </tr>\n",
       "    <tr>\n",
       "      <th>4</th>\n",
       "      <td>Royal_Marines</td>\n",
       "      <td>Argentina</td>\n",
       "      <td>[text]</td>\n",
       "      <td>[308]</td>\n",
       "      <td>[0.521]</td>\n",
       "      <td>1.0</td>\n",
       "      <td>text</td>\n",
       "      <td>3.0</td>\n",
       "      <td>0.5210</td>\n",
       "    </tr>\n",
       "    <tr>\n",
       "      <th>...</th>\n",
       "      <td>...</td>\n",
       "      <td>...</td>\n",
       "      <td>...</td>\n",
       "      <td>...</td>\n",
       "      <td>...</td>\n",
       "      <td>...</td>\n",
       "      <td>...</td>\n",
       "      <td>...</td>\n",
       "      <td>...</td>\n",
       "    </tr>\n",
       "    <tr>\n",
       "      <th>141925</th>\n",
       "      <td>World_War_II</td>\n",
       "      <td>Warsaw</td>\n",
       "      <td>[text]</td>\n",
       "      <td>[150]</td>\n",
       "      <td>[0.108]</td>\n",
       "      <td>1.0</td>\n",
       "      <td>text</td>\n",
       "      <td>5.0</td>\n",
       "      <td>0.1080</td>\n",
       "    </tr>\n",
       "    <tr>\n",
       "      <th>141926</th>\n",
       "      <td>World_War_II</td>\n",
       "      <td>Wikipedia_Text_of_the_GNU_Free_Documentation_L...</td>\n",
       "      <td>[legend]</td>\n",
       "      <td>[650]</td>\n",
       "      <td>[0.469]</td>\n",
       "      <td>1.0</td>\n",
       "      <td>legend</td>\n",
       "      <td>0.0</td>\n",
       "      <td>0.4690</td>\n",
       "    </tr>\n",
       "    <tr>\n",
       "      <th>141927</th>\n",
       "      <td>World_War_II</td>\n",
       "      <td>Winston_Churchill</td>\n",
       "      <td>[table, text, text, text, text]</td>\n",
       "      <td>[90, 242, 270, 409, 505]</td>\n",
       "      <td>[0.065, 0.175, 0.195, 0.295, 0.364]</td>\n",
       "      <td>5.0</td>\n",
       "      <td>table|text</td>\n",
       "      <td>41.0</td>\n",
       "      <td>0.2188</td>\n",
       "    </tr>\n",
       "    <tr>\n",
       "      <th>141928</th>\n",
       "      <td>World_War_II</td>\n",
       "      <td>Yugoslavia</td>\n",
       "      <td>[text]</td>\n",
       "      <td>[224]</td>\n",
       "      <td>[0.162]</td>\n",
       "      <td>1.0</td>\n",
       "      <td>text</td>\n",
       "      <td>10.0</td>\n",
       "      <td>0.1620</td>\n",
       "    </tr>\n",
       "    <tr>\n",
       "      <th>141929</th>\n",
       "      <td>World_War_II</td>\n",
       "      <td>index</td>\n",
       "      <td>[legend]</td>\n",
       "      <td>[50]</td>\n",
       "      <td>[0.036]</td>\n",
       "      <td>1.0</td>\n",
       "      <td>legend</td>\n",
       "      <td>0.0</td>\n",
       "      <td>0.0360</td>\n",
       "    </tr>\n",
       "  </tbody>\n",
       "</table>\n",
       "<p>141930 rows × 9 columns</p>\n",
       "</div>"
      ],
      "text/plain": [
       "               source                                             target  \\\n",
       "0       Royal_Marines                     15th_Marine_Expeditionary_Unit   \n",
       "1       Royal_Marines                                        Afghanistan   \n",
       "2       Royal_Marines                         American_Revolutionary_War   \n",
       "3       Royal_Marines                                            Antwerp   \n",
       "4       Royal_Marines                                          Argentina   \n",
       "...               ...                                                ...   \n",
       "141925   World_War_II                                             Warsaw   \n",
       "141926   World_War_II  Wikipedia_Text_of_the_GNU_Free_Documentation_L...   \n",
       "141927   World_War_II                                  Winston_Churchill   \n",
       "141928   World_War_II                                         Yugoslavia   \n",
       "141929   World_War_II                                              index   \n",
       "\n",
       "                               category             line_position  \\\n",
       "0                                [text]                     [308]   \n",
       "1                    [text, text, text]           [308, 308, 308]   \n",
       "2                                [text]                     [293]   \n",
       "3                          [text, text]                [296, 302]   \n",
       "4                                [text]                     [308]   \n",
       "...                                 ...                       ...   \n",
       "141925                           [text]                     [150]   \n",
       "141926                         [legend]                     [650]   \n",
       "141927  [table, text, text, text, text]  [90, 242, 270, 409, 505]   \n",
       "141928                           [text]                     [224]   \n",
       "141929                         [legend]                      [50]   \n",
       "\n",
       "                          relative_position  count       group  \\\n",
       "0                                   [0.521]    1.0        text   \n",
       "1                     [0.521, 0.521, 0.521]    3.0        text   \n",
       "2                                   [0.496]    1.0        text   \n",
       "3                            [0.501, 0.511]    2.0        text   \n",
       "4                                   [0.521]    1.0        text   \n",
       "...                                     ...    ...         ...   \n",
       "141925                              [0.108]    1.0        text   \n",
       "141926                              [0.469]    1.0      legend   \n",
       "141927  [0.065, 0.175, 0.195, 0.295, 0.364]    5.0  table|text   \n",
       "141928                              [0.162]    1.0        text   \n",
       "141929                              [0.036]    1.0      legend   \n",
       "\n",
       "        count_link_selection  relative_position_mean  \n",
       "0                        1.0                  0.5210  \n",
       "1                        0.0                  0.5210  \n",
       "2                        0.0                  0.4960  \n",
       "3                        0.0                  0.5060  \n",
       "4                        3.0                  0.5210  \n",
       "...                      ...                     ...  \n",
       "141925                   5.0                  0.1080  \n",
       "141926                   0.0                  0.4690  \n",
       "141927                  41.0                  0.2188  \n",
       "141928                  10.0                  0.1620  \n",
       "141929                   0.0                  0.0360  \n",
       "\n",
       "[141930 rows x 9 columns]"
      ]
     },
     "execution_count": 18,
     "metadata": {},
     "output_type": "execute_result"
    }
   ],
   "source": [
    "# For the source-target link that appear more than once, compute their position mean (for the statistical test)\n",
    "articles_df['relative_position_mean'] = [np.mean(pos) for pos in articles_df.relative_position]\n",
    "articles_df"
   ]
  },
  {
   "cell_type": "code",
   "execution_count": 19,
   "metadata": {},
   "outputs": [
    {
     "data": {
      "text/plain": [
       "0.9390192348340731"
      ]
     },
     "execution_count": 19,
     "metadata": {},
     "output_type": "execute_result"
    }
   ],
   "source": [
    "unique_group = articles_df.copy()[articles_df.group.isin(['text', 'table', 'legend'])]\n",
    "len(unique_group)/len(articles_df)"
   ]
  },
  {
   "cell_type": "code",
   "execution_count": 20,
   "metadata": {},
   "outputs": [
    {
     "data": {
      "text/plain": [
       "<Axes: xlabel='group', ylabel='relative_position_mean'>"
      ]
     },
     "execution_count": 20,
     "metadata": {},
     "output_type": "execute_result"
    },
    {
     "data": {
      "image/png": "[encoded data removed]",
      "text/plain": [
       "<Figure size 640x480 with 1 Axes>"
      ]
     },
     "metadata": {},
     "output_type": "display_data"
    }
   ],
   "source": [
    "# Boxplot of relative_position_mean ditribution according to the unique category \n",
    "sns.boxplot(x='group', y='relative_position_mean', data=unique_group)\n"
   ]
  },
  {
   "cell_type": "markdown",
   "metadata": {},
   "source": [
    "# 2. NEW SUBJECT <a id=\"section_2\"></a>"
   ]
  },
  {
   "cell_type": "markdown",
   "metadata": {},
   "source": []
  }
 ],
 "metadata": {
  "kernelspec": {
   "display_name": "ada",
   "language": "python",
   "name": "python3"
  },
  "language_info": {
   "codemirror_mode": {
    "name": "ipython",
    "version": 3
   },
   "file_extension": ".py",
   "mimetype": "text/x-python",
   "name": "python",
   "nbconvert_exporter": "python",
   "pygments_lexer": "ipython3",
   "version": "3.9.18"
  }
 },
 "nbformat": 4,
 "nbformat_minor": 2
}
